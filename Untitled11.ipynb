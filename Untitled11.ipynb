{
  "nbformat": 4,
  "nbformat_minor": 0,
  "metadata": {
    "accelerator": "GPU",
    "colab": {
      "name": "Untitled11.ipynb",
      "provenance": [],
      "include_colab_link": true
    },
    "kernelspec": {
      "display_name": "Python 3",
      "name": "python3"
    }
  },
  "cells": [
    {
      "cell_type": "markdown",
      "metadata": {
        "id": "view-in-github",
        "colab_type": "text"
      },
      "source": [
        "<a href=\"https://colab.research.google.com/github/Mayrathib/Mayrathib-GoogleColab_Files/blob/main/Untitled11.ipynb\" target=\"_parent\"><img src=\"https://colab.research.google.com/assets/colab-badge.svg\" alt=\"Open In Colab\"/></a>"
      ]
    },
    {
      "cell_type": "markdown",
      "metadata": {
        "id": "MWcUJyA4s4rp"
      },
      "source": [
        "#import libraries"
      ]
    },
    {
      "cell_type": "code",
      "metadata": {
        "id": "LtGmLYKyFylL"
      },
      "source": [
        "# %pip install tensorflow\n",
        "import tensorflow as tf\n",
        "from tensorflow import keras\n",
        "from keras import layers\n",
        "from keras import regularizers\n",
        "from keras import initializers\n",
        "from keras.layers import TimeDistributed\n",
        "from keras.layers import Dense, Activation, Flatten, Conv1D, Conv2D, SimpleRNN, GRU, LSTM, LSTMCell, MaxPooling2D, Dropout \n",
        "from keras import Model\n",
        "from keras.losses import categorical_crossentropy, categorical_hinge, cosine_similarity, mae, mse"
      ],
      "execution_count": null,
      "outputs": []
    },
    {
      "cell_type": "code",
      "metadata": {
        "id": "g5OE-MZZQ3ra"
      },
      "source": [
        "import sys\n",
        "from scipy.stats import randint"
      ],
      "execution_count": null,
      "outputs": []
    },
    {
      "cell_type": "code",
      "metadata": {
        "id": "2hKJyOO3dspL"
      },
      "source": [
        "import numpy as np    #linear algebra\n",
        "from numpy import concatenate\n",
        "from numpy import split\n",
        "from numpy import array\n",
        "from random import randint\n",
        "from math import sqrt\n",
        "import sklearn\n",
        "from sklearn import preprocessing\n",
        "from sklearn.utils import shuffle    #can't use this b/c data is correlated\n",
        "from sklearn.model_selection import train_test_split  #to split data into 2 parts\n",
        "from sklearn.model_selection import KFold   #used for cross-validation\n",
        "from sklearn.preprocessing import StandardScaler  #for normalization\n",
        "from sklearn.preprocessing import Normalizer\n",
        "from sklearn.metrics import mean_squared_error, r2_score, mean_absolute_error\n",
        "from sklearn.preprocessing import MinMaxScaler\n",
        "from sklearn.pipeline import Pipeline  #data pipeline making"
      ],
      "execution_count": null,
      "outputs": []
    },
    {
      "cell_type": "code",
      "metadata": {
        "id": "QzMq1ZI9SzC1"
      },
      "source": [
        "from sklearn.model_selection import cross_val_score\n",
        "from sklearn.feature_selection import SelectFromModel\n",
        "from sklearn import metrics   #check the error and accuracy of model"
      ],
      "execution_count": null,
      "outputs": []
    },
    {
      "cell_type": "code",
      "metadata": {
        "id": "F1EeUn0LjCDs"
      },
      "source": [
        "import keras\n",
        "from keras import backend as K\n",
        "from keras.models import Sequential\n",
        "from keras.layers import Activation\n",
        "from keras.layers import Flatten\n",
        "from keras.layers import LSTM, Lambda\n",
        "from keras.layers import RepeatVector\n",
        "from keras.layers.core import Dense\n",
        "from keras.layers import LeakyReLU\n",
        "from keras.optimizers import Adam\n",
        "from keras.layers.normalization import BatchNormalization\n",
        "from keras.metrics import categorical_crossentropy, sparse_categorical_crossentropy\n",
        "from keras.utils.np_utils import to_categorical #serialize_keras_object, Sequence, SequenceEnqueuer\n",
        "from keras.optimizers import SGD\n",
        "from keras.callbacks import EarlyStopping\n",
        "from keras.utils import np_utils\n",
        "from keras.regularizers import L1, L2, l1, l2, l1_l2\n",
        "import itertools\n",
        "from keras.layers.convolutional import Conv1D\n",
        "from keras.layers.convolutional_recurrent import ConvLSTM2D"
      ],
      "execution_count": null,
      "outputs": []
    },
    {
      "cell_type": "code",
      "metadata": {
        "colab": {
          "base_uri": "https://localhost:8080/"
        },
        "id": "UXlfI5GusI4w",
        "outputId": "52be3f0f-af66-4106-f242-2500543b60ea"
      },
      "source": [
        "import matplotlib.pyplot as plt   #from matplotlib import pyplot\n",
        "import seaborn as sns #interactive graphing\n",
        "import pandas as pd    #data processing, CSV file, data manipulation as in SQL\n",
        "pd.__version__\n",
        "import pandas.util.testing as tm\n",
        "from pandas import DataFrame\n",
        "from pandas import Series\n",
        "from pandas import concat\n",
        "from pandas import read_csv\n",
        "from pandas import datetime\n",
        "import functools\n"
      ],
      "execution_count": null,
      "outputs": [
        {
          "output_type": "stream",
          "text": [
            "/usr/local/lib/python3.7/dist-packages/ipykernel_launcher.py:5: FutureWarning: pandas.util.testing is deprecated. Use the functions in the public API at pandas.testing instead.\n",
            "  \"\"\"\n",
            "/usr/local/lib/python3.7/dist-packages/ipykernel_launcher.py:10: FutureWarning: The pandas.datetime class is deprecated and will be removed from pandas in a future version. Import from datetime module instead.\n",
            "  # Remove the CWD from sys.path while we load stuff.\n"
          ],
          "name": "stderr"
        }
      ]
    },
    {
      "cell_type": "code",
      "metadata": {
        "colab": {
          "base_uri": "https://localhost:8080/"
        },
        "id": "XtUAlnh7cn-G",
        "outputId": "9b586d42-cacb-4bdd-9721-8a08a0251ef7"
      },
      "source": [
        "!nvcc --version"
      ],
      "execution_count": null,
      "outputs": [
        {
          "output_type": "stream",
          "text": [
            "nvcc: NVIDIA (R) Cuda compiler driver\n",
            "Copyright (c) 2005-2020 NVIDIA Corporation\n",
            "Built on Wed_Jul_22_19:09:09_PDT_2020\n",
            "Cuda compilation tools, release 11.0, V11.0.221\n",
            "Build cuda_11.0_bu.TC445_37.28845127_0\n"
          ],
          "name": "stdout"
        }
      ]
    },
    {
      "cell_type": "code",
      "metadata": {
        "colab": {
          "base_uri": "https://localhost:8080/"
        },
        "id": "P2VQIajIGz7f",
        "outputId": "c450c45d-0ab2-430f-d56d-118e4138e05d"
      },
      "source": [
        "physical_devices = tf.config.experimental.list_physical_devices('GPU')\n",
        "print(\"Num GPUs Available:\", len(physical_devices))\n",
        "tf.config.experimental.set_memory_growth(physical_devices[0], True)"
      ],
      "execution_count": null,
      "outputs": [
        {
          "output_type": "stream",
          "text": [
            "Num GPUs Available: 1\n"
          ],
          "name": "stdout"
        }
      ]
    },
    {
      "cell_type": "markdown",
      "metadata": {
        "id": "RPh1xnLskY76"
      },
      "source": [
        "# Upload Data"
      ]
    },
    {
      "cell_type": "code",
      "metadata": {
        "id": "SYxI6U9xYnFQ",
        "colab": {
          "base_uri": "https://localhost:8080/"
        },
        "outputId": "9dd0eb19-38e7-42ec-f153-9573b6782d3f"
      },
      "source": [
        "from google.colab import drive\n",
        "\n",
        "drive.mount('/content/drive', force_remount=True)\n",
        "\n",
        "# enter the foldername in your Drive where you have saved the data\n",
        "# e.g. 'MLTRACK/colab/2020/module1/cs231n/assignments/assignment1/cs231n/'\n",
        "FOLDERNAME = 'AEDATA/'\n",
        "\n",
        "assert FOLDERNAME is not None, \"[!] Enter the foldername.\"\n",
        "\n",
        "%cd drive/My\\ Drive  \n",
        "%cp -r $FOLDERNAME ../../\n",
        "%cd ../../"
      ],
      "execution_count": null,
      "outputs": [
        {
          "output_type": "stream",
          "text": [
            "Mounted at /content/drive\n",
            "/content/drive/My Drive\n",
            "/content\n"
          ],
          "name": "stdout"
        }
      ]
    },
    {
      "cell_type": "code",
      "metadata": {
        "id": "vwzu2ksDwmi7"
      },
      "source": [
        "path=\"AEDATA/TestNNDataVDh3min.csv\"\n",
        "df=pd.read_csv(path)"
      ],
      "execution_count": null,
      "outputs": []
    },
    {
      "cell_type": "code",
      "metadata": {
        "id": "GGW-ZfTZ6XEY",
        "colab": {
          "base_uri": "https://localhost:8080/"
        },
        "outputId": "3d560a5a-32cb-46d4-b651-ca65b2229f7b"
      },
      "source": [
        "print(df)"
      ],
      "execution_count": null,
      "outputs": [
        {
          "output_type": "stream",
          "text": [
            "             U.X          U.Y  ...          P.Y          P.Z\n",
            "0     217.917802 -1409.502015  ... -1409.502015  8088.655824\n",
            "1     294.551471 -1905.171990  ... -1905.171988  7991.421171\n",
            "2     370.565593 -2396.834706  ... -2396.834701  7877.373681\n",
            "3     445.806487 -2883.496147  ... -2883.496136  7746.882831\n",
            "4     520.129236 -3364.218986  ... -3364.218968  7600.429493\n",
            "...          ...          ...  ...          ...          ...\n",
            "2015 -191.475707  1238.473369  ...  1038.623268  8307.073477\n",
            "2016 -114.249335   738.969769  ...   538.056820  8293.428613\n",
            "2017  -36.793744   237.983566  ...    36.398324  8262.899189\n",
            "2018   40.736848  -263.487744  ...  -465.332980  8215.251287\n",
            "2019  118.182365  -764.408783  ...  -966.086433  8150.370659\n",
            "\n",
            "[2020 rows x 6 columns]\n"
          ],
          "name": "stdout"
        }
      ]
    },
    {
      "cell_type": "code",
      "metadata": {
        "id": "tkpTZMLny1lJ"
      },
      "source": [
        "path=\"AEDATA/TestNNDataVDhVal3+15i.csv\"\n",
        "df2=pd.read_csv(path)"
      ],
      "execution_count": null,
      "outputs": []
    },
    {
      "cell_type": "code",
      "metadata": {
        "id": "F7KprlFt0uxE",
        "colab": {
          "base_uri": "https://localhost:8080/"
        },
        "outputId": "940d3246-ad21-49b8-944d-a032e3167a5c"
      },
      "source": [
        "print(df2)"
      ],
      "execution_count": null,
      "outputs": [
        {
          "output_type": "stream",
          "text": [
            "              U.X          U.Y  ...          P.Y          P.Z\n",
            "0     2286.835242 -1089.634476  ... -1089.634596  7813.041540\n",
            "1     2338.598219 -1589.149615  ... -1589.149733  7719.120074\n",
            "2     2385.441260 -2085.322362  ... -2085.322476  7608.958653\n",
            "3     2427.305189 -2577.144090  ... -2577.144198  7482.914167\n",
            "4     2464.168087 -3063.658455  ... -3063.658555  7341.451103\n",
            "...           ...          ...  ...          ...          ...\n",
            "2015  1936.275153  1567.436925  ...  1360.865597  8024.737767\n",
            "2016  2011.690850  1067.653383  ...   859.752957  8011.364654\n",
            "2017  2083.059987   565.726177  ...   356.893392  7981.681923\n",
            "2018  2150.157132    62.641791  ...  -146.702893  7935.465092\n",
            "2019  2212.780557  -440.570836  ...  -649.989766  7872.605313\n",
            "\n",
            "[2020 rows x 6 columns]\n"
          ],
          "name": "stdout"
        }
      ]
    },
    {
      "cell_type": "code",
      "metadata": {
        "id": "IeCB2dhPzejG"
      },
      "source": [
        "path=\"AEDATA/TestNNDataVDhTest3-15i.csv\"\n",
        "df3=pd.read_csv(path)"
      ],
      "execution_count": null,
      "outputs": []
    },
    {
      "cell_type": "code",
      "metadata": {
        "id": "W4HGmS_D0xG0",
        "colab": {
          "base_uri": "https://localhost:8080/"
        },
        "outputId": "15896b78-3430-400b-d9ee-7505b28c3ffc"
      },
      "source": [
        "print(df3)"
      ],
      "execution_count": null,
      "outputs": [
        {
          "output_type": "stream",
          "text": [
            "              U.X          U.Y  ...          P.Y          P.Z\n",
            "0    -1850.999638 -1729.369554  ... -1729.369554  7813.041561\n",
            "1    -1749.495277 -2221.194365  ... -2221.194363  7719.120098\n",
            "2    -1644.310073 -2708.347050  ... -2708.347045  7608.958681\n",
            "3    -1535.692214 -3189.848204  ... -3189.848193  7482.914199\n",
            "4    -1423.909614 -3664.779516  ... -3664.779498  7341.451138\n",
            "...           ...          ...  ...          ...          ...\n",
            "2015 -2319.226567   909.509819  ...   704.063502  8024.324347\n",
            "2016 -2240.189521   410.286160  ...   204.043219  8010.957253\n",
            "2017 -2156.647475   -89.759038  ...  -296.389148  7981.279019\n",
            "2018 -2068.683436  -589.617273  ...  -796.204864  7935.065069\n",
            "2019 -1976.415828 -1088.246724  ... -1294.348721  7872.206482\n",
            "\n",
            "[2020 rows x 6 columns]\n"
          ],
          "name": "stdout"
        }
      ]
    },
    {
      "cell_type": "code",
      "metadata": {
        "id": "Lbp98xhWElTk",
        "colab": {
          "base_uri": "https://localhost:8080/",
          "height": 205
        },
        "outputId": "2e17679c-0ae3-4b2d-c17d-556057581e1d"
      },
      "source": [
        "df.head()"
      ],
      "execution_count": null,
      "outputs": [
        {
          "output_type": "execute_result",
          "data": {
            "text/html": [
              "<div>\n",
              "<style scoped>\n",
              "    .dataframe tbody tr th:only-of-type {\n",
              "        vertical-align: middle;\n",
              "    }\n",
              "\n",
              "    .dataframe tbody tr th {\n",
              "        vertical-align: top;\n",
              "    }\n",
              "\n",
              "    .dataframe thead th {\n",
              "        text-align: right;\n",
              "    }\n",
              "</style>\n",
              "<table border=\"1\" class=\"dataframe\">\n",
              "  <thead>\n",
              "    <tr style=\"text-align: right;\">\n",
              "      <th></th>\n",
              "      <th>U.X</th>\n",
              "      <th>U.Y</th>\n",
              "      <th>U.Z</th>\n",
              "      <th>P.X</th>\n",
              "      <th>P.Y</th>\n",
              "      <th>P.Z</th>\n",
              "    </tr>\n",
              "  </thead>\n",
              "  <tbody>\n",
              "    <tr>\n",
              "      <th>0</th>\n",
              "      <td>217.917802</td>\n",
              "      <td>-1409.502015</td>\n",
              "      <td>8088.655824</td>\n",
              "      <td>217.917802</td>\n",
              "      <td>-1409.502015</td>\n",
              "      <td>8088.655824</td>\n",
              "    </tr>\n",
              "    <tr>\n",
              "      <th>1</th>\n",
              "      <td>294.551471</td>\n",
              "      <td>-1905.171990</td>\n",
              "      <td>7991.421172</td>\n",
              "      <td>294.551471</td>\n",
              "      <td>-1905.171988</td>\n",
              "      <td>7991.421171</td>\n",
              "    </tr>\n",
              "    <tr>\n",
              "      <th>2</th>\n",
              "      <td>370.565593</td>\n",
              "      <td>-2396.834706</td>\n",
              "      <td>7877.373685</td>\n",
              "      <td>370.565593</td>\n",
              "      <td>-2396.834701</td>\n",
              "      <td>7877.373681</td>\n",
              "    </tr>\n",
              "    <tr>\n",
              "      <th>3</th>\n",
              "      <td>445.806487</td>\n",
              "      <td>-2883.496147</td>\n",
              "      <td>7746.882841</td>\n",
              "      <td>445.806486</td>\n",
              "      <td>-2883.496136</td>\n",
              "      <td>7746.882831</td>\n",
              "    </tr>\n",
              "    <tr>\n",
              "      <th>4</th>\n",
              "      <td>520.129236</td>\n",
              "      <td>-3364.218986</td>\n",
              "      <td>7600.429513</td>\n",
              "      <td>520.129233</td>\n",
              "      <td>-3364.218968</td>\n",
              "      <td>7600.429493</td>\n",
              "    </tr>\n",
              "  </tbody>\n",
              "</table>\n",
              "</div>"
            ],
            "text/plain": [
              "          U.X          U.Y          U.Z         P.X          P.Y          P.Z\n",
              "0  217.917802 -1409.502015  8088.655824  217.917802 -1409.502015  8088.655824\n",
              "1  294.551471 -1905.171990  7991.421172  294.551471 -1905.171988  7991.421171\n",
              "2  370.565593 -2396.834706  7877.373685  370.565593 -2396.834701  7877.373681\n",
              "3  445.806487 -2883.496147  7746.882841  445.806486 -2883.496136  7746.882831\n",
              "4  520.129236 -3364.218986  7600.429513  520.129233 -3364.218968  7600.429493"
            ]
          },
          "metadata": {
            "tags": []
          },
          "execution_count": 16
        }
      ]
    },
    {
      "cell_type": "code",
      "metadata": {
        "id": "UhTAQMLEE6fr",
        "colab": {
          "base_uri": "https://localhost:8080/"
        },
        "outputId": "abdbc7a6-983c-488c-9674-87c2a2f56671"
      },
      "source": [
        "df.shape"
      ],
      "execution_count": null,
      "outputs": [
        {
          "output_type": "execute_result",
          "data": {
            "text/plain": [
              "(2020, 6)"
            ]
          },
          "metadata": {
            "tags": []
          },
          "execution_count": 17
        }
      ]
    },
    {
      "cell_type": "code",
      "metadata": {
        "id": "fTAHYWfM066I",
        "colab": {
          "base_uri": "https://localhost:8080/",
          "height": 205
        },
        "outputId": "f1e7c054-11ab-4259-fa07-bdfd34c6e7a5"
      },
      "source": [
        "df2.head()"
      ],
      "execution_count": null,
      "outputs": [
        {
          "output_type": "execute_result",
          "data": {
            "text/html": [
              "<div>\n",
              "<style scoped>\n",
              "    .dataframe tbody tr th:only-of-type {\n",
              "        vertical-align: middle;\n",
              "    }\n",
              "\n",
              "    .dataframe tbody tr th {\n",
              "        vertical-align: top;\n",
              "    }\n",
              "\n",
              "    .dataframe thead th {\n",
              "        text-align: right;\n",
              "    }\n",
              "</style>\n",
              "<table border=\"1\" class=\"dataframe\">\n",
              "  <thead>\n",
              "    <tr style=\"text-align: right;\">\n",
              "      <th></th>\n",
              "      <th>U.X</th>\n",
              "      <th>U.Y</th>\n",
              "      <th>U.Z</th>\n",
              "      <th>P.X</th>\n",
              "      <th>P.Y</th>\n",
              "      <th>P.Z</th>\n",
              "    </tr>\n",
              "  </thead>\n",
              "  <tbody>\n",
              "    <tr>\n",
              "      <th>0</th>\n",
              "      <td>2286.835242</td>\n",
              "      <td>-1089.634476</td>\n",
              "      <td>7813.041561</td>\n",
              "      <td>2286.835255</td>\n",
              "      <td>-1089.634596</td>\n",
              "      <td>7813.041540</td>\n",
              "    </tr>\n",
              "    <tr>\n",
              "      <th>1</th>\n",
              "      <td>2338.598219</td>\n",
              "      <td>-1589.149615</td>\n",
              "      <td>7719.120099</td>\n",
              "      <td>2338.598230</td>\n",
              "      <td>-1589.149733</td>\n",
              "      <td>7719.120074</td>\n",
              "    </tr>\n",
              "    <tr>\n",
              "      <th>2</th>\n",
              "      <td>2385.441260</td>\n",
              "      <td>-2085.322362</td>\n",
              "      <td>7608.958686</td>\n",
              "      <td>2385.441269</td>\n",
              "      <td>-2085.322476</td>\n",
              "      <td>7608.958653</td>\n",
              "    </tr>\n",
              "    <tr>\n",
              "      <th>3</th>\n",
              "      <td>2427.305189</td>\n",
              "      <td>-2577.144090</td>\n",
              "      <td>7482.914210</td>\n",
              "      <td>2427.305193</td>\n",
              "      <td>-2577.144198</td>\n",
              "      <td>7482.914167</td>\n",
              "    </tr>\n",
              "    <tr>\n",
              "      <th>4</th>\n",
              "      <td>2464.168087</td>\n",
              "      <td>-3063.658455</td>\n",
              "      <td>7341.451157</td>\n",
              "      <td>2464.168086</td>\n",
              "      <td>-3063.658555</td>\n",
              "      <td>7341.451103</td>\n",
              "    </tr>\n",
              "  </tbody>\n",
              "</table>\n",
              "</div>"
            ],
            "text/plain": [
              "           U.X          U.Y          U.Z          P.X          P.Y          P.Z\n",
              "0  2286.835242 -1089.634476  7813.041561  2286.835255 -1089.634596  7813.041540\n",
              "1  2338.598219 -1589.149615  7719.120099  2338.598230 -1589.149733  7719.120074\n",
              "2  2385.441260 -2085.322362  7608.958686  2385.441269 -2085.322476  7608.958653\n",
              "3  2427.305189 -2577.144090  7482.914210  2427.305193 -2577.144198  7482.914167\n",
              "4  2464.168087 -3063.658455  7341.451157  2464.168086 -3063.658555  7341.451103"
            ]
          },
          "metadata": {
            "tags": []
          },
          "execution_count": 18
        }
      ]
    },
    {
      "cell_type": "code",
      "metadata": {
        "id": "BRc2X4u84-8M",
        "colab": {
          "base_uri": "https://localhost:8080/"
        },
        "outputId": "dc909584-a98f-4b7f-87d1-fd7339868903"
      },
      "source": [
        "df2.shape"
      ],
      "execution_count": null,
      "outputs": [
        {
          "output_type": "execute_result",
          "data": {
            "text/plain": [
              "(2020, 6)"
            ]
          },
          "metadata": {
            "tags": []
          },
          "execution_count": 19
        }
      ]
    },
    {
      "cell_type": "code",
      "metadata": {
        "id": "lg8bsg6609-O",
        "colab": {
          "base_uri": "https://localhost:8080/",
          "height": 205
        },
        "outputId": "51b9ca7d-383f-430c-9f8b-7fcb1821b401"
      },
      "source": [
        "df3.head()"
      ],
      "execution_count": null,
      "outputs": [
        {
          "output_type": "execute_result",
          "data": {
            "text/html": [
              "<div>\n",
              "<style scoped>\n",
              "    .dataframe tbody tr th:only-of-type {\n",
              "        vertical-align: middle;\n",
              "    }\n",
              "\n",
              "    .dataframe tbody tr th {\n",
              "        vertical-align: top;\n",
              "    }\n",
              "\n",
              "    .dataframe thead th {\n",
              "        text-align: right;\n",
              "    }\n",
              "</style>\n",
              "<table border=\"1\" class=\"dataframe\">\n",
              "  <thead>\n",
              "    <tr style=\"text-align: right;\">\n",
              "      <th></th>\n",
              "      <th>U.X</th>\n",
              "      <th>U.Y</th>\n",
              "      <th>U.Z</th>\n",
              "      <th>P.X</th>\n",
              "      <th>P.Y</th>\n",
              "      <th>P.Z</th>\n",
              "    </tr>\n",
              "  </thead>\n",
              "  <tbody>\n",
              "    <tr>\n",
              "      <th>0</th>\n",
              "      <td>-1850.999638</td>\n",
              "      <td>-1729.369554</td>\n",
              "      <td>7813.041561</td>\n",
              "      <td>-1850.999638</td>\n",
              "      <td>-1729.369554</td>\n",
              "      <td>7813.041561</td>\n",
              "    </tr>\n",
              "    <tr>\n",
              "      <th>1</th>\n",
              "      <td>-1749.495277</td>\n",
              "      <td>-2221.194365</td>\n",
              "      <td>7719.120099</td>\n",
              "      <td>-1749.495276</td>\n",
              "      <td>-2221.194363</td>\n",
              "      <td>7719.120098</td>\n",
              "    </tr>\n",
              "    <tr>\n",
              "      <th>2</th>\n",
              "      <td>-1644.310073</td>\n",
              "      <td>-2708.347050</td>\n",
              "      <td>7608.958686</td>\n",
              "      <td>-1644.310072</td>\n",
              "      <td>-2708.347045</td>\n",
              "      <td>7608.958681</td>\n",
              "    </tr>\n",
              "    <tr>\n",
              "      <th>3</th>\n",
              "      <td>-1535.692214</td>\n",
              "      <td>-3189.848204</td>\n",
              "      <td>7482.914210</td>\n",
              "      <td>-1535.692212</td>\n",
              "      <td>-3189.848193</td>\n",
              "      <td>7482.914199</td>\n",
              "    </tr>\n",
              "    <tr>\n",
              "      <th>4</th>\n",
              "      <td>-1423.909614</td>\n",
              "      <td>-3664.779516</td>\n",
              "      <td>7341.451157</td>\n",
              "      <td>-1423.909610</td>\n",
              "      <td>-3664.779498</td>\n",
              "      <td>7341.451138</td>\n",
              "    </tr>\n",
              "  </tbody>\n",
              "</table>\n",
              "</div>"
            ],
            "text/plain": [
              "           U.X          U.Y          U.Z          P.X          P.Y          P.Z\n",
              "0 -1850.999638 -1729.369554  7813.041561 -1850.999638 -1729.369554  7813.041561\n",
              "1 -1749.495277 -2221.194365  7719.120099 -1749.495276 -2221.194363  7719.120098\n",
              "2 -1644.310073 -2708.347050  7608.958686 -1644.310072 -2708.347045  7608.958681\n",
              "3 -1535.692214 -3189.848204  7482.914210 -1535.692212 -3189.848193  7482.914199\n",
              "4 -1423.909614 -3664.779516  7341.451157 -1423.909610 -3664.779498  7341.451138"
            ]
          },
          "metadata": {
            "tags": []
          },
          "execution_count": 20
        }
      ]
    },
    {
      "cell_type": "code",
      "metadata": {
        "id": "9YvSseng5FEt",
        "colab": {
          "base_uri": "https://localhost:8080/"
        },
        "outputId": "1b9a8ecd-da36-4063-a746-2859a439840e"
      },
      "source": [
        "df3.shape"
      ],
      "execution_count": null,
      "outputs": [
        {
          "output_type": "execute_result",
          "data": {
            "text/plain": [
              "(2020, 6)"
            ]
          },
          "metadata": {
            "tags": []
          },
          "execution_count": 21
        }
      ]
    },
    {
      "cell_type": "code",
      "metadata": {
        "id": "EZcFQqJpEuJA",
        "colab": {
          "base_uri": "https://localhost:8080/"
        },
        "outputId": "2b147078-fc54-440d-8e3a-f964735f9803"
      },
      "source": [
        "df.dtypes"
      ],
      "execution_count": null,
      "outputs": [
        {
          "output_type": "execute_result",
          "data": {
            "text/plain": [
              "U.X    float64\n",
              "U.Y    float64\n",
              "U.Z    float64\n",
              "P.X    float64\n",
              "P.Y    float64\n",
              "P.Z    float64\n",
              "dtype: object"
            ]
          },
          "metadata": {
            "tags": []
          },
          "execution_count": 22
        }
      ]
    },
    {
      "cell_type": "code",
      "metadata": {
        "id": "UECdo3ig1BRQ",
        "colab": {
          "base_uri": "https://localhost:8080/"
        },
        "outputId": "d6c91a24-695e-4a76-9805-06266f8a36f2"
      },
      "source": [
        "df2.dtypes"
      ],
      "execution_count": null,
      "outputs": [
        {
          "output_type": "execute_result",
          "data": {
            "text/plain": [
              "U.X    float64\n",
              "U.Y    float64\n",
              "U.Z    float64\n",
              "P.X    float64\n",
              "P.Y    float64\n",
              "P.Z    float64\n",
              "dtype: object"
            ]
          },
          "metadata": {
            "tags": []
          },
          "execution_count": 23
        }
      ]
    },
    {
      "cell_type": "code",
      "metadata": {
        "id": "pWmwB_Ch1D4F",
        "colab": {
          "base_uri": "https://localhost:8080/"
        },
        "outputId": "06636538-4e93-471a-b1ef-1810c5efdc99"
      },
      "source": [
        "df3.dtypes"
      ],
      "execution_count": null,
      "outputs": [
        {
          "output_type": "execute_result",
          "data": {
            "text/plain": [
              "U.X    float64\n",
              "U.Y    float64\n",
              "U.Z    float64\n",
              "P.X    float64\n",
              "P.Y    float64\n",
              "P.Z    float64\n",
              "dtype: object"
            ]
          },
          "metadata": {
            "tags": []
          },
          "execution_count": 24
        }
      ]
    },
    {
      "cell_type": "code",
      "metadata": {
        "id": "-fqRtNE0XyfW",
        "colab": {
          "base_uri": "https://localhost:8080/",
          "height": 299
        },
        "outputId": "fb17b2c7-0abd-4196-e559-c4f1b798ca3d"
      },
      "source": [
        "df.describe()"
      ],
      "execution_count": null,
      "outputs": [
        {
          "output_type": "execute_result",
          "data": {
            "text/html": [
              "<div>\n",
              "<style scoped>\n",
              "    .dataframe tbody tr th:only-of-type {\n",
              "        vertical-align: middle;\n",
              "    }\n",
              "\n",
              "    .dataframe tbody tr th {\n",
              "        vertical-align: top;\n",
              "    }\n",
              "\n",
              "    .dataframe thead th {\n",
              "        text-align: right;\n",
              "    }\n",
              "</style>\n",
              "<table border=\"1\" class=\"dataframe\">\n",
              "  <thead>\n",
              "    <tr style=\"text-align: right;\">\n",
              "      <th></th>\n",
              "      <th>U.X</th>\n",
              "      <th>U.Y</th>\n",
              "      <th>U.Z</th>\n",
              "      <th>P.X</th>\n",
              "      <th>P.Y</th>\n",
              "      <th>P.Z</th>\n",
              "    </tr>\n",
              "  </thead>\n",
              "  <tbody>\n",
              "    <tr>\n",
              "      <th>count</th>\n",
              "      <td>2020.000000</td>\n",
              "      <td>2020.000000</td>\n",
              "      <td>2020.000000</td>\n",
              "      <td>2020.000000</td>\n",
              "      <td>2020.000000</td>\n",
              "      <td>2020.000000</td>\n",
              "    </tr>\n",
              "    <tr>\n",
              "      <th>mean</th>\n",
              "      <td>-1641.336861</td>\n",
              "      <td>10616.239667</td>\n",
              "      <td>-60923.288259</td>\n",
              "      <td>-1638.291020</td>\n",
              "      <td>10597.358553</td>\n",
              "      <td>-60915.472771</td>\n",
              "    </tr>\n",
              "    <tr>\n",
              "      <th>std</th>\n",
              "      <td>2999.757853</td>\n",
              "      <td>19402.566935</td>\n",
              "      <td>28008.822746</td>\n",
              "      <td>2997.899395</td>\n",
              "      <td>19391.235748</td>\n",
              "      <td>28019.076707</td>\n",
              "    </tr>\n",
              "    <tr>\n",
              "      <th>min</th>\n",
              "      <td>-5405.081353</td>\n",
              "      <td>-20807.572880</td>\n",
              "      <td>-89536.413800</td>\n",
              "      <td>-5400.207962</td>\n",
              "      <td>-20807.703290</td>\n",
              "      <td>-89537.492910</td>\n",
              "    </tr>\n",
              "    <tr>\n",
              "      <th>25%</th>\n",
              "      <td>-4564.906115</td>\n",
              "      <td>-8025.969254</td>\n",
              "      <td>-84971.950865</td>\n",
              "      <td>-4558.717124</td>\n",
              "      <td>-8029.073482</td>\n",
              "      <td>-84971.580358</td>\n",
              "    </tr>\n",
              "    <tr>\n",
              "      <th>50%</th>\n",
              "      <td>-2146.739516</td>\n",
              "      <td>13885.206470</td>\n",
              "      <td>-70501.791760</td>\n",
              "      <td>-2139.327561</td>\n",
              "      <td>13837.939830</td>\n",
              "      <td>-70498.790015</td>\n",
              "    </tr>\n",
              "    <tr>\n",
              "      <th>75%</th>\n",
              "      <td>1240.864901</td>\n",
              "      <td>29526.015355</td>\n",
              "      <td>-42785.745523</td>\n",
              "      <td>1241.360344</td>\n",
              "      <td>29487.569030</td>\n",
              "      <td>-42768.811065</td>\n",
              "    </tr>\n",
              "    <tr>\n",
              "      <th>max</th>\n",
              "      <td>3216.980535</td>\n",
              "      <td>34960.306090</td>\n",
              "      <td>8318.671424</td>\n",
              "      <td>3217.000866</td>\n",
              "      <td>34930.727420</td>\n",
              "      <td>8307.073477</td>\n",
              "    </tr>\n",
              "  </tbody>\n",
              "</table>\n",
              "</div>"
            ],
            "text/plain": [
              "               U.X           U.Y  ...           P.Y           P.Z\n",
              "count  2020.000000   2020.000000  ...   2020.000000   2020.000000\n",
              "mean  -1641.336861  10616.239667  ...  10597.358553 -60915.472771\n",
              "std    2999.757853  19402.566935  ...  19391.235748  28019.076707\n",
              "min   -5405.081353 -20807.572880  ... -20807.703290 -89537.492910\n",
              "25%   -4564.906115  -8025.969254  ...  -8029.073482 -84971.580358\n",
              "50%   -2146.739516  13885.206470  ...  13837.939830 -70498.790015\n",
              "75%    1240.864901  29526.015355  ...  29487.569030 -42768.811065\n",
              "max    3216.980535  34960.306090  ...  34930.727420   8307.073477\n",
              "\n",
              "[8 rows x 6 columns]"
            ]
          },
          "metadata": {
            "tags": []
          },
          "execution_count": 25
        }
      ]
    },
    {
      "cell_type": "code",
      "metadata": {
        "id": "ZHBAdOfjX8AB",
        "colab": {
          "base_uri": "https://localhost:8080/"
        },
        "outputId": "f90ffbfe-713c-4f27-a5c5-54709c3a12fb"
      },
      "source": [
        "df.columns"
      ],
      "execution_count": null,
      "outputs": [
        {
          "output_type": "execute_result",
          "data": {
            "text/plain": [
              "Index(['U.X', 'U.Y', 'U.Z', 'P.X', 'P.Y', 'P.Z'], dtype='object')"
            ]
          },
          "metadata": {
            "tags": []
          },
          "execution_count": 26
        }
      ]
    },
    {
      "cell_type": "code",
      "metadata": {
        "id": "uun-O_zK1ILG",
        "colab": {
          "base_uri": "https://localhost:8080/"
        },
        "outputId": "7d546fd6-c31a-46e5-bd8b-32ba28aaf5fc"
      },
      "source": [
        "df2.columns"
      ],
      "execution_count": null,
      "outputs": [
        {
          "output_type": "execute_result",
          "data": {
            "text/plain": [
              "Index(['U.X', 'U.Y', 'U.Z', 'P.X', 'P.Y', 'P.Z'], dtype='object')"
            ]
          },
          "metadata": {
            "tags": []
          },
          "execution_count": 27
        }
      ]
    },
    {
      "cell_type": "code",
      "metadata": {
        "id": "uJG1n6V21H6-",
        "colab": {
          "base_uri": "https://localhost:8080/"
        },
        "outputId": "53b68f5a-5cec-4a68-8095-cf82d3d5e435"
      },
      "source": [
        "df3.columns"
      ],
      "execution_count": null,
      "outputs": [
        {
          "output_type": "execute_result",
          "data": {
            "text/plain": [
              "Index(['U.X', 'U.Y', 'U.Z', 'P.X', 'P.Y', 'P.Z'], dtype='object')"
            ]
          },
          "metadata": {
            "tags": []
          },
          "execution_count": 28
        }
      ]
    },
    {
      "cell_type": "code",
      "metadata": {
        "id": "q0x2Vpv7YI2a",
        "colab": {
          "base_uri": "https://localhost:8080/"
        },
        "outputId": "6b5fe107-adb9-44f4-d024-f0be83313f86"
      },
      "source": [
        "df.isnull().sum()   #sanity check to make sure there are no nulls"
      ],
      "execution_count": null,
      "outputs": [
        {
          "output_type": "execute_result",
          "data": {
            "text/plain": [
              "U.X    0\n",
              "U.Y    0\n",
              "U.Z    0\n",
              "P.X    0\n",
              "P.Y    0\n",
              "P.Z    0\n",
              "dtype: int64"
            ]
          },
          "metadata": {
            "tags": []
          },
          "execution_count": 29
        }
      ]
    },
    {
      "cell_type": "code",
      "metadata": {
        "id": "gpq5MI6_1SCb",
        "colab": {
          "base_uri": "https://localhost:8080/"
        },
        "outputId": "253d29ca-6501-47f1-f7f8-d9273199d0cc"
      },
      "source": [
        "df2.isnull().sum()"
      ],
      "execution_count": null,
      "outputs": [
        {
          "output_type": "execute_result",
          "data": {
            "text/plain": [
              "U.X    0\n",
              "U.Y    0\n",
              "U.Z    0\n",
              "P.X    0\n",
              "P.Y    0\n",
              "P.Z    0\n",
              "dtype: int64"
            ]
          },
          "metadata": {
            "tags": []
          },
          "execution_count": 30
        }
      ]
    },
    {
      "cell_type": "code",
      "metadata": {
        "id": "7cDQHzHg1R24",
        "colab": {
          "base_uri": "https://localhost:8080/"
        },
        "outputId": "f83c1b1e-5b9a-4c67-d46d-655346f3616b"
      },
      "source": [
        "df3.isnull().sum()"
      ],
      "execution_count": null,
      "outputs": [
        {
          "output_type": "execute_result",
          "data": {
            "text/plain": [
              "U.X    0\n",
              "U.Y    0\n",
              "U.Z    0\n",
              "P.X    0\n",
              "P.Y    0\n",
              "P.Z    0\n",
              "dtype: int64"
            ]
          },
          "metadata": {
            "tags": []
          },
          "execution_count": 31
        }
      ]
    },
    {
      "cell_type": "markdown",
      "metadata": {
        "id": "AZpuCQpEQkwR"
      },
      "source": [
        "# Splitting and Reshaping/Transforming Data"
      ]
    },
    {
      "cell_type": "code",
      "metadata": {
        "id": "PTGDsm8SBN3f",
        "colab": {
          "base_uri": "https://localhost:8080/"
        },
        "outputId": "c149a295-b6ec-4ca4-9cf1-754fd81d3a27"
      },
      "source": [
        "dataset= df.values  # dataset for training\n",
        "print(dataset)"
      ],
      "execution_count": null,
      "outputs": [
        {
          "output_type": "stream",
          "text": [
            "[[ 2.17917802e+02 -1.40950202e+03  8.08865582e+03  2.17917802e+02\n",
            "  -1.40950202e+03  8.08865582e+03]\n",
            " [ 2.94551471e+02 -1.90517199e+03  7.99142117e+03  2.94551471e+02\n",
            "  -1.90517199e+03  7.99142117e+03]\n",
            " [ 3.70565593e+02 -2.39683471e+03  7.87737368e+03  3.70565593e+02\n",
            "  -2.39683470e+03  7.87737368e+03]\n",
            " ...\n",
            " [-3.67937436e+01  2.37983566e+02  8.28779675e+03 -5.63758399e+00\n",
            "   3.63983244e+01  8.26289919e+03]\n",
            " [ 4.07368484e+01 -2.63487744e+02  8.24700606e+03  7.19293898e+01\n",
            "  -4.65332980e+02  8.21525129e+03]\n",
            " [ 1.18182365e+02 -7.64408783e+02  8.18905750e+03  1.49345211e+02\n",
            "  -9.66086433e+02  8.15037066e+03]]\n"
          ],
          "name": "stdout"
        }
      ]
    },
    {
      "cell_type": "markdown",
      "metadata": {
        "id": "RyAA6BB7nQKA"
      },
      "source": [
        ""
      ]
    },
    {
      "cell_type": "code",
      "metadata": {
        "id": "WXodF6iQB_xT",
        "colab": {
          "base_uri": "https://localhost:8080/"
        },
        "outputId": "8b3583ab-2aa0-432a-cbbe-490d468a213d"
      },
      "source": [
        "dataset.shape"
      ],
      "execution_count": null,
      "outputs": [
        {
          "output_type": "execute_result",
          "data": {
            "text/plain": [
              "(2020, 6)"
            ]
          },
          "metadata": {
            "tags": []
          },
          "execution_count": 33
        }
      ]
    },
    {
      "cell_type": "code",
      "metadata": {
        "id": "KdPm-w2u1tpu",
        "colab": {
          "base_uri": "https://localhost:8080/"
        },
        "outputId": "79f7818b-12c1-4e4d-f763-665a07e2e126"
      },
      "source": [
        "dataset2= df2.values #dataset for testing\n",
        "print(dataset2)"
      ],
      "execution_count": null,
      "outputs": [
        {
          "output_type": "stream",
          "text": [
            "[[ 2286.835242   -1089.634476    7813.041561    2286.835255\n",
            "  -1089.634596    7813.04154   ]\n",
            " [ 2338.598219   -1589.149615    7719.120099    2338.59823\n",
            "  -1589.149733    7719.120074  ]\n",
            " [ 2385.44126    -2085.322362    7608.958686    2385.441269\n",
            "  -2085.322476    7608.958653  ]\n",
            " ...\n",
            " [ 2083.059987     565.726177    8005.396921    2108.818543\n",
            "    356.8933922   7981.681923  ]\n",
            " [ 2150.157132      62.64179088  7965.996146    2174.108875\n",
            "   -146.7028925   7935.465092  ]\n",
            " [ 2212.780557    -440.5708362   7910.022128    2234.839208\n",
            "   -649.9897658   7872.605313  ]]\n"
          ],
          "name": "stdout"
        }
      ]
    },
    {
      "cell_type": "code",
      "metadata": {
        "id": "7k1TblMc1tfL",
        "colab": {
          "base_uri": "https://localhost:8080/"
        },
        "outputId": "f7fdc0e0-2a2a-47ba-e884-0c8554cf6d71"
      },
      "source": [
        "dataset2.shape"
      ],
      "execution_count": null,
      "outputs": [
        {
          "output_type": "execute_result",
          "data": {
            "text/plain": [
              "(2020, 6)"
            ]
          },
          "metadata": {
            "tags": []
          },
          "execution_count": 35
        }
      ]
    },
    {
      "cell_type": "code",
      "metadata": {
        "id": "PCgJKzSk1tW1",
        "colab": {
          "base_uri": "https://localhost:8080/"
        },
        "outputId": "75ea575b-9d19-46df-fabf-e94fdd3d1355"
      },
      "source": [
        "dataset3= df3.values #dataset for validation\n",
        "print(dataset3)"
      ],
      "execution_count": null,
      "outputs": [
        {
          "output_type": "stream",
          "text": [
            "[[-1850.999638   -1729.369554    7813.041561   -1850.999638\n",
            "  -1729.369554    7813.041561  ]\n",
            " [-1749.495277   -2221.194365    7719.120099   -1749.495276\n",
            "  -2221.194363    7719.120098  ]\n",
            " [-1644.310073   -2708.34705     7608.958686   -1644.310072\n",
            "  -2708.347045    7608.958681  ]\n",
            " ...\n",
            " [-2156.647475     -89.75903837  8005.396921   -2118.093354\n",
            "   -296.3891482   7981.279019  ]\n",
            " [-2068.683436    -589.6172727   7965.996146   -2028.256249\n",
            "   -796.2048639   7935.065069  ]\n",
            " [-1976.415828   -1088.246724    7910.022128   -1934.164932\n",
            "  -1294.348721    7872.206482  ]]\n"
          ],
          "name": "stdout"
        }
      ]
    },
    {
      "cell_type": "code",
      "metadata": {
        "id": "E9ZUaR8d1tMc",
        "colab": {
          "base_uri": "https://localhost:8080/"
        },
        "outputId": "6865c6dd-11f6-4f93-cb0f-3bf9c1b593ae"
      },
      "source": [
        "dataset3.shape"
      ],
      "execution_count": null,
      "outputs": [
        {
          "output_type": "execute_result",
          "data": {
            "text/plain": [
              "(2020, 6)"
            ]
          },
          "metadata": {
            "tags": []
          },
          "execution_count": 37
        }
      ]
    },
    {
      "cell_type": "code",
      "metadata": {
        "id": "wzQMa8cKBmdZ",
        "colab": {
          "base_uri": "https://localhost:8080/"
        },
        "outputId": "fe60e9fb-7e76-4f7f-8805-a05022dc24a4"
      },
      "source": [
        "X=dataset[:,0:3]  # Spliting train and label data. X represent the train data.\n",
        "X"
      ],
      "execution_count": null,
      "outputs": [
        {
          "output_type": "execute_result",
          "data": {
            "text/plain": [
              "array([[  217.9178019 , -1409.502015  ,  8088.655824  ],\n",
              "       [  294.5514713 , -1905.17199   ,  7991.421172  ],\n",
              "       [  370.5655935 , -2396.834706  ,  7877.373685  ],\n",
              "       ...,\n",
              "       [  -36.79374356,   237.9835664 ,  8287.796747  ],\n",
              "       [   40.73684845,  -263.4877438 ,  8247.006063  ],\n",
              "       [  118.1823651 ,  -764.408783  ,  8189.057495  ]])"
            ]
          },
          "metadata": {
            "tags": []
          },
          "execution_count": 38
        }
      ]
    },
    {
      "cell_type": "code",
      "metadata": {
        "id": "LBvvCM5Q9CEt",
        "colab": {
          "base_uri": "https://localhost:8080/"
        },
        "outputId": "5794a6c8-484d-4437-c6d6-5f7de0cf50a3"
      },
      "source": [
        "X.shape"
      ],
      "execution_count": null,
      "outputs": [
        {
          "output_type": "execute_result",
          "data": {
            "text/plain": [
              "(2020, 3)"
            ]
          },
          "metadata": {
            "tags": []
          },
          "execution_count": 39
        }
      ]
    },
    {
      "cell_type": "code",
      "metadata": {
        "id": "7nCjOEpT0UYw",
        "colab": {
          "base_uri": "https://localhost:8080/"
        },
        "outputId": "dc1d695c-031c-49f7-8eed-a33841492361"
      },
      "source": [
        "X2=dataset2[:,0:3]\n",
        "X2"
      ],
      "execution_count": null,
      "outputs": [
        {
          "output_type": "execute_result",
          "data": {
            "text/plain": [
              "array([[ 2286.835242  , -1089.634476  ,  7813.041561  ],\n",
              "       [ 2338.598219  , -1589.149615  ,  7719.120099  ],\n",
              "       [ 2385.44126   , -2085.322362  ,  7608.958686  ],\n",
              "       ...,\n",
              "       [ 2083.059987  ,   565.726177  ,  8005.396921  ],\n",
              "       [ 2150.157132  ,    62.64179088,  7965.996146  ],\n",
              "       [ 2212.780557  ,  -440.5708362 ,  7910.022128  ]])"
            ]
          },
          "metadata": {
            "tags": []
          },
          "execution_count": 40
        }
      ]
    },
    {
      "cell_type": "code",
      "metadata": {
        "id": "ILdGO5YW0r-X",
        "colab": {
          "base_uri": "https://localhost:8080/"
        },
        "outputId": "0ca68cd4-b84b-47a8-926e-188beec54743"
      },
      "source": [
        "X2.shape"
      ],
      "execution_count": null,
      "outputs": [
        {
          "output_type": "execute_result",
          "data": {
            "text/plain": [
              "(2020, 3)"
            ]
          },
          "metadata": {
            "tags": []
          },
          "execution_count": 41
        }
      ]
    },
    {
      "cell_type": "code",
      "metadata": {
        "id": "ht1JBt6J0h6G",
        "colab": {
          "base_uri": "https://localhost:8080/"
        },
        "outputId": "5a41fbd6-9042-4ae2-a8ff-721278feb4bb"
      },
      "source": [
        "X3=dataset3[:,0:3]\n",
        "X3"
      ],
      "execution_count": null,
      "outputs": [
        {
          "output_type": "execute_result",
          "data": {
            "text/plain": [
              "array([[-1850.999638  , -1729.369554  ,  7813.041561  ],\n",
              "       [-1749.495277  , -2221.194365  ,  7719.120099  ],\n",
              "       [-1644.310073  , -2708.34705   ,  7608.958686  ],\n",
              "       ...,\n",
              "       [-2156.647475  ,   -89.75903837,  8005.396921  ],\n",
              "       [-2068.683436  ,  -589.6172727 ,  7965.996146  ],\n",
              "       [-1976.415828  , -1088.246724  ,  7910.022128  ]])"
            ]
          },
          "metadata": {
            "tags": []
          },
          "execution_count": 42
        }
      ]
    },
    {
      "cell_type": "code",
      "metadata": {
        "id": "8WibmHqB0uAC",
        "colab": {
          "base_uri": "https://localhost:8080/"
        },
        "outputId": "163c9b5c-345f-4c21-f79e-a43cdd853d77"
      },
      "source": [
        "X3.shape"
      ],
      "execution_count": null,
      "outputs": [
        {
          "output_type": "execute_result",
          "data": {
            "text/plain": [
              "(2020, 3)"
            ]
          },
          "metadata": {
            "tags": []
          },
          "execution_count": 43
        }
      ]
    },
    {
      "cell_type": "code",
      "metadata": {
        "id": "EUIKKMrAKWHv",
        "colab": {
          "base_uri": "https://localhost:8080/"
        },
        "outputId": "95de06a8-179c-4e92-b105-7866e913c0c0"
      },
      "source": [
        "Y=dataset[:,3:6].reshape(2020,3) # Spliting train and label data. Y represents the labe data\n",
        "Y"
      ],
      "execution_count": null,
      "outputs": [
        {
          "output_type": "execute_result",
          "data": {
            "text/plain": [
              "array([[ 2.17917802e+02, -1.40950202e+03,  8.08865582e+03],\n",
              "       [ 2.94551471e+02, -1.90517199e+03,  7.99142117e+03],\n",
              "       [ 3.70565593e+02, -2.39683470e+03,  7.87737368e+03],\n",
              "       ...,\n",
              "       [-5.63758399e+00,  3.63983244e+01,  8.26289919e+03],\n",
              "       [ 7.19293898e+01, -4.65332980e+02,  8.21525129e+03],\n",
              "       [ 1.49345211e+02, -9.66086433e+02,  8.15037066e+03]])"
            ]
          },
          "metadata": {
            "tags": []
          },
          "execution_count": 44
        }
      ]
    },
    {
      "cell_type": "code",
      "metadata": {
        "id": "fq1-XrSp2eiW",
        "colab": {
          "base_uri": "https://localhost:8080/"
        },
        "outputId": "64303c51-026d-4cf3-bef6-bb6ae2871261"
      },
      "source": [
        "Y.shape"
      ],
      "execution_count": null,
      "outputs": [
        {
          "output_type": "execute_result",
          "data": {
            "text/plain": [
              "(2020, 3)"
            ]
          },
          "metadata": {
            "tags": []
          },
          "execution_count": 45
        }
      ]
    },
    {
      "cell_type": "code",
      "metadata": {
        "id": "HUM-nFs200e9",
        "colab": {
          "base_uri": "https://localhost:8080/"
        },
        "outputId": "168645f2-3ac8-42a7-9ead-a1e2b7d59281"
      },
      "source": [
        "Y2=dataset2[:,3:6].reshape(2020,3)\n",
        "Y2"
      ],
      "execution_count": null,
      "outputs": [
        {
          "output_type": "execute_result",
          "data": {
            "text/plain": [
              "array([[ 2286.835255 , -1089.634596 ,  7813.04154  ],\n",
              "       [ 2338.59823  , -1589.149733 ,  7719.120074 ],\n",
              "       [ 2385.441269 , -2085.322476 ,  7608.958653 ],\n",
              "       ...,\n",
              "       [ 2108.818543 ,   356.8933922,  7981.681923 ],\n",
              "       [ 2174.108875 ,  -146.7028925,  7935.465092 ],\n",
              "       [ 2234.839208 ,  -649.9897658,  7872.605313 ]])"
            ]
          },
          "metadata": {
            "tags": []
          },
          "execution_count": 46
        }
      ]
    },
    {
      "cell_type": "code",
      "metadata": {
        "id": "0ODeeGsR1R4e",
        "colab": {
          "base_uri": "https://localhost:8080/"
        },
        "outputId": "150f1179-8e99-4239-989e-b1055c017122"
      },
      "source": [
        "Y2.shape"
      ],
      "execution_count": null,
      "outputs": [
        {
          "output_type": "execute_result",
          "data": {
            "text/plain": [
              "(2020, 3)"
            ]
          },
          "metadata": {
            "tags": []
          },
          "execution_count": 47
        }
      ]
    },
    {
      "cell_type": "code",
      "metadata": {
        "id": "Lk6awEET1Nn1",
        "colab": {
          "base_uri": "https://localhost:8080/"
        },
        "outputId": "83733ae6-4926-42d8-9d29-f83b2cd58d78"
      },
      "source": [
        "Y3=dataset[:,3:6].reshape(2020,3)\n",
        "Y3"
      ],
      "execution_count": null,
      "outputs": [
        {
          "output_type": "execute_result",
          "data": {
            "text/plain": [
              "array([[ 2.17917802e+02, -1.40950202e+03,  8.08865582e+03],\n",
              "       [ 2.94551471e+02, -1.90517199e+03,  7.99142117e+03],\n",
              "       [ 3.70565593e+02, -2.39683470e+03,  7.87737368e+03],\n",
              "       ...,\n",
              "       [-5.63758399e+00,  3.63983244e+01,  8.26289919e+03],\n",
              "       [ 7.19293898e+01, -4.65332980e+02,  8.21525129e+03],\n",
              "       [ 1.49345211e+02, -9.66086433e+02,  8.15037066e+03]])"
            ]
          },
          "metadata": {
            "tags": []
          },
          "execution_count": 48
        }
      ]
    },
    {
      "cell_type": "code",
      "metadata": {
        "id": "eYzTDpV31T_n",
        "colab": {
          "base_uri": "https://localhost:8080/"
        },
        "outputId": "d103f29c-e96e-43ef-c193-520580552602"
      },
      "source": [
        "Y3.shape"
      ],
      "execution_count": null,
      "outputs": [
        {
          "output_type": "execute_result",
          "data": {
            "text/plain": [
              "(2020, 3)"
            ]
          },
          "metadata": {
            "tags": []
          },
          "execution_count": 49
        }
      ]
    },
    {
      "cell_type": "markdown",
      "metadata": {
        "id": "YpWTz26f6lwj"
      },
      "source": [
        "# Normalize Data"
      ]
    },
    {
      "cell_type": "code",
      "metadata": {
        "id": "YgKxkP8qIUcu",
        "colab": {
          "base_uri": "https://localhost:8080/"
        },
        "outputId": "ff6faa2a-4c0b-45c2-d08b-8bbb9f9584af"
      },
      "source": [
        "datasetmax, datasetmin = dataset.max(), dataset.min()\n",
        "datasetN = (dataset - datasetmin)/(datasetmax - datasetmin)\n",
        "print(\"After normalization:\")\n",
        "print(datasetN)"
      ],
      "execution_count": null,
      "outputs": [
        {
          "output_type": "stream",
          "text": [
            "After normalization:\n",
            "[[0.72093974 0.70786786 0.78415964 0.72093974 0.70786786 0.78415964]\n",
            " [0.72155528 0.70388651 0.78337862 0.72155528 0.70388651 0.78337862]\n",
            " [0.72216585 0.69993734 0.78246256 0.72216585 0.69993734 0.78246256]\n",
            " ...\n",
            " [0.71889383 0.72110091 0.78575919 0.71914408 0.71948173 0.78555921]\n",
            " [0.71951657 0.71707296 0.78543155 0.71976712 0.71545168 0.78517648]\n",
            " [0.72013864 0.71304943 0.78496609 0.72038895 0.7114295  0.78465535]]\n"
          ],
          "name": "stdout"
        }
      ]
    },
    {
      "cell_type": "code",
      "metadata": {
        "id": "XWY3G5t8pdeZ",
        "colab": {
          "base_uri": "https://localhost:8080/"
        },
        "outputId": "7f7fe0d2-d68f-42cc-9b41-6953f2f1aa81"
      },
      "source": [
        "normalized_X = datasetN[:,0:3] #VD training data as input\n",
        "normalized_X"
      ],
      "execution_count": null,
      "outputs": [
        {
          "output_type": "execute_result",
          "data": {
            "text/plain": [
              "array([[0.72093974, 0.70786786, 0.78415964],\n",
              "       [0.72155528, 0.70388651, 0.78337862],\n",
              "       [0.72216585, 0.69993734, 0.78246256],\n",
              "       ...,\n",
              "       [0.71889383, 0.72110091, 0.78575919],\n",
              "       [0.71951657, 0.71707296, 0.78543155],\n",
              "       [0.72013864, 0.71304943, 0.78496609]])"
            ]
          },
          "metadata": {
            "tags": []
          },
          "execution_count": 51
        }
      ]
    },
    {
      "cell_type": "code",
      "metadata": {
        "id": "cEYm2JQxp4O6",
        "colab": {
          "base_uri": "https://localhost:8080/"
        },
        "outputId": "730a81a1-ac93-44f0-fb15-0b5207025706"
      },
      "source": [
        "normalized_X.shape"
      ],
      "execution_count": null,
      "outputs": [
        {
          "output_type": "execute_result",
          "data": {
            "text/plain": [
              "(2020, 3)"
            ]
          },
          "metadata": {
            "tags": []
          },
          "execution_count": 52
        }
      ]
    },
    {
      "cell_type": "code",
      "metadata": {
        "id": "jYrO6H93qAZH",
        "colab": {
          "base_uri": "https://localhost:8080/"
        },
        "outputId": "6405dc6f-6f60-45d7-8419-0e46707e60c7"
      },
      "source": [
        "normalized_Y = datasetN[:,3:6].reshape(2020,3) #VD training data as label or target data\n",
        "normalized_Y"
      ],
      "execution_count": null,
      "outputs": [
        {
          "output_type": "execute_result",
          "data": {
            "text/plain": [
              "array([[0.72093974, 0.70786786, 0.78415964],\n",
              "       [0.72155528, 0.70388651, 0.78337862],\n",
              "       [0.72216585, 0.69993734, 0.78246256],\n",
              "       ...,\n",
              "       [0.71914408, 0.71948173, 0.78555921],\n",
              "       [0.71976712, 0.71545168, 0.78517648],\n",
              "       [0.72038895, 0.7114295 , 0.78465535]])"
            ]
          },
          "metadata": {
            "tags": []
          },
          "execution_count": 53
        }
      ]
    },
    {
      "cell_type": "code",
      "metadata": {
        "id": "vPZQ3ouwqe6q",
        "colab": {
          "base_uri": "https://localhost:8080/"
        },
        "outputId": "39efb4ce-026f-4eef-c117-9b4e30fb6108"
      },
      "source": [
        "normalized_Y.shape"
      ],
      "execution_count": null,
      "outputs": [
        {
          "output_type": "execute_result",
          "data": {
            "text/plain": [
              "(2020, 3)"
            ]
          },
          "metadata": {
            "tags": []
          },
          "execution_count": 54
        }
      ]
    },
    {
      "cell_type": "code",
      "metadata": {
        "id": "ZvQR5M-u4cgG",
        "colab": {
          "base_uri": "https://localhost:8080/"
        },
        "outputId": "5a7cc446-dcbe-46e2-978a-1b1870bf18c7"
      },
      "source": [
        "dataset2max, dataset2min = dataset2.max(), dataset2.min()\n",
        "datasetN2 = (dataset2 - dataset2min)/(dataset2max - dataset2min)\n",
        "print(\"After normalization:\")\n",
        "print(datasetN2)"
      ],
      "execution_count": null,
      "outputs": [
        {
          "output_type": "stream",
          "text": [
            "After normalization:\n",
            "[[0.7428828  0.71462742 0.78912786 0.7428828  0.71462742 0.78912786]\n",
            " [0.74331597 0.71044731 0.7883419  0.74331597 0.71044731 0.7883419 ]\n",
            " [0.74370796 0.70629518 0.78742003 0.74370796 0.70629518 0.78742003]\n",
            " ...\n",
            " [0.74117754 0.72848    0.79073755 0.7413931  0.72673243 0.7905391 ]\n",
            " [0.74173903 0.72427003 0.79040784 0.74193947 0.72251817 0.79015234]\n",
            " [0.74226308 0.72005899 0.78993943 0.74244768 0.7183065  0.78962631]]\n"
          ],
          "name": "stdout"
        }
      ]
    },
    {
      "cell_type": "code",
      "metadata": {
        "id": "78yYyJSJ6I1q",
        "colab": {
          "base_uri": "https://localhost:8080/"
        },
        "outputId": "4051df66-e498-4f96-b00b-1b8db02377b8"
      },
      "source": [
        "normalized_X2 = datasetN2[:,0:3] #15 more deg in inclication for training data for testing\n",
        "normalized_X2"
      ],
      "execution_count": null,
      "outputs": [
        {
          "output_type": "execute_result",
          "data": {
            "text/plain": [
              "array([[0.7428828 , 0.71462742, 0.78912786],\n",
              "       [0.74331597, 0.71044731, 0.7883419 ],\n",
              "       [0.74370796, 0.70629518, 0.78742003],\n",
              "       ...,\n",
              "       [0.74117754, 0.72848   , 0.79073755],\n",
              "       [0.74173903, 0.72427003, 0.79040784],\n",
              "       [0.74226308, 0.72005899, 0.78993943]])"
            ]
          },
          "metadata": {
            "tags": []
          },
          "execution_count": 56
        }
      ]
    },
    {
      "cell_type": "code",
      "metadata": {
        "id": "n5rb75Cl6bzd",
        "colab": {
          "base_uri": "https://localhost:8080/"
        },
        "outputId": "5a806af0-33e2-4802-bd75-9e669ce55f9d"
      },
      "source": [
        "normalized_X2.shape"
      ],
      "execution_count": null,
      "outputs": [
        {
          "output_type": "execute_result",
          "data": {
            "text/plain": [
              "(2020, 3)"
            ]
          },
          "metadata": {
            "tags": []
          },
          "execution_count": 57
        }
      ]
    },
    {
      "cell_type": "code",
      "metadata": {
        "id": "lfI4xWXfKVHj",
        "colab": {
          "base_uri": "https://localhost:8080/"
        },
        "outputId": "6a03c520-2256-43ce-dad9-e13c354f54f7"
      },
      "source": [
        "normalized_Y2 = datasetN2[:,3:6] #15 more deg in inclination for label data for testing\n",
        "normalized_Y2"
      ],
      "execution_count": null,
      "outputs": [
        {
          "output_type": "execute_result",
          "data": {
            "text/plain": [
              "array([[0.7428828 , 0.71462742, 0.78912786],\n",
              "       [0.74331597, 0.71044731, 0.7883419 ],\n",
              "       [0.74370796, 0.70629518, 0.78742003],\n",
              "       ...,\n",
              "       [0.7413931 , 0.72673243, 0.7905391 ],\n",
              "       [0.74193947, 0.72251817, 0.79015234],\n",
              "       [0.74244768, 0.7183065 , 0.78962631]])"
            ]
          },
          "metadata": {
            "tags": []
          },
          "execution_count": 58
        }
      ]
    },
    {
      "cell_type": "code",
      "metadata": {
        "id": "Ol6zYSZqKlCU",
        "colab": {
          "base_uri": "https://localhost:8080/"
        },
        "outputId": "5bf50fd0-9b0a-4bcb-bb77-ede692e3a910"
      },
      "source": [
        "normalized_Y2.shape"
      ],
      "execution_count": null,
      "outputs": [
        {
          "output_type": "execute_result",
          "data": {
            "text/plain": [
              "(2020, 3)"
            ]
          },
          "metadata": {
            "tags": []
          },
          "execution_count": 59
        }
      ]
    },
    {
      "cell_type": "code",
      "metadata": {
        "id": "Jtt98A1p6mih",
        "colab": {
          "base_uri": "https://localhost:8080/"
        },
        "outputId": "0351ad4f-745b-41aa-ce66-a5522efbcbce"
      },
      "source": [
        "dataset3max, dataset3min = dataset3.max(), dataset3.min()\n",
        "datasetN3 = (dataset3 - dataset3min)/(dataset3max - dataset3min)\n",
        "print(\"After normalization:\")\n",
        "print(datasetN3)"
      ],
      "execution_count": null,
      "outputs": [
        {
          "output_type": "stream",
          "text": [
            "After normalization:\n",
            "[[0.68517785 0.68616252 0.76341441 0.68517785 0.68616252 0.76341441]\n",
            " [0.68599959 0.68218089 0.76265405 0.68599959 0.68218089 0.76265405]\n",
            " [0.68685113 0.67823708 0.76176223 0.68685113 0.67823708 0.76176223]\n",
            " ...\n",
            " [0.68270343 0.69943621 0.76497164 0.68301555 0.69776341 0.7647764 ]\n",
            " [0.68341556 0.69538954 0.76465267 0.68374284 0.69371708 0.76440226]\n",
            " [0.68416252 0.69135282 0.76419953 0.68450457 0.68968429 0.76389338]]\n"
          ],
          "name": "stdout"
        }
      ]
    },
    {
      "cell_type": "code",
      "metadata": {
        "id": "u4lgjaVW6Tim",
        "colab": {
          "base_uri": "https://localhost:8080/"
        },
        "outputId": "cf5129ff-b99e-4822-f6ad-3d0beb5127cf"
      },
      "source": [
        "normalized_X3 = datasetN3[:,0:3] #15 less deg in inclination data for validation\n",
        "normalized_X3"
      ],
      "execution_count": null,
      "outputs": [
        {
          "output_type": "execute_result",
          "data": {
            "text/plain": [
              "array([[0.68517785, 0.68616252, 0.76341441],\n",
              "       [0.68599959, 0.68218089, 0.76265405],\n",
              "       [0.68685113, 0.67823708, 0.76176223],\n",
              "       ...,\n",
              "       [0.68270343, 0.69943621, 0.76497164],\n",
              "       [0.68341556, 0.69538954, 0.76465267],\n",
              "       [0.68416252, 0.69135282, 0.76419953]])"
            ]
          },
          "metadata": {
            "tags": []
          },
          "execution_count": 61
        }
      ]
    },
    {
      "cell_type": "code",
      "metadata": {
        "id": "sbnt5iUf6c6E",
        "colab": {
          "base_uri": "https://localhost:8080/"
        },
        "outputId": "ec022a06-6f11-4ff0-8a8d-cd4d2b30b05b"
      },
      "source": [
        "normalized_X3.shape"
      ],
      "execution_count": null,
      "outputs": [
        {
          "output_type": "execute_result",
          "data": {
            "text/plain": [
              "(2020, 3)"
            ]
          },
          "metadata": {
            "tags": []
          },
          "execution_count": 62
        }
      ]
    },
    {
      "cell_type": "code",
      "metadata": {
        "id": "1jQFghC5K2Bb",
        "colab": {
          "base_uri": "https://localhost:8080/"
        },
        "outputId": "01969611-0bca-44e5-a88b-5685a3342ef3"
      },
      "source": [
        "normalized_Y3 = datasetN2[:,3:6] #15 more deg in inclination data for testing\n",
        "normalized_Y3"
      ],
      "execution_count": null,
      "outputs": [
        {
          "output_type": "execute_result",
          "data": {
            "text/plain": [
              "array([[0.7428828 , 0.71462742, 0.78912786],\n",
              "       [0.74331597, 0.71044731, 0.7883419 ],\n",
              "       [0.74370796, 0.70629518, 0.78742003],\n",
              "       ...,\n",
              "       [0.7413931 , 0.72673243, 0.7905391 ],\n",
              "       [0.74193947, 0.72251817, 0.79015234],\n",
              "       [0.74244768, 0.7183065 , 0.78962631]])"
            ]
          },
          "metadata": {
            "tags": []
          },
          "execution_count": 63
        }
      ]
    },
    {
      "cell_type": "code",
      "metadata": {
        "id": "IbyWL3OGK6gL",
        "colab": {
          "base_uri": "https://localhost:8080/"
        },
        "outputId": "34893cbe-7d1d-4d7d-9dfa-61f6a1763129"
      },
      "source": [
        "normalized_Y3.shape"
      ],
      "execution_count": null,
      "outputs": [
        {
          "output_type": "execute_result",
          "data": {
            "text/plain": [
              "(2020, 3)"
            ]
          },
          "metadata": {
            "tags": []
          },
          "execution_count": 64
        }
      ]
    },
    {
      "cell_type": "markdown",
      "metadata": {
        "id": "2iYYnWJigcHW"
      },
      "source": [
        "#Reshape data for LSTM is 3D "
      ]
    },
    {
      "cell_type": "markdown",
      "metadata": {
        "id": "RDsCl-FqBYs8"
      },
      "source": [
        "Reshaping Training, Validation, and Test Data for LSTM"
      ]
    },
    {
      "cell_type": "code",
      "metadata": {
        "id": "90LxVjuqnmMx",
        "colab": {
          "base_uri": "https://localhost:8080/"
        },
        "outputId": "b75f7006-f3b7-4506-8f11-42a751baf2be"
      },
      "source": [
        "normalized_X_train=np.resize(normalized_X,(404,5,3))  #Only resizing the X scaled training parts (samples, time step, features)\n",
        "normalized_X_train"
      ],
      "execution_count": null,
      "outputs": [
        {
          "output_type": "execute_result",
          "data": {
            "text/plain": [
              "array([[[0.72093974, 0.70786786, 0.78415964],\n",
              "        [0.72155528, 0.70388651, 0.78337862],\n",
              "        [0.72216585, 0.69993734, 0.78246256],\n",
              "        [0.7227702 , 0.69602834, 0.78141442],\n",
              "        [0.72336718, 0.69216705, 0.78023807]],\n",
              "\n",
              "       [[0.72395571, 0.68836041, 0.77893816],\n",
              "        [0.72453482, 0.68461473, 0.77752005],\n",
              "        [0.72510364, 0.68093557, 0.77598963],\n",
              "        [0.72566143, 0.67732774, 0.77435323],\n",
              "        [0.72620758, 0.67379525, 0.77261748]],\n",
              "\n",
              "       [[0.72674157, 0.67034135, 0.77078916],\n",
              "        [0.72726303, 0.66696854, 0.76887511],\n",
              "        [0.72777167, 0.66367862, 0.76688214],\n",
              "        [0.72826732, 0.66047273, 0.76481691],\n",
              "        [0.72874989, 0.65735144, 0.76268588]],\n",
              "\n",
              "       ...,\n",
              "\n",
              "       [[0.71176183, 0.76723102, 0.78014582],\n",
              "        [0.71231473, 0.7636548 , 0.7811773 ],\n",
              "        [0.7128769 , 0.76001865, 0.78212516],\n",
              "        [0.71344803, 0.75632456, 0.78298363],\n",
              "        [0.71402773, 0.75257507, 0.78374683]],\n",
              "\n",
              "       [[0.7146155 , 0.74877332, 0.7844089 ],\n",
              "        [0.71521077, 0.74492312, 0.78496402],\n",
              "        [0.71581283, 0.74102891, 0.78540656],\n",
              "        [0.71642091, 0.73709586, 0.78573116],\n",
              "        [0.71703409, 0.73312977, 0.78593285]],\n",
              "\n",
              "       [[0.71765138, 0.72913712, 0.78600718],\n",
              "        [0.71827168, 0.72512497, 0.78595032],\n",
              "        [0.71889383, 0.72110091, 0.78575919],\n",
              "        [0.71951657, 0.71707296, 0.78543155],\n",
              "        [0.72013864, 0.71304943, 0.78496609]]])"
            ]
          },
          "metadata": {
            "tags": []
          },
          "execution_count": 65
        }
      ]
    },
    {
      "cell_type": "code",
      "metadata": {
        "id": "0lo1WT76rTBw",
        "colab": {
          "base_uri": "https://localhost:8080/"
        },
        "outputId": "118a149d-d5cc-4479-e677-eea16aed4826"
      },
      "source": [
        "normalized_Y_train=np.resize(normalized_Y,(404,5,3))  #Only resizing the X scaled training parts\n",
        "normalized_Y_train"
      ],
      "execution_count": null,
      "outputs": [
        {
          "output_type": "execute_result",
          "data": {
            "text/plain": [
              "array([[[0.72093974, 0.70786786, 0.78415964],\n",
              "        [0.72155528, 0.70388651, 0.78337862],\n",
              "        [0.72216585, 0.69993734, 0.78246256],\n",
              "        [0.7227702 , 0.69602834, 0.78141442],\n",
              "        [0.72336718, 0.69216705, 0.78023807]],\n",
              "\n",
              "       [[0.72395571, 0.68836041, 0.77893816],\n",
              "        [0.72453482, 0.68461473, 0.77752005],\n",
              "        [0.72510364, 0.68093557, 0.77598963],\n",
              "        [0.72566143, 0.67732774, 0.77435323],\n",
              "        [0.72620758, 0.67379525, 0.77261748]],\n",
              "\n",
              "       [[0.72674157, 0.67034135, 0.77078916],\n",
              "        [0.72726303, 0.66696854, 0.76887511],\n",
              "        [0.72777167, 0.66367862, 0.76688214],\n",
              "        [0.72826732, 0.66047273, 0.76481691],\n",
              "        [0.72874989, 0.65735145, 0.76268588]],\n",
              "\n",
              "       ...,\n",
              "\n",
              "       [[0.71197923, 0.76582667, 0.78046046],\n",
              "        [0.71253604, 0.76222498, 0.78146213],\n",
              "        [0.71310204, 0.7585639 , 0.78237778],\n",
              "        [0.71367688, 0.75484562, 0.78320155],\n",
              "        [0.71426013, 0.75107292, 0.78392754]],\n",
              "\n",
              "       [[0.71485127, 0.74724922, 0.78454986],\n",
              "        [0.71544966, 0.74337858, 0.78506274],\n",
              "        [0.71605458, 0.73946576, 0.78546061],\n",
              "        [0.71666518, 0.73551619, 0.78573822],\n",
              "        [0.71728051, 0.73153597, 0.78589077]],\n",
              "\n",
              "       [[0.71789954, 0.72753187, 0.78591403],\n",
              "        [0.71852113, 0.72351118, 0.78580443],\n",
              "        [0.71914408, 0.71948173, 0.78555921],\n",
              "        [0.71976712, 0.71545168, 0.78517648],\n",
              "        [0.72038895, 0.7114295 , 0.78465535]]])"
            ]
          },
          "metadata": {
            "tags": []
          },
          "execution_count": 66
        }
      ]
    },
    {
      "cell_type": "code",
      "metadata": {
        "id": "1AT_38FvrxAR",
        "colab": {
          "base_uri": "https://localhost:8080/"
        },
        "outputId": "7dd881b8-01b9-4a8f-e59e-1a7667a9803d"
      },
      "source": [
        "normalized_Y_train.shape"
      ],
      "execution_count": null,
      "outputs": [
        {
          "output_type": "execute_result",
          "data": {
            "text/plain": [
              "(404, 5, 3)"
            ]
          },
          "metadata": {
            "tags": []
          },
          "execution_count": 67
        }
      ]
    },
    {
      "cell_type": "code",
      "metadata": {
        "id": "kRiJpvEfBGAw",
        "colab": {
          "base_uri": "https://localhost:8080/"
        },
        "outputId": "c7dd4606-aa83-4d41-87b5-4f6491713283"
      },
      "source": [
        "normalized_X2_test=np.resize(normalized_X2,(404,5,3))  #Only resizing the X scaled test parts (elements, time step, features)\n",
        "normalized_X2_test"
      ],
      "execution_count": null,
      "outputs": [
        {
          "output_type": "execute_result",
          "data": {
            "text/plain": [
              "array([[[0.7428828 , 0.71462742, 0.78912786],\n",
              "        [0.74331597, 0.71044731, 0.7883419 ],\n",
              "        [0.74370796, 0.70629518, 0.78742003],\n",
              "        [0.74405829, 0.70217946, 0.78636525],\n",
              "        [0.74436678, 0.69810815, 0.78518144]],\n",
              "\n",
              "       [[0.74463353, 0.6940887 , 0.7838733 ],\n",
              "        [0.74485896, 0.69012788, 0.7824462 ],\n",
              "        [0.74504375, 0.68623174, 0.78090608],\n",
              "        [0.74518881, 0.68240555, 0.77925931],\n",
              "        [0.74529526, 0.67865376, 0.77751255]],\n",
              "\n",
              "       [[0.74536438, 0.67498003, 0.77567265],\n",
              "        [0.7453976 , 0.67138725, 0.77374647],\n",
              "        [0.74539643, 0.66787757, 0.77174087],\n",
              "        [0.74536247, 0.66445247, 0.76966255],\n",
              "        [0.74529735, 0.66111281, 0.76751802]],\n",
              "\n",
              "       ...,\n",
              "\n",
              "       [[0.7322513 , 0.77630881, 0.78508861],\n",
              "        [0.7331022 , 0.77262546, 0.78612662],\n",
              "        [0.73394048, 0.76887624, 0.7870805 ],\n",
              "        [0.73476427, 0.76506297, 0.7879444 ],\n",
              "        [0.7355716 , 0.76118805, 0.78871245]],\n",
              "\n",
              "       [[0.73636039, 0.75725453, 0.78937871],\n",
              "        [0.73712849, 0.75326611, 0.78993734],\n",
              "        [0.73787368, 0.74922721, 0.79038269],\n",
              "        [0.73859369, 0.74514298, 0.79070935],\n",
              "        [0.73928628, 0.74101927, 0.79091232]],\n",
              "\n",
              "       [[0.7399492 , 0.73686264, 0.79098712],\n",
              "        [0.7405803 , 0.73268029, 0.7909299 ],\n",
              "        [0.74117754, 0.72848   , 0.79073755],\n",
              "        [0.74173903, 0.72427003, 0.79040784],\n",
              "        [0.74226308, 0.72005899, 0.78993943]]])"
            ]
          },
          "metadata": {
            "tags": []
          },
          "execution_count": 68
        }
      ]
    },
    {
      "cell_type": "code",
      "metadata": {
        "id": "i-oexzLTCCft",
        "colab": {
          "base_uri": "https://localhost:8080/"
        },
        "outputId": "2e3e4d14-53bd-442c-cfd4-df14b6db30bb"
      },
      "source": [
        "normalized_Y2_test=np.resize(normalized_Y2,(404,5,3))  #Only resizing the X scaled test parts\n",
        "normalized_Y2_test"
      ],
      "execution_count": null,
      "outputs": [
        {
          "output_type": "execute_result",
          "data": {
            "text/plain": [
              "array([[[0.7428828 , 0.71462742, 0.78912786],\n",
              "        [0.74331597, 0.71044731, 0.7883419 ],\n",
              "        [0.74370796, 0.70629518, 0.78742003],\n",
              "        [0.74405829, 0.70217946, 0.78636525],\n",
              "        [0.74436678, 0.69810815, 0.78518144]],\n",
              "\n",
              "       [[0.74463353, 0.6940887 , 0.7838733 ],\n",
              "        [0.74485896, 0.69012788, 0.7824462 ],\n",
              "        [0.74504375, 0.68623174, 0.78090608],\n",
              "        [0.74518881, 0.68240555, 0.77925931],\n",
              "        [0.74529526, 0.67865376, 0.77751255]],\n",
              "\n",
              "       [[0.74536438, 0.67498003, 0.77567264],\n",
              "        [0.7453976 , 0.67138725, 0.77374647],\n",
              "        [0.74539643, 0.66787757, 0.77174087],\n",
              "        [0.74536247, 0.66445247, 0.76966255],\n",
              "        [0.74529735, 0.66111281, 0.76751801]],\n",
              "\n",
              "       ...,\n",
              "\n",
              "       [[0.73257703, 0.77481141, 0.78542528],\n",
              "        [0.73342361, 0.77109953, 0.78643216],\n",
              "        [0.7342568 , 0.76732226, 0.7873524 ],\n",
              "        [0.7350747 , 0.76348166, 0.78818013],\n",
              "        [0.73587527, 0.75958039, 0.78890939]],\n",
              "\n",
              "       [[0.73665641, 0.75562178, 0.78953426],\n",
              "        [0.73741591, 0.75160982, 0.79004894],\n",
              "        [0.73815154, 0.74754925, 0.79044783],\n",
              "        [0.73886101, 0.74344552, 0.79072566],\n",
              "        [0.73954206, 0.73930482, 0.7908776 ]],\n",
              "\n",
              "       [[0.74019249, 0.73513399, 0.79089941],\n",
              "        [0.74081017, 0.73094052, 0.79078749],\n",
              "        [0.7413931 , 0.72673243, 0.7905391 ],\n",
              "        [0.74193947, 0.72251817, 0.79015234],\n",
              "        [0.74244768, 0.7183065 , 0.78962631]]])"
            ]
          },
          "metadata": {
            "tags": []
          },
          "execution_count": 69
        }
      ]
    },
    {
      "cell_type": "code",
      "metadata": {
        "id": "x4IoPKBbCUBJ",
        "colab": {
          "base_uri": "https://localhost:8080/"
        },
        "outputId": "57fc1fc2-2b69-4546-b4c2-ed10652d4a00"
      },
      "source": [
        "normalized_Y2_test.shape"
      ],
      "execution_count": null,
      "outputs": [
        {
          "output_type": "execute_result",
          "data": {
            "text/plain": [
              "(404, 5, 3)"
            ]
          },
          "metadata": {
            "tags": []
          },
          "execution_count": 70
        }
      ]
    },
    {
      "cell_type": "code",
      "metadata": {
        "id": "VKjz9DvBDYP6",
        "colab": {
          "base_uri": "https://localhost:8080/"
        },
        "outputId": "d165896d-42f6-4916-f9c6-b10a4f3ad55a"
      },
      "source": [
        "normalized_X3_val=np.resize(normalized_X3,(404,5,3))  #Only resizing the X scaled val parts (samples/batch, time step, features)\n",
        "normalized_X3_val"
      ],
      "execution_count": null,
      "outputs": [
        {
          "output_type": "execute_result",
          "data": {
            "text/plain": [
              "array([[[0.68517785, 0.68616252, 0.76341441],\n",
              "        [0.68599959, 0.68218089, 0.76265405],\n",
              "        [0.68685113, 0.67823708, 0.76176223],\n",
              "        [0.68773046, 0.67433902, 0.76074182],\n",
              "        [0.68863541, 0.67049415, 0.75959658]],\n",
              "\n",
              "       [[0.6895637 , 0.66670929, 0.75833106],\n",
              "        [0.69051296, 0.66299058, 0.75695046],\n",
              "        [0.69148081, 0.6593434 , 0.75546053],\n",
              "        [0.69246486, 0.65577233, 0.75386742],\n",
              "        [0.69346279, 0.65228115, 0.75217759]],\n",
              "\n",
              "       [[0.69447233, 0.64887288, 0.75039763],\n",
              "        [0.69549134, 0.64554975, 0.74853422],\n",
              "        [0.69651778, 0.6423133 , 0.74659397],\n",
              "        [0.69754975, 0.63916444, 0.74458338],\n",
              "        [0.6985855 , 0.63610347, 0.74250872]],\n",
              "\n",
              "       ...,\n",
              "\n",
              "       [[0.67696228, 0.74615396, 0.75950678],\n",
              "        [0.67725364, 0.74250842, 0.76051096],\n",
              "        [0.67757589, 0.73880581, 0.76143375],\n",
              "        [0.67793021, 0.73504836, 0.76226951],\n",
              "        [0.67831773, 0.73123887, 0.76301252]],\n",
              "\n",
              "       [[0.67873946, 0.72738074, 0.76365707],\n",
              "        [0.67919631, 0.72347804, 0.76419751],\n",
              "        [0.67968904, 0.71953547, 0.76462834],\n",
              "        [0.68021823, 0.71555845, 0.76494436],\n",
              "        [0.68078426, 0.71155304, 0.76514071]],\n",
              "\n",
              "       [[0.68138725, 0.70752593, 0.76521308],\n",
              "        [0.68202711, 0.70348439, 0.76515772],\n",
              "        [0.68270343, 0.69943621, 0.76497164],\n",
              "        [0.68341556, 0.69538954, 0.76465267],\n",
              "        [0.68416252, 0.69135282, 0.76419953]]])"
            ]
          },
          "metadata": {
            "tags": []
          },
          "execution_count": 71
        }
      ]
    },
    {
      "cell_type": "code",
      "metadata": {
        "id": "X0Zk6cvCDX1v",
        "colab": {
          "base_uri": "https://localhost:8080/"
        },
        "outputId": "4d3b91af-3d4d-4b00-f5db-4dfd22dd8f10"
      },
      "source": [
        "normalized_Y3_val=np.resize(normalized_Y3,(404,5,3))  #Only resizing the X scaled val parts (samples/batch, time step, features)\n",
        "normalized_Y3_val"
      ],
      "execution_count": null,
      "outputs": [
        {
          "output_type": "execute_result",
          "data": {
            "text/plain": [
              "array([[[0.7428828 , 0.71462742, 0.78912786],\n",
              "        [0.74331597, 0.71044731, 0.7883419 ],\n",
              "        [0.74370796, 0.70629518, 0.78742003],\n",
              "        [0.74405829, 0.70217946, 0.78636525],\n",
              "        [0.74436678, 0.69810815, 0.78518144]],\n",
              "\n",
              "       [[0.74463353, 0.6940887 , 0.7838733 ],\n",
              "        [0.74485896, 0.69012788, 0.7824462 ],\n",
              "        [0.74504375, 0.68623174, 0.78090608],\n",
              "        [0.74518881, 0.68240555, 0.77925931],\n",
              "        [0.74529526, 0.67865376, 0.77751255]],\n",
              "\n",
              "       [[0.74536438, 0.67498003, 0.77567264],\n",
              "        [0.7453976 , 0.67138725, 0.77374647],\n",
              "        [0.74539643, 0.66787757, 0.77174087],\n",
              "        [0.74536247, 0.66445247, 0.76966255],\n",
              "        [0.74529735, 0.66111281, 0.76751801]],\n",
              "\n",
              "       ...,\n",
              "\n",
              "       [[0.73257703, 0.77481141, 0.78542528],\n",
              "        [0.73342361, 0.77109953, 0.78643216],\n",
              "        [0.7342568 , 0.76732226, 0.7873524 ],\n",
              "        [0.7350747 , 0.76348166, 0.78818013],\n",
              "        [0.73587527, 0.75958039, 0.78890939]],\n",
              "\n",
              "       [[0.73665641, 0.75562178, 0.78953426],\n",
              "        [0.73741591, 0.75160982, 0.79004894],\n",
              "        [0.73815154, 0.74754925, 0.79044783],\n",
              "        [0.73886101, 0.74344552, 0.79072566],\n",
              "        [0.73954206, 0.73930482, 0.7908776 ]],\n",
              "\n",
              "       [[0.74019249, 0.73513399, 0.79089941],\n",
              "        [0.74081017, 0.73094052, 0.79078749],\n",
              "        [0.7413931 , 0.72673243, 0.7905391 ],\n",
              "        [0.74193947, 0.72251817, 0.79015234],\n",
              "        [0.74244768, 0.7183065 , 0.78962631]]])"
            ]
          },
          "metadata": {
            "tags": []
          },
          "execution_count": 72
        }
      ]
    },
    {
      "cell_type": "code",
      "metadata": {
        "id": "w6fxIXIOD0hC",
        "colab": {
          "base_uri": "https://localhost:8080/"
        },
        "outputId": "ac19d928-5280-49ce-d63b-134b32ae492f"
      },
      "source": [
        "normalized_Y3_val.shape"
      ],
      "execution_count": null,
      "outputs": [
        {
          "output_type": "execute_result",
          "data": {
            "text/plain": [
              "(404, 5, 3)"
            ]
          },
          "metadata": {
            "tags": []
          },
          "execution_count": 73
        }
      ]
    },
    {
      "cell_type": "markdown",
      "metadata": {
        "id": "pBQfj0laIOQh"
      },
      "source": [
        "# Creating Model"
      ]
    },
    {
      "cell_type": "code",
      "metadata": {
        "id": "OU3wGqReewiY",
        "colab": {
          "base_uri": "https://localhost:8080/"
        },
        "outputId": "f0fda7c8-72fc-4eb0-83a4-3733625d049d"
      },
      "source": [
        "#using the sequential model instead\n",
        "model=keras.models.Sequential([\n",
        "                  #1st layer is the input layer, which shape is defined in the next layer\n",
        "                  keras.layers.LSTM(50, input_shape=(5,3), activation='relu', recurrent_activation= 'relu', bias_initializer='zeros', kernel_initializer='glorot_uniform', recurrent_initializer='glorot_uniform', stateful=False, return_sequences=True, return_state=False ), #activity_regularizer=l2(0.01), recurrent_regularizer=l2(0.01),kernel_regularizer=L2(0.01), 1st hidden layer, so this is 2nd layer\n",
        "                  keras.layers.Dropout(0.46),  #regularizer\n",
        "                  keras.layers.LSTM(10, activation='relu',  recurrent_activation='relu', bias_initializer='zeros', kernel_initializer='glorot_uniform',  recurrent_initializer='glorot_uniform', stateful=False, return_sequences=True, return_state=False),\n",
        "                  keras.layers.Dropout(0.45), # to be used for farther tunning experimenting at different values\n",
        "                  keras.layers.TimeDistributed(Dense(3))\n",
        "                  #default weight initializer in Keras is Xavier or glorot_uniform and bias initialized to zeros, and cmd init is same as kernel_initializer\n",
        "                  #fully connected linear layer keras.layers.Dense(no. of cells)\n",
        "])"
      ],
      "execution_count": null,
      "outputs": [
        {
          "output_type": "stream",
          "text": [
            "WARNING:tensorflow:Layer lstm will not use cuDNN kernels since it doesn't meet the criteria. It will use a generic GPU kernel as fallback when running on GPU.\n",
            "WARNING:tensorflow:Layer lstm_1 will not use cuDNN kernels since it doesn't meet the criteria. It will use a generic GPU kernel as fallback when running on GPU.\n"
          ],
          "name": "stdout"
        }
      ]
    },
    {
      "cell_type": "code",
      "metadata": {
        "id": "kfq1TOZX9XWH",
        "colab": {
          "base_uri": "https://localhost:8080/"
        },
        "outputId": "99edfac6-88ef-434b-8701-6728476f4400"
      },
      "source": [
        "model.compile(Adam(lr=.0002), loss='mse', metrics=['accuracy']) #  beta_1=0.9, beta_2=0.999, epsilon=0.001 learning_rate=alpha_t ,decay=0.01, metrics=[tf.keras.metrics.Accuracy()]) # metrics measures the accuracy and needs to be corrected "
      ],
      "execution_count": null,
      "outputs": [
        {
          "output_type": "stream",
          "text": [
            "/usr/local/lib/python3.7/dist-packages/tensorflow/python/keras/optimizer_v2/optimizer_v2.py:375: UserWarning: The `lr` argument is deprecated, use `learning_rate` instead.\n",
            "  \"The `lr` argument is deprecated, use `learning_rate` instead.\")\n"
          ],
          "name": "stderr"
        }
      ]
    },
    {
      "cell_type": "code",
      "metadata": {
        "id": "tKuyogcenSh8",
        "colab": {
          "base_uri": "https://localhost:8080/"
        },
        "outputId": "10306b78-f02c-4660-be01-c59a2303e8f2"
      },
      "source": [
        "#Display's model architecture\n",
        "model.summary()"
      ],
      "execution_count": null,
      "outputs": [
        {
          "output_type": "stream",
          "text": [
            "Model: \"sequential\"\n",
            "_________________________________________________________________\n",
            "Layer (type)                 Output Shape              Param #   \n",
            "=================================================================\n",
            "lstm (LSTM)                  (None, 5, 50)             10800     \n",
            "_________________________________________________________________\n",
            "dropout (Dropout)            (None, 5, 50)             0         \n",
            "_________________________________________________________________\n",
            "lstm_1 (LSTM)                (None, 5, 10)             2440      \n",
            "_________________________________________________________________\n",
            "dropout_1 (Dropout)          (None, 5, 10)             0         \n",
            "_________________________________________________________________\n",
            "time_distributed (TimeDistri (None, 5, 3)              33        \n",
            "=================================================================\n",
            "Total params: 13,273\n",
            "Trainable params: 13,273\n",
            "Non-trainable params: 0\n",
            "_________________________________________________________________\n"
          ],
          "name": "stdout"
        }
      ]
    },
    {
      "cell_type": "markdown",
      "metadata": {
        "id": "-5unWhftmX3w"
      },
      "source": [
        ""
      ]
    },
    {
      "cell_type": "code",
      "metadata": {
        "id": "-O3EgHX-7pAX",
        "colab": {
          "base_uri": "https://localhost:8080/",
          "height": 183
        },
        "outputId": "07424d69-1506-432d-8794-8d051a7f1258"
      },
      "source": [
        "#can visualize network topology\n",
        "keras.utils.plot_model(model, show_shapes=True, show_layer_names=True)"
      ],
      "execution_count": null,
      "outputs": [
        {
          "output_type": "error",
          "ename": "AttributeError",
          "evalue": "ignored",
          "traceback": [
            "\u001b[0;31m---------------------------------------------------------------------------\u001b[0m",
            "\u001b[0;31mAttributeError\u001b[0m                            Traceback (most recent call last)",
            "\u001b[0;32m<ipython-input-77-45be0614cae0>\u001b[0m in \u001b[0;36m<module>\u001b[0;34m()\u001b[0m\n\u001b[1;32m      1\u001b[0m \u001b[0;31m#can visualize network topology\u001b[0m\u001b[0;34m\u001b[0m\u001b[0;34m\u001b[0m\u001b[0;34m\u001b[0m\u001b[0m\n\u001b[0;32m----> 2\u001b[0;31m \u001b[0mkeras\u001b[0m\u001b[0;34m.\u001b[0m\u001b[0mutils\u001b[0m\u001b[0;34m.\u001b[0m\u001b[0mplot_model\u001b[0m\u001b[0;34m(\u001b[0m\u001b[0mmodel\u001b[0m\u001b[0;34m,\u001b[0m \u001b[0mshow_shapes\u001b[0m\u001b[0;34m=\u001b[0m\u001b[0;32mTrue\u001b[0m\u001b[0;34m,\u001b[0m \u001b[0mshow_layer_names\u001b[0m\u001b[0;34m=\u001b[0m\u001b[0;32mTrue\u001b[0m\u001b[0;34m)\u001b[0m\u001b[0;34m\u001b[0m\u001b[0;34m\u001b[0m\u001b[0m\n\u001b[0m",
            "\u001b[0;31mAttributeError\u001b[0m: module 'keras.utils' has no attribute 'plot_model'"
          ]
        }
      ]
    },
    {
      "cell_type": "code",
      "metadata": {
        "id": "AubBbd2wnXhu",
        "colab": {
          "base_uri": "https://localhost:8080/"
        },
        "outputId": "5d8c68df-f84b-418e-af04-55690b194457"
      },
      "source": [
        "history=model.fit(normalized_X_train,normalized_Y_train, batch_size=101, epochs=2000, validation_data=(normalized_X3_val, normalized_Y3_val), validation_freq= 1, shuffle=False, verbose=2 )"
      ],
      "execution_count": null,
      "outputs": [
        {
          "output_type": "stream",
          "text": [
            "Epoch 1/2000\n",
            "4/4 - 0s - loss: 0.0059 - accuracy: 0.8550 - val_loss: 0.0105 - val_accuracy: 0.9015\n",
            "Epoch 2/2000\n",
            "4/4 - 0s - loss: 0.0059 - accuracy: 0.8500 - val_loss: 0.0104 - val_accuracy: 0.9030\n",
            "Epoch 3/2000\n",
            "4/4 - 0s - loss: 0.0057 - accuracy: 0.8505 - val_loss: 0.0105 - val_accuracy: 0.9059\n",
            "Epoch 4/2000\n",
            "4/4 - 0s - loss: 0.0061 - accuracy: 0.8441 - val_loss: 0.0106 - val_accuracy: 0.9089\n",
            "Epoch 5/2000\n",
            "4/4 - 0s - loss: 0.0056 - accuracy: 0.8525 - val_loss: 0.0106 - val_accuracy: 0.9079\n",
            "Epoch 6/2000\n",
            "4/4 - 0s - loss: 0.0061 - accuracy: 0.8515 - val_loss: 0.0106 - val_accuracy: 0.9079\n",
            "Epoch 7/2000\n",
            "4/4 - 0s - loss: 0.0061 - accuracy: 0.8381 - val_loss: 0.0106 - val_accuracy: 0.9094\n",
            "Epoch 8/2000\n",
            "4/4 - 0s - loss: 0.0056 - accuracy: 0.8619 - val_loss: 0.0106 - val_accuracy: 0.9079\n",
            "Epoch 9/2000\n",
            "4/4 - 0s - loss: 0.0058 - accuracy: 0.8411 - val_loss: 0.0106 - val_accuracy: 0.9045\n",
            "Epoch 10/2000\n",
            "4/4 - 0s - loss: 0.0058 - accuracy: 0.8510 - val_loss: 0.0107 - val_accuracy: 0.9025\n",
            "Epoch 11/2000\n",
            "4/4 - 0s - loss: 0.0057 - accuracy: 0.8530 - val_loss: 0.0107 - val_accuracy: 0.9015\n",
            "Epoch 12/2000\n",
            "4/4 - 0s - loss: 0.0058 - accuracy: 0.8460 - val_loss: 0.0107 - val_accuracy: 0.8995\n",
            "Epoch 13/2000\n",
            "4/4 - 0s - loss: 0.0058 - accuracy: 0.8406 - val_loss: 0.0106 - val_accuracy: 0.8990\n",
            "Epoch 14/2000\n",
            "4/4 - 0s - loss: 0.0060 - accuracy: 0.8421 - val_loss: 0.0107 - val_accuracy: 0.8980\n",
            "Epoch 15/2000\n",
            "4/4 - 0s - loss: 0.0058 - accuracy: 0.8535 - val_loss: 0.0107 - val_accuracy: 0.8960\n",
            "Epoch 16/2000\n",
            "4/4 - 0s - loss: 0.0056 - accuracy: 0.8535 - val_loss: 0.0107 - val_accuracy: 0.8970\n",
            "Epoch 17/2000\n",
            "4/4 - 0s - loss: 0.0060 - accuracy: 0.8604 - val_loss: 0.0106 - val_accuracy: 0.8965\n",
            "Epoch 18/2000\n",
            "4/4 - 0s - loss: 0.0060 - accuracy: 0.8460 - val_loss: 0.0106 - val_accuracy: 0.8926\n",
            "Epoch 19/2000\n",
            "4/4 - 0s - loss: 0.0061 - accuracy: 0.8520 - val_loss: 0.0106 - val_accuracy: 0.8886\n",
            "Epoch 20/2000\n",
            "4/4 - 0s - loss: 0.0060 - accuracy: 0.8450 - val_loss: 0.0106 - val_accuracy: 0.8886\n",
            "Epoch 21/2000\n",
            "4/4 - 0s - loss: 0.0060 - accuracy: 0.8485 - val_loss: 0.0106 - val_accuracy: 0.8906\n",
            "Epoch 22/2000\n",
            "4/4 - 0s - loss: 0.0058 - accuracy: 0.8475 - val_loss: 0.0106 - val_accuracy: 0.8941\n",
            "Epoch 23/2000\n",
            "4/4 - 0s - loss: 0.0062 - accuracy: 0.8401 - val_loss: 0.0106 - val_accuracy: 0.8950\n",
            "Epoch 24/2000\n",
            "4/4 - 0s - loss: 0.0060 - accuracy: 0.8411 - val_loss: 0.0107 - val_accuracy: 0.8965\n",
            "Epoch 25/2000\n",
            "4/4 - 0s - loss: 0.0057 - accuracy: 0.8510 - val_loss: 0.0107 - val_accuracy: 0.8990\n",
            "Epoch 26/2000\n",
            "4/4 - 0s - loss: 0.0058 - accuracy: 0.8485 - val_loss: 0.0107 - val_accuracy: 0.9010\n",
            "Epoch 27/2000\n",
            "4/4 - 0s - loss: 0.0063 - accuracy: 0.8540 - val_loss: 0.0106 - val_accuracy: 0.9020\n",
            "Epoch 28/2000\n",
            "4/4 - 0s - loss: 0.0060 - accuracy: 0.8505 - val_loss: 0.0106 - val_accuracy: 0.9040\n",
            "Epoch 29/2000\n",
            "4/4 - 0s - loss: 0.0062 - accuracy: 0.8475 - val_loss: 0.0106 - val_accuracy: 0.9054\n",
            "Epoch 30/2000\n",
            "4/4 - 0s - loss: 0.0059 - accuracy: 0.8312 - val_loss: 0.0106 - val_accuracy: 0.9059\n",
            "Epoch 31/2000\n",
            "4/4 - 0s - loss: 0.0059 - accuracy: 0.8465 - val_loss: 0.0106 - val_accuracy: 0.9069\n",
            "Epoch 32/2000\n",
            "4/4 - 0s - loss: 0.0059 - accuracy: 0.8396 - val_loss: 0.0106 - val_accuracy: 0.9069\n",
            "Epoch 33/2000\n",
            "4/4 - 0s - loss: 0.0060 - accuracy: 0.8297 - val_loss: 0.0107 - val_accuracy: 0.9050\n",
            "Epoch 34/2000\n",
            "4/4 - 0s - loss: 0.0059 - accuracy: 0.8436 - val_loss: 0.0107 - val_accuracy: 0.9030\n",
            "Epoch 35/2000\n",
            "4/4 - 0s - loss: 0.0061 - accuracy: 0.8470 - val_loss: 0.0108 - val_accuracy: 0.9005\n",
            "Epoch 36/2000\n",
            "4/4 - 0s - loss: 0.0059 - accuracy: 0.8401 - val_loss: 0.0108 - val_accuracy: 0.8995\n",
            "Epoch 37/2000\n",
            "4/4 - 0s - loss: 0.0060 - accuracy: 0.8520 - val_loss: 0.0108 - val_accuracy: 0.9000\n",
            "Epoch 38/2000\n",
            "4/4 - 0s - loss: 0.0065 - accuracy: 0.8411 - val_loss: 0.0107 - val_accuracy: 0.8995\n",
            "Epoch 39/2000\n",
            "4/4 - 0s - loss: 0.0059 - accuracy: 0.8446 - val_loss: 0.0106 - val_accuracy: 0.9000\n",
            "Epoch 40/2000\n",
            "4/4 - 0s - loss: 0.0061 - accuracy: 0.8455 - val_loss: 0.0105 - val_accuracy: 0.9010\n",
            "Epoch 41/2000\n",
            "4/4 - 0s - loss: 0.0062 - accuracy: 0.8480 - val_loss: 0.0106 - val_accuracy: 0.9015\n",
            "Epoch 42/2000\n",
            "4/4 - 0s - loss: 0.0057 - accuracy: 0.8446 - val_loss: 0.0107 - val_accuracy: 0.9015\n",
            "Epoch 43/2000\n",
            "4/4 - 0s - loss: 0.0058 - accuracy: 0.8475 - val_loss: 0.0108 - val_accuracy: 0.9035\n",
            "Epoch 44/2000\n",
            "4/4 - 0s - loss: 0.0057 - accuracy: 0.8500 - val_loss: 0.0108 - val_accuracy: 0.9050\n",
            "Epoch 45/2000\n",
            "4/4 - 0s - loss: 0.0059 - accuracy: 0.8480 - val_loss: 0.0108 - val_accuracy: 0.9045\n",
            "Epoch 46/2000\n",
            "4/4 - 0s - loss: 0.0059 - accuracy: 0.8460 - val_loss: 0.0108 - val_accuracy: 0.9040\n",
            "Epoch 47/2000\n",
            "4/4 - 0s - loss: 0.0060 - accuracy: 0.8376 - val_loss: 0.0108 - val_accuracy: 0.9035\n",
            "Epoch 48/2000\n",
            "4/4 - 0s - loss: 0.0059 - accuracy: 0.8455 - val_loss: 0.0107 - val_accuracy: 0.9025\n",
            "Epoch 49/2000\n",
            "4/4 - 0s - loss: 0.0061 - accuracy: 0.8431 - val_loss: 0.0107 - val_accuracy: 0.9025\n",
            "Epoch 50/2000\n",
            "4/4 - 0s - loss: 0.0060 - accuracy: 0.8396 - val_loss: 0.0107 - val_accuracy: 0.9030\n",
            "Epoch 51/2000\n",
            "4/4 - 0s - loss: 0.0059 - accuracy: 0.8460 - val_loss: 0.0107 - val_accuracy: 0.9010\n",
            "Epoch 52/2000\n",
            "4/4 - 0s - loss: 0.0060 - accuracy: 0.8465 - val_loss: 0.0107 - val_accuracy: 0.9000\n",
            "Epoch 53/2000\n",
            "4/4 - 0s - loss: 0.0058 - accuracy: 0.8455 - val_loss: 0.0106 - val_accuracy: 0.8980\n",
            "Epoch 54/2000\n",
            "4/4 - 0s - loss: 0.0060 - accuracy: 0.8450 - val_loss: 0.0106 - val_accuracy: 0.8975\n",
            "Epoch 55/2000\n",
            "4/4 - 0s - loss: 0.0055 - accuracy: 0.8465 - val_loss: 0.0107 - val_accuracy: 0.9000\n",
            "Epoch 56/2000\n",
            "4/4 - 0s - loss: 0.0058 - accuracy: 0.8500 - val_loss: 0.0107 - val_accuracy: 0.9015\n",
            "Epoch 57/2000\n",
            "4/4 - 0s - loss: 0.0060 - accuracy: 0.8381 - val_loss: 0.0107 - val_accuracy: 0.9010\n",
            "Epoch 58/2000\n",
            "4/4 - 0s - loss: 0.0058 - accuracy: 0.8574 - val_loss: 0.0107 - val_accuracy: 0.8980\n",
            "Epoch 59/2000\n",
            "4/4 - 0s - loss: 0.0058 - accuracy: 0.8495 - val_loss: 0.0107 - val_accuracy: 0.8965\n",
            "Epoch 60/2000\n",
            "4/4 - 0s - loss: 0.0060 - accuracy: 0.8475 - val_loss: 0.0107 - val_accuracy: 0.8960\n",
            "Epoch 61/2000\n",
            "4/4 - 0s - loss: 0.0058 - accuracy: 0.8550 - val_loss: 0.0107 - val_accuracy: 0.8960\n",
            "Epoch 62/2000\n",
            "4/4 - 0s - loss: 0.0060 - accuracy: 0.8460 - val_loss: 0.0107 - val_accuracy: 0.8955\n",
            "Epoch 63/2000\n",
            "4/4 - 0s - loss: 0.0061 - accuracy: 0.8584 - val_loss: 0.0108 - val_accuracy: 0.8960\n",
            "Epoch 64/2000\n",
            "4/4 - 0s - loss: 0.0060 - accuracy: 0.8485 - val_loss: 0.0107 - val_accuracy: 0.8946\n",
            "Epoch 65/2000\n",
            "4/4 - 0s - loss: 0.0063 - accuracy: 0.8490 - val_loss: 0.0107 - val_accuracy: 0.8950\n",
            "Epoch 66/2000\n",
            "4/4 - 0s - loss: 0.0060 - accuracy: 0.8505 - val_loss: 0.0107 - val_accuracy: 0.8960\n",
            "Epoch 67/2000\n",
            "4/4 - 0s - loss: 0.0061 - accuracy: 0.8505 - val_loss: 0.0107 - val_accuracy: 0.8975\n",
            "Epoch 68/2000\n",
            "4/4 - 0s - loss: 0.0061 - accuracy: 0.8361 - val_loss: 0.0107 - val_accuracy: 0.8980\n",
            "Epoch 69/2000\n",
            "4/4 - 0s - loss: 0.0059 - accuracy: 0.8490 - val_loss: 0.0106 - val_accuracy: 0.8950\n",
            "Epoch 70/2000\n",
            "4/4 - 0s - loss: 0.0059 - accuracy: 0.8510 - val_loss: 0.0106 - val_accuracy: 0.8950\n",
            "Epoch 71/2000\n",
            "4/4 - 0s - loss: 0.0058 - accuracy: 0.8545 - val_loss: 0.0107 - val_accuracy: 0.8965\n",
            "Epoch 72/2000\n",
            "4/4 - 0s - loss: 0.0063 - accuracy: 0.8485 - val_loss: 0.0108 - val_accuracy: 0.8985\n",
            "Epoch 73/2000\n",
            "4/4 - 0s - loss: 0.0057 - accuracy: 0.8505 - val_loss: 0.0109 - val_accuracy: 0.9025\n",
            "Epoch 74/2000\n",
            "4/4 - 0s - loss: 0.0056 - accuracy: 0.8431 - val_loss: 0.0109 - val_accuracy: 0.9035\n",
            "Epoch 75/2000\n",
            "4/4 - 0s - loss: 0.0059 - accuracy: 0.8460 - val_loss: 0.0107 - val_accuracy: 0.9020\n",
            "Epoch 76/2000\n",
            "4/4 - 0s - loss: 0.0058 - accuracy: 0.8505 - val_loss: 0.0106 - val_accuracy: 0.9015\n",
            "Epoch 77/2000\n",
            "4/4 - 0s - loss: 0.0061 - accuracy: 0.8371 - val_loss: 0.0105 - val_accuracy: 0.9025\n",
            "Epoch 78/2000\n",
            "4/4 - 0s - loss: 0.0059 - accuracy: 0.8436 - val_loss: 0.0105 - val_accuracy: 0.9030\n",
            "Epoch 79/2000\n",
            "4/4 - 0s - loss: 0.0060 - accuracy: 0.8356 - val_loss: 0.0106 - val_accuracy: 0.9030\n",
            "Epoch 80/2000\n",
            "4/4 - 0s - loss: 0.0059 - accuracy: 0.8485 - val_loss: 0.0107 - val_accuracy: 0.9030\n",
            "Epoch 81/2000\n",
            "4/4 - 0s - loss: 0.0063 - accuracy: 0.8460 - val_loss: 0.0107 - val_accuracy: 0.9015\n",
            "Epoch 82/2000\n",
            "4/4 - 0s - loss: 0.0058 - accuracy: 0.8455 - val_loss: 0.0107 - val_accuracy: 0.9040\n",
            "Epoch 83/2000\n",
            "4/4 - 0s - loss: 0.0058 - accuracy: 0.8421 - val_loss: 0.0107 - val_accuracy: 0.9020\n",
            "Epoch 84/2000\n",
            "4/4 - 0s - loss: 0.0061 - accuracy: 0.8421 - val_loss: 0.0106 - val_accuracy: 0.9005\n",
            "Epoch 85/2000\n",
            "4/4 - 0s - loss: 0.0059 - accuracy: 0.8480 - val_loss: 0.0106 - val_accuracy: 0.8960\n",
            "Epoch 86/2000\n",
            "4/4 - 0s - loss: 0.0058 - accuracy: 0.8480 - val_loss: 0.0106 - val_accuracy: 0.8950\n",
            "Epoch 87/2000\n",
            "4/4 - 0s - loss: 0.0062 - accuracy: 0.8441 - val_loss: 0.0106 - val_accuracy: 0.8946\n",
            "Epoch 88/2000\n",
            "4/4 - 0s - loss: 0.0060 - accuracy: 0.8371 - val_loss: 0.0106 - val_accuracy: 0.8946\n",
            "Epoch 89/2000\n",
            "4/4 - 0s - loss: 0.0062 - accuracy: 0.8411 - val_loss: 0.0106 - val_accuracy: 0.8941\n",
            "Epoch 90/2000\n",
            "4/4 - 0s - loss: 0.0061 - accuracy: 0.8381 - val_loss: 0.0106 - val_accuracy: 0.8960\n",
            "Epoch 91/2000\n",
            "4/4 - 0s - loss: 0.0058 - accuracy: 0.8579 - val_loss: 0.0106 - val_accuracy: 0.8980\n",
            "Epoch 92/2000\n",
            "4/4 - 0s - loss: 0.0063 - accuracy: 0.8525 - val_loss: 0.0106 - val_accuracy: 0.9000\n",
            "Epoch 93/2000\n",
            "4/4 - 0s - loss: 0.0059 - accuracy: 0.8411 - val_loss: 0.0105 - val_accuracy: 0.8990\n",
            "Epoch 94/2000\n",
            "4/4 - 0s - loss: 0.0058 - accuracy: 0.8515 - val_loss: 0.0105 - val_accuracy: 0.8995\n",
            "Epoch 95/2000\n",
            "4/4 - 0s - loss: 0.0057 - accuracy: 0.8485 - val_loss: 0.0105 - val_accuracy: 0.8990\n",
            "Epoch 96/2000\n",
            "4/4 - 0s - loss: 0.0061 - accuracy: 0.8441 - val_loss: 0.0105 - val_accuracy: 0.8975\n",
            "Epoch 97/2000\n",
            "4/4 - 0s - loss: 0.0057 - accuracy: 0.8485 - val_loss: 0.0106 - val_accuracy: 0.8970\n",
            "Epoch 98/2000\n",
            "4/4 - 0s - loss: 0.0060 - accuracy: 0.8431 - val_loss: 0.0107 - val_accuracy: 0.8980\n",
            "Epoch 99/2000\n",
            "4/4 - 0s - loss: 0.0058 - accuracy: 0.8460 - val_loss: 0.0106 - val_accuracy: 0.8965\n",
            "Epoch 100/2000\n",
            "4/4 - 0s - loss: 0.0059 - accuracy: 0.8450 - val_loss: 0.0106 - val_accuracy: 0.8965\n",
            "Epoch 101/2000\n",
            "4/4 - 0s - loss: 0.0058 - accuracy: 0.8396 - val_loss: 0.0105 - val_accuracy: 0.8970\n",
            "Epoch 102/2000\n",
            "4/4 - 0s - loss: 0.0057 - accuracy: 0.8421 - val_loss: 0.0106 - val_accuracy: 0.8960\n",
            "Epoch 103/2000\n",
            "4/4 - 0s - loss: 0.0062 - accuracy: 0.8431 - val_loss: 0.0107 - val_accuracy: 0.8941\n",
            "Epoch 104/2000\n",
            "4/4 - 0s - loss: 0.0055 - accuracy: 0.8564 - val_loss: 0.0108 - val_accuracy: 0.8950\n",
            "Epoch 105/2000\n",
            "4/4 - 0s - loss: 0.0057 - accuracy: 0.8559 - val_loss: 0.0108 - val_accuracy: 0.8975\n",
            "Epoch 106/2000\n",
            "4/4 - 0s - loss: 0.0062 - accuracy: 0.8366 - val_loss: 0.0108 - val_accuracy: 0.9015\n",
            "Epoch 107/2000\n",
            "4/4 - 0s - loss: 0.0058 - accuracy: 0.8470 - val_loss: 0.0107 - val_accuracy: 0.9045\n",
            "Epoch 108/2000\n",
            "4/4 - 0s - loss: 0.0062 - accuracy: 0.8381 - val_loss: 0.0106 - val_accuracy: 0.9030\n",
            "Epoch 109/2000\n",
            "4/4 - 0s - loss: 0.0058 - accuracy: 0.8450 - val_loss: 0.0106 - val_accuracy: 0.8995\n",
            "Epoch 110/2000\n",
            "4/4 - 0s - loss: 0.0058 - accuracy: 0.8431 - val_loss: 0.0107 - val_accuracy: 0.8975\n",
            "Epoch 111/2000\n",
            "4/4 - 0s - loss: 0.0056 - accuracy: 0.8520 - val_loss: 0.0107 - val_accuracy: 0.8960\n",
            "Epoch 112/2000\n",
            "4/4 - 0s - loss: 0.0058 - accuracy: 0.8441 - val_loss: 0.0108 - val_accuracy: 0.8950\n",
            "Epoch 113/2000\n",
            "4/4 - 0s - loss: 0.0059 - accuracy: 0.8465 - val_loss: 0.0107 - val_accuracy: 0.8936\n",
            "Epoch 114/2000\n",
            "4/4 - 0s - loss: 0.0058 - accuracy: 0.8455 - val_loss: 0.0107 - val_accuracy: 0.8931\n",
            "Epoch 115/2000\n",
            "4/4 - 0s - loss: 0.0055 - accuracy: 0.8505 - val_loss: 0.0106 - val_accuracy: 0.8911\n",
            "Epoch 116/2000\n",
            "4/4 - 0s - loss: 0.0063 - accuracy: 0.8455 - val_loss: 0.0106 - val_accuracy: 0.8921\n",
            "Epoch 117/2000\n",
            "4/4 - 0s - loss: 0.0061 - accuracy: 0.8525 - val_loss: 0.0106 - val_accuracy: 0.8931\n",
            "Epoch 118/2000\n",
            "4/4 - 0s - loss: 0.0060 - accuracy: 0.8515 - val_loss: 0.0106 - val_accuracy: 0.8946\n",
            "Epoch 119/2000\n",
            "4/4 - 0s - loss: 0.0060 - accuracy: 0.8401 - val_loss: 0.0107 - val_accuracy: 0.8955\n",
            "Epoch 120/2000\n",
            "4/4 - 0s - loss: 0.0061 - accuracy: 0.8475 - val_loss: 0.0107 - val_accuracy: 0.8965\n",
            "Epoch 121/2000\n",
            "4/4 - 0s - loss: 0.0055 - accuracy: 0.8564 - val_loss: 0.0108 - val_accuracy: 0.9010\n",
            "Epoch 122/2000\n",
            "4/4 - 0s - loss: 0.0060 - accuracy: 0.8450 - val_loss: 0.0108 - val_accuracy: 0.9030\n",
            "Epoch 123/2000\n",
            "4/4 - 0s - loss: 0.0061 - accuracy: 0.8460 - val_loss: 0.0107 - val_accuracy: 0.9020\n",
            "Epoch 124/2000\n",
            "4/4 - 0s - loss: 0.0059 - accuracy: 0.8530 - val_loss: 0.0107 - val_accuracy: 0.9005\n",
            "Epoch 125/2000\n",
            "4/4 - 0s - loss: 0.0058 - accuracy: 0.8599 - val_loss: 0.0107 - val_accuracy: 0.8985\n",
            "Epoch 126/2000\n",
            "4/4 - 0s - loss: 0.0059 - accuracy: 0.8515 - val_loss: 0.0107 - val_accuracy: 0.8955\n",
            "Epoch 127/2000\n",
            "4/4 - 0s - loss: 0.0059 - accuracy: 0.8485 - val_loss: 0.0106 - val_accuracy: 0.8921\n",
            "Epoch 128/2000\n",
            "4/4 - 0s - loss: 0.0058 - accuracy: 0.8530 - val_loss: 0.0106 - val_accuracy: 0.8881\n",
            "Epoch 129/2000\n",
            "4/4 - 0s - loss: 0.0060 - accuracy: 0.8455 - val_loss: 0.0106 - val_accuracy: 0.8856\n",
            "Epoch 130/2000\n",
            "4/4 - 0s - loss: 0.0059 - accuracy: 0.8465 - val_loss: 0.0107 - val_accuracy: 0.8871\n",
            "Epoch 131/2000\n",
            "4/4 - 0s - loss: 0.0057 - accuracy: 0.8520 - val_loss: 0.0107 - val_accuracy: 0.8886\n",
            "Epoch 132/2000\n",
            "4/4 - 0s - loss: 0.0060 - accuracy: 0.8475 - val_loss: 0.0107 - val_accuracy: 0.8931\n",
            "Epoch 133/2000\n",
            "4/4 - 0s - loss: 0.0060 - accuracy: 0.8584 - val_loss: 0.0107 - val_accuracy: 0.8936\n",
            "Epoch 134/2000\n",
            "4/4 - 0s - loss: 0.0058 - accuracy: 0.8485 - val_loss: 0.0106 - val_accuracy: 0.8936\n",
            "Epoch 135/2000\n",
            "4/4 - 0s - loss: 0.0060 - accuracy: 0.8579 - val_loss: 0.0106 - val_accuracy: 0.8950\n",
            "Epoch 136/2000\n",
            "4/4 - 0s - loss: 0.0059 - accuracy: 0.8510 - val_loss: 0.0106 - val_accuracy: 0.8975\n",
            "Epoch 137/2000\n",
            "4/4 - 0s - loss: 0.0057 - accuracy: 0.8490 - val_loss: 0.0106 - val_accuracy: 0.8975\n",
            "Epoch 138/2000\n",
            "4/4 - 0s - loss: 0.0057 - accuracy: 0.8475 - val_loss: 0.0107 - val_accuracy: 0.8990\n",
            "Epoch 139/2000\n",
            "4/4 - 0s - loss: 0.0061 - accuracy: 0.8396 - val_loss: 0.0108 - val_accuracy: 0.9000\n",
            "Epoch 140/2000\n",
            "4/4 - 0s - loss: 0.0057 - accuracy: 0.8441 - val_loss: 0.0108 - val_accuracy: 0.9025\n",
            "Epoch 141/2000\n",
            "4/4 - 0s - loss: 0.0057 - accuracy: 0.8460 - val_loss: 0.0108 - val_accuracy: 0.9025\n",
            "Epoch 142/2000\n",
            "4/4 - 0s - loss: 0.0060 - accuracy: 0.8411 - val_loss: 0.0107 - val_accuracy: 0.9010\n",
            "Epoch 143/2000\n",
            "4/4 - 0s - loss: 0.0057 - accuracy: 0.8475 - val_loss: 0.0107 - val_accuracy: 0.9005\n",
            "Epoch 144/2000\n",
            "4/4 - 0s - loss: 0.0059 - accuracy: 0.8406 - val_loss: 0.0108 - val_accuracy: 0.9020\n",
            "Epoch 145/2000\n",
            "4/4 - 0s - loss: 0.0060 - accuracy: 0.8361 - val_loss: 0.0108 - val_accuracy: 0.9025\n",
            "Epoch 146/2000\n",
            "4/4 - 0s - loss: 0.0060 - accuracy: 0.8450 - val_loss: 0.0107 - val_accuracy: 0.9000\n",
            "Epoch 147/2000\n",
            "4/4 - 0s - loss: 0.0058 - accuracy: 0.8416 - val_loss: 0.0106 - val_accuracy: 0.8990\n",
            "Epoch 148/2000\n",
            "4/4 - 0s - loss: 0.0057 - accuracy: 0.8520 - val_loss: 0.0105 - val_accuracy: 0.9000\n",
            "Epoch 149/2000\n",
            "4/4 - 0s - loss: 0.0060 - accuracy: 0.8530 - val_loss: 0.0106 - val_accuracy: 0.9025\n",
            "Epoch 150/2000\n",
            "4/4 - 0s - loss: 0.0057 - accuracy: 0.8510 - val_loss: 0.0106 - val_accuracy: 0.9045\n",
            "Epoch 151/2000\n",
            "4/4 - 0s - loss: 0.0060 - accuracy: 0.8470 - val_loss: 0.0106 - val_accuracy: 0.9059\n",
            "Epoch 152/2000\n",
            "4/4 - 0s - loss: 0.0061 - accuracy: 0.8465 - val_loss: 0.0105 - val_accuracy: 0.9050\n",
            "Epoch 153/2000\n",
            "4/4 - 0s - loss: 0.0060 - accuracy: 0.8475 - val_loss: 0.0106 - val_accuracy: 0.9050\n",
            "Epoch 154/2000\n",
            "4/4 - 0s - loss: 0.0057 - accuracy: 0.8465 - val_loss: 0.0106 - val_accuracy: 0.9015\n",
            "Epoch 155/2000\n",
            "4/4 - 0s - loss: 0.0060 - accuracy: 0.8441 - val_loss: 0.0107 - val_accuracy: 0.8985\n",
            "Epoch 156/2000\n",
            "4/4 - 0s - loss: 0.0059 - accuracy: 0.8416 - val_loss: 0.0107 - val_accuracy: 0.8990\n",
            "Epoch 157/2000\n",
            "4/4 - 0s - loss: 0.0059 - accuracy: 0.8520 - val_loss: 0.0107 - val_accuracy: 0.8985\n",
            "Epoch 158/2000\n",
            "4/4 - 0s - loss: 0.0058 - accuracy: 0.8480 - val_loss: 0.0106 - val_accuracy: 0.8970\n",
            "Epoch 159/2000\n",
            "4/4 - 0s - loss: 0.0059 - accuracy: 0.8520 - val_loss: 0.0107 - val_accuracy: 0.9000\n",
            "Epoch 160/2000\n",
            "4/4 - 0s - loss: 0.0059 - accuracy: 0.8460 - val_loss: 0.0107 - val_accuracy: 0.9020\n",
            "Epoch 161/2000\n",
            "4/4 - 0s - loss: 0.0057 - accuracy: 0.8540 - val_loss: 0.0107 - val_accuracy: 0.9020\n",
            "Epoch 162/2000\n",
            "4/4 - 0s - loss: 0.0060 - accuracy: 0.8441 - val_loss: 0.0107 - val_accuracy: 0.8990\n",
            "Epoch 163/2000\n",
            "4/4 - 0s - loss: 0.0058 - accuracy: 0.8569 - val_loss: 0.0107 - val_accuracy: 0.8960\n",
            "Epoch 164/2000\n",
            "4/4 - 0s - loss: 0.0060 - accuracy: 0.8500 - val_loss: 0.0107 - val_accuracy: 0.8931\n",
            "Epoch 165/2000\n",
            "4/4 - 0s - loss: 0.0055 - accuracy: 0.8401 - val_loss: 0.0107 - val_accuracy: 0.8886\n",
            "Epoch 166/2000\n",
            "4/4 - 0s - loss: 0.0063 - accuracy: 0.8446 - val_loss: 0.0107 - val_accuracy: 0.8881\n",
            "Epoch 167/2000\n",
            "4/4 - 0s - loss: 0.0060 - accuracy: 0.8436 - val_loss: 0.0106 - val_accuracy: 0.8881\n",
            "Epoch 168/2000\n",
            "4/4 - 0s - loss: 0.0060 - accuracy: 0.8441 - val_loss: 0.0106 - val_accuracy: 0.8896\n",
            "Epoch 169/2000\n",
            "4/4 - 0s - loss: 0.0062 - accuracy: 0.8520 - val_loss: 0.0106 - val_accuracy: 0.8906\n",
            "Epoch 170/2000\n",
            "4/4 - 0s - loss: 0.0059 - accuracy: 0.8515 - val_loss: 0.0106 - val_accuracy: 0.8921\n",
            "Epoch 171/2000\n",
            "4/4 - 0s - loss: 0.0059 - accuracy: 0.8495 - val_loss: 0.0106 - val_accuracy: 0.8911\n",
            "Epoch 172/2000\n",
            "4/4 - 0s - loss: 0.0056 - accuracy: 0.8589 - val_loss: 0.0106 - val_accuracy: 0.8926\n",
            "Epoch 173/2000\n",
            "4/4 - 0s - loss: 0.0056 - accuracy: 0.8589 - val_loss: 0.0105 - val_accuracy: 0.8950\n",
            "Epoch 174/2000\n",
            "4/4 - 0s - loss: 0.0056 - accuracy: 0.8485 - val_loss: 0.0105 - val_accuracy: 0.8950\n",
            "Epoch 175/2000\n",
            "4/4 - 0s - loss: 0.0058 - accuracy: 0.8431 - val_loss: 0.0106 - val_accuracy: 0.8946\n",
            "Epoch 176/2000\n",
            "4/4 - 0s - loss: 0.0059 - accuracy: 0.8421 - val_loss: 0.0107 - val_accuracy: 0.8936\n",
            "Epoch 177/2000\n",
            "4/4 - 0s - loss: 0.0063 - accuracy: 0.8584 - val_loss: 0.0107 - val_accuracy: 0.8936\n",
            "Epoch 178/2000\n",
            "4/4 - 0s - loss: 0.0057 - accuracy: 0.8540 - val_loss: 0.0107 - val_accuracy: 0.8946\n",
            "Epoch 179/2000\n",
            "4/4 - 0s - loss: 0.0060 - accuracy: 0.8446 - val_loss: 0.0107 - val_accuracy: 0.8936\n",
            "Epoch 180/2000\n",
            "4/4 - 0s - loss: 0.0060 - accuracy: 0.8574 - val_loss: 0.0106 - val_accuracy: 0.8946\n",
            "Epoch 181/2000\n",
            "4/4 - 0s - loss: 0.0061 - accuracy: 0.8401 - val_loss: 0.0106 - val_accuracy: 0.8960\n",
            "Epoch 182/2000\n",
            "4/4 - 0s - loss: 0.0060 - accuracy: 0.8446 - val_loss: 0.0106 - val_accuracy: 0.8990\n",
            "Epoch 183/2000\n",
            "4/4 - 0s - loss: 0.0059 - accuracy: 0.8475 - val_loss: 0.0106 - val_accuracy: 0.9000\n",
            "Epoch 184/2000\n",
            "4/4 - 0s - loss: 0.0057 - accuracy: 0.8396 - val_loss: 0.0106 - val_accuracy: 0.9015\n",
            "Epoch 185/2000\n",
            "4/4 - 0s - loss: 0.0059 - accuracy: 0.8564 - val_loss: 0.0105 - val_accuracy: 0.9030\n",
            "Epoch 186/2000\n",
            "4/4 - 0s - loss: 0.0060 - accuracy: 0.8446 - val_loss: 0.0105 - val_accuracy: 0.9015\n",
            "Epoch 187/2000\n",
            "4/4 - 0s - loss: 0.0060 - accuracy: 0.8421 - val_loss: 0.0105 - val_accuracy: 0.9010\n",
            "Epoch 188/2000\n",
            "4/4 - 0s - loss: 0.0062 - accuracy: 0.8470 - val_loss: 0.0105 - val_accuracy: 0.9030\n",
            "Epoch 189/2000\n",
            "4/4 - 0s - loss: 0.0060 - accuracy: 0.8351 - val_loss: 0.0106 - val_accuracy: 0.9045\n",
            "Epoch 190/2000\n",
            "4/4 - 0s - loss: 0.0058 - accuracy: 0.8406 - val_loss: 0.0106 - val_accuracy: 0.9069\n",
            "Epoch 191/2000\n",
            "4/4 - 0s - loss: 0.0060 - accuracy: 0.8421 - val_loss: 0.0107 - val_accuracy: 0.9079\n",
            "Epoch 192/2000\n",
            "4/4 - 0s - loss: 0.0056 - accuracy: 0.8470 - val_loss: 0.0107 - val_accuracy: 0.9069\n",
            "Epoch 193/2000\n",
            "4/4 - 0s - loss: 0.0060 - accuracy: 0.8515 - val_loss: 0.0107 - val_accuracy: 0.9040\n",
            "Epoch 194/2000\n",
            "4/4 - 0s - loss: 0.0060 - accuracy: 0.8421 - val_loss: 0.0106 - val_accuracy: 0.9005\n",
            "Epoch 195/2000\n",
            "4/4 - 0s - loss: 0.0058 - accuracy: 0.8455 - val_loss: 0.0105 - val_accuracy: 0.8980\n",
            "Epoch 196/2000\n",
            "4/4 - 0s - loss: 0.0061 - accuracy: 0.8411 - val_loss: 0.0105 - val_accuracy: 0.8960\n",
            "Epoch 197/2000\n",
            "4/4 - 0s - loss: 0.0058 - accuracy: 0.8450 - val_loss: 0.0106 - val_accuracy: 0.8965\n",
            "Epoch 198/2000\n",
            "4/4 - 0s - loss: 0.0060 - accuracy: 0.8460 - val_loss: 0.0107 - val_accuracy: 0.8980\n",
            "Epoch 199/2000\n",
            "4/4 - 0s - loss: 0.0061 - accuracy: 0.8421 - val_loss: 0.0107 - val_accuracy: 0.8990\n",
            "Epoch 200/2000\n",
            "4/4 - 0s - loss: 0.0061 - accuracy: 0.8530 - val_loss: 0.0106 - val_accuracy: 0.8985\n",
            "Epoch 201/2000\n",
            "4/4 - 0s - loss: 0.0056 - accuracy: 0.8510 - val_loss: 0.0106 - val_accuracy: 0.9000\n",
            "Epoch 202/2000\n",
            "4/4 - 0s - loss: 0.0059 - accuracy: 0.8480 - val_loss: 0.0106 - val_accuracy: 0.9020\n",
            "Epoch 203/2000\n",
            "4/4 - 0s - loss: 0.0056 - accuracy: 0.8416 - val_loss: 0.0106 - val_accuracy: 0.9045\n",
            "Epoch 204/2000\n",
            "4/4 - 0s - loss: 0.0055 - accuracy: 0.8421 - val_loss: 0.0107 - val_accuracy: 0.9050\n",
            "Epoch 205/2000\n",
            "4/4 - 0s - loss: 0.0058 - accuracy: 0.8530 - val_loss: 0.0107 - val_accuracy: 0.9050\n",
            "Epoch 206/2000\n",
            "4/4 - 0s - loss: 0.0061 - accuracy: 0.8446 - val_loss: 0.0107 - val_accuracy: 0.9040\n",
            "Epoch 207/2000\n",
            "4/4 - 0s - loss: 0.0059 - accuracy: 0.8465 - val_loss: 0.0106 - val_accuracy: 0.9020\n",
            "Epoch 208/2000\n",
            "4/4 - 0s - loss: 0.0058 - accuracy: 0.8495 - val_loss: 0.0106 - val_accuracy: 0.9025\n",
            "Epoch 209/2000\n",
            "4/4 - 0s - loss: 0.0056 - accuracy: 0.8450 - val_loss: 0.0107 - val_accuracy: 0.9010\n",
            "Epoch 210/2000\n",
            "4/4 - 0s - loss: 0.0059 - accuracy: 0.8465 - val_loss: 0.0107 - val_accuracy: 0.8995\n",
            "Epoch 211/2000\n",
            "4/4 - 0s - loss: 0.0058 - accuracy: 0.8574 - val_loss: 0.0107 - val_accuracy: 0.8995\n",
            "Epoch 212/2000\n",
            "4/4 - 0s - loss: 0.0057 - accuracy: 0.8589 - val_loss: 0.0107 - val_accuracy: 0.8980\n",
            "Epoch 213/2000\n",
            "4/4 - 0s - loss: 0.0062 - accuracy: 0.8535 - val_loss: 0.0106 - val_accuracy: 0.8970\n",
            "Epoch 214/2000\n",
            "4/4 - 0s - loss: 0.0062 - accuracy: 0.8356 - val_loss: 0.0106 - val_accuracy: 0.8965\n",
            "Epoch 215/2000\n",
            "4/4 - 0s - loss: 0.0058 - accuracy: 0.8401 - val_loss: 0.0106 - val_accuracy: 0.8980\n",
            "Epoch 216/2000\n",
            "4/4 - 0s - loss: 0.0058 - accuracy: 0.8574 - val_loss: 0.0106 - val_accuracy: 0.8990\n",
            "Epoch 217/2000\n",
            "4/4 - 0s - loss: 0.0056 - accuracy: 0.8599 - val_loss: 0.0106 - val_accuracy: 0.8995\n",
            "Epoch 218/2000\n",
            "4/4 - 0s - loss: 0.0061 - accuracy: 0.8431 - val_loss: 0.0105 - val_accuracy: 0.8995\n",
            "Epoch 219/2000\n",
            "4/4 - 0s - loss: 0.0059 - accuracy: 0.8366 - val_loss: 0.0104 - val_accuracy: 0.8975\n",
            "Epoch 220/2000\n",
            "4/4 - 0s - loss: 0.0060 - accuracy: 0.8361 - val_loss: 0.0104 - val_accuracy: 0.8965\n",
            "Epoch 221/2000\n",
            "4/4 - 0s - loss: 0.0062 - accuracy: 0.8446 - val_loss: 0.0105 - val_accuracy: 0.8946\n",
            "Epoch 222/2000\n",
            "4/4 - 0s - loss: 0.0060 - accuracy: 0.8475 - val_loss: 0.0106 - val_accuracy: 0.8950\n",
            "Epoch 223/2000\n",
            "4/4 - 0s - loss: 0.0060 - accuracy: 0.8629 - val_loss: 0.0106 - val_accuracy: 0.8985\n",
            "Epoch 224/2000\n",
            "4/4 - 0s - loss: 0.0058 - accuracy: 0.8470 - val_loss: 0.0105 - val_accuracy: 0.9010\n",
            "Epoch 225/2000\n",
            "4/4 - 0s - loss: 0.0060 - accuracy: 0.8485 - val_loss: 0.0105 - val_accuracy: 0.9010\n",
            "Epoch 226/2000\n",
            "4/4 - 0s - loss: 0.0060 - accuracy: 0.8381 - val_loss: 0.0106 - val_accuracy: 0.9010\n",
            "Epoch 227/2000\n",
            "4/4 - 0s - loss: 0.0059 - accuracy: 0.8505 - val_loss: 0.0106 - val_accuracy: 0.9015\n",
            "Epoch 228/2000\n",
            "4/4 - 0s - loss: 0.0059 - accuracy: 0.8441 - val_loss: 0.0107 - val_accuracy: 0.9015\n",
            "Epoch 229/2000\n",
            "4/4 - 0s - loss: 0.0060 - accuracy: 0.8436 - val_loss: 0.0106 - val_accuracy: 0.9005\n",
            "Epoch 230/2000\n",
            "4/4 - 0s - loss: 0.0060 - accuracy: 0.8396 - val_loss: 0.0106 - val_accuracy: 0.8990\n",
            "Epoch 231/2000\n",
            "4/4 - 0s - loss: 0.0059 - accuracy: 0.8381 - val_loss: 0.0107 - val_accuracy: 0.8955\n",
            "Epoch 232/2000\n",
            "4/4 - 0s - loss: 0.0058 - accuracy: 0.8470 - val_loss: 0.0107 - val_accuracy: 0.8950\n",
            "Epoch 233/2000\n",
            "4/4 - 0s - loss: 0.0060 - accuracy: 0.8540 - val_loss: 0.0107 - val_accuracy: 0.8941\n",
            "Epoch 234/2000\n",
            "4/4 - 0s - loss: 0.0059 - accuracy: 0.8421 - val_loss: 0.0106 - val_accuracy: 0.8926\n",
            "Epoch 235/2000\n",
            "4/4 - 0s - loss: 0.0059 - accuracy: 0.8470 - val_loss: 0.0106 - val_accuracy: 0.8926\n",
            "Epoch 236/2000\n",
            "4/4 - 0s - loss: 0.0059 - accuracy: 0.8396 - val_loss: 0.0106 - val_accuracy: 0.8916\n",
            "Epoch 237/2000\n",
            "4/4 - 0s - loss: 0.0061 - accuracy: 0.8431 - val_loss: 0.0106 - val_accuracy: 0.8950\n",
            "Epoch 238/2000\n",
            "4/4 - 0s - loss: 0.0059 - accuracy: 0.8436 - val_loss: 0.0107 - val_accuracy: 0.8965\n",
            "Epoch 239/2000\n",
            "4/4 - 0s - loss: 0.0061 - accuracy: 0.8371 - val_loss: 0.0107 - val_accuracy: 0.8980\n",
            "Epoch 240/2000\n",
            "4/4 - 0s - loss: 0.0061 - accuracy: 0.8421 - val_loss: 0.0108 - val_accuracy: 0.8965\n",
            "Epoch 241/2000\n",
            "4/4 - 0s - loss: 0.0058 - accuracy: 0.8550 - val_loss: 0.0108 - val_accuracy: 0.8965\n",
            "Epoch 242/2000\n",
            "4/4 - 0s - loss: 0.0059 - accuracy: 0.8574 - val_loss: 0.0108 - val_accuracy: 0.8980\n",
            "Epoch 243/2000\n",
            "4/4 - 0s - loss: 0.0060 - accuracy: 0.8530 - val_loss: 0.0107 - val_accuracy: 0.8990\n",
            "Epoch 244/2000\n",
            "4/4 - 0s - loss: 0.0062 - accuracy: 0.8545 - val_loss: 0.0107 - val_accuracy: 0.9000\n",
            "Epoch 245/2000\n",
            "4/4 - 0s - loss: 0.0058 - accuracy: 0.8559 - val_loss: 0.0107 - val_accuracy: 0.9000\n",
            "Epoch 246/2000\n",
            "4/4 - 0s - loss: 0.0061 - accuracy: 0.8441 - val_loss: 0.0106 - val_accuracy: 0.8975\n",
            "Epoch 247/2000\n",
            "4/4 - 0s - loss: 0.0060 - accuracy: 0.8525 - val_loss: 0.0106 - val_accuracy: 0.8960\n",
            "Epoch 248/2000\n",
            "4/4 - 0s - loss: 0.0059 - accuracy: 0.8500 - val_loss: 0.0106 - val_accuracy: 0.8965\n",
            "Epoch 249/2000\n",
            "4/4 - 0s - loss: 0.0057 - accuracy: 0.8480 - val_loss: 0.0107 - val_accuracy: 0.8965\n",
            "Epoch 250/2000\n",
            "4/4 - 0s - loss: 0.0057 - accuracy: 0.8446 - val_loss: 0.0107 - val_accuracy: 0.8985\n",
            "Epoch 251/2000\n",
            "4/4 - 0s - loss: 0.0058 - accuracy: 0.8515 - val_loss: 0.0107 - val_accuracy: 0.9010\n",
            "Epoch 252/2000\n",
            "4/4 - 0s - loss: 0.0062 - accuracy: 0.8505 - val_loss: 0.0107 - val_accuracy: 0.9020\n",
            "Epoch 253/2000\n",
            "4/4 - 0s - loss: 0.0060 - accuracy: 0.8535 - val_loss: 0.0107 - val_accuracy: 0.9045\n",
            "Epoch 254/2000\n",
            "4/4 - 0s - loss: 0.0061 - accuracy: 0.8446 - val_loss: 0.0107 - val_accuracy: 0.9035\n",
            "Epoch 255/2000\n",
            "4/4 - 0s - loss: 0.0062 - accuracy: 0.8421 - val_loss: 0.0107 - val_accuracy: 0.9050\n",
            "Epoch 256/2000\n",
            "4/4 - 0s - loss: 0.0060 - accuracy: 0.8347 - val_loss: 0.0108 - val_accuracy: 0.9030\n",
            "Epoch 257/2000\n",
            "4/4 - 0s - loss: 0.0065 - accuracy: 0.8361 - val_loss: 0.0108 - val_accuracy: 0.8985\n",
            "Epoch 258/2000\n",
            "4/4 - 0s - loss: 0.0058 - accuracy: 0.8554 - val_loss: 0.0108 - val_accuracy: 0.8960\n",
            "Epoch 259/2000\n",
            "4/4 - 0s - loss: 0.0060 - accuracy: 0.8545 - val_loss: 0.0108 - val_accuracy: 0.8975\n",
            "Epoch 260/2000\n",
            "4/4 - 0s - loss: 0.0058 - accuracy: 0.8515 - val_loss: 0.0108 - val_accuracy: 0.8990\n",
            "Epoch 261/2000\n",
            "4/4 - 0s - loss: 0.0057 - accuracy: 0.8505 - val_loss: 0.0107 - val_accuracy: 0.9000\n",
            "Epoch 262/2000\n",
            "4/4 - 0s - loss: 0.0057 - accuracy: 0.8599 - val_loss: 0.0106 - val_accuracy: 0.9000\n",
            "Epoch 263/2000\n",
            "4/4 - 0s - loss: 0.0057 - accuracy: 0.8485 - val_loss: 0.0106 - val_accuracy: 0.9000\n",
            "Epoch 264/2000\n",
            "4/4 - 0s - loss: 0.0058 - accuracy: 0.8455 - val_loss: 0.0106 - val_accuracy: 0.9000\n",
            "Epoch 265/2000\n",
            "4/4 - 0s - loss: 0.0055 - accuracy: 0.8525 - val_loss: 0.0106 - val_accuracy: 0.9020\n",
            "Epoch 266/2000\n",
            "4/4 - 0s - loss: 0.0061 - accuracy: 0.8421 - val_loss: 0.0106 - val_accuracy: 0.9015\n",
            "Epoch 267/2000\n",
            "4/4 - 0s - loss: 0.0059 - accuracy: 0.8337 - val_loss: 0.0107 - val_accuracy: 0.9010\n",
            "Epoch 268/2000\n",
            "4/4 - 0s - loss: 0.0059 - accuracy: 0.8436 - val_loss: 0.0108 - val_accuracy: 0.9000\n",
            "Epoch 269/2000\n",
            "4/4 - 0s - loss: 0.0058 - accuracy: 0.8594 - val_loss: 0.0108 - val_accuracy: 0.8975\n",
            "Epoch 270/2000\n",
            "4/4 - 0s - loss: 0.0057 - accuracy: 0.8470 - val_loss: 0.0107 - val_accuracy: 0.8980\n",
            "Epoch 271/2000\n",
            "4/4 - 0s - loss: 0.0060 - accuracy: 0.8366 - val_loss: 0.0107 - val_accuracy: 0.8995\n",
            "Epoch 272/2000\n",
            "4/4 - 0s - loss: 0.0059 - accuracy: 0.8436 - val_loss: 0.0106 - val_accuracy: 0.8995\n",
            "Epoch 273/2000\n",
            "4/4 - 0s - loss: 0.0059 - accuracy: 0.8455 - val_loss: 0.0106 - val_accuracy: 0.8995\n",
            "Epoch 274/2000\n",
            "4/4 - 0s - loss: 0.0057 - accuracy: 0.8500 - val_loss: 0.0106 - val_accuracy: 0.9010\n",
            "Epoch 275/2000\n",
            "4/4 - 0s - loss: 0.0058 - accuracy: 0.8416 - val_loss: 0.0108 - val_accuracy: 0.9054\n",
            "Epoch 276/2000\n",
            "4/4 - 0s - loss: 0.0058 - accuracy: 0.8515 - val_loss: 0.0109 - val_accuracy: 0.9074\n",
            "Epoch 277/2000\n",
            "4/4 - 0s - loss: 0.0057 - accuracy: 0.8594 - val_loss: 0.0108 - val_accuracy: 0.9074\n",
            "Epoch 278/2000\n",
            "4/4 - 0s - loss: 0.0057 - accuracy: 0.8421 - val_loss: 0.0106 - val_accuracy: 0.9069\n",
            "Epoch 279/2000\n",
            "4/4 - 0s - loss: 0.0059 - accuracy: 0.8332 - val_loss: 0.0105 - val_accuracy: 0.9040\n",
            "Epoch 280/2000\n",
            "4/4 - 0s - loss: 0.0058 - accuracy: 0.8465 - val_loss: 0.0104 - val_accuracy: 0.9020\n",
            "Epoch 281/2000\n",
            "4/4 - 0s - loss: 0.0059 - accuracy: 0.8540 - val_loss: 0.0104 - val_accuracy: 0.9010\n",
            "Epoch 282/2000\n",
            "4/4 - 0s - loss: 0.0060 - accuracy: 0.8431 - val_loss: 0.0105 - val_accuracy: 0.9015\n",
            "Epoch 283/2000\n",
            "4/4 - 0s - loss: 0.0057 - accuracy: 0.8614 - val_loss: 0.0105 - val_accuracy: 0.9020\n",
            "Epoch 284/2000\n",
            "4/4 - 0s - loss: 0.0059 - accuracy: 0.8475 - val_loss: 0.0105 - val_accuracy: 0.9035\n",
            "Epoch 285/2000\n",
            "4/4 - 0s - loss: 0.0061 - accuracy: 0.8406 - val_loss: 0.0105 - val_accuracy: 0.9020\n",
            "Epoch 286/2000\n",
            "4/4 - 0s - loss: 0.0059 - accuracy: 0.8480 - val_loss: 0.0105 - val_accuracy: 0.9015\n",
            "Epoch 287/2000\n",
            "4/4 - 0s - loss: 0.0057 - accuracy: 0.8525 - val_loss: 0.0105 - val_accuracy: 0.9000\n",
            "Epoch 288/2000\n",
            "4/4 - 0s - loss: 0.0057 - accuracy: 0.8559 - val_loss: 0.0106 - val_accuracy: 0.8995\n",
            "Epoch 289/2000\n",
            "4/4 - 0s - loss: 0.0061 - accuracy: 0.8356 - val_loss: 0.0106 - val_accuracy: 0.9010\n",
            "Epoch 290/2000\n",
            "4/4 - 0s - loss: 0.0059 - accuracy: 0.8386 - val_loss: 0.0106 - val_accuracy: 0.9020\n",
            "Epoch 291/2000\n",
            "4/4 - 0s - loss: 0.0061 - accuracy: 0.8386 - val_loss: 0.0106 - val_accuracy: 0.9020\n",
            "Epoch 292/2000\n",
            "4/4 - 0s - loss: 0.0061 - accuracy: 0.8510 - val_loss: 0.0106 - val_accuracy: 0.9005\n",
            "Epoch 293/2000\n",
            "4/4 - 0s - loss: 0.0059 - accuracy: 0.8391 - val_loss: 0.0105 - val_accuracy: 0.8985\n",
            "Epoch 294/2000\n",
            "4/4 - 0s - loss: 0.0059 - accuracy: 0.8426 - val_loss: 0.0105 - val_accuracy: 0.8980\n",
            "Epoch 295/2000\n",
            "4/4 - 0s - loss: 0.0056 - accuracy: 0.8455 - val_loss: 0.0105 - val_accuracy: 0.8985\n",
            "Epoch 296/2000\n",
            "4/4 - 0s - loss: 0.0058 - accuracy: 0.8460 - val_loss: 0.0106 - val_accuracy: 0.9005\n",
            "Epoch 297/2000\n",
            "4/4 - 0s - loss: 0.0058 - accuracy: 0.8436 - val_loss: 0.0106 - val_accuracy: 0.9035\n",
            "Epoch 298/2000\n",
            "4/4 - 0s - loss: 0.0061 - accuracy: 0.8540 - val_loss: 0.0106 - val_accuracy: 0.9040\n",
            "Epoch 299/2000\n",
            "4/4 - 0s - loss: 0.0058 - accuracy: 0.8515 - val_loss: 0.0107 - val_accuracy: 0.9045\n",
            "Epoch 300/2000\n",
            "4/4 - 0s - loss: 0.0055 - accuracy: 0.8480 - val_loss: 0.0107 - val_accuracy: 0.9035\n",
            "Epoch 301/2000\n",
            "4/4 - 0s - loss: 0.0056 - accuracy: 0.8470 - val_loss: 0.0107 - val_accuracy: 0.9020\n",
            "Epoch 302/2000\n",
            "4/4 - 0s - loss: 0.0059 - accuracy: 0.8460 - val_loss: 0.0107 - val_accuracy: 0.9000\n",
            "Epoch 303/2000\n",
            "4/4 - 0s - loss: 0.0062 - accuracy: 0.8441 - val_loss: 0.0106 - val_accuracy: 0.8980\n",
            "Epoch 304/2000\n",
            "4/4 - 0s - loss: 0.0056 - accuracy: 0.8436 - val_loss: 0.0106 - val_accuracy: 0.8975\n",
            "Epoch 305/2000\n",
            "4/4 - 0s - loss: 0.0058 - accuracy: 0.8436 - val_loss: 0.0105 - val_accuracy: 0.8955\n",
            "Epoch 306/2000\n",
            "4/4 - 0s - loss: 0.0059 - accuracy: 0.8579 - val_loss: 0.0105 - val_accuracy: 0.8950\n",
            "Epoch 307/2000\n",
            "4/4 - 0s - loss: 0.0059 - accuracy: 0.8475 - val_loss: 0.0105 - val_accuracy: 0.8950\n",
            "Epoch 308/2000\n",
            "4/4 - 0s - loss: 0.0059 - accuracy: 0.8356 - val_loss: 0.0106 - val_accuracy: 0.8946\n",
            "Epoch 309/2000\n",
            "4/4 - 0s - loss: 0.0058 - accuracy: 0.8455 - val_loss: 0.0106 - val_accuracy: 0.8955\n",
            "Epoch 310/2000\n",
            "4/4 - 0s - loss: 0.0059 - accuracy: 0.8510 - val_loss: 0.0107 - val_accuracy: 0.8975\n",
            "Epoch 311/2000\n",
            "4/4 - 0s - loss: 0.0060 - accuracy: 0.8421 - val_loss: 0.0107 - val_accuracy: 0.8980\n",
            "Epoch 312/2000\n",
            "4/4 - 0s - loss: 0.0059 - accuracy: 0.8515 - val_loss: 0.0107 - val_accuracy: 0.8970\n",
            "Epoch 313/2000\n",
            "4/4 - 0s - loss: 0.0057 - accuracy: 0.8584 - val_loss: 0.0106 - val_accuracy: 0.8965\n",
            "Epoch 314/2000\n",
            "4/4 - 0s - loss: 0.0059 - accuracy: 0.8564 - val_loss: 0.0107 - val_accuracy: 0.8990\n",
            "Epoch 315/2000\n",
            "4/4 - 0s - loss: 0.0058 - accuracy: 0.8559 - val_loss: 0.0107 - val_accuracy: 0.9005\n",
            "Epoch 316/2000\n",
            "4/4 - 0s - loss: 0.0059 - accuracy: 0.8480 - val_loss: 0.0107 - val_accuracy: 0.9035\n",
            "Epoch 317/2000\n",
            "4/4 - 0s - loss: 0.0058 - accuracy: 0.8460 - val_loss: 0.0108 - val_accuracy: 0.9030\n",
            "Epoch 318/2000\n",
            "4/4 - 0s - loss: 0.0062 - accuracy: 0.8391 - val_loss: 0.0108 - val_accuracy: 0.9015\n",
            "Epoch 319/2000\n",
            "4/4 - 0s - loss: 0.0057 - accuracy: 0.8406 - val_loss: 0.0107 - val_accuracy: 0.9010\n",
            "Epoch 320/2000\n",
            "4/4 - 0s - loss: 0.0059 - accuracy: 0.8490 - val_loss: 0.0106 - val_accuracy: 0.9020\n",
            "Epoch 321/2000\n",
            "4/4 - 0s - loss: 0.0059 - accuracy: 0.8510 - val_loss: 0.0106 - val_accuracy: 0.9005\n",
            "Epoch 322/2000\n",
            "4/4 - 0s - loss: 0.0058 - accuracy: 0.8490 - val_loss: 0.0106 - val_accuracy: 0.9020\n",
            "Epoch 323/2000\n",
            "4/4 - 0s - loss: 0.0059 - accuracy: 0.8525 - val_loss: 0.0107 - val_accuracy: 0.9040\n",
            "Epoch 324/2000\n",
            "4/4 - 0s - loss: 0.0058 - accuracy: 0.8564 - val_loss: 0.0107 - val_accuracy: 0.9040\n",
            "Epoch 325/2000\n",
            "4/4 - 0s - loss: 0.0060 - accuracy: 0.8559 - val_loss: 0.0106 - val_accuracy: 0.9035\n",
            "Epoch 326/2000\n",
            "4/4 - 0s - loss: 0.0060 - accuracy: 0.8366 - val_loss: 0.0105 - val_accuracy: 0.9005\n",
            "Epoch 327/2000\n",
            "4/4 - 0s - loss: 0.0057 - accuracy: 0.8485 - val_loss: 0.0105 - val_accuracy: 0.8980\n",
            "Epoch 328/2000\n",
            "4/4 - 0s - loss: 0.0062 - accuracy: 0.8381 - val_loss: 0.0105 - val_accuracy: 0.8970\n",
            "Epoch 329/2000\n",
            "4/4 - 0s - loss: 0.0062 - accuracy: 0.8540 - val_loss: 0.0106 - val_accuracy: 0.8980\n",
            "Epoch 330/2000\n",
            "4/4 - 0s - loss: 0.0058 - accuracy: 0.8530 - val_loss: 0.0107 - val_accuracy: 0.8990\n",
            "Epoch 331/2000\n",
            "4/4 - 0s - loss: 0.0059 - accuracy: 0.8441 - val_loss: 0.0107 - val_accuracy: 0.9005\n",
            "Epoch 332/2000\n",
            "4/4 - 0s - loss: 0.0058 - accuracy: 0.8525 - val_loss: 0.0107 - val_accuracy: 0.9005\n",
            "Epoch 333/2000\n",
            "4/4 - 0s - loss: 0.0061 - accuracy: 0.8446 - val_loss: 0.0106 - val_accuracy: 0.8975\n",
            "Epoch 334/2000\n",
            "4/4 - 0s - loss: 0.0058 - accuracy: 0.8554 - val_loss: 0.0106 - val_accuracy: 0.8970\n",
            "Epoch 335/2000\n",
            "4/4 - 0s - loss: 0.0062 - accuracy: 0.8317 - val_loss: 0.0107 - val_accuracy: 0.8941\n",
            "Epoch 336/2000\n",
            "4/4 - 0s - loss: 0.0057 - accuracy: 0.8569 - val_loss: 0.0107 - val_accuracy: 0.8941\n",
            "Epoch 337/2000\n",
            "4/4 - 0s - loss: 0.0056 - accuracy: 0.8515 - val_loss: 0.0107 - val_accuracy: 0.8950\n",
            "Epoch 338/2000\n",
            "4/4 - 0s - loss: 0.0059 - accuracy: 0.8540 - val_loss: 0.0107 - val_accuracy: 0.8946\n",
            "Epoch 339/2000\n",
            "4/4 - 0s - loss: 0.0057 - accuracy: 0.8545 - val_loss: 0.0107 - val_accuracy: 0.8931\n",
            "Epoch 340/2000\n",
            "4/4 - 0s - loss: 0.0058 - accuracy: 0.8495 - val_loss: 0.0107 - val_accuracy: 0.8926\n",
            "Epoch 341/2000\n",
            "4/4 - 0s - loss: 0.0059 - accuracy: 0.8450 - val_loss: 0.0106 - val_accuracy: 0.8926\n",
            "Epoch 342/2000\n",
            "4/4 - 0s - loss: 0.0059 - accuracy: 0.8510 - val_loss: 0.0106 - val_accuracy: 0.8911\n",
            "Epoch 343/2000\n",
            "4/4 - 0s - loss: 0.0060 - accuracy: 0.8401 - val_loss: 0.0107 - val_accuracy: 0.8916\n",
            "Epoch 344/2000\n",
            "4/4 - 0s - loss: 0.0059 - accuracy: 0.8480 - val_loss: 0.0107 - val_accuracy: 0.8950\n",
            "Epoch 345/2000\n",
            "4/4 - 0s - loss: 0.0057 - accuracy: 0.8545 - val_loss: 0.0107 - val_accuracy: 0.8970\n",
            "Epoch 346/2000\n",
            "4/4 - 0s - loss: 0.0060 - accuracy: 0.8342 - val_loss: 0.0107 - val_accuracy: 0.9000\n",
            "Epoch 347/2000\n",
            "4/4 - 0s - loss: 0.0062 - accuracy: 0.8450 - val_loss: 0.0107 - val_accuracy: 0.9020\n",
            "Epoch 348/2000\n",
            "4/4 - 0s - loss: 0.0059 - accuracy: 0.8510 - val_loss: 0.0108 - val_accuracy: 0.9030\n",
            "Epoch 349/2000\n",
            "4/4 - 0s - loss: 0.0060 - accuracy: 0.8490 - val_loss: 0.0108 - val_accuracy: 0.8995\n",
            "Epoch 350/2000\n",
            "4/4 - 0s - loss: 0.0060 - accuracy: 0.8475 - val_loss: 0.0108 - val_accuracy: 0.8941\n",
            "Epoch 351/2000\n",
            "4/4 - 0s - loss: 0.0058 - accuracy: 0.8540 - val_loss: 0.0107 - val_accuracy: 0.8926\n",
            "Epoch 352/2000\n",
            "4/4 - 0s - loss: 0.0059 - accuracy: 0.8441 - val_loss: 0.0106 - val_accuracy: 0.8931\n",
            "Epoch 353/2000\n",
            "4/4 - 0s - loss: 0.0061 - accuracy: 0.8505 - val_loss: 0.0106 - val_accuracy: 0.8960\n",
            "Epoch 354/2000\n",
            "4/4 - 0s - loss: 0.0059 - accuracy: 0.8510 - val_loss: 0.0107 - val_accuracy: 0.8975\n",
            "Epoch 355/2000\n",
            "4/4 - 0s - loss: 0.0055 - accuracy: 0.8535 - val_loss: 0.0108 - val_accuracy: 0.8985\n",
            "Epoch 356/2000\n",
            "4/4 - 0s - loss: 0.0059 - accuracy: 0.8540 - val_loss: 0.0107 - val_accuracy: 0.8975\n",
            "Epoch 357/2000\n",
            "4/4 - 0s - loss: 0.0062 - accuracy: 0.8386 - val_loss: 0.0107 - val_accuracy: 0.8975\n",
            "Epoch 358/2000\n",
            "4/4 - 0s - loss: 0.0060 - accuracy: 0.8416 - val_loss: 0.0107 - val_accuracy: 0.9000\n",
            "Epoch 359/2000\n",
            "4/4 - 0s - loss: 0.0062 - accuracy: 0.8525 - val_loss: 0.0108 - val_accuracy: 0.9025\n",
            "Epoch 360/2000\n",
            "4/4 - 0s - loss: 0.0058 - accuracy: 0.8342 - val_loss: 0.0107 - val_accuracy: 0.9000\n",
            "Epoch 361/2000\n",
            "4/4 - 0s - loss: 0.0057 - accuracy: 0.8540 - val_loss: 0.0107 - val_accuracy: 0.8960\n",
            "Epoch 362/2000\n",
            "4/4 - 0s - loss: 0.0058 - accuracy: 0.8550 - val_loss: 0.0107 - val_accuracy: 0.8936\n",
            "Epoch 363/2000\n",
            "4/4 - 0s - loss: 0.0059 - accuracy: 0.8530 - val_loss: 0.0106 - val_accuracy: 0.8926\n",
            "Epoch 364/2000\n",
            "4/4 - 0s - loss: 0.0057 - accuracy: 0.8455 - val_loss: 0.0106 - val_accuracy: 0.8911\n",
            "Epoch 365/2000\n",
            "4/4 - 0s - loss: 0.0061 - accuracy: 0.8589 - val_loss: 0.0106 - val_accuracy: 0.8911\n",
            "Epoch 366/2000\n",
            "4/4 - 0s - loss: 0.0061 - accuracy: 0.8500 - val_loss: 0.0106 - val_accuracy: 0.8941\n",
            "Epoch 367/2000\n",
            "4/4 - 0s - loss: 0.0058 - accuracy: 0.8485 - val_loss: 0.0107 - val_accuracy: 0.8975\n",
            "Epoch 368/2000\n",
            "4/4 - 0s - loss: 0.0062 - accuracy: 0.8406 - val_loss: 0.0108 - val_accuracy: 0.8975\n",
            "Epoch 369/2000\n",
            "4/4 - 0s - loss: 0.0059 - accuracy: 0.8545 - val_loss: 0.0108 - val_accuracy: 0.9005\n",
            "Epoch 370/2000\n",
            "4/4 - 0s - loss: 0.0061 - accuracy: 0.8391 - val_loss: 0.0108 - val_accuracy: 0.9010\n",
            "Epoch 371/2000\n",
            "4/4 - 0s - loss: 0.0060 - accuracy: 0.8386 - val_loss: 0.0107 - val_accuracy: 0.9000\n",
            "Epoch 372/2000\n",
            "4/4 - 0s - loss: 0.0062 - accuracy: 0.8421 - val_loss: 0.0106 - val_accuracy: 0.8985\n",
            "Epoch 373/2000\n",
            "4/4 - 0s - loss: 0.0058 - accuracy: 0.8520 - val_loss: 0.0106 - val_accuracy: 0.8975\n",
            "Epoch 374/2000\n",
            "4/4 - 0s - loss: 0.0060 - accuracy: 0.8490 - val_loss: 0.0105 - val_accuracy: 0.8980\n",
            "Epoch 375/2000\n",
            "4/4 - 0s - loss: 0.0055 - accuracy: 0.8584 - val_loss: 0.0106 - val_accuracy: 0.9005\n",
            "Epoch 376/2000\n",
            "4/4 - 0s - loss: 0.0058 - accuracy: 0.8470 - val_loss: 0.0106 - val_accuracy: 0.9000\n",
            "Epoch 377/2000\n",
            "4/4 - 0s - loss: 0.0055 - accuracy: 0.8465 - val_loss: 0.0107 - val_accuracy: 0.8995\n",
            "Epoch 378/2000\n",
            "4/4 - 0s - loss: 0.0060 - accuracy: 0.8485 - val_loss: 0.0108 - val_accuracy: 0.8970\n",
            "Epoch 379/2000\n",
            "4/4 - 0s - loss: 0.0060 - accuracy: 0.8525 - val_loss: 0.0108 - val_accuracy: 0.8970\n",
            "Epoch 380/2000\n",
            "4/4 - 0s - loss: 0.0061 - accuracy: 0.8485 - val_loss: 0.0107 - val_accuracy: 0.8970\n",
            "Epoch 381/2000\n",
            "4/4 - 0s - loss: 0.0060 - accuracy: 0.8480 - val_loss: 0.0107 - val_accuracy: 0.8946\n",
            "Epoch 382/2000\n",
            "4/4 - 0s - loss: 0.0055 - accuracy: 0.8515 - val_loss: 0.0107 - val_accuracy: 0.8946\n",
            "Epoch 383/2000\n",
            "4/4 - 0s - loss: 0.0061 - accuracy: 0.8569 - val_loss: 0.0106 - val_accuracy: 0.8946\n",
            "Epoch 384/2000\n",
            "4/4 - 0s - loss: 0.0057 - accuracy: 0.8495 - val_loss: 0.0106 - val_accuracy: 0.8926\n",
            "Epoch 385/2000\n",
            "4/4 - 0s - loss: 0.0059 - accuracy: 0.8490 - val_loss: 0.0107 - val_accuracy: 0.8921\n",
            "Epoch 386/2000\n",
            "4/4 - 0s - loss: 0.0060 - accuracy: 0.8406 - val_loss: 0.0107 - val_accuracy: 0.8916\n",
            "Epoch 387/2000\n",
            "4/4 - 0s - loss: 0.0060 - accuracy: 0.8520 - val_loss: 0.0108 - val_accuracy: 0.8926\n",
            "Epoch 388/2000\n",
            "4/4 - 0s - loss: 0.0061 - accuracy: 0.8441 - val_loss: 0.0108 - val_accuracy: 0.8936\n",
            "Epoch 389/2000\n",
            "4/4 - 0s - loss: 0.0058 - accuracy: 0.8500 - val_loss: 0.0108 - val_accuracy: 0.8970\n",
            "Epoch 390/2000\n",
            "4/4 - 0s - loss: 0.0057 - accuracy: 0.8550 - val_loss: 0.0108 - val_accuracy: 0.9000\n",
            "Epoch 391/2000\n",
            "4/4 - 0s - loss: 0.0057 - accuracy: 0.8564 - val_loss: 0.0108 - val_accuracy: 0.9020\n",
            "Epoch 392/2000\n",
            "4/4 - 0s - loss: 0.0058 - accuracy: 0.8505 - val_loss: 0.0108 - val_accuracy: 0.9015\n",
            "Epoch 393/2000\n",
            "4/4 - 0s - loss: 0.0060 - accuracy: 0.8505 - val_loss: 0.0108 - val_accuracy: 0.9020\n",
            "Epoch 394/2000\n",
            "4/4 - 0s - loss: 0.0059 - accuracy: 0.8505 - val_loss: 0.0109 - val_accuracy: 0.9010\n",
            "Epoch 395/2000\n",
            "4/4 - 0s - loss: 0.0058 - accuracy: 0.8431 - val_loss: 0.0108 - val_accuracy: 0.8985\n",
            "Epoch 396/2000\n",
            "4/4 - 0s - loss: 0.0059 - accuracy: 0.8421 - val_loss: 0.0108 - val_accuracy: 0.8970\n",
            "Epoch 397/2000\n",
            "4/4 - 0s - loss: 0.0060 - accuracy: 0.8391 - val_loss: 0.0108 - val_accuracy: 0.8960\n",
            "Epoch 398/2000\n",
            "4/4 - 0s - loss: 0.0058 - accuracy: 0.8485 - val_loss: 0.0107 - val_accuracy: 0.8941\n",
            "Epoch 399/2000\n",
            "4/4 - 0s - loss: 0.0060 - accuracy: 0.8396 - val_loss: 0.0107 - val_accuracy: 0.8950\n",
            "Epoch 400/2000\n",
            "4/4 - 0s - loss: 0.0057 - accuracy: 0.8564 - val_loss: 0.0107 - val_accuracy: 0.8960\n",
            "Epoch 401/2000\n",
            "4/4 - 0s - loss: 0.0059 - accuracy: 0.8505 - val_loss: 0.0107 - val_accuracy: 0.8970\n",
            "Epoch 402/2000\n",
            "4/4 - 0s - loss: 0.0059 - accuracy: 0.8564 - val_loss: 0.0108 - val_accuracy: 0.8960\n",
            "Epoch 403/2000\n",
            "4/4 - 0s - loss: 0.0059 - accuracy: 0.8446 - val_loss: 0.0108 - val_accuracy: 0.8965\n",
            "Epoch 404/2000\n",
            "4/4 - 0s - loss: 0.0060 - accuracy: 0.8431 - val_loss: 0.0108 - val_accuracy: 0.8965\n",
            "Epoch 405/2000\n",
            "4/4 - 0s - loss: 0.0058 - accuracy: 0.8446 - val_loss: 0.0108 - val_accuracy: 0.8950\n",
            "Epoch 406/2000\n",
            "4/4 - 0s - loss: 0.0061 - accuracy: 0.8436 - val_loss: 0.0107 - val_accuracy: 0.8936\n",
            "Epoch 407/2000\n",
            "4/4 - 0s - loss: 0.0060 - accuracy: 0.8416 - val_loss: 0.0107 - val_accuracy: 0.8946\n",
            "Epoch 408/2000\n",
            "4/4 - 0s - loss: 0.0058 - accuracy: 0.8475 - val_loss: 0.0107 - val_accuracy: 0.8955\n",
            "Epoch 409/2000\n",
            "4/4 - 0s - loss: 0.0059 - accuracy: 0.8574 - val_loss: 0.0107 - val_accuracy: 0.8950\n",
            "Epoch 410/2000\n",
            "4/4 - 0s - loss: 0.0060 - accuracy: 0.8490 - val_loss: 0.0107 - val_accuracy: 0.8975\n",
            "Epoch 411/2000\n",
            "4/4 - 0s - loss: 0.0057 - accuracy: 0.8495 - val_loss: 0.0107 - val_accuracy: 0.8980\n",
            "Epoch 412/2000\n",
            "4/4 - 0s - loss: 0.0056 - accuracy: 0.8540 - val_loss: 0.0108 - val_accuracy: 0.9010\n",
            "Epoch 413/2000\n",
            "4/4 - 0s - loss: 0.0058 - accuracy: 0.8421 - val_loss: 0.0107 - val_accuracy: 0.9015\n",
            "Epoch 414/2000\n",
            "4/4 - 0s - loss: 0.0059 - accuracy: 0.8515 - val_loss: 0.0107 - val_accuracy: 0.9025\n",
            "Epoch 415/2000\n",
            "4/4 - 0s - loss: 0.0060 - accuracy: 0.8475 - val_loss: 0.0107 - val_accuracy: 0.9010\n",
            "Epoch 416/2000\n",
            "4/4 - 0s - loss: 0.0062 - accuracy: 0.8480 - val_loss: 0.0107 - val_accuracy: 0.9010\n",
            "Epoch 417/2000\n",
            "4/4 - 0s - loss: 0.0061 - accuracy: 0.8436 - val_loss: 0.0107 - val_accuracy: 0.9010\n",
            "Epoch 418/2000\n",
            "4/4 - 0s - loss: 0.0060 - accuracy: 0.8559 - val_loss: 0.0108 - val_accuracy: 0.9000\n",
            "Epoch 419/2000\n",
            "4/4 - 0s - loss: 0.0060 - accuracy: 0.8500 - val_loss: 0.0107 - val_accuracy: 0.9015\n",
            "Epoch 420/2000\n",
            "4/4 - 0s - loss: 0.0056 - accuracy: 0.8436 - val_loss: 0.0107 - val_accuracy: 0.9005\n",
            "Epoch 421/2000\n",
            "4/4 - 0s - loss: 0.0064 - accuracy: 0.8396 - val_loss: 0.0106 - val_accuracy: 0.8980\n",
            "Epoch 422/2000\n",
            "4/4 - 0s - loss: 0.0058 - accuracy: 0.8455 - val_loss: 0.0106 - val_accuracy: 0.8965\n",
            "Epoch 423/2000\n",
            "4/4 - 0s - loss: 0.0056 - accuracy: 0.8495 - val_loss: 0.0106 - val_accuracy: 0.8941\n",
            "Epoch 424/2000\n",
            "4/4 - 0s - loss: 0.0060 - accuracy: 0.8450 - val_loss: 0.0106 - val_accuracy: 0.8936\n",
            "Epoch 425/2000\n",
            "4/4 - 0s - loss: 0.0060 - accuracy: 0.8312 - val_loss: 0.0107 - val_accuracy: 0.8916\n",
            "Epoch 426/2000\n",
            "4/4 - 0s - loss: 0.0058 - accuracy: 0.8460 - val_loss: 0.0107 - val_accuracy: 0.8911\n",
            "Epoch 427/2000\n",
            "4/4 - 0s - loss: 0.0056 - accuracy: 0.8495 - val_loss: 0.0108 - val_accuracy: 0.8926\n",
            "Epoch 428/2000\n",
            "4/4 - 0s - loss: 0.0058 - accuracy: 0.8465 - val_loss: 0.0108 - val_accuracy: 0.8946\n",
            "Epoch 429/2000\n",
            "4/4 - 0s - loss: 0.0058 - accuracy: 0.8564 - val_loss: 0.0108 - val_accuracy: 0.8950\n",
            "Epoch 430/2000\n",
            "4/4 - 0s - loss: 0.0059 - accuracy: 0.8441 - val_loss: 0.0108 - val_accuracy: 0.8960\n",
            "Epoch 431/2000\n",
            "4/4 - 0s - loss: 0.0058 - accuracy: 0.8510 - val_loss: 0.0108 - val_accuracy: 0.8970\n",
            "Epoch 432/2000\n",
            "4/4 - 0s - loss: 0.0060 - accuracy: 0.8559 - val_loss: 0.0108 - val_accuracy: 0.8965\n",
            "Epoch 433/2000\n",
            "4/4 - 0s - loss: 0.0061 - accuracy: 0.8386 - val_loss: 0.0108 - val_accuracy: 0.8955\n",
            "Epoch 434/2000\n",
            "4/4 - 0s - loss: 0.0060 - accuracy: 0.8381 - val_loss: 0.0108 - val_accuracy: 0.8941\n",
            "Epoch 435/2000\n",
            "4/4 - 0s - loss: 0.0057 - accuracy: 0.8475 - val_loss: 0.0108 - val_accuracy: 0.8946\n",
            "Epoch 436/2000\n",
            "4/4 - 0s - loss: 0.0059 - accuracy: 0.8505 - val_loss: 0.0108 - val_accuracy: 0.8965\n",
            "Epoch 437/2000\n",
            "4/4 - 0s - loss: 0.0061 - accuracy: 0.8545 - val_loss: 0.0108 - val_accuracy: 0.8980\n",
            "Epoch 438/2000\n",
            "4/4 - 0s - loss: 0.0057 - accuracy: 0.8455 - val_loss: 0.0108 - val_accuracy: 0.8975\n",
            "Epoch 439/2000\n",
            "4/4 - 0s - loss: 0.0060 - accuracy: 0.8579 - val_loss: 0.0108 - val_accuracy: 0.8970\n",
            "Epoch 440/2000\n",
            "4/4 - 0s - loss: 0.0059 - accuracy: 0.8500 - val_loss: 0.0109 - val_accuracy: 0.8985\n",
            "Epoch 441/2000\n",
            "4/4 - 0s - loss: 0.0057 - accuracy: 0.8475 - val_loss: 0.0109 - val_accuracy: 0.8980\n",
            "Epoch 442/2000\n",
            "4/4 - 0s - loss: 0.0058 - accuracy: 0.8510 - val_loss: 0.0109 - val_accuracy: 0.8970\n",
            "Epoch 443/2000\n",
            "4/4 - 0s - loss: 0.0058 - accuracy: 0.8490 - val_loss: 0.0109 - val_accuracy: 0.8975\n",
            "Epoch 444/2000\n",
            "4/4 - 0s - loss: 0.0056 - accuracy: 0.8490 - val_loss: 0.0109 - val_accuracy: 0.8980\n",
            "Epoch 445/2000\n",
            "4/4 - 0s - loss: 0.0061 - accuracy: 0.8455 - val_loss: 0.0109 - val_accuracy: 0.8980\n",
            "Epoch 446/2000\n",
            "4/4 - 0s - loss: 0.0061 - accuracy: 0.8515 - val_loss: 0.0108 - val_accuracy: 0.8985\n",
            "Epoch 447/2000\n",
            "4/4 - 0s - loss: 0.0058 - accuracy: 0.8465 - val_loss: 0.0108 - val_accuracy: 0.8955\n",
            "Epoch 448/2000\n",
            "4/4 - 0s - loss: 0.0059 - accuracy: 0.8475 - val_loss: 0.0108 - val_accuracy: 0.8926\n",
            "Epoch 449/2000\n",
            "4/4 - 0s - loss: 0.0059 - accuracy: 0.8475 - val_loss: 0.0109 - val_accuracy: 0.8901\n",
            "Epoch 450/2000\n",
            "4/4 - 0s - loss: 0.0057 - accuracy: 0.8530 - val_loss: 0.0108 - val_accuracy: 0.8881\n",
            "Epoch 451/2000\n",
            "4/4 - 0s - loss: 0.0059 - accuracy: 0.8550 - val_loss: 0.0108 - val_accuracy: 0.8891\n",
            "Epoch 452/2000\n",
            "4/4 - 0s - loss: 0.0058 - accuracy: 0.8569 - val_loss: 0.0108 - val_accuracy: 0.8911\n",
            "Epoch 453/2000\n",
            "4/4 - 0s - loss: 0.0062 - accuracy: 0.8450 - val_loss: 0.0108 - val_accuracy: 0.8926\n",
            "Epoch 454/2000\n",
            "4/4 - 0s - loss: 0.0058 - accuracy: 0.8535 - val_loss: 0.0108 - val_accuracy: 0.8931\n",
            "Epoch 455/2000\n",
            "4/4 - 0s - loss: 0.0060 - accuracy: 0.8470 - val_loss: 0.0108 - val_accuracy: 0.8950\n",
            "Epoch 456/2000\n",
            "4/4 - 0s - loss: 0.0059 - accuracy: 0.8500 - val_loss: 0.0107 - val_accuracy: 0.8955\n",
            "Epoch 457/2000\n",
            "4/4 - 0s - loss: 0.0059 - accuracy: 0.8589 - val_loss: 0.0107 - val_accuracy: 0.8965\n",
            "Epoch 458/2000\n",
            "4/4 - 0s - loss: 0.0058 - accuracy: 0.8594 - val_loss: 0.0108 - val_accuracy: 0.8995\n",
            "Epoch 459/2000\n",
            "4/4 - 0s - loss: 0.0058 - accuracy: 0.8515 - val_loss: 0.0109 - val_accuracy: 0.8985\n",
            "Epoch 460/2000\n",
            "4/4 - 0s - loss: 0.0061 - accuracy: 0.8416 - val_loss: 0.0109 - val_accuracy: 0.8975\n",
            "Epoch 461/2000\n",
            "4/4 - 0s - loss: 0.0058 - accuracy: 0.8470 - val_loss: 0.0109 - val_accuracy: 0.8950\n",
            "Epoch 462/2000\n",
            "4/4 - 0s - loss: 0.0056 - accuracy: 0.8530 - val_loss: 0.0108 - val_accuracy: 0.8931\n",
            "Epoch 463/2000\n",
            "4/4 - 0s - loss: 0.0057 - accuracy: 0.8530 - val_loss: 0.0107 - val_accuracy: 0.8946\n",
            "Epoch 464/2000\n",
            "4/4 - 0s - loss: 0.0056 - accuracy: 0.8579 - val_loss: 0.0107 - val_accuracy: 0.8960\n",
            "Epoch 465/2000\n",
            "4/4 - 0s - loss: 0.0059 - accuracy: 0.8465 - val_loss: 0.0107 - val_accuracy: 0.8946\n",
            "Epoch 466/2000\n",
            "4/4 - 0s - loss: 0.0056 - accuracy: 0.8554 - val_loss: 0.0108 - val_accuracy: 0.8946\n",
            "Epoch 467/2000\n",
            "4/4 - 0s - loss: 0.0058 - accuracy: 0.8564 - val_loss: 0.0108 - val_accuracy: 0.8955\n",
            "Epoch 468/2000\n",
            "4/4 - 0s - loss: 0.0061 - accuracy: 0.8520 - val_loss: 0.0108 - val_accuracy: 0.8955\n",
            "Epoch 469/2000\n",
            "4/4 - 0s - loss: 0.0057 - accuracy: 0.8545 - val_loss: 0.0107 - val_accuracy: 0.8950\n",
            "Epoch 470/2000\n",
            "4/4 - 0s - loss: 0.0059 - accuracy: 0.8510 - val_loss: 0.0106 - val_accuracy: 0.8950\n",
            "Epoch 471/2000\n",
            "4/4 - 0s - loss: 0.0061 - accuracy: 0.8465 - val_loss: 0.0105 - val_accuracy: 0.8970\n",
            "Epoch 472/2000\n",
            "4/4 - 0s - loss: 0.0058 - accuracy: 0.8416 - val_loss: 0.0106 - val_accuracy: 0.8980\n",
            "Epoch 473/2000\n",
            "4/4 - 0s - loss: 0.0059 - accuracy: 0.8455 - val_loss: 0.0106 - val_accuracy: 0.8970\n",
            "Epoch 474/2000\n",
            "4/4 - 0s - loss: 0.0057 - accuracy: 0.8455 - val_loss: 0.0107 - val_accuracy: 0.8965\n",
            "Epoch 475/2000\n",
            "4/4 - 0s - loss: 0.0062 - accuracy: 0.8564 - val_loss: 0.0108 - val_accuracy: 0.8990\n",
            "Epoch 476/2000\n",
            "4/4 - 0s - loss: 0.0059 - accuracy: 0.8530 - val_loss: 0.0108 - val_accuracy: 0.9005\n",
            "Epoch 477/2000\n",
            "4/4 - 0s - loss: 0.0058 - accuracy: 0.8500 - val_loss: 0.0108 - val_accuracy: 0.9015\n",
            "Epoch 478/2000\n",
            "4/4 - 0s - loss: 0.0055 - accuracy: 0.8574 - val_loss: 0.0108 - val_accuracy: 0.9010\n",
            "Epoch 479/2000\n",
            "4/4 - 0s - loss: 0.0056 - accuracy: 0.8604 - val_loss: 0.0108 - val_accuracy: 0.9015\n",
            "Epoch 480/2000\n",
            "4/4 - 0s - loss: 0.0059 - accuracy: 0.8500 - val_loss: 0.0107 - val_accuracy: 0.9005\n",
            "Epoch 481/2000\n",
            "4/4 - 0s - loss: 0.0063 - accuracy: 0.8381 - val_loss: 0.0107 - val_accuracy: 0.8995\n",
            "Epoch 482/2000\n",
            "4/4 - 0s - loss: 0.0060 - accuracy: 0.8416 - val_loss: 0.0107 - val_accuracy: 0.8980\n",
            "Epoch 483/2000\n",
            "4/4 - 0s - loss: 0.0061 - accuracy: 0.8450 - val_loss: 0.0107 - val_accuracy: 0.8946\n",
            "Epoch 484/2000\n",
            "4/4 - 0s - loss: 0.0057 - accuracy: 0.8584 - val_loss: 0.0108 - val_accuracy: 0.8921\n",
            "Epoch 485/2000\n",
            "4/4 - 0s - loss: 0.0057 - accuracy: 0.8446 - val_loss: 0.0108 - val_accuracy: 0.8931\n",
            "Epoch 486/2000\n",
            "4/4 - 0s - loss: 0.0057 - accuracy: 0.8431 - val_loss: 0.0109 - val_accuracy: 0.8936\n",
            "Epoch 487/2000\n",
            "4/4 - 0s - loss: 0.0057 - accuracy: 0.8510 - val_loss: 0.0109 - val_accuracy: 0.8965\n",
            "Epoch 488/2000\n",
            "4/4 - 0s - loss: 0.0059 - accuracy: 0.8515 - val_loss: 0.0108 - val_accuracy: 0.8990\n",
            "Epoch 489/2000\n",
            "4/4 - 0s - loss: 0.0059 - accuracy: 0.8480 - val_loss: 0.0107 - val_accuracy: 0.8980\n",
            "Epoch 490/2000\n",
            "4/4 - 0s - loss: 0.0058 - accuracy: 0.8421 - val_loss: 0.0107 - val_accuracy: 0.8990\n",
            "Epoch 491/2000\n",
            "4/4 - 0s - loss: 0.0060 - accuracy: 0.8515 - val_loss: 0.0108 - val_accuracy: 0.9005\n",
            "Epoch 492/2000\n",
            "4/4 - 0s - loss: 0.0060 - accuracy: 0.8475 - val_loss: 0.0108 - val_accuracy: 0.9035\n",
            "Epoch 493/2000\n",
            "4/4 - 0s - loss: 0.0060 - accuracy: 0.8490 - val_loss: 0.0108 - val_accuracy: 0.9054\n",
            "Epoch 494/2000\n",
            "4/4 - 0s - loss: 0.0055 - accuracy: 0.8500 - val_loss: 0.0107 - val_accuracy: 0.9040\n",
            "Epoch 495/2000\n",
            "4/4 - 0s - loss: 0.0058 - accuracy: 0.8550 - val_loss: 0.0107 - val_accuracy: 0.9040\n",
            "Epoch 496/2000\n",
            "4/4 - 0s - loss: 0.0062 - accuracy: 0.8470 - val_loss: 0.0107 - val_accuracy: 0.9035\n",
            "Epoch 497/2000\n",
            "4/4 - 0s - loss: 0.0060 - accuracy: 0.8495 - val_loss: 0.0107 - val_accuracy: 0.9005\n",
            "Epoch 498/2000\n",
            "4/4 - 0s - loss: 0.0058 - accuracy: 0.8460 - val_loss: 0.0107 - val_accuracy: 0.8980\n",
            "Epoch 499/2000\n",
            "4/4 - 0s - loss: 0.0062 - accuracy: 0.8342 - val_loss: 0.0107 - val_accuracy: 0.8970\n",
            "Epoch 500/2000\n",
            "4/4 - 0s - loss: 0.0064 - accuracy: 0.8441 - val_loss: 0.0108 - val_accuracy: 0.8965\n",
            "Epoch 501/2000\n",
            "4/4 - 0s - loss: 0.0061 - accuracy: 0.8460 - val_loss: 0.0108 - val_accuracy: 0.8955\n",
            "Epoch 502/2000\n",
            "4/4 - 0s - loss: 0.0058 - accuracy: 0.8441 - val_loss: 0.0108 - val_accuracy: 0.8955\n",
            "Epoch 503/2000\n",
            "4/4 - 0s - loss: 0.0058 - accuracy: 0.8545 - val_loss: 0.0108 - val_accuracy: 0.8955\n",
            "Epoch 504/2000\n",
            "4/4 - 0s - loss: 0.0057 - accuracy: 0.8460 - val_loss: 0.0107 - val_accuracy: 0.8936\n",
            "Epoch 505/2000\n",
            "4/4 - 0s - loss: 0.0058 - accuracy: 0.8446 - val_loss: 0.0107 - val_accuracy: 0.8931\n",
            "Epoch 506/2000\n",
            "4/4 - 0s - loss: 0.0057 - accuracy: 0.8431 - val_loss: 0.0107 - val_accuracy: 0.8931\n",
            "Epoch 507/2000\n",
            "4/4 - 0s - loss: 0.0057 - accuracy: 0.8569 - val_loss: 0.0107 - val_accuracy: 0.8911\n",
            "Epoch 508/2000\n",
            "4/4 - 0s - loss: 0.0060 - accuracy: 0.8535 - val_loss: 0.0107 - val_accuracy: 0.8926\n",
            "Epoch 509/2000\n",
            "4/4 - 0s - loss: 0.0060 - accuracy: 0.8327 - val_loss: 0.0108 - val_accuracy: 0.8941\n",
            "Epoch 510/2000\n",
            "4/4 - 0s - loss: 0.0059 - accuracy: 0.8431 - val_loss: 0.0108 - val_accuracy: 0.8931\n",
            "Epoch 511/2000\n",
            "4/4 - 0s - loss: 0.0059 - accuracy: 0.8589 - val_loss: 0.0108 - val_accuracy: 0.8936\n",
            "Epoch 512/2000\n",
            "4/4 - 0s - loss: 0.0060 - accuracy: 0.8515 - val_loss: 0.0107 - val_accuracy: 0.8931\n",
            "Epoch 513/2000\n",
            "4/4 - 0s - loss: 0.0055 - accuracy: 0.8431 - val_loss: 0.0107 - val_accuracy: 0.8921\n",
            "Epoch 514/2000\n",
            "4/4 - 0s - loss: 0.0058 - accuracy: 0.8540 - val_loss: 0.0107 - val_accuracy: 0.8911\n",
            "Epoch 515/2000\n",
            "4/4 - 0s - loss: 0.0060 - accuracy: 0.8495 - val_loss: 0.0106 - val_accuracy: 0.8916\n",
            "Epoch 516/2000\n",
            "4/4 - 0s - loss: 0.0060 - accuracy: 0.8366 - val_loss: 0.0106 - val_accuracy: 0.8921\n",
            "Epoch 517/2000\n",
            "4/4 - 0s - loss: 0.0057 - accuracy: 0.8480 - val_loss: 0.0106 - val_accuracy: 0.8941\n",
            "Epoch 518/2000\n",
            "4/4 - 0s - loss: 0.0061 - accuracy: 0.8441 - val_loss: 0.0107 - val_accuracy: 0.8936\n",
            "Epoch 519/2000\n",
            "4/4 - 0s - loss: 0.0058 - accuracy: 0.8376 - val_loss: 0.0108 - val_accuracy: 0.8921\n",
            "Epoch 520/2000\n",
            "4/4 - 0s - loss: 0.0056 - accuracy: 0.8559 - val_loss: 0.0108 - val_accuracy: 0.8916\n",
            "Epoch 521/2000\n",
            "4/4 - 0s - loss: 0.0059 - accuracy: 0.8470 - val_loss: 0.0107 - val_accuracy: 0.8916\n",
            "Epoch 522/2000\n",
            "4/4 - 0s - loss: 0.0063 - accuracy: 0.8361 - val_loss: 0.0106 - val_accuracy: 0.8906\n",
            "Epoch 523/2000\n",
            "4/4 - 0s - loss: 0.0059 - accuracy: 0.8490 - val_loss: 0.0106 - val_accuracy: 0.8901\n",
            "Epoch 524/2000\n",
            "4/4 - 0s - loss: 0.0059 - accuracy: 0.8535 - val_loss: 0.0107 - val_accuracy: 0.8906\n",
            "Epoch 525/2000\n",
            "4/4 - 0s - loss: 0.0057 - accuracy: 0.8574 - val_loss: 0.0107 - val_accuracy: 0.8936\n",
            "Epoch 526/2000\n",
            "4/4 - 0s - loss: 0.0058 - accuracy: 0.8569 - val_loss: 0.0108 - val_accuracy: 0.8965\n",
            "Epoch 527/2000\n",
            "4/4 - 0s - loss: 0.0058 - accuracy: 0.8520 - val_loss: 0.0109 - val_accuracy: 0.8990\n",
            "Epoch 528/2000\n",
            "4/4 - 0s - loss: 0.0058 - accuracy: 0.8421 - val_loss: 0.0109 - val_accuracy: 0.9015\n",
            "Epoch 529/2000\n",
            "4/4 - 0s - loss: 0.0060 - accuracy: 0.8406 - val_loss: 0.0109 - val_accuracy: 0.9015\n",
            "Epoch 530/2000\n",
            "4/4 - 0s - loss: 0.0061 - accuracy: 0.8505 - val_loss: 0.0107 - val_accuracy: 0.9005\n",
            "Epoch 531/2000\n",
            "4/4 - 0s - loss: 0.0056 - accuracy: 0.8490 - val_loss: 0.0106 - val_accuracy: 0.8995\n",
            "Epoch 532/2000\n",
            "4/4 - 0s - loss: 0.0058 - accuracy: 0.8460 - val_loss: 0.0107 - val_accuracy: 0.8985\n",
            "Epoch 533/2000\n",
            "4/4 - 0s - loss: 0.0058 - accuracy: 0.8431 - val_loss: 0.0108 - val_accuracy: 0.8970\n",
            "Epoch 534/2000\n",
            "4/4 - 0s - loss: 0.0060 - accuracy: 0.8426 - val_loss: 0.0109 - val_accuracy: 0.8975\n",
            "Epoch 535/2000\n",
            "4/4 - 0s - loss: 0.0059 - accuracy: 0.8545 - val_loss: 0.0108 - val_accuracy: 0.8995\n",
            "Epoch 536/2000\n",
            "4/4 - 0s - loss: 0.0061 - accuracy: 0.8411 - val_loss: 0.0107 - val_accuracy: 0.8990\n",
            "Epoch 537/2000\n",
            "4/4 - 0s - loss: 0.0060 - accuracy: 0.8441 - val_loss: 0.0106 - val_accuracy: 0.8985\n",
            "Epoch 538/2000\n",
            "4/4 - 0s - loss: 0.0061 - accuracy: 0.8520 - val_loss: 0.0106 - val_accuracy: 0.9010\n",
            "Epoch 539/2000\n",
            "4/4 - 0s - loss: 0.0059 - accuracy: 0.8465 - val_loss: 0.0106 - val_accuracy: 0.9005\n",
            "Epoch 540/2000\n",
            "4/4 - 0s - loss: 0.0059 - accuracy: 0.8465 - val_loss: 0.0106 - val_accuracy: 0.9000\n",
            "Epoch 541/2000\n",
            "4/4 - 0s - loss: 0.0058 - accuracy: 0.8465 - val_loss: 0.0107 - val_accuracy: 0.9005\n",
            "Epoch 542/2000\n",
            "4/4 - 0s - loss: 0.0059 - accuracy: 0.8490 - val_loss: 0.0108 - val_accuracy: 0.9025\n",
            "Epoch 543/2000\n",
            "4/4 - 0s - loss: 0.0060 - accuracy: 0.8510 - val_loss: 0.0108 - val_accuracy: 0.9010\n",
            "Epoch 544/2000\n",
            "4/4 - 0s - loss: 0.0059 - accuracy: 0.8564 - val_loss: 0.0108 - val_accuracy: 0.8995\n",
            "Epoch 545/2000\n",
            "4/4 - 0s - loss: 0.0061 - accuracy: 0.8455 - val_loss: 0.0107 - val_accuracy: 0.8980\n",
            "Epoch 546/2000\n",
            "4/4 - 0s - loss: 0.0059 - accuracy: 0.8574 - val_loss: 0.0106 - val_accuracy: 0.8990\n",
            "Epoch 547/2000\n",
            "4/4 - 0s - loss: 0.0057 - accuracy: 0.8470 - val_loss: 0.0106 - val_accuracy: 0.8990\n",
            "Epoch 548/2000\n",
            "4/4 - 0s - loss: 0.0060 - accuracy: 0.8455 - val_loss: 0.0106 - val_accuracy: 0.8990\n",
            "Epoch 549/2000\n",
            "4/4 - 0s - loss: 0.0058 - accuracy: 0.8441 - val_loss: 0.0107 - val_accuracy: 0.8965\n",
            "Epoch 550/2000\n",
            "4/4 - 0s - loss: 0.0056 - accuracy: 0.8569 - val_loss: 0.0107 - val_accuracy: 0.8965\n",
            "Epoch 551/2000\n",
            "4/4 - 0s - loss: 0.0059 - accuracy: 0.8505 - val_loss: 0.0107 - val_accuracy: 0.8946\n",
            "Epoch 552/2000\n",
            "4/4 - 0s - loss: 0.0060 - accuracy: 0.8540 - val_loss: 0.0107 - val_accuracy: 0.8970\n",
            "Epoch 553/2000\n",
            "4/4 - 0s - loss: 0.0059 - accuracy: 0.8426 - val_loss: 0.0106 - val_accuracy: 0.9000\n",
            "Epoch 554/2000\n",
            "4/4 - 0s - loss: 0.0060 - accuracy: 0.8500 - val_loss: 0.0106 - val_accuracy: 0.9035\n",
            "Epoch 555/2000\n",
            "4/4 - 0s - loss: 0.0058 - accuracy: 0.8589 - val_loss: 0.0106 - val_accuracy: 0.9050\n",
            "Epoch 556/2000\n",
            "4/4 - 0s - loss: 0.0058 - accuracy: 0.8446 - val_loss: 0.0106 - val_accuracy: 0.9045\n",
            "Epoch 557/2000\n",
            "4/4 - 0s - loss: 0.0061 - accuracy: 0.8401 - val_loss: 0.0107 - val_accuracy: 0.9035\n",
            "Epoch 558/2000\n",
            "4/4 - 0s - loss: 0.0060 - accuracy: 0.8550 - val_loss: 0.0108 - val_accuracy: 0.9015\n",
            "Epoch 559/2000\n",
            "4/4 - 0s - loss: 0.0058 - accuracy: 0.8495 - val_loss: 0.0107 - val_accuracy: 0.9010\n",
            "Epoch 560/2000\n",
            "4/4 - 0s - loss: 0.0058 - accuracy: 0.8480 - val_loss: 0.0108 - val_accuracy: 0.8980\n",
            "Epoch 561/2000\n",
            "4/4 - 0s - loss: 0.0055 - accuracy: 0.8495 - val_loss: 0.0108 - val_accuracy: 0.8970\n",
            "Epoch 562/2000\n",
            "4/4 - 0s - loss: 0.0062 - accuracy: 0.8446 - val_loss: 0.0108 - val_accuracy: 0.8941\n",
            "Epoch 563/2000\n",
            "4/4 - 0s - loss: 0.0055 - accuracy: 0.8475 - val_loss: 0.0108 - val_accuracy: 0.8941\n",
            "Epoch 564/2000\n",
            "4/4 - 0s - loss: 0.0057 - accuracy: 0.8505 - val_loss: 0.0108 - val_accuracy: 0.8946\n",
            "Epoch 565/2000\n",
            "4/4 - 0s - loss: 0.0061 - accuracy: 0.8371 - val_loss: 0.0107 - val_accuracy: 0.8965\n",
            "Epoch 566/2000\n",
            "4/4 - 0s - loss: 0.0060 - accuracy: 0.8500 - val_loss: 0.0106 - val_accuracy: 0.9005\n",
            "Epoch 567/2000\n",
            "4/4 - 0s - loss: 0.0059 - accuracy: 0.8322 - val_loss: 0.0106 - val_accuracy: 0.9020\n",
            "Epoch 568/2000\n",
            "4/4 - 0s - loss: 0.0057 - accuracy: 0.8460 - val_loss: 0.0107 - val_accuracy: 0.9020\n",
            "Epoch 569/2000\n",
            "4/4 - 0s - loss: 0.0057 - accuracy: 0.8540 - val_loss: 0.0107 - val_accuracy: 0.9035\n",
            "Epoch 570/2000\n",
            "4/4 - 0s - loss: 0.0058 - accuracy: 0.8520 - val_loss: 0.0108 - val_accuracy: 0.9045\n",
            "Epoch 571/2000\n",
            "4/4 - 0s - loss: 0.0057 - accuracy: 0.8584 - val_loss: 0.0109 - val_accuracy: 0.9054\n",
            "Epoch 572/2000\n",
            "4/4 - 0s - loss: 0.0063 - accuracy: 0.8411 - val_loss: 0.0109 - val_accuracy: 0.9069\n",
            "Epoch 573/2000\n",
            "4/4 - 0s - loss: 0.0056 - accuracy: 0.8569 - val_loss: 0.0108 - val_accuracy: 0.9050\n",
            "Epoch 574/2000\n",
            "4/4 - 0s - loss: 0.0057 - accuracy: 0.8480 - val_loss: 0.0107 - val_accuracy: 0.9050\n",
            "Epoch 575/2000\n",
            "4/4 - 0s - loss: 0.0057 - accuracy: 0.8495 - val_loss: 0.0107 - val_accuracy: 0.9025\n",
            "Epoch 576/2000\n",
            "4/4 - 0s - loss: 0.0056 - accuracy: 0.8609 - val_loss: 0.0107 - val_accuracy: 0.9020\n",
            "Epoch 577/2000\n",
            "4/4 - 0s - loss: 0.0059 - accuracy: 0.8480 - val_loss: 0.0108 - val_accuracy: 0.9030\n",
            "Epoch 578/2000\n",
            "4/4 - 0s - loss: 0.0058 - accuracy: 0.8490 - val_loss: 0.0108 - val_accuracy: 0.9030\n",
            "Epoch 579/2000\n",
            "4/4 - 0s - loss: 0.0061 - accuracy: 0.8396 - val_loss: 0.0107 - val_accuracy: 0.9025\n",
            "Epoch 580/2000\n",
            "4/4 - 0s - loss: 0.0056 - accuracy: 0.8460 - val_loss: 0.0107 - val_accuracy: 0.9000\n",
            "Epoch 581/2000\n",
            "4/4 - 0s - loss: 0.0061 - accuracy: 0.8455 - val_loss: 0.0106 - val_accuracy: 0.8975\n",
            "Epoch 582/2000\n",
            "4/4 - 0s - loss: 0.0062 - accuracy: 0.8431 - val_loss: 0.0106 - val_accuracy: 0.8955\n",
            "Epoch 583/2000\n",
            "4/4 - 0s - loss: 0.0060 - accuracy: 0.8411 - val_loss: 0.0107 - val_accuracy: 0.8946\n",
            "Epoch 584/2000\n",
            "4/4 - 0s - loss: 0.0060 - accuracy: 0.8490 - val_loss: 0.0107 - val_accuracy: 0.8975\n",
            "Epoch 585/2000\n",
            "4/4 - 0s - loss: 0.0056 - accuracy: 0.8520 - val_loss: 0.0107 - val_accuracy: 0.8985\n",
            "Epoch 586/2000\n",
            "4/4 - 0s - loss: 0.0059 - accuracy: 0.8530 - val_loss: 0.0108 - val_accuracy: 0.8980\n",
            "Epoch 587/2000\n",
            "4/4 - 0s - loss: 0.0058 - accuracy: 0.8450 - val_loss: 0.0108 - val_accuracy: 0.8985\n",
            "Epoch 588/2000\n",
            "4/4 - 0s - loss: 0.0060 - accuracy: 0.8441 - val_loss: 0.0108 - val_accuracy: 0.8995\n",
            "Epoch 589/2000\n",
            "4/4 - 0s - loss: 0.0055 - accuracy: 0.8540 - val_loss: 0.0107 - val_accuracy: 0.9030\n",
            "Epoch 590/2000\n",
            "4/4 - 0s - loss: 0.0057 - accuracy: 0.8545 - val_loss: 0.0107 - val_accuracy: 0.9025\n",
            "Epoch 591/2000\n",
            "4/4 - 0s - loss: 0.0057 - accuracy: 0.8426 - val_loss: 0.0107 - val_accuracy: 0.9025\n",
            "Epoch 592/2000\n",
            "4/4 - 0s - loss: 0.0062 - accuracy: 0.8446 - val_loss: 0.0107 - val_accuracy: 0.9010\n",
            "Epoch 593/2000\n",
            "4/4 - 0s - loss: 0.0062 - accuracy: 0.8441 - val_loss: 0.0107 - val_accuracy: 0.8990\n",
            "Epoch 594/2000\n",
            "4/4 - 0s - loss: 0.0055 - accuracy: 0.8550 - val_loss: 0.0107 - val_accuracy: 0.8965\n",
            "Epoch 595/2000\n",
            "4/4 - 0s - loss: 0.0058 - accuracy: 0.8554 - val_loss: 0.0108 - val_accuracy: 0.8975\n",
            "Epoch 596/2000\n",
            "4/4 - 0s - loss: 0.0059 - accuracy: 0.8535 - val_loss: 0.0107 - val_accuracy: 0.8970\n",
            "Epoch 597/2000\n",
            "4/4 - 0s - loss: 0.0057 - accuracy: 0.8475 - val_loss: 0.0108 - val_accuracy: 0.8980\n",
            "Epoch 598/2000\n",
            "4/4 - 0s - loss: 0.0059 - accuracy: 0.8441 - val_loss: 0.0107 - val_accuracy: 0.8985\n",
            "Epoch 599/2000\n",
            "4/4 - 0s - loss: 0.0060 - accuracy: 0.8505 - val_loss: 0.0107 - val_accuracy: 0.8995\n",
            "Epoch 600/2000\n",
            "4/4 - 0s - loss: 0.0060 - accuracy: 0.8535 - val_loss: 0.0107 - val_accuracy: 0.9005\n",
            "Epoch 601/2000\n",
            "4/4 - 0s - loss: 0.0061 - accuracy: 0.8505 - val_loss: 0.0107 - val_accuracy: 0.9015\n",
            "Epoch 602/2000\n",
            "4/4 - 0s - loss: 0.0062 - accuracy: 0.8505 - val_loss: 0.0108 - val_accuracy: 0.9045\n",
            "Epoch 603/2000\n",
            "4/4 - 0s - loss: 0.0059 - accuracy: 0.8500 - val_loss: 0.0107 - val_accuracy: 0.9050\n",
            "Epoch 604/2000\n",
            "4/4 - 0s - loss: 0.0058 - accuracy: 0.8450 - val_loss: 0.0106 - val_accuracy: 0.9054\n",
            "Epoch 605/2000\n",
            "4/4 - 0s - loss: 0.0060 - accuracy: 0.8401 - val_loss: 0.0107 - val_accuracy: 0.9035\n",
            "Epoch 606/2000\n",
            "4/4 - 0s - loss: 0.0058 - accuracy: 0.8450 - val_loss: 0.0108 - val_accuracy: 0.9020\n",
            "Epoch 607/2000\n",
            "4/4 - 0s - loss: 0.0056 - accuracy: 0.8599 - val_loss: 0.0108 - val_accuracy: 0.9020\n",
            "Epoch 608/2000\n",
            "4/4 - 0s - loss: 0.0057 - accuracy: 0.8475 - val_loss: 0.0108 - val_accuracy: 0.9050\n",
            "Epoch 609/2000\n",
            "4/4 - 0s - loss: 0.0058 - accuracy: 0.8446 - val_loss: 0.0108 - val_accuracy: 0.9050\n",
            "Epoch 610/2000\n",
            "4/4 - 0s - loss: 0.0059 - accuracy: 0.8332 - val_loss: 0.0107 - val_accuracy: 0.9020\n",
            "Epoch 611/2000\n",
            "4/4 - 0s - loss: 0.0058 - accuracy: 0.8441 - val_loss: 0.0107 - val_accuracy: 0.8995\n",
            "Epoch 612/2000\n",
            "4/4 - 0s - loss: 0.0059 - accuracy: 0.8396 - val_loss: 0.0107 - val_accuracy: 0.8980\n",
            "Epoch 613/2000\n",
            "4/4 - 0s - loss: 0.0065 - accuracy: 0.8381 - val_loss: 0.0107 - val_accuracy: 0.8990\n",
            "Epoch 614/2000\n",
            "4/4 - 0s - loss: 0.0058 - accuracy: 0.8431 - val_loss: 0.0108 - val_accuracy: 0.9010\n",
            "Epoch 615/2000\n",
            "4/4 - 0s - loss: 0.0060 - accuracy: 0.8495 - val_loss: 0.0107 - val_accuracy: 0.9015\n",
            "Epoch 616/2000\n",
            "4/4 - 0s - loss: 0.0060 - accuracy: 0.8436 - val_loss: 0.0106 - val_accuracy: 0.9010\n",
            "Epoch 617/2000\n",
            "4/4 - 0s - loss: 0.0059 - accuracy: 0.8480 - val_loss: 0.0106 - val_accuracy: 0.9025\n",
            "Epoch 618/2000\n",
            "4/4 - 0s - loss: 0.0060 - accuracy: 0.8559 - val_loss: 0.0106 - val_accuracy: 0.9020\n",
            "Epoch 619/2000\n",
            "4/4 - 0s - loss: 0.0059 - accuracy: 0.8431 - val_loss: 0.0107 - val_accuracy: 0.9000\n",
            "Epoch 620/2000\n",
            "4/4 - 0s - loss: 0.0058 - accuracy: 0.8465 - val_loss: 0.0108 - val_accuracy: 0.8985\n",
            "Epoch 621/2000\n",
            "4/4 - 0s - loss: 0.0059 - accuracy: 0.8485 - val_loss: 0.0108 - val_accuracy: 0.9000\n",
            "Epoch 622/2000\n",
            "4/4 - 0s - loss: 0.0059 - accuracy: 0.8470 - val_loss: 0.0108 - val_accuracy: 0.9000\n",
            "Epoch 623/2000\n",
            "4/4 - 0s - loss: 0.0057 - accuracy: 0.8455 - val_loss: 0.0107 - val_accuracy: 0.9000\n",
            "Epoch 624/2000\n",
            "4/4 - 0s - loss: 0.0059 - accuracy: 0.8441 - val_loss: 0.0107 - val_accuracy: 0.9010\n",
            "Epoch 625/2000\n",
            "4/4 - 0s - loss: 0.0060 - accuracy: 0.8391 - val_loss: 0.0107 - val_accuracy: 0.8985\n",
            "Epoch 626/2000\n",
            "4/4 - 0s - loss: 0.0063 - accuracy: 0.8455 - val_loss: 0.0107 - val_accuracy: 0.8965\n",
            "Epoch 627/2000\n",
            "4/4 - 0s - loss: 0.0060 - accuracy: 0.8470 - val_loss: 0.0107 - val_accuracy: 0.8950\n",
            "Epoch 628/2000\n",
            "4/4 - 0s - loss: 0.0058 - accuracy: 0.8545 - val_loss: 0.0107 - val_accuracy: 0.8916\n",
            "Epoch 629/2000\n",
            "4/4 - 0s - loss: 0.0059 - accuracy: 0.8589 - val_loss: 0.0107 - val_accuracy: 0.8906\n",
            "Epoch 630/2000\n",
            "4/4 - 0s - loss: 0.0057 - accuracy: 0.8554 - val_loss: 0.0107 - val_accuracy: 0.8901\n",
            "Epoch 631/2000\n",
            "4/4 - 0s - loss: 0.0060 - accuracy: 0.8594 - val_loss: 0.0106 - val_accuracy: 0.8901\n",
            "Epoch 632/2000\n",
            "4/4 - 0s - loss: 0.0059 - accuracy: 0.8510 - val_loss: 0.0106 - val_accuracy: 0.8901\n",
            "Epoch 633/2000\n",
            "4/4 - 0s - loss: 0.0061 - accuracy: 0.8406 - val_loss: 0.0106 - val_accuracy: 0.8901\n",
            "Epoch 634/2000\n",
            "4/4 - 0s - loss: 0.0061 - accuracy: 0.8426 - val_loss: 0.0107 - val_accuracy: 0.8926\n",
            "Epoch 635/2000\n",
            "4/4 - 0s - loss: 0.0058 - accuracy: 0.8520 - val_loss: 0.0107 - val_accuracy: 0.8926\n",
            "Epoch 636/2000\n",
            "4/4 - 0s - loss: 0.0055 - accuracy: 0.8550 - val_loss: 0.0108 - val_accuracy: 0.8931\n",
            "Epoch 637/2000\n",
            "4/4 - 0s - loss: 0.0061 - accuracy: 0.8485 - val_loss: 0.0108 - val_accuracy: 0.8931\n",
            "Epoch 638/2000\n",
            "4/4 - 0s - loss: 0.0062 - accuracy: 0.8500 - val_loss: 0.0107 - val_accuracy: 0.8916\n",
            "Epoch 639/2000\n",
            "4/4 - 0s - loss: 0.0059 - accuracy: 0.8609 - val_loss: 0.0106 - val_accuracy: 0.8911\n",
            "Epoch 640/2000\n",
            "4/4 - 0s - loss: 0.0057 - accuracy: 0.8589 - val_loss: 0.0106 - val_accuracy: 0.8950\n",
            "Epoch 641/2000\n",
            "4/4 - 0s - loss: 0.0054 - accuracy: 0.8421 - val_loss: 0.0106 - val_accuracy: 0.8990\n",
            "Epoch 642/2000\n",
            "4/4 - 0s - loss: 0.0060 - accuracy: 0.8485 - val_loss: 0.0107 - val_accuracy: 0.9020\n",
            "Epoch 643/2000\n",
            "4/4 - 0s - loss: 0.0061 - accuracy: 0.8391 - val_loss: 0.0107 - val_accuracy: 0.9020\n",
            "Epoch 644/2000\n",
            "4/4 - 0s - loss: 0.0058 - accuracy: 0.8480 - val_loss: 0.0108 - val_accuracy: 0.9015\n",
            "Epoch 645/2000\n",
            "4/4 - 0s - loss: 0.0058 - accuracy: 0.8480 - val_loss: 0.0108 - val_accuracy: 0.9025\n",
            "Epoch 646/2000\n",
            "4/4 - 0s - loss: 0.0060 - accuracy: 0.8535 - val_loss: 0.0107 - val_accuracy: 0.9025\n",
            "Epoch 647/2000\n",
            "4/4 - 0s - loss: 0.0058 - accuracy: 0.8450 - val_loss: 0.0107 - val_accuracy: 0.9005\n",
            "Epoch 648/2000\n",
            "4/4 - 0s - loss: 0.0056 - accuracy: 0.8510 - val_loss: 0.0107 - val_accuracy: 0.8980\n",
            "Epoch 649/2000\n",
            "4/4 - 0s - loss: 0.0059 - accuracy: 0.8495 - val_loss: 0.0108 - val_accuracy: 0.8980\n",
            "Epoch 650/2000\n",
            "4/4 - 0s - loss: 0.0059 - accuracy: 0.8515 - val_loss: 0.0108 - val_accuracy: 0.8970\n",
            "Epoch 651/2000\n",
            "4/4 - 0s - loss: 0.0059 - accuracy: 0.8569 - val_loss: 0.0108 - val_accuracy: 0.8970\n",
            "Epoch 652/2000\n",
            "4/4 - 0s - loss: 0.0059 - accuracy: 0.8604 - val_loss: 0.0107 - val_accuracy: 0.8960\n",
            "Epoch 653/2000\n",
            "4/4 - 0s - loss: 0.0059 - accuracy: 0.8485 - val_loss: 0.0107 - val_accuracy: 0.8955\n",
            "Epoch 654/2000\n",
            "4/4 - 0s - loss: 0.0056 - accuracy: 0.8614 - val_loss: 0.0106 - val_accuracy: 0.8965\n",
            "Epoch 655/2000\n",
            "4/4 - 0s - loss: 0.0057 - accuracy: 0.8535 - val_loss: 0.0107 - val_accuracy: 0.8970\n",
            "Epoch 656/2000\n",
            "4/4 - 0s - loss: 0.0058 - accuracy: 0.8436 - val_loss: 0.0108 - val_accuracy: 0.8995\n",
            "Epoch 657/2000\n",
            "4/4 - 0s - loss: 0.0057 - accuracy: 0.8500 - val_loss: 0.0109 - val_accuracy: 0.8990\n",
            "Epoch 658/2000\n",
            "4/4 - 0s - loss: 0.0057 - accuracy: 0.8530 - val_loss: 0.0109 - val_accuracy: 0.9010\n",
            "Epoch 659/2000\n",
            "4/4 - 0s - loss: 0.0059 - accuracy: 0.8446 - val_loss: 0.0108 - val_accuracy: 0.9020\n",
            "Epoch 660/2000\n",
            "4/4 - 0s - loss: 0.0060 - accuracy: 0.8351 - val_loss: 0.0107 - val_accuracy: 0.9005\n",
            "Epoch 661/2000\n",
            "4/4 - 0s - loss: 0.0058 - accuracy: 0.8431 - val_loss: 0.0106 - val_accuracy: 0.8985\n",
            "Epoch 662/2000\n",
            "4/4 - 0s - loss: 0.0059 - accuracy: 0.8564 - val_loss: 0.0107 - val_accuracy: 0.8975\n",
            "Epoch 663/2000\n",
            "4/4 - 0s - loss: 0.0058 - accuracy: 0.8505 - val_loss: 0.0107 - val_accuracy: 0.8980\n",
            "Epoch 664/2000\n",
            "4/4 - 0s - loss: 0.0058 - accuracy: 0.8450 - val_loss: 0.0108 - val_accuracy: 0.8990\n",
            "Epoch 665/2000\n",
            "4/4 - 0s - loss: 0.0058 - accuracy: 0.8446 - val_loss: 0.0108 - val_accuracy: 0.8990\n",
            "Epoch 666/2000\n",
            "4/4 - 0s - loss: 0.0060 - accuracy: 0.8540 - val_loss: 0.0106 - val_accuracy: 0.8980\n",
            "Epoch 667/2000\n",
            "4/4 - 0s - loss: 0.0060 - accuracy: 0.8584 - val_loss: 0.0106 - val_accuracy: 0.8980\n",
            "Epoch 668/2000\n",
            "4/4 - 0s - loss: 0.0058 - accuracy: 0.8495 - val_loss: 0.0106 - val_accuracy: 0.8980\n",
            "Epoch 669/2000\n",
            "4/4 - 0s - loss: 0.0063 - accuracy: 0.8465 - val_loss: 0.0106 - val_accuracy: 0.8980\n",
            "Epoch 670/2000\n",
            "4/4 - 0s - loss: 0.0059 - accuracy: 0.8480 - val_loss: 0.0107 - val_accuracy: 0.8975\n",
            "Epoch 671/2000\n",
            "4/4 - 0s - loss: 0.0058 - accuracy: 0.8505 - val_loss: 0.0107 - val_accuracy: 0.8970\n",
            "Epoch 672/2000\n",
            "4/4 - 0s - loss: 0.0056 - accuracy: 0.8604 - val_loss: 0.0107 - val_accuracy: 0.8995\n",
            "Epoch 673/2000\n",
            "4/4 - 0s - loss: 0.0058 - accuracy: 0.8480 - val_loss: 0.0108 - val_accuracy: 0.9010\n",
            "Epoch 674/2000\n",
            "4/4 - 0s - loss: 0.0059 - accuracy: 0.8649 - val_loss: 0.0108 - val_accuracy: 0.9015\n",
            "Epoch 675/2000\n",
            "4/4 - 0s - loss: 0.0059 - accuracy: 0.8465 - val_loss: 0.0108 - val_accuracy: 0.9000\n",
            "Epoch 676/2000\n",
            "4/4 - 0s - loss: 0.0057 - accuracy: 0.8594 - val_loss: 0.0108 - val_accuracy: 0.8995\n",
            "Epoch 677/2000\n",
            "4/4 - 0s - loss: 0.0057 - accuracy: 0.8579 - val_loss: 0.0107 - val_accuracy: 0.8985\n",
            "Epoch 678/2000\n",
            "4/4 - 0s - loss: 0.0058 - accuracy: 0.8485 - val_loss: 0.0107 - val_accuracy: 0.8980\n",
            "Epoch 679/2000\n",
            "4/4 - 0s - loss: 0.0059 - accuracy: 0.8579 - val_loss: 0.0107 - val_accuracy: 0.8965\n",
            "Epoch 680/2000\n",
            "4/4 - 0s - loss: 0.0062 - accuracy: 0.8510 - val_loss: 0.0108 - val_accuracy: 0.8960\n",
            "Epoch 681/2000\n",
            "4/4 - 0s - loss: 0.0058 - accuracy: 0.8450 - val_loss: 0.0108 - val_accuracy: 0.8955\n",
            "Epoch 682/2000\n",
            "4/4 - 0s - loss: 0.0064 - accuracy: 0.8455 - val_loss: 0.0108 - val_accuracy: 0.8965\n",
            "Epoch 683/2000\n",
            "4/4 - 0s - loss: 0.0059 - accuracy: 0.8510 - val_loss: 0.0107 - val_accuracy: 0.8970\n",
            "Epoch 684/2000\n",
            "4/4 - 0s - loss: 0.0058 - accuracy: 0.8455 - val_loss: 0.0107 - val_accuracy: 0.8960\n",
            "Epoch 685/2000\n",
            "4/4 - 0s - loss: 0.0059 - accuracy: 0.8490 - val_loss: 0.0107 - val_accuracy: 0.8965\n",
            "Epoch 686/2000\n",
            "4/4 - 0s - loss: 0.0056 - accuracy: 0.8550 - val_loss: 0.0107 - val_accuracy: 0.8985\n",
            "Epoch 687/2000\n",
            "4/4 - 0s - loss: 0.0059 - accuracy: 0.8475 - val_loss: 0.0107 - val_accuracy: 0.8995\n",
            "Epoch 688/2000\n",
            "4/4 - 0s - loss: 0.0060 - accuracy: 0.8490 - val_loss: 0.0107 - val_accuracy: 0.9025\n",
            "Epoch 689/2000\n",
            "4/4 - 0s - loss: 0.0057 - accuracy: 0.8426 - val_loss: 0.0107 - val_accuracy: 0.9025\n",
            "Epoch 690/2000\n",
            "4/4 - 0s - loss: 0.0060 - accuracy: 0.8505 - val_loss: 0.0107 - val_accuracy: 0.9010\n",
            "Epoch 691/2000\n",
            "4/4 - 0s - loss: 0.0057 - accuracy: 0.8436 - val_loss: 0.0107 - val_accuracy: 0.9000\n",
            "Epoch 692/2000\n",
            "4/4 - 0s - loss: 0.0056 - accuracy: 0.8663 - val_loss: 0.0107 - val_accuracy: 0.8995\n",
            "Epoch 693/2000\n",
            "4/4 - 0s - loss: 0.0057 - accuracy: 0.8436 - val_loss: 0.0107 - val_accuracy: 0.8985\n",
            "Epoch 694/2000\n",
            "4/4 - 0s - loss: 0.0058 - accuracy: 0.8510 - val_loss: 0.0107 - val_accuracy: 0.8985\n",
            "Epoch 695/2000\n",
            "4/4 - 0s - loss: 0.0059 - accuracy: 0.8490 - val_loss: 0.0107 - val_accuracy: 0.8995\n",
            "Epoch 696/2000\n",
            "4/4 - 0s - loss: 0.0059 - accuracy: 0.8411 - val_loss: 0.0108 - val_accuracy: 0.9005\n",
            "Epoch 697/2000\n",
            "4/4 - 0s - loss: 0.0056 - accuracy: 0.8668 - val_loss: 0.0108 - val_accuracy: 0.9010\n",
            "Epoch 698/2000\n",
            "4/4 - 0s - loss: 0.0056 - accuracy: 0.8634 - val_loss: 0.0108 - val_accuracy: 0.9010\n",
            "Epoch 699/2000\n",
            "4/4 - 0s - loss: 0.0060 - accuracy: 0.8490 - val_loss: 0.0107 - val_accuracy: 0.8995\n",
            "Epoch 700/2000\n",
            "4/4 - 0s - loss: 0.0061 - accuracy: 0.8441 - val_loss: 0.0107 - val_accuracy: 0.8970\n",
            "Epoch 701/2000\n",
            "4/4 - 0s - loss: 0.0056 - accuracy: 0.8515 - val_loss: 0.0107 - val_accuracy: 0.8950\n",
            "Epoch 702/2000\n",
            "4/4 - 0s - loss: 0.0060 - accuracy: 0.8510 - val_loss: 0.0107 - val_accuracy: 0.8955\n",
            "Epoch 703/2000\n",
            "4/4 - 0s - loss: 0.0062 - accuracy: 0.8446 - val_loss: 0.0107 - val_accuracy: 0.8960\n",
            "Epoch 704/2000\n",
            "4/4 - 0s - loss: 0.0058 - accuracy: 0.8480 - val_loss: 0.0107 - val_accuracy: 0.8970\n",
            "Epoch 705/2000\n",
            "4/4 - 0s - loss: 0.0058 - accuracy: 0.8510 - val_loss: 0.0106 - val_accuracy: 0.8955\n",
            "Epoch 706/2000\n",
            "4/4 - 0s - loss: 0.0060 - accuracy: 0.8465 - val_loss: 0.0107 - val_accuracy: 0.8975\n",
            "Epoch 707/2000\n",
            "4/4 - 0s - loss: 0.0054 - accuracy: 0.8569 - val_loss: 0.0107 - val_accuracy: 0.8990\n",
            "Epoch 708/2000\n",
            "4/4 - 0s - loss: 0.0060 - accuracy: 0.8416 - val_loss: 0.0108 - val_accuracy: 0.8980\n",
            "Epoch 709/2000\n",
            "4/4 - 0s - loss: 0.0058 - accuracy: 0.8540 - val_loss: 0.0109 - val_accuracy: 0.8975\n",
            "Epoch 710/2000\n",
            "4/4 - 0s - loss: 0.0059 - accuracy: 0.8446 - val_loss: 0.0108 - val_accuracy: 0.8975\n",
            "Epoch 711/2000\n",
            "4/4 - 0s - loss: 0.0059 - accuracy: 0.8495 - val_loss: 0.0108 - val_accuracy: 0.8985\n",
            "Epoch 712/2000\n",
            "4/4 - 0s - loss: 0.0062 - accuracy: 0.8426 - val_loss: 0.0108 - val_accuracy: 0.8990\n",
            "Epoch 713/2000\n",
            "4/4 - 0s - loss: 0.0059 - accuracy: 0.8545 - val_loss: 0.0108 - val_accuracy: 0.8975\n",
            "Epoch 714/2000\n",
            "4/4 - 0s - loss: 0.0062 - accuracy: 0.8515 - val_loss: 0.0108 - val_accuracy: 0.8975\n",
            "Epoch 715/2000\n",
            "4/4 - 0s - loss: 0.0058 - accuracy: 0.8480 - val_loss: 0.0108 - val_accuracy: 0.8970\n",
            "Epoch 716/2000\n",
            "4/4 - 0s - loss: 0.0062 - accuracy: 0.8421 - val_loss: 0.0108 - val_accuracy: 0.8960\n",
            "Epoch 717/2000\n",
            "4/4 - 0s - loss: 0.0057 - accuracy: 0.8559 - val_loss: 0.0109 - val_accuracy: 0.8960\n",
            "Epoch 718/2000\n",
            "4/4 - 0s - loss: 0.0058 - accuracy: 0.8510 - val_loss: 0.0110 - val_accuracy: 0.8960\n",
            "Epoch 719/2000\n",
            "4/4 - 0s - loss: 0.0057 - accuracy: 0.8540 - val_loss: 0.0109 - val_accuracy: 0.8975\n",
            "Epoch 720/2000\n",
            "4/4 - 0s - loss: 0.0058 - accuracy: 0.8500 - val_loss: 0.0108 - val_accuracy: 0.8965\n",
            "Epoch 721/2000\n",
            "4/4 - 0s - loss: 0.0058 - accuracy: 0.8485 - val_loss: 0.0107 - val_accuracy: 0.8965\n",
            "Epoch 722/2000\n",
            "4/4 - 0s - loss: 0.0057 - accuracy: 0.8500 - val_loss: 0.0107 - val_accuracy: 0.8965\n",
            "Epoch 723/2000\n",
            "4/4 - 0s - loss: 0.0058 - accuracy: 0.8470 - val_loss: 0.0108 - val_accuracy: 0.8975\n",
            "Epoch 724/2000\n",
            "4/4 - 0s - loss: 0.0059 - accuracy: 0.8371 - val_loss: 0.0108 - val_accuracy: 0.8970\n",
            "Epoch 725/2000\n",
            "4/4 - 0s - loss: 0.0058 - accuracy: 0.8470 - val_loss: 0.0109 - val_accuracy: 0.8960\n",
            "Epoch 726/2000\n",
            "4/4 - 0s - loss: 0.0058 - accuracy: 0.8554 - val_loss: 0.0109 - val_accuracy: 0.8941\n",
            "Epoch 727/2000\n",
            "4/4 - 0s - loss: 0.0057 - accuracy: 0.8559 - val_loss: 0.0109 - val_accuracy: 0.8931\n",
            "Epoch 728/2000\n",
            "4/4 - 0s - loss: 0.0057 - accuracy: 0.8589 - val_loss: 0.0110 - val_accuracy: 0.8941\n",
            "Epoch 729/2000\n",
            "4/4 - 0s - loss: 0.0058 - accuracy: 0.8465 - val_loss: 0.0109 - val_accuracy: 0.8970\n",
            "Epoch 730/2000\n",
            "4/4 - 0s - loss: 0.0058 - accuracy: 0.8564 - val_loss: 0.0109 - val_accuracy: 0.8975\n",
            "Epoch 731/2000\n",
            "4/4 - 0s - loss: 0.0059 - accuracy: 0.8460 - val_loss: 0.0109 - val_accuracy: 0.9000\n",
            "Epoch 732/2000\n",
            "4/4 - 0s - loss: 0.0060 - accuracy: 0.8426 - val_loss: 0.0108 - val_accuracy: 0.9000\n",
            "Epoch 733/2000\n",
            "4/4 - 0s - loss: 0.0057 - accuracy: 0.8460 - val_loss: 0.0108 - val_accuracy: 0.8955\n",
            "Epoch 734/2000\n",
            "4/4 - 0s - loss: 0.0058 - accuracy: 0.8446 - val_loss: 0.0108 - val_accuracy: 0.8926\n",
            "Epoch 735/2000\n",
            "4/4 - 0s - loss: 0.0057 - accuracy: 0.8450 - val_loss: 0.0107 - val_accuracy: 0.8906\n",
            "Epoch 736/2000\n",
            "4/4 - 0s - loss: 0.0059 - accuracy: 0.8520 - val_loss: 0.0106 - val_accuracy: 0.8856\n",
            "Epoch 737/2000\n",
            "4/4 - 0s - loss: 0.0059 - accuracy: 0.8535 - val_loss: 0.0106 - val_accuracy: 0.8817\n",
            "Epoch 738/2000\n",
            "4/4 - 0s - loss: 0.0059 - accuracy: 0.8554 - val_loss: 0.0107 - val_accuracy: 0.8802\n",
            "Epoch 739/2000\n",
            "4/4 - 0s - loss: 0.0061 - accuracy: 0.8441 - val_loss: 0.0107 - val_accuracy: 0.8817\n",
            "Epoch 740/2000\n",
            "4/4 - 0s - loss: 0.0060 - accuracy: 0.8500 - val_loss: 0.0108 - val_accuracy: 0.8871\n",
            "Epoch 741/2000\n",
            "4/4 - 0s - loss: 0.0058 - accuracy: 0.8540 - val_loss: 0.0108 - val_accuracy: 0.8901\n",
            "Epoch 742/2000\n",
            "4/4 - 0s - loss: 0.0059 - accuracy: 0.8520 - val_loss: 0.0108 - val_accuracy: 0.8906\n",
            "Epoch 743/2000\n",
            "4/4 - 0s - loss: 0.0061 - accuracy: 0.8262 - val_loss: 0.0107 - val_accuracy: 0.8871\n",
            "Epoch 744/2000\n",
            "4/4 - 0s - loss: 0.0059 - accuracy: 0.8470 - val_loss: 0.0106 - val_accuracy: 0.8861\n",
            "Epoch 745/2000\n",
            "4/4 - 0s - loss: 0.0058 - accuracy: 0.8535 - val_loss: 0.0106 - val_accuracy: 0.8851\n",
            "Epoch 746/2000\n",
            "4/4 - 0s - loss: 0.0059 - accuracy: 0.8505 - val_loss: 0.0107 - val_accuracy: 0.8856\n",
            "Epoch 747/2000\n",
            "4/4 - 0s - loss: 0.0059 - accuracy: 0.8594 - val_loss: 0.0108 - val_accuracy: 0.8876\n",
            "Epoch 748/2000\n",
            "4/4 - 0s - loss: 0.0058 - accuracy: 0.8673 - val_loss: 0.0109 - val_accuracy: 0.8891\n",
            "Epoch 749/2000\n",
            "4/4 - 0s - loss: 0.0061 - accuracy: 0.8495 - val_loss: 0.0109 - val_accuracy: 0.8866\n",
            "Epoch 750/2000\n",
            "4/4 - 0s - loss: 0.0059 - accuracy: 0.8396 - val_loss: 0.0108 - val_accuracy: 0.8861\n",
            "Epoch 751/2000\n",
            "4/4 - 0s - loss: 0.0059 - accuracy: 0.8515 - val_loss: 0.0107 - val_accuracy: 0.8866\n",
            "Epoch 752/2000\n",
            "4/4 - 0s - loss: 0.0056 - accuracy: 0.8520 - val_loss: 0.0107 - val_accuracy: 0.8876\n",
            "Epoch 753/2000\n",
            "4/4 - 0s - loss: 0.0061 - accuracy: 0.8450 - val_loss: 0.0107 - val_accuracy: 0.8886\n",
            "Epoch 754/2000\n",
            "4/4 - 0s - loss: 0.0060 - accuracy: 0.8441 - val_loss: 0.0107 - val_accuracy: 0.8906\n",
            "Epoch 755/2000\n",
            "4/4 - 0s - loss: 0.0058 - accuracy: 0.8550 - val_loss: 0.0107 - val_accuracy: 0.8911\n",
            "Epoch 756/2000\n",
            "4/4 - 0s - loss: 0.0059 - accuracy: 0.8554 - val_loss: 0.0107 - val_accuracy: 0.8896\n",
            "Epoch 757/2000\n",
            "4/4 - 0s - loss: 0.0060 - accuracy: 0.8455 - val_loss: 0.0108 - val_accuracy: 0.8881\n",
            "Epoch 758/2000\n",
            "4/4 - 0s - loss: 0.0062 - accuracy: 0.8376 - val_loss: 0.0108 - val_accuracy: 0.8832\n",
            "Epoch 759/2000\n",
            "4/4 - 0s - loss: 0.0061 - accuracy: 0.8540 - val_loss: 0.0108 - val_accuracy: 0.8812\n",
            "Epoch 760/2000\n",
            "4/4 - 0s - loss: 0.0061 - accuracy: 0.8431 - val_loss: 0.0108 - val_accuracy: 0.8812\n",
            "Epoch 761/2000\n",
            "4/4 - 0s - loss: 0.0057 - accuracy: 0.8594 - val_loss: 0.0108 - val_accuracy: 0.8817\n",
            "Epoch 762/2000\n",
            "4/4 - 0s - loss: 0.0054 - accuracy: 0.8619 - val_loss: 0.0108 - val_accuracy: 0.8847\n",
            "Epoch 763/2000\n",
            "4/4 - 0s - loss: 0.0059 - accuracy: 0.8545 - val_loss: 0.0107 - val_accuracy: 0.8856\n",
            "Epoch 764/2000\n",
            "4/4 - 0s - loss: 0.0061 - accuracy: 0.8371 - val_loss: 0.0107 - val_accuracy: 0.8861\n",
            "Epoch 765/2000\n",
            "4/4 - 0s - loss: 0.0056 - accuracy: 0.8475 - val_loss: 0.0108 - val_accuracy: 0.8832\n",
            "Epoch 766/2000\n",
            "4/4 - 0s - loss: 0.0056 - accuracy: 0.8624 - val_loss: 0.0108 - val_accuracy: 0.8827\n",
            "Epoch 767/2000\n",
            "4/4 - 0s - loss: 0.0059 - accuracy: 0.8604 - val_loss: 0.0108 - val_accuracy: 0.8832\n",
            "Epoch 768/2000\n",
            "4/4 - 0s - loss: 0.0059 - accuracy: 0.8450 - val_loss: 0.0107 - val_accuracy: 0.8807\n",
            "Epoch 769/2000\n",
            "4/4 - 0s - loss: 0.0062 - accuracy: 0.8525 - val_loss: 0.0107 - val_accuracy: 0.8802\n",
            "Epoch 770/2000\n",
            "4/4 - 0s - loss: 0.0058 - accuracy: 0.8530 - val_loss: 0.0107 - val_accuracy: 0.8802\n",
            "Epoch 771/2000\n",
            "4/4 - 0s - loss: 0.0058 - accuracy: 0.8500 - val_loss: 0.0107 - val_accuracy: 0.8812\n",
            "Epoch 772/2000\n",
            "4/4 - 0s - loss: 0.0057 - accuracy: 0.8455 - val_loss: 0.0107 - val_accuracy: 0.8817\n",
            "Epoch 773/2000\n",
            "4/4 - 0s - loss: 0.0059 - accuracy: 0.8465 - val_loss: 0.0108 - val_accuracy: 0.8866\n",
            "Epoch 774/2000\n",
            "4/4 - 0s - loss: 0.0056 - accuracy: 0.8619 - val_loss: 0.0108 - val_accuracy: 0.8896\n",
            "Epoch 775/2000\n",
            "4/4 - 0s - loss: 0.0056 - accuracy: 0.8485 - val_loss: 0.0108 - val_accuracy: 0.8921\n",
            "Epoch 776/2000\n",
            "4/4 - 0s - loss: 0.0061 - accuracy: 0.8540 - val_loss: 0.0108 - val_accuracy: 0.8946\n",
            "Epoch 777/2000\n",
            "4/4 - 0s - loss: 0.0061 - accuracy: 0.8386 - val_loss: 0.0108 - val_accuracy: 0.8931\n",
            "Epoch 778/2000\n",
            "4/4 - 0s - loss: 0.0058 - accuracy: 0.8480 - val_loss: 0.0108 - val_accuracy: 0.8911\n",
            "Epoch 779/2000\n",
            "4/4 - 0s - loss: 0.0057 - accuracy: 0.8416 - val_loss: 0.0109 - val_accuracy: 0.8896\n",
            "Epoch 780/2000\n",
            "4/4 - 0s - loss: 0.0060 - accuracy: 0.8579 - val_loss: 0.0109 - val_accuracy: 0.8891\n",
            "Epoch 781/2000\n",
            "4/4 - 0s - loss: 0.0061 - accuracy: 0.8470 - val_loss: 0.0108 - val_accuracy: 0.8871\n",
            "Epoch 782/2000\n",
            "4/4 - 0s - loss: 0.0056 - accuracy: 0.8510 - val_loss: 0.0107 - val_accuracy: 0.8876\n",
            "Epoch 783/2000\n",
            "4/4 - 0s - loss: 0.0060 - accuracy: 0.8302 - val_loss: 0.0107 - val_accuracy: 0.8886\n",
            "Epoch 784/2000\n",
            "4/4 - 0s - loss: 0.0059 - accuracy: 0.8500 - val_loss: 0.0108 - val_accuracy: 0.8906\n",
            "Epoch 785/2000\n",
            "4/4 - 0s - loss: 0.0062 - accuracy: 0.8495 - val_loss: 0.0108 - val_accuracy: 0.8916\n",
            "Epoch 786/2000\n",
            "4/4 - 0s - loss: 0.0059 - accuracy: 0.8530 - val_loss: 0.0108 - val_accuracy: 0.8921\n",
            "Epoch 787/2000\n",
            "4/4 - 0s - loss: 0.0058 - accuracy: 0.8530 - val_loss: 0.0108 - val_accuracy: 0.8926\n",
            "Epoch 788/2000\n",
            "4/4 - 0s - loss: 0.0059 - accuracy: 0.8510 - val_loss: 0.0109 - val_accuracy: 0.8955\n",
            "Epoch 789/2000\n",
            "4/4 - 0s - loss: 0.0059 - accuracy: 0.8441 - val_loss: 0.0110 - val_accuracy: 0.8960\n",
            "Epoch 790/2000\n",
            "4/4 - 0s - loss: 0.0056 - accuracy: 0.8554 - val_loss: 0.0110 - val_accuracy: 0.8946\n",
            "Epoch 791/2000\n",
            "4/4 - 0s - loss: 0.0056 - accuracy: 0.8480 - val_loss: 0.0110 - val_accuracy: 0.8941\n",
            "Epoch 792/2000\n",
            "4/4 - 0s - loss: 0.0058 - accuracy: 0.8604 - val_loss: 0.0110 - val_accuracy: 0.8950\n",
            "Epoch 793/2000\n",
            "4/4 - 0s - loss: 0.0056 - accuracy: 0.8495 - val_loss: 0.0109 - val_accuracy: 0.8955\n",
            "Epoch 794/2000\n",
            "4/4 - 0s - loss: 0.0058 - accuracy: 0.8446 - val_loss: 0.0109 - val_accuracy: 0.8946\n",
            "Epoch 795/2000\n",
            "4/4 - 0s - loss: 0.0062 - accuracy: 0.8475 - val_loss: 0.0108 - val_accuracy: 0.8911\n",
            "Epoch 796/2000\n",
            "4/4 - 0s - loss: 0.0059 - accuracy: 0.8446 - val_loss: 0.0108 - val_accuracy: 0.8886\n",
            "Epoch 797/2000\n",
            "4/4 - 0s - loss: 0.0059 - accuracy: 0.8396 - val_loss: 0.0108 - val_accuracy: 0.8891\n",
            "Epoch 798/2000\n",
            "4/4 - 0s - loss: 0.0062 - accuracy: 0.8490 - val_loss: 0.0108 - val_accuracy: 0.8906\n",
            "Epoch 799/2000\n",
            "4/4 - 0s - loss: 0.0061 - accuracy: 0.8510 - val_loss: 0.0107 - val_accuracy: 0.8926\n",
            "Epoch 800/2000\n",
            "4/4 - 0s - loss: 0.0057 - accuracy: 0.8584 - val_loss: 0.0106 - val_accuracy: 0.8960\n",
            "Epoch 801/2000\n",
            "4/4 - 0s - loss: 0.0056 - accuracy: 0.8337 - val_loss: 0.0107 - val_accuracy: 0.8970\n",
            "Epoch 802/2000\n",
            "4/4 - 0s - loss: 0.0061 - accuracy: 0.8470 - val_loss: 0.0108 - val_accuracy: 0.8965\n",
            "Epoch 803/2000\n",
            "4/4 - 0s - loss: 0.0057 - accuracy: 0.8525 - val_loss: 0.0109 - val_accuracy: 0.8950\n",
            "Epoch 804/2000\n",
            "4/4 - 0s - loss: 0.0057 - accuracy: 0.8554 - val_loss: 0.0109 - val_accuracy: 0.8955\n",
            "Epoch 805/2000\n",
            "4/4 - 0s - loss: 0.0059 - accuracy: 0.8431 - val_loss: 0.0109 - val_accuracy: 0.8975\n",
            "Epoch 806/2000\n",
            "4/4 - 0s - loss: 0.0060 - accuracy: 0.8545 - val_loss: 0.0108 - val_accuracy: 0.8990\n",
            "Epoch 807/2000\n",
            "4/4 - 0s - loss: 0.0059 - accuracy: 0.8431 - val_loss: 0.0108 - val_accuracy: 0.8980\n",
            "Epoch 808/2000\n",
            "4/4 - 0s - loss: 0.0057 - accuracy: 0.8619 - val_loss: 0.0107 - val_accuracy: 0.8990\n",
            "Epoch 809/2000\n",
            "4/4 - 0s - loss: 0.0062 - accuracy: 0.8441 - val_loss: 0.0108 - val_accuracy: 0.8990\n",
            "Epoch 810/2000\n",
            "4/4 - 0s - loss: 0.0058 - accuracy: 0.8574 - val_loss: 0.0108 - val_accuracy: 0.8995\n",
            "Epoch 811/2000\n",
            "4/4 - 0s - loss: 0.0060 - accuracy: 0.8406 - val_loss: 0.0109 - val_accuracy: 0.8995\n",
            "Epoch 812/2000\n",
            "4/4 - 0s - loss: 0.0061 - accuracy: 0.8411 - val_loss: 0.0109 - val_accuracy: 0.8985\n",
            "Epoch 813/2000\n",
            "4/4 - 0s - loss: 0.0055 - accuracy: 0.8554 - val_loss: 0.0109 - val_accuracy: 0.8985\n",
            "Epoch 814/2000\n",
            "4/4 - 0s - loss: 0.0060 - accuracy: 0.8505 - val_loss: 0.0107 - val_accuracy: 0.8990\n",
            "Epoch 815/2000\n",
            "4/4 - 0s - loss: 0.0056 - accuracy: 0.8530 - val_loss: 0.0107 - val_accuracy: 0.8990\n",
            "Epoch 816/2000\n",
            "4/4 - 0s - loss: 0.0058 - accuracy: 0.8475 - val_loss: 0.0107 - val_accuracy: 0.8995\n",
            "Epoch 817/2000\n",
            "4/4 - 0s - loss: 0.0061 - accuracy: 0.8490 - val_loss: 0.0108 - val_accuracy: 0.8990\n",
            "Epoch 818/2000\n",
            "4/4 - 0s - loss: 0.0061 - accuracy: 0.8495 - val_loss: 0.0108 - val_accuracy: 0.8975\n",
            "Epoch 819/2000\n",
            "4/4 - 0s - loss: 0.0059 - accuracy: 0.8540 - val_loss: 0.0108 - val_accuracy: 0.8980\n",
            "Epoch 820/2000\n",
            "4/4 - 0s - loss: 0.0057 - accuracy: 0.8485 - val_loss: 0.0107 - val_accuracy: 0.9000\n",
            "Epoch 821/2000\n",
            "4/4 - 0s - loss: 0.0061 - accuracy: 0.8510 - val_loss: 0.0106 - val_accuracy: 0.9005\n",
            "Epoch 822/2000\n",
            "4/4 - 0s - loss: 0.0058 - accuracy: 0.8470 - val_loss: 0.0106 - val_accuracy: 0.9010\n",
            "Epoch 823/2000\n",
            "4/4 - 0s - loss: 0.0055 - accuracy: 0.8535 - val_loss: 0.0107 - val_accuracy: 0.9025\n",
            "Epoch 824/2000\n",
            "4/4 - 0s - loss: 0.0059 - accuracy: 0.8460 - val_loss: 0.0106 - val_accuracy: 0.9040\n",
            "Epoch 825/2000\n",
            "4/4 - 0s - loss: 0.0060 - accuracy: 0.8406 - val_loss: 0.0106 - val_accuracy: 0.9040\n",
            "Epoch 826/2000\n",
            "4/4 - 0s - loss: 0.0061 - accuracy: 0.8480 - val_loss: 0.0106 - val_accuracy: 0.9025\n",
            "Epoch 827/2000\n",
            "4/4 - 0s - loss: 0.0058 - accuracy: 0.8505 - val_loss: 0.0106 - val_accuracy: 0.9000\n",
            "Epoch 828/2000\n",
            "4/4 - 0s - loss: 0.0061 - accuracy: 0.8480 - val_loss: 0.0106 - val_accuracy: 0.8990\n",
            "Epoch 829/2000\n",
            "4/4 - 0s - loss: 0.0056 - accuracy: 0.8416 - val_loss: 0.0107 - val_accuracy: 0.9020\n",
            "Epoch 830/2000\n",
            "4/4 - 0s - loss: 0.0057 - accuracy: 0.8500 - val_loss: 0.0108 - val_accuracy: 0.9040\n",
            "Epoch 831/2000\n",
            "4/4 - 0s - loss: 0.0063 - accuracy: 0.8381 - val_loss: 0.0109 - val_accuracy: 0.9040\n",
            "Epoch 832/2000\n",
            "4/4 - 0s - loss: 0.0057 - accuracy: 0.8520 - val_loss: 0.0110 - val_accuracy: 0.9025\n",
            "Epoch 833/2000\n",
            "4/4 - 0s - loss: 0.0059 - accuracy: 0.8391 - val_loss: 0.0109 - val_accuracy: 0.9025\n",
            "Epoch 834/2000\n",
            "4/4 - 0s - loss: 0.0057 - accuracy: 0.8520 - val_loss: 0.0109 - val_accuracy: 0.9045\n",
            "Epoch 835/2000\n",
            "4/4 - 0s - loss: 0.0060 - accuracy: 0.8505 - val_loss: 0.0109 - val_accuracy: 0.9054\n",
            "Epoch 836/2000\n",
            "4/4 - 0s - loss: 0.0058 - accuracy: 0.8455 - val_loss: 0.0108 - val_accuracy: 0.9030\n",
            "Epoch 837/2000\n",
            "4/4 - 0s - loss: 0.0057 - accuracy: 0.8490 - val_loss: 0.0108 - val_accuracy: 0.9030\n",
            "Epoch 838/2000\n",
            "4/4 - 0s - loss: 0.0057 - accuracy: 0.8505 - val_loss: 0.0107 - val_accuracy: 0.8995\n",
            "Epoch 839/2000\n",
            "4/4 - 0s - loss: 0.0057 - accuracy: 0.8485 - val_loss: 0.0107 - val_accuracy: 0.8955\n",
            "Epoch 840/2000\n",
            "4/4 - 0s - loss: 0.0059 - accuracy: 0.8485 - val_loss: 0.0107 - val_accuracy: 0.8931\n",
            "Epoch 841/2000\n",
            "4/4 - 0s - loss: 0.0054 - accuracy: 0.8510 - val_loss: 0.0107 - val_accuracy: 0.8916\n",
            "Epoch 842/2000\n",
            "4/4 - 0s - loss: 0.0061 - accuracy: 0.8480 - val_loss: 0.0106 - val_accuracy: 0.8931\n",
            "Epoch 843/2000\n",
            "4/4 - 0s - loss: 0.0059 - accuracy: 0.8441 - val_loss: 0.0106 - val_accuracy: 0.8946\n",
            "Epoch 844/2000\n",
            "4/4 - 0s - loss: 0.0059 - accuracy: 0.8525 - val_loss: 0.0106 - val_accuracy: 0.8950\n",
            "Epoch 845/2000\n",
            "4/4 - 0s - loss: 0.0058 - accuracy: 0.8475 - val_loss: 0.0107 - val_accuracy: 0.8960\n",
            "Epoch 846/2000\n",
            "4/4 - 0s - loss: 0.0057 - accuracy: 0.8579 - val_loss: 0.0108 - val_accuracy: 0.8955\n",
            "Epoch 847/2000\n",
            "4/4 - 0s - loss: 0.0057 - accuracy: 0.8500 - val_loss: 0.0108 - val_accuracy: 0.8941\n",
            "Epoch 848/2000\n",
            "4/4 - 0s - loss: 0.0057 - accuracy: 0.8431 - val_loss: 0.0108 - val_accuracy: 0.8916\n",
            "Epoch 849/2000\n",
            "4/4 - 0s - loss: 0.0058 - accuracy: 0.8436 - val_loss: 0.0107 - val_accuracy: 0.8916\n",
            "Epoch 850/2000\n",
            "4/4 - 0s - loss: 0.0058 - accuracy: 0.8455 - val_loss: 0.0107 - val_accuracy: 0.8931\n",
            "Epoch 851/2000\n",
            "4/4 - 0s - loss: 0.0060 - accuracy: 0.8515 - val_loss: 0.0107 - val_accuracy: 0.8960\n",
            "Epoch 852/2000\n",
            "4/4 - 0s - loss: 0.0060 - accuracy: 0.8391 - val_loss: 0.0106 - val_accuracy: 0.8960\n",
            "Epoch 853/2000\n",
            "4/4 - 0s - loss: 0.0057 - accuracy: 0.8564 - val_loss: 0.0106 - val_accuracy: 0.8970\n",
            "Epoch 854/2000\n",
            "4/4 - 0s - loss: 0.0058 - accuracy: 0.8441 - val_loss: 0.0106 - val_accuracy: 0.8995\n",
            "Epoch 855/2000\n",
            "4/4 - 0s - loss: 0.0060 - accuracy: 0.8416 - val_loss: 0.0106 - val_accuracy: 0.9005\n",
            "Epoch 856/2000\n",
            "4/4 - 0s - loss: 0.0057 - accuracy: 0.8515 - val_loss: 0.0106 - val_accuracy: 0.9005\n",
            "Epoch 857/2000\n",
            "4/4 - 0s - loss: 0.0058 - accuracy: 0.8535 - val_loss: 0.0107 - val_accuracy: 0.9015\n",
            "Epoch 858/2000\n",
            "4/4 - 0s - loss: 0.0059 - accuracy: 0.8465 - val_loss: 0.0107 - val_accuracy: 0.9000\n",
            "Epoch 859/2000\n",
            "4/4 - 0s - loss: 0.0057 - accuracy: 0.8416 - val_loss: 0.0108 - val_accuracy: 0.8995\n",
            "Epoch 860/2000\n",
            "4/4 - 0s - loss: 0.0060 - accuracy: 0.8465 - val_loss: 0.0108 - val_accuracy: 0.8980\n",
            "Epoch 861/2000\n",
            "4/4 - 0s - loss: 0.0058 - accuracy: 0.8525 - val_loss: 0.0108 - val_accuracy: 0.8965\n",
            "Epoch 862/2000\n",
            "4/4 - 0s - loss: 0.0058 - accuracy: 0.8564 - val_loss: 0.0107 - val_accuracy: 0.8950\n",
            "Epoch 863/2000\n",
            "4/4 - 0s - loss: 0.0059 - accuracy: 0.8475 - val_loss: 0.0107 - val_accuracy: 0.8936\n",
            "Epoch 864/2000\n",
            "4/4 - 0s - loss: 0.0060 - accuracy: 0.8391 - val_loss: 0.0107 - val_accuracy: 0.8916\n",
            "Epoch 865/2000\n",
            "4/4 - 0s - loss: 0.0058 - accuracy: 0.8564 - val_loss: 0.0107 - val_accuracy: 0.8911\n",
            "Epoch 866/2000\n",
            "4/4 - 0s - loss: 0.0058 - accuracy: 0.8465 - val_loss: 0.0108 - val_accuracy: 0.8901\n",
            "Epoch 867/2000\n",
            "4/4 - 0s - loss: 0.0060 - accuracy: 0.8411 - val_loss: 0.0108 - val_accuracy: 0.8916\n",
            "Epoch 868/2000\n",
            "4/4 - 0s - loss: 0.0059 - accuracy: 0.8426 - val_loss: 0.0108 - val_accuracy: 0.8936\n",
            "Epoch 869/2000\n",
            "4/4 - 0s - loss: 0.0060 - accuracy: 0.8530 - val_loss: 0.0109 - val_accuracy: 0.8980\n",
            "Epoch 870/2000\n",
            "4/4 - 0s - loss: 0.0058 - accuracy: 0.8594 - val_loss: 0.0109 - val_accuracy: 0.9015\n",
            "Epoch 871/2000\n",
            "4/4 - 0s - loss: 0.0059 - accuracy: 0.8470 - val_loss: 0.0108 - val_accuracy: 0.9015\n",
            "Epoch 872/2000\n",
            "4/4 - 0s - loss: 0.0062 - accuracy: 0.8455 - val_loss: 0.0107 - val_accuracy: 0.8990\n",
            "Epoch 873/2000\n",
            "4/4 - 0s - loss: 0.0058 - accuracy: 0.8406 - val_loss: 0.0107 - val_accuracy: 0.8955\n",
            "Epoch 874/2000\n",
            "4/4 - 0s - loss: 0.0058 - accuracy: 0.8460 - val_loss: 0.0108 - val_accuracy: 0.8926\n",
            "Epoch 875/2000\n",
            "4/4 - 0s - loss: 0.0060 - accuracy: 0.8465 - val_loss: 0.0109 - val_accuracy: 0.8921\n",
            "Epoch 876/2000\n",
            "4/4 - 0s - loss: 0.0056 - accuracy: 0.8500 - val_loss: 0.0109 - val_accuracy: 0.8936\n",
            "Epoch 877/2000\n",
            "4/4 - 0s - loss: 0.0060 - accuracy: 0.8510 - val_loss: 0.0109 - val_accuracy: 0.8926\n",
            "Epoch 878/2000\n",
            "4/4 - 0s - loss: 0.0058 - accuracy: 0.8436 - val_loss: 0.0110 - val_accuracy: 0.8906\n",
            "Epoch 879/2000\n",
            "4/4 - 0s - loss: 0.0058 - accuracy: 0.8515 - val_loss: 0.0109 - val_accuracy: 0.8921\n",
            "Epoch 880/2000\n",
            "4/4 - 0s - loss: 0.0060 - accuracy: 0.8510 - val_loss: 0.0108 - val_accuracy: 0.8911\n",
            "Epoch 881/2000\n",
            "4/4 - 0s - loss: 0.0058 - accuracy: 0.8530 - val_loss: 0.0107 - val_accuracy: 0.8921\n",
            "Epoch 882/2000\n",
            "4/4 - 0s - loss: 0.0056 - accuracy: 0.8604 - val_loss: 0.0106 - val_accuracy: 0.8921\n",
            "Epoch 883/2000\n",
            "4/4 - 0s - loss: 0.0058 - accuracy: 0.8426 - val_loss: 0.0107 - val_accuracy: 0.8916\n",
            "Epoch 884/2000\n",
            "4/4 - 0s - loss: 0.0060 - accuracy: 0.8416 - val_loss: 0.0107 - val_accuracy: 0.8891\n",
            "Epoch 885/2000\n",
            "4/4 - 0s - loss: 0.0059 - accuracy: 0.8421 - val_loss: 0.0108 - val_accuracy: 0.8856\n",
            "Epoch 886/2000\n",
            "4/4 - 0s - loss: 0.0061 - accuracy: 0.8550 - val_loss: 0.0108 - val_accuracy: 0.8851\n",
            "Epoch 887/2000\n",
            "4/4 - 0s - loss: 0.0060 - accuracy: 0.8470 - val_loss: 0.0107 - val_accuracy: 0.8886\n",
            "Epoch 888/2000\n",
            "4/4 - 0s - loss: 0.0058 - accuracy: 0.8421 - val_loss: 0.0107 - val_accuracy: 0.8891\n",
            "Epoch 889/2000\n",
            "4/4 - 0s - loss: 0.0058 - accuracy: 0.8619 - val_loss: 0.0107 - val_accuracy: 0.8901\n",
            "Epoch 890/2000\n",
            "4/4 - 0s - loss: 0.0060 - accuracy: 0.8426 - val_loss: 0.0107 - val_accuracy: 0.8891\n",
            "Epoch 891/2000\n",
            "4/4 - 0s - loss: 0.0059 - accuracy: 0.8515 - val_loss: 0.0107 - val_accuracy: 0.8876\n",
            "Epoch 892/2000\n",
            "4/4 - 0s - loss: 0.0062 - accuracy: 0.8505 - val_loss: 0.0108 - val_accuracy: 0.8876\n",
            "Epoch 893/2000\n",
            "4/4 - 0s - loss: 0.0060 - accuracy: 0.8485 - val_loss: 0.0108 - val_accuracy: 0.8876\n",
            "Epoch 894/2000\n",
            "4/4 - 0s - loss: 0.0058 - accuracy: 0.8465 - val_loss: 0.0108 - val_accuracy: 0.8866\n",
            "Epoch 895/2000\n",
            "4/4 - 0s - loss: 0.0060 - accuracy: 0.8510 - val_loss: 0.0107 - val_accuracy: 0.8886\n",
            "Epoch 896/2000\n",
            "4/4 - 0s - loss: 0.0060 - accuracy: 0.8475 - val_loss: 0.0107 - val_accuracy: 0.8896\n",
            "Epoch 897/2000\n",
            "4/4 - 0s - loss: 0.0058 - accuracy: 0.8455 - val_loss: 0.0108 - val_accuracy: 0.8931\n",
            "Epoch 898/2000\n",
            "4/4 - 0s - loss: 0.0056 - accuracy: 0.8436 - val_loss: 0.0108 - val_accuracy: 0.8955\n",
            "Epoch 899/2000\n",
            "4/4 - 0s - loss: 0.0060 - accuracy: 0.8495 - val_loss: 0.0107 - val_accuracy: 0.8965\n",
            "Epoch 900/2000\n",
            "4/4 - 0s - loss: 0.0058 - accuracy: 0.8530 - val_loss: 0.0107 - val_accuracy: 0.8970\n",
            "Epoch 901/2000\n",
            "4/4 - 0s - loss: 0.0061 - accuracy: 0.8490 - val_loss: 0.0107 - val_accuracy: 0.8946\n",
            "Epoch 902/2000\n",
            "4/4 - 0s - loss: 0.0059 - accuracy: 0.8485 - val_loss: 0.0108 - val_accuracy: 0.8941\n",
            "Epoch 903/2000\n",
            "4/4 - 0s - loss: 0.0057 - accuracy: 0.8460 - val_loss: 0.0108 - val_accuracy: 0.8931\n",
            "Epoch 904/2000\n",
            "4/4 - 0s - loss: 0.0063 - accuracy: 0.8406 - val_loss: 0.0108 - val_accuracy: 0.8931\n",
            "Epoch 905/2000\n",
            "4/4 - 0s - loss: 0.0058 - accuracy: 0.8589 - val_loss: 0.0108 - val_accuracy: 0.8941\n",
            "Epoch 906/2000\n",
            "4/4 - 0s - loss: 0.0059 - accuracy: 0.8535 - val_loss: 0.0107 - val_accuracy: 0.8946\n",
            "Epoch 907/2000\n",
            "4/4 - 0s - loss: 0.0059 - accuracy: 0.8431 - val_loss: 0.0107 - val_accuracy: 0.8946\n",
            "Epoch 908/2000\n",
            "4/4 - 0s - loss: 0.0058 - accuracy: 0.8470 - val_loss: 0.0107 - val_accuracy: 0.8941\n",
            "Epoch 909/2000\n",
            "4/4 - 0s - loss: 0.0058 - accuracy: 0.8386 - val_loss: 0.0107 - val_accuracy: 0.8931\n",
            "Epoch 910/2000\n",
            "4/4 - 0s - loss: 0.0059 - accuracy: 0.8540 - val_loss: 0.0108 - val_accuracy: 0.8931\n",
            "Epoch 911/2000\n",
            "4/4 - 0s - loss: 0.0060 - accuracy: 0.8505 - val_loss: 0.0108 - val_accuracy: 0.8946\n",
            "Epoch 912/2000\n",
            "4/4 - 0s - loss: 0.0059 - accuracy: 0.8490 - val_loss: 0.0109 - val_accuracy: 0.8950\n",
            "Epoch 913/2000\n",
            "4/4 - 0s - loss: 0.0060 - accuracy: 0.8604 - val_loss: 0.0109 - val_accuracy: 0.8965\n",
            "Epoch 914/2000\n",
            "4/4 - 0s - loss: 0.0059 - accuracy: 0.8505 - val_loss: 0.0108 - val_accuracy: 0.8980\n",
            "Epoch 915/2000\n",
            "4/4 - 0s - loss: 0.0056 - accuracy: 0.8505 - val_loss: 0.0107 - val_accuracy: 0.8975\n",
            "Epoch 916/2000\n",
            "4/4 - 0s - loss: 0.0058 - accuracy: 0.8431 - val_loss: 0.0108 - val_accuracy: 0.8970\n",
            "Epoch 917/2000\n",
            "4/4 - 0s - loss: 0.0059 - accuracy: 0.8535 - val_loss: 0.0108 - val_accuracy: 0.8960\n",
            "Epoch 918/2000\n",
            "4/4 - 0s - loss: 0.0062 - accuracy: 0.8450 - val_loss: 0.0108 - val_accuracy: 0.8946\n",
            "Epoch 919/2000\n",
            "4/4 - 0s - loss: 0.0057 - accuracy: 0.8505 - val_loss: 0.0108 - val_accuracy: 0.8901\n",
            "Epoch 920/2000\n",
            "4/4 - 0s - loss: 0.0060 - accuracy: 0.8540 - val_loss: 0.0107 - val_accuracy: 0.8886\n",
            "Epoch 921/2000\n",
            "4/4 - 0s - loss: 0.0058 - accuracy: 0.8460 - val_loss: 0.0108 - val_accuracy: 0.8891\n",
            "Epoch 922/2000\n",
            "4/4 - 0s - loss: 0.0061 - accuracy: 0.8500 - val_loss: 0.0108 - val_accuracy: 0.8861\n",
            "Epoch 923/2000\n",
            "4/4 - 0s - loss: 0.0062 - accuracy: 0.8525 - val_loss: 0.0108 - val_accuracy: 0.8861\n",
            "Epoch 924/2000\n",
            "4/4 - 0s - loss: 0.0061 - accuracy: 0.8391 - val_loss: 0.0108 - val_accuracy: 0.8856\n",
            "Epoch 925/2000\n",
            "4/4 - 0s - loss: 0.0059 - accuracy: 0.8515 - val_loss: 0.0107 - val_accuracy: 0.8876\n",
            "Epoch 926/2000\n",
            "4/4 - 0s - loss: 0.0057 - accuracy: 0.8475 - val_loss: 0.0107 - val_accuracy: 0.8906\n",
            "Epoch 927/2000\n",
            "4/4 - 0s - loss: 0.0058 - accuracy: 0.8604 - val_loss: 0.0108 - val_accuracy: 0.8960\n",
            "Epoch 928/2000\n",
            "4/4 - 0s - loss: 0.0059 - accuracy: 0.8510 - val_loss: 0.0108 - val_accuracy: 0.9000\n",
            "Epoch 929/2000\n",
            "4/4 - 0s - loss: 0.0059 - accuracy: 0.8510 - val_loss: 0.0108 - val_accuracy: 0.9015\n",
            "Epoch 930/2000\n",
            "4/4 - 0s - loss: 0.0059 - accuracy: 0.8505 - val_loss: 0.0108 - val_accuracy: 0.9035\n",
            "Epoch 931/2000\n",
            "4/4 - 0s - loss: 0.0057 - accuracy: 0.8431 - val_loss: 0.0108 - val_accuracy: 0.9040\n",
            "Epoch 932/2000\n",
            "4/4 - 0s - loss: 0.0058 - accuracy: 0.8550 - val_loss: 0.0108 - val_accuracy: 0.9030\n",
            "Epoch 933/2000\n",
            "4/4 - 0s - loss: 0.0060 - accuracy: 0.8505 - val_loss: 0.0108 - val_accuracy: 0.9020\n",
            "Epoch 934/2000\n",
            "4/4 - 0s - loss: 0.0061 - accuracy: 0.8485 - val_loss: 0.0108 - val_accuracy: 0.9000\n",
            "Epoch 935/2000\n",
            "4/4 - 0s - loss: 0.0060 - accuracy: 0.8460 - val_loss: 0.0109 - val_accuracy: 0.8975\n",
            "Epoch 936/2000\n",
            "4/4 - 0s - loss: 0.0059 - accuracy: 0.8535 - val_loss: 0.0109 - val_accuracy: 0.8946\n",
            "Epoch 937/2000\n",
            "4/4 - 0s - loss: 0.0058 - accuracy: 0.8530 - val_loss: 0.0110 - val_accuracy: 0.8921\n",
            "Epoch 938/2000\n",
            "4/4 - 0s - loss: 0.0060 - accuracy: 0.8436 - val_loss: 0.0110 - val_accuracy: 0.8906\n",
            "Epoch 939/2000\n",
            "4/4 - 0s - loss: 0.0060 - accuracy: 0.8490 - val_loss: 0.0109 - val_accuracy: 0.8901\n",
            "Epoch 940/2000\n",
            "4/4 - 0s - loss: 0.0056 - accuracy: 0.8569 - val_loss: 0.0107 - val_accuracy: 0.8926\n",
            "Epoch 941/2000\n",
            "4/4 - 0s - loss: 0.0058 - accuracy: 0.8545 - val_loss: 0.0106 - val_accuracy: 0.8941\n",
            "Epoch 942/2000\n",
            "4/4 - 0s - loss: 0.0060 - accuracy: 0.8510 - val_loss: 0.0106 - val_accuracy: 0.8960\n",
            "Epoch 943/2000\n",
            "4/4 - 0s - loss: 0.0061 - accuracy: 0.8426 - val_loss: 0.0108 - val_accuracy: 0.8970\n",
            "Epoch 944/2000\n",
            "4/4 - 0s - loss: 0.0059 - accuracy: 0.8446 - val_loss: 0.0109 - val_accuracy: 0.9005\n",
            "Epoch 945/2000\n",
            "4/4 - 0s - loss: 0.0058 - accuracy: 0.8446 - val_loss: 0.0108 - val_accuracy: 0.9015\n",
            "Epoch 946/2000\n",
            "4/4 - 0s - loss: 0.0057 - accuracy: 0.8416 - val_loss: 0.0106 - val_accuracy: 0.9035\n",
            "Epoch 947/2000\n",
            "4/4 - 0s - loss: 0.0058 - accuracy: 0.8505 - val_loss: 0.0105 - val_accuracy: 0.9040\n",
            "Epoch 948/2000\n",
            "4/4 - 0s - loss: 0.0059 - accuracy: 0.8431 - val_loss: 0.0105 - val_accuracy: 0.9040\n",
            "Epoch 949/2000\n",
            "4/4 - 0s - loss: 0.0060 - accuracy: 0.8465 - val_loss: 0.0105 - val_accuracy: 0.9035\n",
            "Epoch 950/2000\n",
            "4/4 - 0s - loss: 0.0057 - accuracy: 0.8450 - val_loss: 0.0106 - val_accuracy: 0.9040\n",
            "Epoch 951/2000\n",
            "4/4 - 0s - loss: 0.0060 - accuracy: 0.8450 - val_loss: 0.0106 - val_accuracy: 0.9035\n",
            "Epoch 952/2000\n",
            "4/4 - 0s - loss: 0.0060 - accuracy: 0.8431 - val_loss: 0.0107 - val_accuracy: 0.9035\n",
            "Epoch 953/2000\n",
            "4/4 - 0s - loss: 0.0057 - accuracy: 0.8470 - val_loss: 0.0106 - val_accuracy: 0.9030\n",
            "Epoch 954/2000\n",
            "4/4 - 0s - loss: 0.0059 - accuracy: 0.8530 - val_loss: 0.0106 - val_accuracy: 0.9025\n",
            "Epoch 955/2000\n",
            "4/4 - 0s - loss: 0.0061 - accuracy: 0.8545 - val_loss: 0.0106 - val_accuracy: 0.9020\n",
            "Epoch 956/2000\n",
            "4/4 - 0s - loss: 0.0058 - accuracy: 0.8490 - val_loss: 0.0106 - val_accuracy: 0.9010\n",
            "Epoch 957/2000\n",
            "4/4 - 0s - loss: 0.0056 - accuracy: 0.8515 - val_loss: 0.0106 - val_accuracy: 0.8985\n",
            "Epoch 958/2000\n",
            "4/4 - 0s - loss: 0.0058 - accuracy: 0.8475 - val_loss: 0.0106 - val_accuracy: 0.8955\n",
            "Epoch 959/2000\n",
            "4/4 - 0s - loss: 0.0059 - accuracy: 0.8574 - val_loss: 0.0107 - val_accuracy: 0.8950\n",
            "Epoch 960/2000\n",
            "4/4 - 0s - loss: 0.0056 - accuracy: 0.8584 - val_loss: 0.0107 - val_accuracy: 0.8955\n",
            "Epoch 961/2000\n",
            "4/4 - 0s - loss: 0.0056 - accuracy: 0.8589 - val_loss: 0.0107 - val_accuracy: 0.8955\n",
            "Epoch 962/2000\n",
            "4/4 - 0s - loss: 0.0057 - accuracy: 0.8495 - val_loss: 0.0107 - val_accuracy: 0.8960\n",
            "Epoch 963/2000\n",
            "4/4 - 0s - loss: 0.0059 - accuracy: 0.8574 - val_loss: 0.0106 - val_accuracy: 0.8970\n",
            "Epoch 964/2000\n",
            "4/4 - 0s - loss: 0.0059 - accuracy: 0.8485 - val_loss: 0.0106 - val_accuracy: 0.8950\n",
            "Epoch 965/2000\n",
            "4/4 - 0s - loss: 0.0058 - accuracy: 0.8450 - val_loss: 0.0106 - val_accuracy: 0.8950\n",
            "Epoch 966/2000\n",
            "4/4 - 0s - loss: 0.0054 - accuracy: 0.8550 - val_loss: 0.0107 - val_accuracy: 0.8946\n",
            "Epoch 967/2000\n",
            "4/4 - 0s - loss: 0.0060 - accuracy: 0.8574 - val_loss: 0.0108 - val_accuracy: 0.8941\n",
            "Epoch 968/2000\n",
            "4/4 - 0s - loss: 0.0055 - accuracy: 0.8609 - val_loss: 0.0108 - val_accuracy: 0.8936\n",
            "Epoch 969/2000\n",
            "4/4 - 0s - loss: 0.0060 - accuracy: 0.8520 - val_loss: 0.0108 - val_accuracy: 0.8946\n",
            "Epoch 970/2000\n",
            "4/4 - 0s - loss: 0.0056 - accuracy: 0.8584 - val_loss: 0.0107 - val_accuracy: 0.8970\n",
            "Epoch 971/2000\n",
            "4/4 - 0s - loss: 0.0057 - accuracy: 0.8599 - val_loss: 0.0106 - val_accuracy: 0.9005\n",
            "Epoch 972/2000\n",
            "4/4 - 0s - loss: 0.0057 - accuracy: 0.8550 - val_loss: 0.0106 - val_accuracy: 0.9030\n",
            "Epoch 973/2000\n",
            "4/4 - 0s - loss: 0.0059 - accuracy: 0.8441 - val_loss: 0.0107 - val_accuracy: 0.9045\n",
            "Epoch 974/2000\n",
            "4/4 - 0s - loss: 0.0059 - accuracy: 0.8460 - val_loss: 0.0107 - val_accuracy: 0.9030\n",
            "Epoch 975/2000\n",
            "4/4 - 0s - loss: 0.0056 - accuracy: 0.8564 - val_loss: 0.0108 - val_accuracy: 0.9010\n",
            "Epoch 976/2000\n",
            "4/4 - 0s - loss: 0.0056 - accuracy: 0.8559 - val_loss: 0.0108 - val_accuracy: 0.8975\n",
            "Epoch 977/2000\n",
            "4/4 - 0s - loss: 0.0058 - accuracy: 0.8485 - val_loss: 0.0108 - val_accuracy: 0.8950\n",
            "Epoch 978/2000\n",
            "4/4 - 0s - loss: 0.0059 - accuracy: 0.8450 - val_loss: 0.0109 - val_accuracy: 0.8941\n",
            "Epoch 979/2000\n",
            "4/4 - 0s - loss: 0.0060 - accuracy: 0.8505 - val_loss: 0.0108 - val_accuracy: 0.8906\n",
            "Epoch 980/2000\n",
            "4/4 - 0s - loss: 0.0058 - accuracy: 0.8530 - val_loss: 0.0107 - val_accuracy: 0.8886\n",
            "Epoch 981/2000\n",
            "4/4 - 0s - loss: 0.0060 - accuracy: 0.8550 - val_loss: 0.0106 - val_accuracy: 0.8886\n",
            "Epoch 982/2000\n",
            "4/4 - 0s - loss: 0.0057 - accuracy: 0.8480 - val_loss: 0.0105 - val_accuracy: 0.8901\n",
            "Epoch 983/2000\n",
            "4/4 - 0s - loss: 0.0059 - accuracy: 0.8381 - val_loss: 0.0106 - val_accuracy: 0.8916\n",
            "Epoch 984/2000\n",
            "4/4 - 0s - loss: 0.0058 - accuracy: 0.8441 - val_loss: 0.0106 - val_accuracy: 0.8891\n",
            "Epoch 985/2000\n",
            "4/4 - 0s - loss: 0.0060 - accuracy: 0.8465 - val_loss: 0.0106 - val_accuracy: 0.8866\n",
            "Epoch 986/2000\n",
            "4/4 - 0s - loss: 0.0058 - accuracy: 0.8485 - val_loss: 0.0106 - val_accuracy: 0.8861\n",
            "Epoch 987/2000\n",
            "4/4 - 0s - loss: 0.0057 - accuracy: 0.8510 - val_loss: 0.0106 - val_accuracy: 0.8861\n",
            "Epoch 988/2000\n",
            "4/4 - 0s - loss: 0.0059 - accuracy: 0.8520 - val_loss: 0.0106 - val_accuracy: 0.8861\n",
            "Epoch 989/2000\n",
            "4/4 - 0s - loss: 0.0059 - accuracy: 0.8535 - val_loss: 0.0106 - val_accuracy: 0.8886\n",
            "Epoch 990/2000\n",
            "4/4 - 0s - loss: 0.0057 - accuracy: 0.8455 - val_loss: 0.0107 - val_accuracy: 0.8891\n",
            "Epoch 991/2000\n",
            "4/4 - 0s - loss: 0.0059 - accuracy: 0.8574 - val_loss: 0.0107 - val_accuracy: 0.8931\n",
            "Epoch 992/2000\n",
            "4/4 - 0s - loss: 0.0057 - accuracy: 0.8564 - val_loss: 0.0107 - val_accuracy: 0.8960\n",
            "Epoch 993/2000\n",
            "4/4 - 0s - loss: 0.0061 - accuracy: 0.8460 - val_loss: 0.0107 - val_accuracy: 0.8960\n",
            "Epoch 994/2000\n",
            "4/4 - 0s - loss: 0.0060 - accuracy: 0.8455 - val_loss: 0.0107 - val_accuracy: 0.8950\n",
            "Epoch 995/2000\n",
            "4/4 - 0s - loss: 0.0056 - accuracy: 0.8485 - val_loss: 0.0107 - val_accuracy: 0.8946\n",
            "Epoch 996/2000\n",
            "4/4 - 0s - loss: 0.0060 - accuracy: 0.8510 - val_loss: 0.0108 - val_accuracy: 0.8916\n",
            "Epoch 997/2000\n",
            "4/4 - 0s - loss: 0.0057 - accuracy: 0.8480 - val_loss: 0.0108 - val_accuracy: 0.8901\n",
            "Epoch 998/2000\n",
            "4/4 - 0s - loss: 0.0058 - accuracy: 0.8550 - val_loss: 0.0108 - val_accuracy: 0.8901\n",
            "Epoch 999/2000\n",
            "4/4 - 0s - loss: 0.0061 - accuracy: 0.8495 - val_loss: 0.0108 - val_accuracy: 0.8886\n",
            "Epoch 1000/2000\n",
            "4/4 - 0s - loss: 0.0058 - accuracy: 0.8703 - val_loss: 0.0108 - val_accuracy: 0.8876\n",
            "Epoch 1001/2000\n",
            "4/4 - 0s - loss: 0.0058 - accuracy: 0.8386 - val_loss: 0.0108 - val_accuracy: 0.8861\n",
            "Epoch 1002/2000\n",
            "4/4 - 0s - loss: 0.0056 - accuracy: 0.8520 - val_loss: 0.0108 - val_accuracy: 0.8856\n",
            "Epoch 1003/2000\n",
            "4/4 - 0s - loss: 0.0057 - accuracy: 0.8510 - val_loss: 0.0107 - val_accuracy: 0.8856\n",
            "Epoch 1004/2000\n",
            "4/4 - 0s - loss: 0.0059 - accuracy: 0.8446 - val_loss: 0.0107 - val_accuracy: 0.8851\n",
            "Epoch 1005/2000\n",
            "4/4 - 0s - loss: 0.0062 - accuracy: 0.8411 - val_loss: 0.0107 - val_accuracy: 0.8847\n",
            "Epoch 1006/2000\n",
            "4/4 - 0s - loss: 0.0057 - accuracy: 0.8584 - val_loss: 0.0106 - val_accuracy: 0.8847\n",
            "Epoch 1007/2000\n",
            "4/4 - 0s - loss: 0.0058 - accuracy: 0.8540 - val_loss: 0.0107 - val_accuracy: 0.8876\n",
            "Epoch 1008/2000\n",
            "4/4 - 0s - loss: 0.0060 - accuracy: 0.8520 - val_loss: 0.0107 - val_accuracy: 0.8906\n",
            "Epoch 1009/2000\n",
            "4/4 - 0s - loss: 0.0059 - accuracy: 0.8535 - val_loss: 0.0107 - val_accuracy: 0.8936\n",
            "Epoch 1010/2000\n",
            "4/4 - 0s - loss: 0.0059 - accuracy: 0.8525 - val_loss: 0.0106 - val_accuracy: 0.8970\n",
            "Epoch 1011/2000\n",
            "4/4 - 0s - loss: 0.0064 - accuracy: 0.8436 - val_loss: 0.0106 - val_accuracy: 0.8975\n",
            "Epoch 1012/2000\n",
            "4/4 - 0s - loss: 0.0059 - accuracy: 0.8411 - val_loss: 0.0107 - val_accuracy: 0.8990\n",
            "Epoch 1013/2000\n",
            "4/4 - 0s - loss: 0.0058 - accuracy: 0.8465 - val_loss: 0.0108 - val_accuracy: 0.9000\n",
            "Epoch 1014/2000\n",
            "4/4 - 0s - loss: 0.0061 - accuracy: 0.8594 - val_loss: 0.0108 - val_accuracy: 0.9020\n",
            "Epoch 1015/2000\n",
            "4/4 - 0s - loss: 0.0059 - accuracy: 0.8426 - val_loss: 0.0108 - val_accuracy: 0.9015\n",
            "Epoch 1016/2000\n",
            "4/4 - 0s - loss: 0.0057 - accuracy: 0.8540 - val_loss: 0.0106 - val_accuracy: 0.9005\n",
            "Epoch 1017/2000\n",
            "4/4 - 0s - loss: 0.0058 - accuracy: 0.8545 - val_loss: 0.0106 - val_accuracy: 0.9010\n",
            "Epoch 1018/2000\n",
            "4/4 - 0s - loss: 0.0058 - accuracy: 0.8525 - val_loss: 0.0106 - val_accuracy: 0.8995\n",
            "Epoch 1019/2000\n",
            "4/4 - 0s - loss: 0.0055 - accuracy: 0.8470 - val_loss: 0.0107 - val_accuracy: 0.8980\n",
            "Epoch 1020/2000\n",
            "4/4 - 0s - loss: 0.0056 - accuracy: 0.8535 - val_loss: 0.0108 - val_accuracy: 0.8950\n",
            "Epoch 1021/2000\n",
            "4/4 - 0s - loss: 0.0060 - accuracy: 0.8460 - val_loss: 0.0108 - val_accuracy: 0.8911\n",
            "Epoch 1022/2000\n",
            "4/4 - 0s - loss: 0.0057 - accuracy: 0.8446 - val_loss: 0.0108 - val_accuracy: 0.8886\n",
            "Epoch 1023/2000\n",
            "4/4 - 0s - loss: 0.0060 - accuracy: 0.8540 - val_loss: 0.0107 - val_accuracy: 0.8861\n",
            "Epoch 1024/2000\n",
            "4/4 - 0s - loss: 0.0058 - accuracy: 0.8450 - val_loss: 0.0107 - val_accuracy: 0.8851\n",
            "Epoch 1025/2000\n",
            "4/4 - 0s - loss: 0.0056 - accuracy: 0.8520 - val_loss: 0.0107 - val_accuracy: 0.8871\n",
            "Epoch 1026/2000\n",
            "4/4 - 0s - loss: 0.0060 - accuracy: 0.8515 - val_loss: 0.0107 - val_accuracy: 0.8881\n",
            "Epoch 1027/2000\n",
            "4/4 - 0s - loss: 0.0059 - accuracy: 0.8485 - val_loss: 0.0107 - val_accuracy: 0.8886\n",
            "Epoch 1028/2000\n",
            "4/4 - 0s - loss: 0.0059 - accuracy: 0.8525 - val_loss: 0.0107 - val_accuracy: 0.8891\n",
            "Epoch 1029/2000\n",
            "4/4 - 0s - loss: 0.0058 - accuracy: 0.8505 - val_loss: 0.0107 - val_accuracy: 0.8901\n",
            "Epoch 1030/2000\n",
            "4/4 - 0s - loss: 0.0059 - accuracy: 0.8540 - val_loss: 0.0107 - val_accuracy: 0.8891\n",
            "Epoch 1031/2000\n",
            "4/4 - 0s - loss: 0.0059 - accuracy: 0.8475 - val_loss: 0.0107 - val_accuracy: 0.8876\n",
            "Epoch 1032/2000\n",
            "4/4 - 0s - loss: 0.0057 - accuracy: 0.8564 - val_loss: 0.0107 - val_accuracy: 0.8847\n",
            "Epoch 1033/2000\n",
            "4/4 - 0s - loss: 0.0062 - accuracy: 0.8401 - val_loss: 0.0107 - val_accuracy: 0.8851\n",
            "Epoch 1034/2000\n",
            "4/4 - 0s - loss: 0.0059 - accuracy: 0.8530 - val_loss: 0.0107 - val_accuracy: 0.8856\n",
            "Epoch 1035/2000\n",
            "4/4 - 0s - loss: 0.0057 - accuracy: 0.8495 - val_loss: 0.0108 - val_accuracy: 0.8866\n",
            "Epoch 1036/2000\n",
            "4/4 - 0s - loss: 0.0058 - accuracy: 0.8564 - val_loss: 0.0108 - val_accuracy: 0.8886\n",
            "Epoch 1037/2000\n",
            "4/4 - 0s - loss: 0.0056 - accuracy: 0.8436 - val_loss: 0.0108 - val_accuracy: 0.8881\n",
            "Epoch 1038/2000\n",
            "4/4 - 0s - loss: 0.0059 - accuracy: 0.8624 - val_loss: 0.0108 - val_accuracy: 0.8866\n",
            "Epoch 1039/2000\n",
            "4/4 - 0s - loss: 0.0059 - accuracy: 0.8520 - val_loss: 0.0107 - val_accuracy: 0.8856\n",
            "Epoch 1040/2000\n",
            "4/4 - 0s - loss: 0.0060 - accuracy: 0.8450 - val_loss: 0.0107 - val_accuracy: 0.8842\n",
            "Epoch 1041/2000\n",
            "4/4 - 0s - loss: 0.0058 - accuracy: 0.8455 - val_loss: 0.0107 - val_accuracy: 0.8842\n",
            "Epoch 1042/2000\n",
            "4/4 - 0s - loss: 0.0058 - accuracy: 0.8540 - val_loss: 0.0107 - val_accuracy: 0.8847\n",
            "Epoch 1043/2000\n",
            "4/4 - 0s - loss: 0.0058 - accuracy: 0.8520 - val_loss: 0.0108 - val_accuracy: 0.8847\n",
            "Epoch 1044/2000\n",
            "4/4 - 0s - loss: 0.0061 - accuracy: 0.8579 - val_loss: 0.0108 - val_accuracy: 0.8861\n",
            "Epoch 1045/2000\n",
            "4/4 - 0s - loss: 0.0058 - accuracy: 0.8530 - val_loss: 0.0109 - val_accuracy: 0.8861\n",
            "Epoch 1046/2000\n",
            "4/4 - 0s - loss: 0.0057 - accuracy: 0.8475 - val_loss: 0.0109 - val_accuracy: 0.8871\n",
            "Epoch 1047/2000\n",
            "4/4 - 0s - loss: 0.0061 - accuracy: 0.8515 - val_loss: 0.0109 - val_accuracy: 0.8886\n",
            "Epoch 1048/2000\n",
            "4/4 - 0s - loss: 0.0060 - accuracy: 0.8525 - val_loss: 0.0108 - val_accuracy: 0.8911\n",
            "Epoch 1049/2000\n",
            "4/4 - 0s - loss: 0.0060 - accuracy: 0.8475 - val_loss: 0.0108 - val_accuracy: 0.8911\n",
            "Epoch 1050/2000\n",
            "4/4 - 0s - loss: 0.0059 - accuracy: 0.8520 - val_loss: 0.0107 - val_accuracy: 0.8926\n",
            "Epoch 1051/2000\n",
            "4/4 - 0s - loss: 0.0057 - accuracy: 0.8569 - val_loss: 0.0107 - val_accuracy: 0.8931\n",
            "Epoch 1052/2000\n",
            "4/4 - 0s - loss: 0.0061 - accuracy: 0.8609 - val_loss: 0.0107 - val_accuracy: 0.8931\n",
            "Epoch 1053/2000\n",
            "4/4 - 0s - loss: 0.0059 - accuracy: 0.8540 - val_loss: 0.0107 - val_accuracy: 0.8955\n",
            "Epoch 1054/2000\n",
            "4/4 - 0s - loss: 0.0057 - accuracy: 0.8510 - val_loss: 0.0107 - val_accuracy: 0.8936\n",
            "Epoch 1055/2000\n",
            "4/4 - 0s - loss: 0.0057 - accuracy: 0.8569 - val_loss: 0.0108 - val_accuracy: 0.8891\n",
            "Epoch 1056/2000\n",
            "4/4 - 0s - loss: 0.0063 - accuracy: 0.8505 - val_loss: 0.0108 - val_accuracy: 0.8866\n",
            "Epoch 1057/2000\n",
            "4/4 - 0s - loss: 0.0060 - accuracy: 0.8480 - val_loss: 0.0108 - val_accuracy: 0.8861\n",
            "Epoch 1058/2000\n",
            "4/4 - 0s - loss: 0.0060 - accuracy: 0.8465 - val_loss: 0.0108 - val_accuracy: 0.8856\n",
            "Epoch 1059/2000\n",
            "4/4 - 0s - loss: 0.0059 - accuracy: 0.8614 - val_loss: 0.0107 - val_accuracy: 0.8871\n",
            "Epoch 1060/2000\n",
            "4/4 - 0s - loss: 0.0058 - accuracy: 0.8455 - val_loss: 0.0107 - val_accuracy: 0.8856\n",
            "Epoch 1061/2000\n",
            "4/4 - 0s - loss: 0.0056 - accuracy: 0.8421 - val_loss: 0.0106 - val_accuracy: 0.8842\n",
            "Epoch 1062/2000\n",
            "4/4 - 0s - loss: 0.0056 - accuracy: 0.8505 - val_loss: 0.0107 - val_accuracy: 0.8851\n",
            "Epoch 1063/2000\n",
            "4/4 - 0s - loss: 0.0061 - accuracy: 0.8460 - val_loss: 0.0107 - val_accuracy: 0.8861\n",
            "Epoch 1064/2000\n",
            "4/4 - 0s - loss: 0.0060 - accuracy: 0.8455 - val_loss: 0.0107 - val_accuracy: 0.8851\n",
            "Epoch 1065/2000\n",
            "4/4 - 0s - loss: 0.0059 - accuracy: 0.8431 - val_loss: 0.0108 - val_accuracy: 0.8837\n",
            "Epoch 1066/2000\n",
            "4/4 - 0s - loss: 0.0055 - accuracy: 0.8500 - val_loss: 0.0108 - val_accuracy: 0.8847\n",
            "Epoch 1067/2000\n",
            "4/4 - 0s - loss: 0.0062 - accuracy: 0.8540 - val_loss: 0.0108 - val_accuracy: 0.8886\n",
            "Epoch 1068/2000\n",
            "4/4 - 0s - loss: 0.0059 - accuracy: 0.8525 - val_loss: 0.0108 - val_accuracy: 0.8926\n",
            "Epoch 1069/2000\n",
            "4/4 - 0s - loss: 0.0059 - accuracy: 0.8500 - val_loss: 0.0108 - val_accuracy: 0.8931\n",
            "Epoch 1070/2000\n",
            "4/4 - 0s - loss: 0.0058 - accuracy: 0.8465 - val_loss: 0.0108 - val_accuracy: 0.8950\n",
            "Epoch 1071/2000\n",
            "4/4 - 0s - loss: 0.0059 - accuracy: 0.8505 - val_loss: 0.0108 - val_accuracy: 0.8941\n",
            "Epoch 1072/2000\n",
            "4/4 - 0s - loss: 0.0059 - accuracy: 0.8594 - val_loss: 0.0107 - val_accuracy: 0.8916\n",
            "Epoch 1073/2000\n",
            "4/4 - 0s - loss: 0.0058 - accuracy: 0.8475 - val_loss: 0.0106 - val_accuracy: 0.8881\n",
            "Epoch 1074/2000\n",
            "4/4 - 0s - loss: 0.0058 - accuracy: 0.8490 - val_loss: 0.0106 - val_accuracy: 0.8837\n",
            "Epoch 1075/2000\n",
            "4/4 - 0s - loss: 0.0056 - accuracy: 0.8540 - val_loss: 0.0106 - val_accuracy: 0.8832\n",
            "Epoch 1076/2000\n",
            "4/4 - 0s - loss: 0.0056 - accuracy: 0.8465 - val_loss: 0.0106 - val_accuracy: 0.8832\n",
            "Epoch 1077/2000\n",
            "4/4 - 0s - loss: 0.0058 - accuracy: 0.8550 - val_loss: 0.0107 - val_accuracy: 0.8847\n",
            "Epoch 1078/2000\n",
            "4/4 - 0s - loss: 0.0057 - accuracy: 0.8495 - val_loss: 0.0108 - val_accuracy: 0.8871\n",
            "Epoch 1079/2000\n",
            "4/4 - 0s - loss: 0.0062 - accuracy: 0.8520 - val_loss: 0.0109 - val_accuracy: 0.8866\n",
            "Epoch 1080/2000\n",
            "4/4 - 0s - loss: 0.0058 - accuracy: 0.8535 - val_loss: 0.0108 - val_accuracy: 0.8871\n",
            "Epoch 1081/2000\n",
            "4/4 - 0s - loss: 0.0059 - accuracy: 0.8441 - val_loss: 0.0108 - val_accuracy: 0.8886\n",
            "Epoch 1082/2000\n",
            "4/4 - 0s - loss: 0.0059 - accuracy: 0.8545 - val_loss: 0.0107 - val_accuracy: 0.8891\n",
            "Epoch 1083/2000\n",
            "4/4 - 0s - loss: 0.0061 - accuracy: 0.8485 - val_loss: 0.0107 - val_accuracy: 0.8896\n",
            "Epoch 1084/2000\n",
            "4/4 - 0s - loss: 0.0061 - accuracy: 0.8569 - val_loss: 0.0107 - val_accuracy: 0.8881\n",
            "Epoch 1085/2000\n",
            "4/4 - 0s - loss: 0.0058 - accuracy: 0.8495 - val_loss: 0.0107 - val_accuracy: 0.8866\n",
            "Epoch 1086/2000\n",
            "4/4 - 0s - loss: 0.0060 - accuracy: 0.8500 - val_loss: 0.0107 - val_accuracy: 0.8856\n",
            "Epoch 1087/2000\n",
            "4/4 - 0s - loss: 0.0055 - accuracy: 0.8604 - val_loss: 0.0107 - val_accuracy: 0.8851\n",
            "Epoch 1088/2000\n",
            "4/4 - 0s - loss: 0.0057 - accuracy: 0.8465 - val_loss: 0.0107 - val_accuracy: 0.8847\n",
            "Epoch 1089/2000\n",
            "4/4 - 0s - loss: 0.0055 - accuracy: 0.8550 - val_loss: 0.0107 - val_accuracy: 0.8861\n",
            "Epoch 1090/2000\n",
            "4/4 - 0s - loss: 0.0059 - accuracy: 0.8480 - val_loss: 0.0108 - val_accuracy: 0.8886\n",
            "Epoch 1091/2000\n",
            "4/4 - 0s - loss: 0.0057 - accuracy: 0.8470 - val_loss: 0.0108 - val_accuracy: 0.8906\n",
            "Epoch 1092/2000\n",
            "4/4 - 0s - loss: 0.0056 - accuracy: 0.8356 - val_loss: 0.0109 - val_accuracy: 0.8916\n",
            "Epoch 1093/2000\n",
            "4/4 - 0s - loss: 0.0057 - accuracy: 0.8441 - val_loss: 0.0108 - val_accuracy: 0.8921\n",
            "Epoch 1094/2000\n",
            "4/4 - 0s - loss: 0.0059 - accuracy: 0.8569 - val_loss: 0.0108 - val_accuracy: 0.8916\n",
            "Epoch 1095/2000\n",
            "4/4 - 0s - loss: 0.0056 - accuracy: 0.8426 - val_loss: 0.0107 - val_accuracy: 0.8916\n",
            "Epoch 1096/2000\n",
            "4/4 - 0s - loss: 0.0063 - accuracy: 0.8540 - val_loss: 0.0107 - val_accuracy: 0.8906\n",
            "Epoch 1097/2000\n",
            "4/4 - 0s - loss: 0.0060 - accuracy: 0.8460 - val_loss: 0.0108 - val_accuracy: 0.8881\n",
            "Epoch 1098/2000\n",
            "4/4 - 0s - loss: 0.0061 - accuracy: 0.8594 - val_loss: 0.0108 - val_accuracy: 0.8881\n",
            "Epoch 1099/2000\n",
            "4/4 - 0s - loss: 0.0061 - accuracy: 0.8485 - val_loss: 0.0107 - val_accuracy: 0.8886\n",
            "Epoch 1100/2000\n",
            "4/4 - 0s - loss: 0.0060 - accuracy: 0.8480 - val_loss: 0.0107 - val_accuracy: 0.8896\n",
            "Epoch 1101/2000\n",
            "4/4 - 0s - loss: 0.0059 - accuracy: 0.8574 - val_loss: 0.0106 - val_accuracy: 0.8906\n",
            "Epoch 1102/2000\n",
            "4/4 - 0s - loss: 0.0059 - accuracy: 0.8500 - val_loss: 0.0106 - val_accuracy: 0.8896\n",
            "Epoch 1103/2000\n",
            "4/4 - 0s - loss: 0.0061 - accuracy: 0.8421 - val_loss: 0.0106 - val_accuracy: 0.8881\n",
            "Epoch 1104/2000\n",
            "4/4 - 0s - loss: 0.0055 - accuracy: 0.8535 - val_loss: 0.0106 - val_accuracy: 0.8891\n",
            "Epoch 1105/2000\n",
            "4/4 - 0s - loss: 0.0058 - accuracy: 0.8535 - val_loss: 0.0106 - val_accuracy: 0.8906\n",
            "Epoch 1106/2000\n",
            "4/4 - 0s - loss: 0.0059 - accuracy: 0.8554 - val_loss: 0.0106 - val_accuracy: 0.8921\n",
            "Epoch 1107/2000\n",
            "4/4 - 0s - loss: 0.0058 - accuracy: 0.8584 - val_loss: 0.0106 - val_accuracy: 0.8936\n",
            "Epoch 1108/2000\n",
            "4/4 - 0s - loss: 0.0058 - accuracy: 0.8436 - val_loss: 0.0106 - val_accuracy: 0.8921\n",
            "Epoch 1109/2000\n",
            "4/4 - 0s - loss: 0.0061 - accuracy: 0.8579 - val_loss: 0.0106 - val_accuracy: 0.8921\n",
            "Epoch 1110/2000\n",
            "4/4 - 0s - loss: 0.0058 - accuracy: 0.8500 - val_loss: 0.0106 - val_accuracy: 0.8891\n",
            "Epoch 1111/2000\n",
            "4/4 - 0s - loss: 0.0056 - accuracy: 0.8490 - val_loss: 0.0106 - val_accuracy: 0.8866\n",
            "Epoch 1112/2000\n",
            "4/4 - 0s - loss: 0.0060 - accuracy: 0.8490 - val_loss: 0.0107 - val_accuracy: 0.8851\n",
            "Epoch 1113/2000\n",
            "4/4 - 0s - loss: 0.0058 - accuracy: 0.8450 - val_loss: 0.0107 - val_accuracy: 0.8842\n",
            "Epoch 1114/2000\n",
            "4/4 - 0s - loss: 0.0058 - accuracy: 0.8455 - val_loss: 0.0108 - val_accuracy: 0.8842\n",
            "Epoch 1115/2000\n",
            "4/4 - 0s - loss: 0.0057 - accuracy: 0.8495 - val_loss: 0.0108 - val_accuracy: 0.8847\n",
            "Epoch 1116/2000\n",
            "4/4 - 0s - loss: 0.0058 - accuracy: 0.8510 - val_loss: 0.0108 - val_accuracy: 0.8861\n",
            "Epoch 1117/2000\n",
            "4/4 - 0s - loss: 0.0056 - accuracy: 0.8520 - val_loss: 0.0108 - val_accuracy: 0.8881\n",
            "Epoch 1118/2000\n",
            "4/4 - 0s - loss: 0.0059 - accuracy: 0.8604 - val_loss: 0.0107 - val_accuracy: 0.8901\n",
            "Epoch 1119/2000\n",
            "4/4 - 0s - loss: 0.0057 - accuracy: 0.8500 - val_loss: 0.0107 - val_accuracy: 0.8926\n",
            "Epoch 1120/2000\n",
            "4/4 - 0s - loss: 0.0061 - accuracy: 0.8460 - val_loss: 0.0107 - val_accuracy: 0.8931\n",
            "Epoch 1121/2000\n",
            "4/4 - 0s - loss: 0.0060 - accuracy: 0.8530 - val_loss: 0.0107 - val_accuracy: 0.8941\n",
            "Epoch 1122/2000\n",
            "4/4 - 0s - loss: 0.0062 - accuracy: 0.8485 - val_loss: 0.0108 - val_accuracy: 0.8941\n",
            "Epoch 1123/2000\n",
            "4/4 - 0s - loss: 0.0059 - accuracy: 0.8485 - val_loss: 0.0109 - val_accuracy: 0.8941\n",
            "Epoch 1124/2000\n",
            "4/4 - 0s - loss: 0.0060 - accuracy: 0.8426 - val_loss: 0.0108 - val_accuracy: 0.8931\n",
            "Epoch 1125/2000\n",
            "4/4 - 0s - loss: 0.0058 - accuracy: 0.8450 - val_loss: 0.0107 - val_accuracy: 0.8906\n",
            "Epoch 1126/2000\n",
            "4/4 - 0s - loss: 0.0057 - accuracy: 0.8559 - val_loss: 0.0107 - val_accuracy: 0.8901\n",
            "Epoch 1127/2000\n",
            "4/4 - 0s - loss: 0.0058 - accuracy: 0.8495 - val_loss: 0.0106 - val_accuracy: 0.8901\n",
            "Epoch 1128/2000\n",
            "4/4 - 0s - loss: 0.0058 - accuracy: 0.8510 - val_loss: 0.0106 - val_accuracy: 0.8921\n",
            "Epoch 1129/2000\n",
            "4/4 - 0s - loss: 0.0058 - accuracy: 0.8426 - val_loss: 0.0107 - val_accuracy: 0.8936\n",
            "Epoch 1130/2000\n",
            "4/4 - 0s - loss: 0.0058 - accuracy: 0.8431 - val_loss: 0.0108 - val_accuracy: 0.8906\n",
            "Epoch 1131/2000\n",
            "4/4 - 0s - loss: 0.0063 - accuracy: 0.8406 - val_loss: 0.0109 - val_accuracy: 0.8906\n",
            "Epoch 1132/2000\n",
            "4/4 - 0s - loss: 0.0060 - accuracy: 0.8550 - val_loss: 0.0109 - val_accuracy: 0.8896\n",
            "Epoch 1133/2000\n",
            "4/4 - 0s - loss: 0.0057 - accuracy: 0.8490 - val_loss: 0.0109 - val_accuracy: 0.8891\n",
            "Epoch 1134/2000\n",
            "4/4 - 0s - loss: 0.0059 - accuracy: 0.8500 - val_loss: 0.0109 - val_accuracy: 0.8881\n",
            "Epoch 1135/2000\n",
            "4/4 - 0s - loss: 0.0060 - accuracy: 0.8554 - val_loss: 0.0109 - val_accuracy: 0.8901\n",
            "Epoch 1136/2000\n",
            "4/4 - 0s - loss: 0.0060 - accuracy: 0.8386 - val_loss: 0.0109 - val_accuracy: 0.8901\n",
            "Epoch 1137/2000\n",
            "4/4 - 0s - loss: 0.0059 - accuracy: 0.8500 - val_loss: 0.0109 - val_accuracy: 0.8936\n",
            "Epoch 1138/2000\n",
            "4/4 - 0s - loss: 0.0060 - accuracy: 0.8505 - val_loss: 0.0109 - val_accuracy: 0.8941\n",
            "Epoch 1139/2000\n",
            "4/4 - 0s - loss: 0.0059 - accuracy: 0.8559 - val_loss: 0.0108 - val_accuracy: 0.8936\n",
            "Epoch 1140/2000\n",
            "4/4 - 0s - loss: 0.0058 - accuracy: 0.8485 - val_loss: 0.0107 - val_accuracy: 0.8936\n",
            "Epoch 1141/2000\n",
            "4/4 - 0s - loss: 0.0062 - accuracy: 0.8530 - val_loss: 0.0107 - val_accuracy: 0.8936\n",
            "Epoch 1142/2000\n",
            "4/4 - 0s - loss: 0.0058 - accuracy: 0.8535 - val_loss: 0.0107 - val_accuracy: 0.8950\n",
            "Epoch 1143/2000\n",
            "4/4 - 0s - loss: 0.0059 - accuracy: 0.8510 - val_loss: 0.0108 - val_accuracy: 0.8946\n",
            "Epoch 1144/2000\n",
            "4/4 - 0s - loss: 0.0060 - accuracy: 0.8490 - val_loss: 0.0108 - val_accuracy: 0.8926\n",
            "Epoch 1145/2000\n",
            "4/4 - 0s - loss: 0.0058 - accuracy: 0.8540 - val_loss: 0.0108 - val_accuracy: 0.8901\n",
            "Epoch 1146/2000\n",
            "4/4 - 0s - loss: 0.0057 - accuracy: 0.8584 - val_loss: 0.0108 - val_accuracy: 0.8916\n",
            "Epoch 1147/2000\n",
            "4/4 - 0s - loss: 0.0059 - accuracy: 0.8446 - val_loss: 0.0108 - val_accuracy: 0.8921\n",
            "Epoch 1148/2000\n",
            "4/4 - 0s - loss: 0.0061 - accuracy: 0.8460 - val_loss: 0.0107 - val_accuracy: 0.8926\n",
            "Epoch 1149/2000\n",
            "4/4 - 0s - loss: 0.0060 - accuracy: 0.8525 - val_loss: 0.0107 - val_accuracy: 0.8896\n",
            "Epoch 1150/2000\n",
            "4/4 - 0s - loss: 0.0059 - accuracy: 0.8505 - val_loss: 0.0107 - val_accuracy: 0.8891\n",
            "Epoch 1151/2000\n",
            "4/4 - 0s - loss: 0.0057 - accuracy: 0.8639 - val_loss: 0.0107 - val_accuracy: 0.8901\n",
            "Epoch 1152/2000\n",
            "4/4 - 0s - loss: 0.0058 - accuracy: 0.8500 - val_loss: 0.0107 - val_accuracy: 0.8921\n",
            "Epoch 1153/2000\n",
            "4/4 - 0s - loss: 0.0057 - accuracy: 0.8465 - val_loss: 0.0107 - val_accuracy: 0.8921\n",
            "Epoch 1154/2000\n",
            "4/4 - 0s - loss: 0.0057 - accuracy: 0.8490 - val_loss: 0.0107 - val_accuracy: 0.8936\n",
            "Epoch 1155/2000\n",
            "4/4 - 0s - loss: 0.0058 - accuracy: 0.8406 - val_loss: 0.0108 - val_accuracy: 0.8921\n",
            "Epoch 1156/2000\n",
            "4/4 - 0s - loss: 0.0059 - accuracy: 0.8446 - val_loss: 0.0108 - val_accuracy: 0.8931\n",
            "Epoch 1157/2000\n",
            "4/4 - 0s - loss: 0.0058 - accuracy: 0.8550 - val_loss: 0.0109 - val_accuracy: 0.8916\n",
            "Epoch 1158/2000\n",
            "4/4 - 0s - loss: 0.0059 - accuracy: 0.8446 - val_loss: 0.0109 - val_accuracy: 0.8901\n",
            "Epoch 1159/2000\n",
            "4/4 - 0s - loss: 0.0058 - accuracy: 0.8559 - val_loss: 0.0108 - val_accuracy: 0.8891\n",
            "Epoch 1160/2000\n",
            "4/4 - 0s - loss: 0.0060 - accuracy: 0.8436 - val_loss: 0.0108 - val_accuracy: 0.8886\n",
            "Epoch 1161/2000\n",
            "4/4 - 0s - loss: 0.0058 - accuracy: 0.8441 - val_loss: 0.0108 - val_accuracy: 0.8891\n",
            "Epoch 1162/2000\n",
            "4/4 - 0s - loss: 0.0057 - accuracy: 0.8559 - val_loss: 0.0108 - val_accuracy: 0.8886\n",
            "Epoch 1163/2000\n",
            "4/4 - 0s - loss: 0.0057 - accuracy: 0.8535 - val_loss: 0.0108 - val_accuracy: 0.8886\n",
            "Epoch 1164/2000\n",
            "4/4 - 0s - loss: 0.0059 - accuracy: 0.8455 - val_loss: 0.0108 - val_accuracy: 0.8886\n",
            "Epoch 1165/2000\n",
            "4/4 - 0s - loss: 0.0059 - accuracy: 0.8525 - val_loss: 0.0108 - val_accuracy: 0.8876\n",
            "Epoch 1166/2000\n",
            "4/4 - 0s - loss: 0.0059 - accuracy: 0.8495 - val_loss: 0.0108 - val_accuracy: 0.8876\n",
            "Epoch 1167/2000\n",
            "4/4 - 0s - loss: 0.0059 - accuracy: 0.8644 - val_loss: 0.0108 - val_accuracy: 0.8871\n",
            "Epoch 1168/2000\n",
            "4/4 - 0s - loss: 0.0061 - accuracy: 0.8465 - val_loss: 0.0108 - val_accuracy: 0.8851\n",
            "Epoch 1169/2000\n",
            "4/4 - 0s - loss: 0.0056 - accuracy: 0.8564 - val_loss: 0.0108 - val_accuracy: 0.8842\n",
            "Epoch 1170/2000\n",
            "4/4 - 0s - loss: 0.0055 - accuracy: 0.8470 - val_loss: 0.0108 - val_accuracy: 0.8851\n",
            "Epoch 1171/2000\n",
            "4/4 - 0s - loss: 0.0056 - accuracy: 0.8495 - val_loss: 0.0108 - val_accuracy: 0.8861\n",
            "Epoch 1172/2000\n",
            "4/4 - 0s - loss: 0.0056 - accuracy: 0.8490 - val_loss: 0.0107 - val_accuracy: 0.8871\n",
            "Epoch 1173/2000\n",
            "4/4 - 0s - loss: 0.0057 - accuracy: 0.8525 - val_loss: 0.0108 - val_accuracy: 0.8876\n",
            "Epoch 1174/2000\n",
            "4/4 - 0s - loss: 0.0060 - accuracy: 0.8510 - val_loss: 0.0108 - val_accuracy: 0.8881\n",
            "Epoch 1175/2000\n",
            "4/4 - 0s - loss: 0.0062 - accuracy: 0.8574 - val_loss: 0.0107 - val_accuracy: 0.8891\n",
            "Epoch 1176/2000\n",
            "4/4 - 0s - loss: 0.0058 - accuracy: 0.8569 - val_loss: 0.0108 - val_accuracy: 0.8916\n",
            "Epoch 1177/2000\n",
            "4/4 - 0s - loss: 0.0058 - accuracy: 0.8386 - val_loss: 0.0108 - val_accuracy: 0.8916\n",
            "Epoch 1178/2000\n",
            "4/4 - 0s - loss: 0.0059 - accuracy: 0.8416 - val_loss: 0.0108 - val_accuracy: 0.8901\n",
            "Epoch 1179/2000\n",
            "4/4 - 0s - loss: 0.0060 - accuracy: 0.8465 - val_loss: 0.0109 - val_accuracy: 0.8896\n",
            "Epoch 1180/2000\n",
            "4/4 - 0s - loss: 0.0056 - accuracy: 0.8515 - val_loss: 0.0109 - val_accuracy: 0.8891\n",
            "Epoch 1181/2000\n",
            "4/4 - 0s - loss: 0.0058 - accuracy: 0.8559 - val_loss: 0.0110 - val_accuracy: 0.8876\n",
            "Epoch 1182/2000\n",
            "4/4 - 0s - loss: 0.0060 - accuracy: 0.8505 - val_loss: 0.0109 - val_accuracy: 0.8876\n",
            "Epoch 1183/2000\n",
            "4/4 - 0s - loss: 0.0056 - accuracy: 0.8421 - val_loss: 0.0108 - val_accuracy: 0.8881\n",
            "Epoch 1184/2000\n",
            "4/4 - 0s - loss: 0.0061 - accuracy: 0.8550 - val_loss: 0.0106 - val_accuracy: 0.8881\n",
            "Epoch 1185/2000\n",
            "4/4 - 0s - loss: 0.0060 - accuracy: 0.8510 - val_loss: 0.0105 - val_accuracy: 0.8886\n",
            "Epoch 1186/2000\n",
            "4/4 - 0s - loss: 0.0057 - accuracy: 0.8475 - val_loss: 0.0105 - val_accuracy: 0.8901\n",
            "Epoch 1187/2000\n",
            "4/4 - 0s - loss: 0.0058 - accuracy: 0.8470 - val_loss: 0.0106 - val_accuracy: 0.8896\n",
            "Epoch 1188/2000\n",
            "4/4 - 0s - loss: 0.0059 - accuracy: 0.8450 - val_loss: 0.0107 - val_accuracy: 0.8896\n",
            "Epoch 1189/2000\n",
            "4/4 - 0s - loss: 0.0055 - accuracy: 0.8530 - val_loss: 0.0108 - val_accuracy: 0.8881\n",
            "Epoch 1190/2000\n",
            "4/4 - 0s - loss: 0.0059 - accuracy: 0.8535 - val_loss: 0.0108 - val_accuracy: 0.8881\n",
            "Epoch 1191/2000\n",
            "4/4 - 0s - loss: 0.0058 - accuracy: 0.8495 - val_loss: 0.0108 - val_accuracy: 0.8881\n",
            "Epoch 1192/2000\n",
            "4/4 - 0s - loss: 0.0058 - accuracy: 0.8629 - val_loss: 0.0108 - val_accuracy: 0.8891\n",
            "Epoch 1193/2000\n",
            "4/4 - 0s - loss: 0.0061 - accuracy: 0.8500 - val_loss: 0.0107 - val_accuracy: 0.8906\n",
            "Epoch 1194/2000\n",
            "4/4 - 0s - loss: 0.0057 - accuracy: 0.8475 - val_loss: 0.0107 - val_accuracy: 0.8906\n",
            "Epoch 1195/2000\n",
            "4/4 - 0s - loss: 0.0060 - accuracy: 0.8441 - val_loss: 0.0108 - val_accuracy: 0.8911\n",
            "Epoch 1196/2000\n",
            "4/4 - 0s - loss: 0.0060 - accuracy: 0.8416 - val_loss: 0.0109 - val_accuracy: 0.8911\n",
            "Epoch 1197/2000\n",
            "4/4 - 0s - loss: 0.0058 - accuracy: 0.8475 - val_loss: 0.0110 - val_accuracy: 0.8906\n",
            "Epoch 1198/2000\n",
            "4/4 - 0s - loss: 0.0060 - accuracy: 0.8411 - val_loss: 0.0109 - val_accuracy: 0.8896\n",
            "Epoch 1199/2000\n",
            "4/4 - 0s - loss: 0.0057 - accuracy: 0.8520 - val_loss: 0.0108 - val_accuracy: 0.8891\n",
            "Epoch 1200/2000\n",
            "4/4 - 0s - loss: 0.0059 - accuracy: 0.8520 - val_loss: 0.0108 - val_accuracy: 0.8916\n",
            "Epoch 1201/2000\n",
            "4/4 - 0s - loss: 0.0055 - accuracy: 0.8520 - val_loss: 0.0108 - val_accuracy: 0.8926\n",
            "Epoch 1202/2000\n",
            "4/4 - 0s - loss: 0.0059 - accuracy: 0.8411 - val_loss: 0.0109 - val_accuracy: 0.8906\n",
            "Epoch 1203/2000\n",
            "4/4 - 0s - loss: 0.0056 - accuracy: 0.8480 - val_loss: 0.0109 - val_accuracy: 0.8896\n",
            "Epoch 1204/2000\n",
            "4/4 - 0s - loss: 0.0060 - accuracy: 0.8559 - val_loss: 0.0109 - val_accuracy: 0.8901\n",
            "Epoch 1205/2000\n",
            "4/4 - 0s - loss: 0.0059 - accuracy: 0.8480 - val_loss: 0.0108 - val_accuracy: 0.8901\n",
            "Epoch 1206/2000\n",
            "4/4 - 0s - loss: 0.0060 - accuracy: 0.8510 - val_loss: 0.0108 - val_accuracy: 0.8906\n",
            "Epoch 1207/2000\n",
            "4/4 - 0s - loss: 0.0059 - accuracy: 0.8450 - val_loss: 0.0108 - val_accuracy: 0.8896\n",
            "Epoch 1208/2000\n",
            "4/4 - 0s - loss: 0.0062 - accuracy: 0.8455 - val_loss: 0.0109 - val_accuracy: 0.8881\n",
            "Epoch 1209/2000\n",
            "4/4 - 0s - loss: 0.0057 - accuracy: 0.8540 - val_loss: 0.0109 - val_accuracy: 0.8842\n",
            "Epoch 1210/2000\n",
            "4/4 - 0s - loss: 0.0060 - accuracy: 0.8485 - val_loss: 0.0109 - val_accuracy: 0.8812\n",
            "Epoch 1211/2000\n",
            "4/4 - 0s - loss: 0.0059 - accuracy: 0.8465 - val_loss: 0.0108 - val_accuracy: 0.8817\n",
            "Epoch 1212/2000\n",
            "4/4 - 0s - loss: 0.0059 - accuracy: 0.8460 - val_loss: 0.0107 - val_accuracy: 0.8817\n",
            "Epoch 1213/2000\n",
            "4/4 - 0s - loss: 0.0059 - accuracy: 0.8475 - val_loss: 0.0107 - val_accuracy: 0.8856\n",
            "Epoch 1214/2000\n",
            "4/4 - 0s - loss: 0.0059 - accuracy: 0.8485 - val_loss: 0.0107 - val_accuracy: 0.8901\n",
            "Epoch 1215/2000\n",
            "4/4 - 0s - loss: 0.0058 - accuracy: 0.8510 - val_loss: 0.0107 - val_accuracy: 0.8921\n",
            "Epoch 1216/2000\n",
            "4/4 - 0s - loss: 0.0056 - accuracy: 0.8470 - val_loss: 0.0108 - val_accuracy: 0.8911\n",
            "Epoch 1217/2000\n",
            "4/4 - 0s - loss: 0.0061 - accuracy: 0.8510 - val_loss: 0.0108 - val_accuracy: 0.8901\n",
            "Epoch 1218/2000\n",
            "4/4 - 0s - loss: 0.0058 - accuracy: 0.8485 - val_loss: 0.0108 - val_accuracy: 0.8896\n",
            "Epoch 1219/2000\n",
            "4/4 - 0s - loss: 0.0060 - accuracy: 0.8500 - val_loss: 0.0108 - val_accuracy: 0.8891\n",
            "Epoch 1220/2000\n",
            "4/4 - 0s - loss: 0.0059 - accuracy: 0.8441 - val_loss: 0.0108 - val_accuracy: 0.8896\n",
            "Epoch 1221/2000\n",
            "4/4 - 0s - loss: 0.0056 - accuracy: 0.8520 - val_loss: 0.0108 - val_accuracy: 0.8891\n",
            "Epoch 1222/2000\n",
            "4/4 - 0s - loss: 0.0061 - accuracy: 0.8411 - val_loss: 0.0108 - val_accuracy: 0.8911\n",
            "Epoch 1223/2000\n",
            "4/4 - 0s - loss: 0.0060 - accuracy: 0.8421 - val_loss: 0.0108 - val_accuracy: 0.8906\n",
            "Epoch 1224/2000\n",
            "4/4 - 0s - loss: 0.0056 - accuracy: 0.8515 - val_loss: 0.0108 - val_accuracy: 0.8916\n",
            "Epoch 1225/2000\n",
            "4/4 - 0s - loss: 0.0059 - accuracy: 0.8500 - val_loss: 0.0108 - val_accuracy: 0.8921\n",
            "Epoch 1226/2000\n",
            "4/4 - 0s - loss: 0.0060 - accuracy: 0.8396 - val_loss: 0.0108 - val_accuracy: 0.8916\n",
            "Epoch 1227/2000\n",
            "4/4 - 0s - loss: 0.0058 - accuracy: 0.8594 - val_loss: 0.0109 - val_accuracy: 0.8906\n",
            "Epoch 1228/2000\n",
            "4/4 - 0s - loss: 0.0061 - accuracy: 0.8386 - val_loss: 0.0110 - val_accuracy: 0.8901\n",
            "Epoch 1229/2000\n",
            "4/4 - 0s - loss: 0.0060 - accuracy: 0.8535 - val_loss: 0.0110 - val_accuracy: 0.8881\n",
            "Epoch 1230/2000\n",
            "4/4 - 0s - loss: 0.0058 - accuracy: 0.8574 - val_loss: 0.0110 - val_accuracy: 0.8856\n",
            "Epoch 1231/2000\n",
            "4/4 - 0s - loss: 0.0059 - accuracy: 0.8554 - val_loss: 0.0110 - val_accuracy: 0.8856\n",
            "Epoch 1232/2000\n",
            "4/4 - 0s - loss: 0.0062 - accuracy: 0.8495 - val_loss: 0.0109 - val_accuracy: 0.8881\n",
            "Epoch 1233/2000\n",
            "4/4 - 0s - loss: 0.0058 - accuracy: 0.8520 - val_loss: 0.0108 - val_accuracy: 0.8906\n",
            "Epoch 1234/2000\n",
            "4/4 - 0s - loss: 0.0060 - accuracy: 0.8480 - val_loss: 0.0108 - val_accuracy: 0.8911\n",
            "Epoch 1235/2000\n",
            "4/4 - 0s - loss: 0.0059 - accuracy: 0.8485 - val_loss: 0.0108 - val_accuracy: 0.8881\n",
            "Epoch 1236/2000\n",
            "4/4 - 0s - loss: 0.0058 - accuracy: 0.8460 - val_loss: 0.0108 - val_accuracy: 0.8851\n",
            "Epoch 1237/2000\n",
            "4/4 - 0s - loss: 0.0058 - accuracy: 0.8465 - val_loss: 0.0108 - val_accuracy: 0.8832\n",
            "Epoch 1238/2000\n",
            "4/4 - 0s - loss: 0.0058 - accuracy: 0.8540 - val_loss: 0.0108 - val_accuracy: 0.8837\n",
            "Epoch 1239/2000\n",
            "4/4 - 0s - loss: 0.0057 - accuracy: 0.8530 - val_loss: 0.0107 - val_accuracy: 0.8837\n",
            "Epoch 1240/2000\n",
            "4/4 - 0s - loss: 0.0060 - accuracy: 0.8396 - val_loss: 0.0106 - val_accuracy: 0.8851\n",
            "Epoch 1241/2000\n",
            "4/4 - 0s - loss: 0.0060 - accuracy: 0.8540 - val_loss: 0.0107 - val_accuracy: 0.8866\n",
            "Epoch 1242/2000\n",
            "4/4 - 0s - loss: 0.0056 - accuracy: 0.8589 - val_loss: 0.0107 - val_accuracy: 0.8906\n",
            "Epoch 1243/2000\n",
            "4/4 - 0s - loss: 0.0057 - accuracy: 0.8589 - val_loss: 0.0107 - val_accuracy: 0.8931\n",
            "Epoch 1244/2000\n",
            "4/4 - 0s - loss: 0.0057 - accuracy: 0.8540 - val_loss: 0.0108 - val_accuracy: 0.8946\n",
            "Epoch 1245/2000\n",
            "4/4 - 0s - loss: 0.0056 - accuracy: 0.8475 - val_loss: 0.0108 - val_accuracy: 0.8941\n",
            "Epoch 1246/2000\n",
            "4/4 - 0s - loss: 0.0060 - accuracy: 0.8495 - val_loss: 0.0107 - val_accuracy: 0.8946\n",
            "Epoch 1247/2000\n",
            "4/4 - 0s - loss: 0.0059 - accuracy: 0.8446 - val_loss: 0.0107 - val_accuracy: 0.8926\n",
            "Epoch 1248/2000\n",
            "4/4 - 0s - loss: 0.0060 - accuracy: 0.8569 - val_loss: 0.0107 - val_accuracy: 0.8921\n",
            "Epoch 1249/2000\n",
            "4/4 - 0s - loss: 0.0059 - accuracy: 0.8515 - val_loss: 0.0106 - val_accuracy: 0.8916\n",
            "Epoch 1250/2000\n",
            "4/4 - 0s - loss: 0.0056 - accuracy: 0.8594 - val_loss: 0.0106 - val_accuracy: 0.8926\n",
            "Epoch 1251/2000\n",
            "4/4 - 0s - loss: 0.0059 - accuracy: 0.8554 - val_loss: 0.0107 - val_accuracy: 0.8931\n",
            "Epoch 1252/2000\n",
            "4/4 - 0s - loss: 0.0060 - accuracy: 0.8545 - val_loss: 0.0108 - val_accuracy: 0.8921\n",
            "Epoch 1253/2000\n",
            "4/4 - 0s - loss: 0.0059 - accuracy: 0.8475 - val_loss: 0.0109 - val_accuracy: 0.8926\n",
            "Epoch 1254/2000\n",
            "4/4 - 0s - loss: 0.0056 - accuracy: 0.8550 - val_loss: 0.0108 - val_accuracy: 0.8921\n",
            "Epoch 1255/2000\n",
            "4/4 - 0s - loss: 0.0060 - accuracy: 0.8446 - val_loss: 0.0107 - val_accuracy: 0.8911\n",
            "Epoch 1256/2000\n",
            "4/4 - 0s - loss: 0.0057 - accuracy: 0.8490 - val_loss: 0.0107 - val_accuracy: 0.8896\n",
            "Epoch 1257/2000\n",
            "4/4 - 0s - loss: 0.0057 - accuracy: 0.8614 - val_loss: 0.0108 - val_accuracy: 0.8891\n",
            "Epoch 1258/2000\n",
            "4/4 - 0s - loss: 0.0060 - accuracy: 0.8535 - val_loss: 0.0108 - val_accuracy: 0.8881\n",
            "Epoch 1259/2000\n",
            "4/4 - 0s - loss: 0.0061 - accuracy: 0.8416 - val_loss: 0.0108 - val_accuracy: 0.8871\n",
            "Epoch 1260/2000\n",
            "4/4 - 0s - loss: 0.0057 - accuracy: 0.8525 - val_loss: 0.0108 - val_accuracy: 0.8871\n",
            "Epoch 1261/2000\n",
            "4/4 - 0s - loss: 0.0059 - accuracy: 0.8450 - val_loss: 0.0108 - val_accuracy: 0.8881\n",
            "Epoch 1262/2000\n",
            "4/4 - 0s - loss: 0.0062 - accuracy: 0.8436 - val_loss: 0.0108 - val_accuracy: 0.8866\n",
            "Epoch 1263/2000\n",
            "4/4 - 0s - loss: 0.0059 - accuracy: 0.8569 - val_loss: 0.0109 - val_accuracy: 0.8871\n",
            "Epoch 1264/2000\n",
            "4/4 - 0s - loss: 0.0058 - accuracy: 0.8574 - val_loss: 0.0110 - val_accuracy: 0.8856\n",
            "Epoch 1265/2000\n",
            "4/4 - 0s - loss: 0.0061 - accuracy: 0.8450 - val_loss: 0.0110 - val_accuracy: 0.8851\n",
            "Epoch 1266/2000\n",
            "4/4 - 0s - loss: 0.0061 - accuracy: 0.8500 - val_loss: 0.0109 - val_accuracy: 0.8851\n",
            "Epoch 1267/2000\n",
            "4/4 - 0s - loss: 0.0060 - accuracy: 0.8688 - val_loss: 0.0108 - val_accuracy: 0.8866\n",
            "Epoch 1268/2000\n",
            "4/4 - 0s - loss: 0.0059 - accuracy: 0.8490 - val_loss: 0.0107 - val_accuracy: 0.8896\n",
            "Epoch 1269/2000\n",
            "4/4 - 0s - loss: 0.0060 - accuracy: 0.8500 - val_loss: 0.0108 - val_accuracy: 0.8901\n",
            "Epoch 1270/2000\n",
            "4/4 - 0s - loss: 0.0062 - accuracy: 0.8431 - val_loss: 0.0109 - val_accuracy: 0.8906\n",
            "Epoch 1271/2000\n",
            "4/4 - 0s - loss: 0.0061 - accuracy: 0.8525 - val_loss: 0.0109 - val_accuracy: 0.8911\n",
            "Epoch 1272/2000\n",
            "4/4 - 0s - loss: 0.0063 - accuracy: 0.8515 - val_loss: 0.0109 - val_accuracy: 0.8906\n",
            "Epoch 1273/2000\n",
            "4/4 - 0s - loss: 0.0055 - accuracy: 0.8535 - val_loss: 0.0108 - val_accuracy: 0.8901\n",
            "Epoch 1274/2000\n",
            "4/4 - 0s - loss: 0.0059 - accuracy: 0.8455 - val_loss: 0.0107 - val_accuracy: 0.8896\n",
            "Epoch 1275/2000\n",
            "4/4 - 0s - loss: 0.0057 - accuracy: 0.8421 - val_loss: 0.0107 - val_accuracy: 0.8896\n",
            "Epoch 1276/2000\n",
            "4/4 - 0s - loss: 0.0059 - accuracy: 0.8470 - val_loss: 0.0108 - val_accuracy: 0.8896\n",
            "Epoch 1277/2000\n",
            "4/4 - 0s - loss: 0.0055 - accuracy: 0.8594 - val_loss: 0.0108 - val_accuracy: 0.8896\n",
            "Epoch 1278/2000\n",
            "4/4 - 0s - loss: 0.0058 - accuracy: 0.8495 - val_loss: 0.0109 - val_accuracy: 0.8886\n",
            "Epoch 1279/2000\n",
            "4/4 - 0s - loss: 0.0057 - accuracy: 0.8579 - val_loss: 0.0110 - val_accuracy: 0.8876\n",
            "Epoch 1280/2000\n",
            "4/4 - 0s - loss: 0.0059 - accuracy: 0.8574 - val_loss: 0.0110 - val_accuracy: 0.8871\n",
            "Epoch 1281/2000\n",
            "4/4 - 0s - loss: 0.0062 - accuracy: 0.8460 - val_loss: 0.0109 - val_accuracy: 0.8871\n",
            "Epoch 1282/2000\n",
            "4/4 - 0s - loss: 0.0058 - accuracy: 0.8441 - val_loss: 0.0109 - val_accuracy: 0.8861\n",
            "Epoch 1283/2000\n",
            "4/4 - 0s - loss: 0.0060 - accuracy: 0.8545 - val_loss: 0.0109 - val_accuracy: 0.8837\n",
            "Epoch 1284/2000\n",
            "4/4 - 0s - loss: 0.0057 - accuracy: 0.8446 - val_loss: 0.0109 - val_accuracy: 0.8817\n",
            "Epoch 1285/2000\n",
            "4/4 - 0s - loss: 0.0060 - accuracy: 0.8579 - val_loss: 0.0109 - val_accuracy: 0.8807\n",
            "Epoch 1286/2000\n",
            "4/4 - 0s - loss: 0.0058 - accuracy: 0.8530 - val_loss: 0.0109 - val_accuracy: 0.8797\n",
            "Epoch 1287/2000\n",
            "4/4 - 0s - loss: 0.0061 - accuracy: 0.8520 - val_loss: 0.0108 - val_accuracy: 0.8817\n",
            "Epoch 1288/2000\n",
            "4/4 - 0s - loss: 0.0057 - accuracy: 0.8604 - val_loss: 0.0108 - val_accuracy: 0.8847\n",
            "Epoch 1289/2000\n",
            "4/4 - 0s - loss: 0.0058 - accuracy: 0.8490 - val_loss: 0.0107 - val_accuracy: 0.8866\n",
            "Epoch 1290/2000\n",
            "4/4 - 0s - loss: 0.0055 - accuracy: 0.8594 - val_loss: 0.0107 - val_accuracy: 0.8851\n",
            "Epoch 1291/2000\n",
            "4/4 - 0s - loss: 0.0059 - accuracy: 0.8455 - val_loss: 0.0108 - val_accuracy: 0.8847\n",
            "Epoch 1292/2000\n",
            "4/4 - 0s - loss: 0.0059 - accuracy: 0.8510 - val_loss: 0.0108 - val_accuracy: 0.8832\n",
            "Epoch 1293/2000\n",
            "4/4 - 0s - loss: 0.0058 - accuracy: 0.8401 - val_loss: 0.0107 - val_accuracy: 0.8817\n",
            "Epoch 1294/2000\n",
            "4/4 - 0s - loss: 0.0057 - accuracy: 0.8579 - val_loss: 0.0107 - val_accuracy: 0.8842\n",
            "Epoch 1295/2000\n",
            "4/4 - 0s - loss: 0.0058 - accuracy: 0.8550 - val_loss: 0.0106 - val_accuracy: 0.8881\n",
            "Epoch 1296/2000\n",
            "4/4 - 0s - loss: 0.0057 - accuracy: 0.8515 - val_loss: 0.0107 - val_accuracy: 0.8896\n",
            "Epoch 1297/2000\n",
            "4/4 - 0s - loss: 0.0060 - accuracy: 0.8500 - val_loss: 0.0107 - val_accuracy: 0.8891\n",
            "Epoch 1298/2000\n",
            "4/4 - 0s - loss: 0.0056 - accuracy: 0.8604 - val_loss: 0.0107 - val_accuracy: 0.8901\n",
            "Epoch 1299/2000\n",
            "4/4 - 0s - loss: 0.0059 - accuracy: 0.8584 - val_loss: 0.0107 - val_accuracy: 0.8911\n",
            "Epoch 1300/2000\n",
            "4/4 - 0s - loss: 0.0058 - accuracy: 0.8569 - val_loss: 0.0106 - val_accuracy: 0.8906\n",
            "Epoch 1301/2000\n",
            "4/4 - 0s - loss: 0.0059 - accuracy: 0.8510 - val_loss: 0.0106 - val_accuracy: 0.8886\n",
            "Epoch 1302/2000\n",
            "4/4 - 0s - loss: 0.0055 - accuracy: 0.8525 - val_loss: 0.0107 - val_accuracy: 0.8871\n",
            "Epoch 1303/2000\n",
            "4/4 - 0s - loss: 0.0059 - accuracy: 0.8465 - val_loss: 0.0107 - val_accuracy: 0.8876\n",
            "Epoch 1304/2000\n",
            "4/4 - 0s - loss: 0.0057 - accuracy: 0.8460 - val_loss: 0.0108 - val_accuracy: 0.8871\n",
            "Epoch 1305/2000\n",
            "4/4 - 0s - loss: 0.0058 - accuracy: 0.8599 - val_loss: 0.0108 - val_accuracy: 0.8871\n",
            "Epoch 1306/2000\n",
            "4/4 - 0s - loss: 0.0057 - accuracy: 0.8510 - val_loss: 0.0108 - val_accuracy: 0.8886\n",
            "Epoch 1307/2000\n",
            "4/4 - 0s - loss: 0.0059 - accuracy: 0.8525 - val_loss: 0.0109 - val_accuracy: 0.8891\n",
            "Epoch 1308/2000\n",
            "4/4 - 0s - loss: 0.0057 - accuracy: 0.8589 - val_loss: 0.0108 - val_accuracy: 0.8901\n",
            "Epoch 1309/2000\n",
            "4/4 - 0s - loss: 0.0059 - accuracy: 0.8465 - val_loss: 0.0106 - val_accuracy: 0.8901\n",
            "Epoch 1310/2000\n",
            "4/4 - 0s - loss: 0.0055 - accuracy: 0.8505 - val_loss: 0.0106 - val_accuracy: 0.8906\n",
            "Epoch 1311/2000\n",
            "4/4 - 0s - loss: 0.0057 - accuracy: 0.8530 - val_loss: 0.0105 - val_accuracy: 0.8891\n",
            "Epoch 1312/2000\n",
            "4/4 - 0s - loss: 0.0058 - accuracy: 0.8525 - val_loss: 0.0106 - val_accuracy: 0.8871\n",
            "Epoch 1313/2000\n",
            "4/4 - 0s - loss: 0.0058 - accuracy: 0.8490 - val_loss: 0.0107 - val_accuracy: 0.8866\n",
            "Epoch 1314/2000\n",
            "4/4 - 0s - loss: 0.0059 - accuracy: 0.8535 - val_loss: 0.0107 - val_accuracy: 0.8861\n",
            "Epoch 1315/2000\n",
            "4/4 - 0s - loss: 0.0054 - accuracy: 0.8535 - val_loss: 0.0107 - val_accuracy: 0.8856\n",
            "Epoch 1316/2000\n",
            "4/4 - 0s - loss: 0.0061 - accuracy: 0.8416 - val_loss: 0.0106 - val_accuracy: 0.8876\n",
            "Epoch 1317/2000\n",
            "4/4 - 0s - loss: 0.0058 - accuracy: 0.8589 - val_loss: 0.0106 - val_accuracy: 0.8896\n",
            "Epoch 1318/2000\n",
            "4/4 - 0s - loss: 0.0064 - accuracy: 0.8436 - val_loss: 0.0107 - val_accuracy: 0.8906\n",
            "Epoch 1319/2000\n",
            "4/4 - 0s - loss: 0.0060 - accuracy: 0.8436 - val_loss: 0.0108 - val_accuracy: 0.8911\n",
            "Epoch 1320/2000\n",
            "4/4 - 0s - loss: 0.0059 - accuracy: 0.8485 - val_loss: 0.0107 - val_accuracy: 0.8901\n",
            "Epoch 1321/2000\n",
            "4/4 - 0s - loss: 0.0057 - accuracy: 0.8470 - val_loss: 0.0107 - val_accuracy: 0.8891\n",
            "Epoch 1322/2000\n",
            "4/4 - 0s - loss: 0.0056 - accuracy: 0.8554 - val_loss: 0.0107 - val_accuracy: 0.8886\n",
            "Epoch 1323/2000\n",
            "4/4 - 0s - loss: 0.0059 - accuracy: 0.8470 - val_loss: 0.0107 - val_accuracy: 0.8876\n",
            "Epoch 1324/2000\n",
            "4/4 - 0s - loss: 0.0059 - accuracy: 0.8495 - val_loss: 0.0108 - val_accuracy: 0.8861\n",
            "Epoch 1325/2000\n",
            "4/4 - 0s - loss: 0.0059 - accuracy: 0.8366 - val_loss: 0.0108 - val_accuracy: 0.8856\n",
            "Epoch 1326/2000\n",
            "4/4 - 0s - loss: 0.0061 - accuracy: 0.8599 - val_loss: 0.0108 - val_accuracy: 0.8871\n",
            "Epoch 1327/2000\n",
            "4/4 - 0s - loss: 0.0057 - accuracy: 0.8441 - val_loss: 0.0108 - val_accuracy: 0.8876\n",
            "Epoch 1328/2000\n",
            "4/4 - 0s - loss: 0.0056 - accuracy: 0.8589 - val_loss: 0.0107 - val_accuracy: 0.8906\n",
            "Epoch 1329/2000\n",
            "4/4 - 0s - loss: 0.0059 - accuracy: 0.8441 - val_loss: 0.0107 - val_accuracy: 0.8921\n",
            "Epoch 1330/2000\n",
            "4/4 - 0s - loss: 0.0059 - accuracy: 0.8460 - val_loss: 0.0106 - val_accuracy: 0.8911\n",
            "Epoch 1331/2000\n",
            "4/4 - 0s - loss: 0.0060 - accuracy: 0.8500 - val_loss: 0.0106 - val_accuracy: 0.8881\n",
            "Epoch 1332/2000\n",
            "4/4 - 0s - loss: 0.0057 - accuracy: 0.8569 - val_loss: 0.0107 - val_accuracy: 0.8851\n",
            "Epoch 1333/2000\n",
            "4/4 - 0s - loss: 0.0058 - accuracy: 0.8450 - val_loss: 0.0107 - val_accuracy: 0.8827\n",
            "Epoch 1334/2000\n",
            "4/4 - 0s - loss: 0.0061 - accuracy: 0.8495 - val_loss: 0.0108 - val_accuracy: 0.8822\n",
            "Epoch 1335/2000\n",
            "4/4 - 0s - loss: 0.0062 - accuracy: 0.8550 - val_loss: 0.0108 - val_accuracy: 0.8812\n",
            "Epoch 1336/2000\n",
            "4/4 - 0s - loss: 0.0057 - accuracy: 0.8569 - val_loss: 0.0107 - val_accuracy: 0.8817\n",
            "Epoch 1337/2000\n",
            "4/4 - 0s - loss: 0.0061 - accuracy: 0.8450 - val_loss: 0.0107 - val_accuracy: 0.8847\n",
            "Epoch 1338/2000\n",
            "4/4 - 0s - loss: 0.0055 - accuracy: 0.8530 - val_loss: 0.0107 - val_accuracy: 0.8847\n",
            "Epoch 1339/2000\n",
            "4/4 - 0s - loss: 0.0057 - accuracy: 0.8550 - val_loss: 0.0108 - val_accuracy: 0.8871\n",
            "Epoch 1340/2000\n",
            "4/4 - 0s - loss: 0.0059 - accuracy: 0.8426 - val_loss: 0.0108 - val_accuracy: 0.8891\n",
            "Epoch 1341/2000\n",
            "4/4 - 0s - loss: 0.0058 - accuracy: 0.8495 - val_loss: 0.0108 - val_accuracy: 0.8901\n",
            "Epoch 1342/2000\n",
            "4/4 - 0s - loss: 0.0059 - accuracy: 0.8589 - val_loss: 0.0108 - val_accuracy: 0.8876\n",
            "Epoch 1343/2000\n",
            "4/4 - 0s - loss: 0.0061 - accuracy: 0.8450 - val_loss: 0.0107 - val_accuracy: 0.8847\n",
            "Epoch 1344/2000\n",
            "4/4 - 0s - loss: 0.0056 - accuracy: 0.8599 - val_loss: 0.0108 - val_accuracy: 0.8812\n",
            "Epoch 1345/2000\n",
            "4/4 - 0s - loss: 0.0055 - accuracy: 0.8604 - val_loss: 0.0108 - val_accuracy: 0.8792\n",
            "Epoch 1346/2000\n",
            "4/4 - 0s - loss: 0.0059 - accuracy: 0.8515 - val_loss: 0.0107 - val_accuracy: 0.8792\n",
            "Epoch 1347/2000\n",
            "4/4 - 0s - loss: 0.0057 - accuracy: 0.8545 - val_loss: 0.0107 - val_accuracy: 0.8802\n",
            "Epoch 1348/2000\n",
            "4/4 - 0s - loss: 0.0057 - accuracy: 0.8490 - val_loss: 0.0107 - val_accuracy: 0.8832\n",
            "Epoch 1349/2000\n",
            "4/4 - 0s - loss: 0.0058 - accuracy: 0.8579 - val_loss: 0.0108 - val_accuracy: 0.8876\n",
            "Epoch 1350/2000\n",
            "4/4 - 0s - loss: 0.0059 - accuracy: 0.8500 - val_loss: 0.0108 - val_accuracy: 0.8906\n",
            "Epoch 1351/2000\n",
            "4/4 - 0s - loss: 0.0060 - accuracy: 0.8460 - val_loss: 0.0107 - val_accuracy: 0.8926\n",
            "Epoch 1352/2000\n",
            "4/4 - 0s - loss: 0.0063 - accuracy: 0.8421 - val_loss: 0.0106 - val_accuracy: 0.8916\n",
            "Epoch 1353/2000\n",
            "4/4 - 0s - loss: 0.0059 - accuracy: 0.8609 - val_loss: 0.0106 - val_accuracy: 0.8911\n",
            "Epoch 1354/2000\n",
            "4/4 - 0s - loss: 0.0054 - accuracy: 0.8441 - val_loss: 0.0106 - val_accuracy: 0.8926\n",
            "Epoch 1355/2000\n",
            "4/4 - 0s - loss: 0.0058 - accuracy: 0.8554 - val_loss: 0.0107 - val_accuracy: 0.8941\n",
            "Epoch 1356/2000\n",
            "4/4 - 0s - loss: 0.0057 - accuracy: 0.8535 - val_loss: 0.0107 - val_accuracy: 0.8955\n",
            "Epoch 1357/2000\n",
            "4/4 - 0s - loss: 0.0059 - accuracy: 0.8545 - val_loss: 0.0106 - val_accuracy: 0.8955\n",
            "Epoch 1358/2000\n",
            "4/4 - 0s - loss: 0.0056 - accuracy: 0.8490 - val_loss: 0.0107 - val_accuracy: 0.8960\n",
            "Epoch 1359/2000\n",
            "4/4 - 0s - loss: 0.0059 - accuracy: 0.8520 - val_loss: 0.0107 - val_accuracy: 0.8965\n",
            "Epoch 1360/2000\n",
            "4/4 - 0s - loss: 0.0058 - accuracy: 0.8465 - val_loss: 0.0107 - val_accuracy: 0.8955\n",
            "Epoch 1361/2000\n",
            "4/4 - 0s - loss: 0.0061 - accuracy: 0.8446 - val_loss: 0.0108 - val_accuracy: 0.8921\n",
            "Epoch 1362/2000\n",
            "4/4 - 0s - loss: 0.0059 - accuracy: 0.8446 - val_loss: 0.0108 - val_accuracy: 0.8886\n",
            "Epoch 1363/2000\n",
            "4/4 - 0s - loss: 0.0059 - accuracy: 0.8436 - val_loss: 0.0108 - val_accuracy: 0.8871\n",
            "Epoch 1364/2000\n",
            "4/4 - 0s - loss: 0.0060 - accuracy: 0.8490 - val_loss: 0.0108 - val_accuracy: 0.8896\n",
            "Epoch 1365/2000\n",
            "4/4 - 0s - loss: 0.0061 - accuracy: 0.8500 - val_loss: 0.0108 - val_accuracy: 0.8911\n",
            "Epoch 1366/2000\n",
            "4/4 - 0s - loss: 0.0056 - accuracy: 0.8455 - val_loss: 0.0109 - val_accuracy: 0.8921\n",
            "Epoch 1367/2000\n",
            "4/4 - 0s - loss: 0.0059 - accuracy: 0.8500 - val_loss: 0.0110 - val_accuracy: 0.8921\n",
            "Epoch 1368/2000\n",
            "4/4 - 0s - loss: 0.0058 - accuracy: 0.8480 - val_loss: 0.0110 - val_accuracy: 0.8896\n",
            "Epoch 1369/2000\n",
            "4/4 - 0s - loss: 0.0059 - accuracy: 0.8559 - val_loss: 0.0109 - val_accuracy: 0.8896\n",
            "Epoch 1370/2000\n",
            "4/4 - 0s - loss: 0.0059 - accuracy: 0.8465 - val_loss: 0.0108 - val_accuracy: 0.8926\n",
            "Epoch 1371/2000\n",
            "4/4 - 0s - loss: 0.0054 - accuracy: 0.8485 - val_loss: 0.0108 - val_accuracy: 0.8936\n",
            "Epoch 1372/2000\n",
            "4/4 - 0s - loss: 0.0058 - accuracy: 0.8465 - val_loss: 0.0108 - val_accuracy: 0.8936\n",
            "Epoch 1373/2000\n",
            "4/4 - 0s - loss: 0.0058 - accuracy: 0.8525 - val_loss: 0.0109 - val_accuracy: 0.8936\n",
            "Epoch 1374/2000\n",
            "4/4 - 0s - loss: 0.0057 - accuracy: 0.8401 - val_loss: 0.0109 - val_accuracy: 0.8921\n",
            "Epoch 1375/2000\n",
            "4/4 - 0s - loss: 0.0057 - accuracy: 0.8480 - val_loss: 0.0108 - val_accuracy: 0.8906\n",
            "Epoch 1376/2000\n",
            "4/4 - 0s - loss: 0.0055 - accuracy: 0.8540 - val_loss: 0.0108 - val_accuracy: 0.8881\n",
            "Epoch 1377/2000\n",
            "4/4 - 0s - loss: 0.0055 - accuracy: 0.8515 - val_loss: 0.0108 - val_accuracy: 0.8901\n",
            "Epoch 1378/2000\n",
            "4/4 - 0s - loss: 0.0060 - accuracy: 0.8505 - val_loss: 0.0108 - val_accuracy: 0.8926\n",
            "Epoch 1379/2000\n",
            "4/4 - 0s - loss: 0.0060 - accuracy: 0.8520 - val_loss: 0.0108 - val_accuracy: 0.8936\n",
            "Epoch 1380/2000\n",
            "4/4 - 0s - loss: 0.0059 - accuracy: 0.8589 - val_loss: 0.0108 - val_accuracy: 0.8931\n",
            "Epoch 1381/2000\n",
            "4/4 - 0s - loss: 0.0061 - accuracy: 0.8505 - val_loss: 0.0109 - val_accuracy: 0.8921\n",
            "Epoch 1382/2000\n",
            "4/4 - 0s - loss: 0.0059 - accuracy: 0.8510 - val_loss: 0.0109 - val_accuracy: 0.8916\n",
            "Epoch 1383/2000\n",
            "4/4 - 0s - loss: 0.0057 - accuracy: 0.8411 - val_loss: 0.0109 - val_accuracy: 0.8891\n",
            "Epoch 1384/2000\n",
            "4/4 - 0s - loss: 0.0057 - accuracy: 0.8446 - val_loss: 0.0110 - val_accuracy: 0.8881\n",
            "Epoch 1385/2000\n",
            "4/4 - 0s - loss: 0.0058 - accuracy: 0.8545 - val_loss: 0.0110 - val_accuracy: 0.8891\n",
            "Epoch 1386/2000\n",
            "4/4 - 0s - loss: 0.0063 - accuracy: 0.8450 - val_loss: 0.0110 - val_accuracy: 0.8901\n",
            "Epoch 1387/2000\n",
            "4/4 - 0s - loss: 0.0059 - accuracy: 0.8520 - val_loss: 0.0109 - val_accuracy: 0.8906\n",
            "Epoch 1388/2000\n",
            "4/4 - 0s - loss: 0.0059 - accuracy: 0.8530 - val_loss: 0.0109 - val_accuracy: 0.8886\n",
            "Epoch 1389/2000\n",
            "4/4 - 0s - loss: 0.0060 - accuracy: 0.8530 - val_loss: 0.0108 - val_accuracy: 0.8886\n",
            "Epoch 1390/2000\n",
            "4/4 - 0s - loss: 0.0060 - accuracy: 0.8470 - val_loss: 0.0108 - val_accuracy: 0.8881\n",
            "Epoch 1391/2000\n",
            "4/4 - 0s - loss: 0.0057 - accuracy: 0.8530 - val_loss: 0.0108 - val_accuracy: 0.8861\n",
            "Epoch 1392/2000\n",
            "4/4 - 0s - loss: 0.0056 - accuracy: 0.8569 - val_loss: 0.0109 - val_accuracy: 0.8832\n",
            "Epoch 1393/2000\n",
            "4/4 - 0s - loss: 0.0059 - accuracy: 0.8406 - val_loss: 0.0109 - val_accuracy: 0.8817\n",
            "Epoch 1394/2000\n",
            "4/4 - 0s - loss: 0.0061 - accuracy: 0.8431 - val_loss: 0.0108 - val_accuracy: 0.8807\n",
            "Epoch 1395/2000\n",
            "4/4 - 0s - loss: 0.0059 - accuracy: 0.8530 - val_loss: 0.0108 - val_accuracy: 0.8817\n",
            "Epoch 1396/2000\n",
            "4/4 - 0s - loss: 0.0059 - accuracy: 0.8515 - val_loss: 0.0109 - val_accuracy: 0.8837\n",
            "Epoch 1397/2000\n",
            "4/4 - 0s - loss: 0.0061 - accuracy: 0.8411 - val_loss: 0.0107 - val_accuracy: 0.8861\n",
            "Epoch 1398/2000\n",
            "4/4 - 0s - loss: 0.0059 - accuracy: 0.8510 - val_loss: 0.0105 - val_accuracy: 0.8861\n",
            "Epoch 1399/2000\n",
            "4/4 - 0s - loss: 0.0059 - accuracy: 0.8500 - val_loss: 0.0105 - val_accuracy: 0.8861\n",
            "Epoch 1400/2000\n",
            "4/4 - 0s - loss: 0.0058 - accuracy: 0.8371 - val_loss: 0.0106 - val_accuracy: 0.8861\n",
            "Epoch 1401/2000\n",
            "4/4 - 0s - loss: 0.0059 - accuracy: 0.8406 - val_loss: 0.0107 - val_accuracy: 0.8871\n",
            "Epoch 1402/2000\n",
            "4/4 - 0s - loss: 0.0058 - accuracy: 0.8505 - val_loss: 0.0108 - val_accuracy: 0.8871\n",
            "Epoch 1403/2000\n",
            "4/4 - 0s - loss: 0.0061 - accuracy: 0.8441 - val_loss: 0.0108 - val_accuracy: 0.8881\n",
            "Epoch 1404/2000\n",
            "4/4 - 0s - loss: 0.0059 - accuracy: 0.8604 - val_loss: 0.0108 - val_accuracy: 0.8881\n",
            "Epoch 1405/2000\n",
            "4/4 - 0s - loss: 0.0060 - accuracy: 0.8510 - val_loss: 0.0108 - val_accuracy: 0.8886\n",
            "Epoch 1406/2000\n",
            "4/4 - 0s - loss: 0.0058 - accuracy: 0.8658 - val_loss: 0.0107 - val_accuracy: 0.8881\n",
            "Epoch 1407/2000\n",
            "4/4 - 0s - loss: 0.0061 - accuracy: 0.8485 - val_loss: 0.0107 - val_accuracy: 0.8861\n",
            "Epoch 1408/2000\n",
            "4/4 - 0s - loss: 0.0059 - accuracy: 0.8540 - val_loss: 0.0107 - val_accuracy: 0.8842\n",
            "Epoch 1409/2000\n",
            "4/4 - 0s - loss: 0.0058 - accuracy: 0.8564 - val_loss: 0.0107 - val_accuracy: 0.8837\n",
            "Epoch 1410/2000\n",
            "4/4 - 0s - loss: 0.0058 - accuracy: 0.8436 - val_loss: 0.0107 - val_accuracy: 0.8832\n",
            "Epoch 1411/2000\n",
            "4/4 - 0s - loss: 0.0059 - accuracy: 0.8510 - val_loss: 0.0106 - val_accuracy: 0.8827\n",
            "Epoch 1412/2000\n",
            "4/4 - 0s - loss: 0.0058 - accuracy: 0.8485 - val_loss: 0.0106 - val_accuracy: 0.8807\n",
            "Epoch 1413/2000\n",
            "4/4 - 0s - loss: 0.0059 - accuracy: 0.8470 - val_loss: 0.0107 - val_accuracy: 0.8807\n",
            "Epoch 1414/2000\n",
            "4/4 - 0s - loss: 0.0056 - accuracy: 0.8540 - val_loss: 0.0108 - val_accuracy: 0.8822\n",
            "Epoch 1415/2000\n",
            "4/4 - 0s - loss: 0.0059 - accuracy: 0.8505 - val_loss: 0.0108 - val_accuracy: 0.8822\n",
            "Epoch 1416/2000\n",
            "4/4 - 0s - loss: 0.0059 - accuracy: 0.8376 - val_loss: 0.0108 - val_accuracy: 0.8802\n",
            "Epoch 1417/2000\n",
            "4/4 - 0s - loss: 0.0061 - accuracy: 0.8366 - val_loss: 0.0108 - val_accuracy: 0.8777\n",
            "Epoch 1418/2000\n",
            "4/4 - 0s - loss: 0.0058 - accuracy: 0.8455 - val_loss: 0.0108 - val_accuracy: 0.8757\n",
            "Epoch 1419/2000\n",
            "4/4 - 0s - loss: 0.0056 - accuracy: 0.8574 - val_loss: 0.0107 - val_accuracy: 0.8782\n",
            "Epoch 1420/2000\n",
            "4/4 - 0s - loss: 0.0057 - accuracy: 0.8396 - val_loss: 0.0107 - val_accuracy: 0.8807\n",
            "Epoch 1421/2000\n",
            "4/4 - 0s - loss: 0.0059 - accuracy: 0.8589 - val_loss: 0.0107 - val_accuracy: 0.8827\n",
            "Epoch 1422/2000\n",
            "4/4 - 0s - loss: 0.0061 - accuracy: 0.8446 - val_loss: 0.0107 - val_accuracy: 0.8822\n",
            "Epoch 1423/2000\n",
            "4/4 - 0s - loss: 0.0059 - accuracy: 0.8450 - val_loss: 0.0108 - val_accuracy: 0.8812\n",
            "Epoch 1424/2000\n",
            "4/4 - 0s - loss: 0.0060 - accuracy: 0.8505 - val_loss: 0.0108 - val_accuracy: 0.8807\n",
            "Epoch 1425/2000\n",
            "4/4 - 0s - loss: 0.0061 - accuracy: 0.8569 - val_loss: 0.0108 - val_accuracy: 0.8812\n",
            "Epoch 1426/2000\n",
            "4/4 - 0s - loss: 0.0057 - accuracy: 0.8446 - val_loss: 0.0108 - val_accuracy: 0.8837\n",
            "Epoch 1427/2000\n",
            "4/4 - 0s - loss: 0.0061 - accuracy: 0.8490 - val_loss: 0.0108 - val_accuracy: 0.8856\n",
            "Epoch 1428/2000\n",
            "4/4 - 0s - loss: 0.0059 - accuracy: 0.8599 - val_loss: 0.0107 - val_accuracy: 0.8876\n",
            "Epoch 1429/2000\n",
            "4/4 - 0s - loss: 0.0062 - accuracy: 0.8505 - val_loss: 0.0107 - val_accuracy: 0.8896\n",
            "Epoch 1430/2000\n",
            "4/4 - 0s - loss: 0.0056 - accuracy: 0.8465 - val_loss: 0.0107 - val_accuracy: 0.8911\n",
            "Epoch 1431/2000\n",
            "4/4 - 0s - loss: 0.0057 - accuracy: 0.8480 - val_loss: 0.0107 - val_accuracy: 0.8911\n",
            "Epoch 1432/2000\n",
            "4/4 - 0s - loss: 0.0059 - accuracy: 0.8490 - val_loss: 0.0108 - val_accuracy: 0.8926\n",
            "Epoch 1433/2000\n",
            "4/4 - 0s - loss: 0.0059 - accuracy: 0.8550 - val_loss: 0.0108 - val_accuracy: 0.8926\n",
            "Epoch 1434/2000\n",
            "4/4 - 0s - loss: 0.0060 - accuracy: 0.8525 - val_loss: 0.0108 - val_accuracy: 0.8911\n",
            "Epoch 1435/2000\n",
            "4/4 - 0s - loss: 0.0058 - accuracy: 0.8510 - val_loss: 0.0108 - val_accuracy: 0.8901\n",
            "Epoch 1436/2000\n",
            "4/4 - 0s - loss: 0.0061 - accuracy: 0.8564 - val_loss: 0.0108 - val_accuracy: 0.8906\n",
            "Epoch 1437/2000\n",
            "4/4 - 0s - loss: 0.0060 - accuracy: 0.8545 - val_loss: 0.0109 - val_accuracy: 0.8901\n",
            "Epoch 1438/2000\n",
            "4/4 - 0s - loss: 0.0059 - accuracy: 0.8668 - val_loss: 0.0109 - val_accuracy: 0.8901\n",
            "Epoch 1439/2000\n",
            "4/4 - 0s - loss: 0.0058 - accuracy: 0.8480 - val_loss: 0.0108 - val_accuracy: 0.8896\n",
            "Epoch 1440/2000\n",
            "4/4 - 0s - loss: 0.0057 - accuracy: 0.8530 - val_loss: 0.0108 - val_accuracy: 0.8901\n",
            "Epoch 1441/2000\n",
            "4/4 - 0s - loss: 0.0059 - accuracy: 0.8441 - val_loss: 0.0108 - val_accuracy: 0.8906\n",
            "Epoch 1442/2000\n",
            "4/4 - 0s - loss: 0.0057 - accuracy: 0.8525 - val_loss: 0.0108 - val_accuracy: 0.8906\n",
            "Epoch 1443/2000\n",
            "4/4 - 0s - loss: 0.0057 - accuracy: 0.8490 - val_loss: 0.0107 - val_accuracy: 0.8901\n",
            "Epoch 1444/2000\n",
            "4/4 - 0s - loss: 0.0060 - accuracy: 0.8525 - val_loss: 0.0107 - val_accuracy: 0.8906\n",
            "Epoch 1445/2000\n",
            "4/4 - 0s - loss: 0.0056 - accuracy: 0.8574 - val_loss: 0.0108 - val_accuracy: 0.8911\n",
            "Epoch 1446/2000\n",
            "4/4 - 0s - loss: 0.0057 - accuracy: 0.8480 - val_loss: 0.0108 - val_accuracy: 0.8926\n",
            "Epoch 1447/2000\n",
            "4/4 - 0s - loss: 0.0058 - accuracy: 0.8530 - val_loss: 0.0108 - val_accuracy: 0.8950\n",
            "Epoch 1448/2000\n",
            "4/4 - 0s - loss: 0.0061 - accuracy: 0.8485 - val_loss: 0.0109 - val_accuracy: 0.8970\n",
            "Epoch 1449/2000\n",
            "4/4 - 0s - loss: 0.0058 - accuracy: 0.8401 - val_loss: 0.0108 - val_accuracy: 0.8970\n",
            "Epoch 1450/2000\n",
            "4/4 - 0s - loss: 0.0057 - accuracy: 0.8465 - val_loss: 0.0108 - val_accuracy: 0.8946\n",
            "Epoch 1451/2000\n",
            "4/4 - 0s - loss: 0.0057 - accuracy: 0.8604 - val_loss: 0.0108 - val_accuracy: 0.8936\n",
            "Epoch 1452/2000\n",
            "4/4 - 0s - loss: 0.0059 - accuracy: 0.8500 - val_loss: 0.0107 - val_accuracy: 0.8936\n",
            "Epoch 1453/2000\n",
            "4/4 - 0s - loss: 0.0059 - accuracy: 0.8470 - val_loss: 0.0108 - val_accuracy: 0.8936\n",
            "Epoch 1454/2000\n",
            "4/4 - 0s - loss: 0.0062 - accuracy: 0.8426 - val_loss: 0.0108 - val_accuracy: 0.8946\n",
            "Epoch 1455/2000\n",
            "4/4 - 0s - loss: 0.0057 - accuracy: 0.8485 - val_loss: 0.0108 - val_accuracy: 0.8936\n",
            "Epoch 1456/2000\n",
            "4/4 - 0s - loss: 0.0056 - accuracy: 0.8431 - val_loss: 0.0107 - val_accuracy: 0.8921\n",
            "Epoch 1457/2000\n",
            "4/4 - 0s - loss: 0.0060 - accuracy: 0.8391 - val_loss: 0.0107 - val_accuracy: 0.8916\n",
            "Epoch 1458/2000\n",
            "4/4 - 0s - loss: 0.0059 - accuracy: 0.8485 - val_loss: 0.0107 - val_accuracy: 0.8901\n",
            "Epoch 1459/2000\n",
            "4/4 - 0s - loss: 0.0057 - accuracy: 0.8559 - val_loss: 0.0108 - val_accuracy: 0.8886\n",
            "Epoch 1460/2000\n",
            "4/4 - 0s - loss: 0.0058 - accuracy: 0.8540 - val_loss: 0.0108 - val_accuracy: 0.8901\n",
            "Epoch 1461/2000\n",
            "4/4 - 0s - loss: 0.0064 - accuracy: 0.8460 - val_loss: 0.0108 - val_accuracy: 0.8921\n",
            "Epoch 1462/2000\n",
            "4/4 - 0s - loss: 0.0058 - accuracy: 0.8579 - val_loss: 0.0107 - val_accuracy: 0.8960\n",
            "Epoch 1463/2000\n",
            "4/4 - 0s - loss: 0.0058 - accuracy: 0.8446 - val_loss: 0.0107 - val_accuracy: 0.8955\n",
            "Epoch 1464/2000\n",
            "4/4 - 0s - loss: 0.0061 - accuracy: 0.8450 - val_loss: 0.0107 - val_accuracy: 0.8936\n",
            "Epoch 1465/2000\n",
            "4/4 - 0s - loss: 0.0059 - accuracy: 0.8520 - val_loss: 0.0107 - val_accuracy: 0.8931\n",
            "Epoch 1466/2000\n",
            "4/4 - 0s - loss: 0.0057 - accuracy: 0.8356 - val_loss: 0.0107 - val_accuracy: 0.8926\n",
            "Epoch 1467/2000\n",
            "4/4 - 0s - loss: 0.0059 - accuracy: 0.8475 - val_loss: 0.0106 - val_accuracy: 0.8921\n",
            "Epoch 1468/2000\n",
            "4/4 - 0s - loss: 0.0055 - accuracy: 0.8554 - val_loss: 0.0106 - val_accuracy: 0.8936\n",
            "Epoch 1469/2000\n",
            "4/4 - 0s - loss: 0.0057 - accuracy: 0.8470 - val_loss: 0.0108 - val_accuracy: 0.8946\n",
            "Epoch 1470/2000\n",
            "4/4 - 0s - loss: 0.0060 - accuracy: 0.8525 - val_loss: 0.0108 - val_accuracy: 0.8931\n",
            "Epoch 1471/2000\n",
            "4/4 - 0s - loss: 0.0054 - accuracy: 0.8574 - val_loss: 0.0108 - val_accuracy: 0.8901\n",
            "Epoch 1472/2000\n",
            "4/4 - 0s - loss: 0.0058 - accuracy: 0.8604 - val_loss: 0.0108 - val_accuracy: 0.8876\n",
            "Epoch 1473/2000\n",
            "4/4 - 0s - loss: 0.0060 - accuracy: 0.8525 - val_loss: 0.0107 - val_accuracy: 0.8871\n",
            "Epoch 1474/2000\n",
            "4/4 - 0s - loss: 0.0062 - accuracy: 0.8485 - val_loss: 0.0106 - val_accuracy: 0.8881\n",
            "Epoch 1475/2000\n",
            "4/4 - 0s - loss: 0.0061 - accuracy: 0.8520 - val_loss: 0.0106 - val_accuracy: 0.8876\n",
            "Epoch 1476/2000\n",
            "4/4 - 0s - loss: 0.0058 - accuracy: 0.8391 - val_loss: 0.0107 - val_accuracy: 0.8876\n",
            "Epoch 1477/2000\n",
            "4/4 - 0s - loss: 0.0057 - accuracy: 0.8460 - val_loss: 0.0108 - val_accuracy: 0.8861\n",
            "Epoch 1478/2000\n",
            "4/4 - 0s - loss: 0.0058 - accuracy: 0.8559 - val_loss: 0.0108 - val_accuracy: 0.8847\n",
            "Epoch 1479/2000\n",
            "4/4 - 0s - loss: 0.0057 - accuracy: 0.8540 - val_loss: 0.0108 - val_accuracy: 0.8837\n",
            "Epoch 1480/2000\n",
            "4/4 - 0s - loss: 0.0061 - accuracy: 0.8455 - val_loss: 0.0107 - val_accuracy: 0.8817\n",
            "Epoch 1481/2000\n",
            "4/4 - 0s - loss: 0.0058 - accuracy: 0.8485 - val_loss: 0.0107 - val_accuracy: 0.8792\n",
            "Epoch 1482/2000\n",
            "4/4 - 0s - loss: 0.0058 - accuracy: 0.8629 - val_loss: 0.0106 - val_accuracy: 0.8797\n",
            "Epoch 1483/2000\n",
            "4/4 - 0s - loss: 0.0059 - accuracy: 0.8589 - val_loss: 0.0106 - val_accuracy: 0.8812\n",
            "Epoch 1484/2000\n",
            "4/4 - 0s - loss: 0.0056 - accuracy: 0.8535 - val_loss: 0.0107 - val_accuracy: 0.8812\n",
            "Epoch 1485/2000\n",
            "4/4 - 0s - loss: 0.0059 - accuracy: 0.8500 - val_loss: 0.0108 - val_accuracy: 0.8822\n",
            "Epoch 1486/2000\n",
            "4/4 - 0s - loss: 0.0057 - accuracy: 0.8480 - val_loss: 0.0108 - val_accuracy: 0.8822\n",
            "Epoch 1487/2000\n",
            "4/4 - 0s - loss: 0.0054 - accuracy: 0.8480 - val_loss: 0.0108 - val_accuracy: 0.8837\n",
            "Epoch 1488/2000\n",
            "4/4 - 0s - loss: 0.0059 - accuracy: 0.8490 - val_loss: 0.0108 - val_accuracy: 0.8861\n",
            "Epoch 1489/2000\n",
            "4/4 - 0s - loss: 0.0058 - accuracy: 0.8436 - val_loss: 0.0108 - val_accuracy: 0.8866\n",
            "Epoch 1490/2000\n",
            "4/4 - 0s - loss: 0.0061 - accuracy: 0.8559 - val_loss: 0.0108 - val_accuracy: 0.8856\n",
            "Epoch 1491/2000\n",
            "4/4 - 0s - loss: 0.0059 - accuracy: 0.8535 - val_loss: 0.0108 - val_accuracy: 0.8856\n",
            "Epoch 1492/2000\n",
            "4/4 - 0s - loss: 0.0062 - accuracy: 0.8510 - val_loss: 0.0108 - val_accuracy: 0.8856\n",
            "Epoch 1493/2000\n",
            "4/4 - 0s - loss: 0.0059 - accuracy: 0.8455 - val_loss: 0.0108 - val_accuracy: 0.8876\n",
            "Epoch 1494/2000\n",
            "4/4 - 0s - loss: 0.0057 - accuracy: 0.8401 - val_loss: 0.0107 - val_accuracy: 0.8881\n",
            "Epoch 1495/2000\n",
            "4/4 - 0s - loss: 0.0055 - accuracy: 0.8569 - val_loss: 0.0107 - val_accuracy: 0.8896\n",
            "Epoch 1496/2000\n",
            "4/4 - 0s - loss: 0.0057 - accuracy: 0.8629 - val_loss: 0.0108 - val_accuracy: 0.8901\n",
            "Epoch 1497/2000\n",
            "4/4 - 0s - loss: 0.0056 - accuracy: 0.8545 - val_loss: 0.0108 - val_accuracy: 0.8881\n",
            "Epoch 1498/2000\n",
            "4/4 - 0s - loss: 0.0057 - accuracy: 0.8480 - val_loss: 0.0109 - val_accuracy: 0.8851\n",
            "Epoch 1499/2000\n",
            "4/4 - 0s - loss: 0.0060 - accuracy: 0.8441 - val_loss: 0.0108 - val_accuracy: 0.8847\n",
            "Epoch 1500/2000\n",
            "4/4 - 0s - loss: 0.0060 - accuracy: 0.8515 - val_loss: 0.0107 - val_accuracy: 0.8842\n",
            "Epoch 1501/2000\n",
            "4/4 - 0s - loss: 0.0058 - accuracy: 0.8545 - val_loss: 0.0107 - val_accuracy: 0.8851\n",
            "Epoch 1502/2000\n",
            "4/4 - 0s - loss: 0.0057 - accuracy: 0.8550 - val_loss: 0.0107 - val_accuracy: 0.8866\n",
            "Epoch 1503/2000\n",
            "4/4 - 0s - loss: 0.0059 - accuracy: 0.8475 - val_loss: 0.0107 - val_accuracy: 0.8876\n",
            "Epoch 1504/2000\n",
            "4/4 - 0s - loss: 0.0057 - accuracy: 0.8455 - val_loss: 0.0108 - val_accuracy: 0.8866\n",
            "Epoch 1505/2000\n",
            "4/4 - 0s - loss: 0.0057 - accuracy: 0.8550 - val_loss: 0.0108 - val_accuracy: 0.8861\n",
            "Epoch 1506/2000\n",
            "4/4 - 0s - loss: 0.0060 - accuracy: 0.8550 - val_loss: 0.0108 - val_accuracy: 0.8847\n",
            "Epoch 1507/2000\n",
            "4/4 - 0s - loss: 0.0059 - accuracy: 0.8569 - val_loss: 0.0107 - val_accuracy: 0.8832\n",
            "Epoch 1508/2000\n",
            "4/4 - 0s - loss: 0.0058 - accuracy: 0.8535 - val_loss: 0.0107 - val_accuracy: 0.8837\n",
            "Epoch 1509/2000\n",
            "4/4 - 0s - loss: 0.0059 - accuracy: 0.8441 - val_loss: 0.0108 - val_accuracy: 0.8832\n",
            "Epoch 1510/2000\n",
            "4/4 - 0s - loss: 0.0058 - accuracy: 0.8554 - val_loss: 0.0108 - val_accuracy: 0.8861\n",
            "Epoch 1511/2000\n",
            "4/4 - 0s - loss: 0.0059 - accuracy: 0.8559 - val_loss: 0.0107 - val_accuracy: 0.8906\n",
            "Epoch 1512/2000\n",
            "4/4 - 0s - loss: 0.0058 - accuracy: 0.8535 - val_loss: 0.0108 - val_accuracy: 0.8906\n",
            "Epoch 1513/2000\n",
            "4/4 - 0s - loss: 0.0058 - accuracy: 0.8475 - val_loss: 0.0108 - val_accuracy: 0.8896\n",
            "Epoch 1514/2000\n",
            "4/4 - 0s - loss: 0.0060 - accuracy: 0.8436 - val_loss: 0.0108 - val_accuracy: 0.8866\n",
            "Epoch 1515/2000\n",
            "4/4 - 0s - loss: 0.0059 - accuracy: 0.8550 - val_loss: 0.0108 - val_accuracy: 0.8871\n",
            "Epoch 1516/2000\n",
            "4/4 - 0s - loss: 0.0060 - accuracy: 0.8465 - val_loss: 0.0107 - val_accuracy: 0.8891\n",
            "Epoch 1517/2000\n",
            "4/4 - 0s - loss: 0.0061 - accuracy: 0.8545 - val_loss: 0.0107 - val_accuracy: 0.8911\n",
            "Epoch 1518/2000\n",
            "4/4 - 0s - loss: 0.0055 - accuracy: 0.8545 - val_loss: 0.0107 - val_accuracy: 0.8931\n",
            "Epoch 1519/2000\n",
            "4/4 - 0s - loss: 0.0057 - accuracy: 0.8624 - val_loss: 0.0107 - val_accuracy: 0.8955\n",
            "Epoch 1520/2000\n",
            "4/4 - 0s - loss: 0.0059 - accuracy: 0.8381 - val_loss: 0.0107 - val_accuracy: 0.8965\n",
            "Epoch 1521/2000\n",
            "4/4 - 0s - loss: 0.0060 - accuracy: 0.8470 - val_loss: 0.0106 - val_accuracy: 0.8955\n",
            "Epoch 1522/2000\n",
            "4/4 - 0s - loss: 0.0059 - accuracy: 0.8441 - val_loss: 0.0107 - val_accuracy: 0.8941\n",
            "Epoch 1523/2000\n",
            "4/4 - 0s - loss: 0.0060 - accuracy: 0.8450 - val_loss: 0.0107 - val_accuracy: 0.8906\n",
            "Epoch 1524/2000\n",
            "4/4 - 0s - loss: 0.0059 - accuracy: 0.8441 - val_loss: 0.0108 - val_accuracy: 0.8891\n",
            "Epoch 1525/2000\n",
            "4/4 - 0s - loss: 0.0057 - accuracy: 0.8505 - val_loss: 0.0109 - val_accuracy: 0.8886\n",
            "Epoch 1526/2000\n",
            "4/4 - 0s - loss: 0.0059 - accuracy: 0.8510 - val_loss: 0.0109 - val_accuracy: 0.8921\n",
            "Epoch 1527/2000\n",
            "4/4 - 0s - loss: 0.0060 - accuracy: 0.8515 - val_loss: 0.0108 - val_accuracy: 0.8931\n",
            "Epoch 1528/2000\n",
            "4/4 - 0s - loss: 0.0058 - accuracy: 0.8525 - val_loss: 0.0107 - val_accuracy: 0.8946\n",
            "Epoch 1529/2000\n",
            "4/4 - 0s - loss: 0.0056 - accuracy: 0.8614 - val_loss: 0.0107 - val_accuracy: 0.8970\n",
            "Epoch 1530/2000\n",
            "4/4 - 0s - loss: 0.0055 - accuracy: 0.8564 - val_loss: 0.0108 - val_accuracy: 0.8980\n",
            "Epoch 1531/2000\n",
            "4/4 - 0s - loss: 0.0058 - accuracy: 0.8550 - val_loss: 0.0108 - val_accuracy: 0.8980\n",
            "Epoch 1532/2000\n",
            "4/4 - 0s - loss: 0.0058 - accuracy: 0.8426 - val_loss: 0.0108 - val_accuracy: 0.8955\n",
            "Epoch 1533/2000\n",
            "4/4 - 0s - loss: 0.0061 - accuracy: 0.8485 - val_loss: 0.0108 - val_accuracy: 0.8916\n",
            "Epoch 1534/2000\n",
            "4/4 - 0s - loss: 0.0059 - accuracy: 0.8455 - val_loss: 0.0107 - val_accuracy: 0.8871\n",
            "Epoch 1535/2000\n",
            "4/4 - 0s - loss: 0.0057 - accuracy: 0.8406 - val_loss: 0.0107 - val_accuracy: 0.8827\n",
            "Epoch 1536/2000\n",
            "4/4 - 0s - loss: 0.0058 - accuracy: 0.8535 - val_loss: 0.0107 - val_accuracy: 0.8787\n",
            "Epoch 1537/2000\n",
            "4/4 - 0s - loss: 0.0059 - accuracy: 0.8495 - val_loss: 0.0107 - val_accuracy: 0.8792\n",
            "Epoch 1538/2000\n",
            "4/4 - 0s - loss: 0.0054 - accuracy: 0.8594 - val_loss: 0.0107 - val_accuracy: 0.8812\n",
            "Epoch 1539/2000\n",
            "4/4 - 0s - loss: 0.0060 - accuracy: 0.8490 - val_loss: 0.0108 - val_accuracy: 0.8847\n",
            "Epoch 1540/2000\n",
            "4/4 - 0s - loss: 0.0059 - accuracy: 0.8505 - val_loss: 0.0108 - val_accuracy: 0.8851\n",
            "Epoch 1541/2000\n",
            "4/4 - 0s - loss: 0.0058 - accuracy: 0.8535 - val_loss: 0.0108 - val_accuracy: 0.8842\n",
            "Epoch 1542/2000\n",
            "4/4 - 0s - loss: 0.0057 - accuracy: 0.8510 - val_loss: 0.0108 - val_accuracy: 0.8851\n",
            "Epoch 1543/2000\n",
            "4/4 - 0s - loss: 0.0060 - accuracy: 0.8391 - val_loss: 0.0109 - val_accuracy: 0.8842\n",
            "Epoch 1544/2000\n",
            "4/4 - 0s - loss: 0.0054 - accuracy: 0.8495 - val_loss: 0.0110 - val_accuracy: 0.8842\n",
            "Epoch 1545/2000\n",
            "4/4 - 0s - loss: 0.0061 - accuracy: 0.8510 - val_loss: 0.0111 - val_accuracy: 0.8837\n",
            "Epoch 1546/2000\n",
            "4/4 - 0s - loss: 0.0061 - accuracy: 0.8515 - val_loss: 0.0110 - val_accuracy: 0.8842\n",
            "Epoch 1547/2000\n",
            "4/4 - 0s - loss: 0.0058 - accuracy: 0.8391 - val_loss: 0.0110 - val_accuracy: 0.8856\n",
            "Epoch 1548/2000\n",
            "4/4 - 0s - loss: 0.0057 - accuracy: 0.8515 - val_loss: 0.0109 - val_accuracy: 0.8851\n",
            "Epoch 1549/2000\n",
            "4/4 - 0s - loss: 0.0056 - accuracy: 0.8579 - val_loss: 0.0109 - val_accuracy: 0.8837\n",
            "Epoch 1550/2000\n",
            "4/4 - 0s - loss: 0.0057 - accuracy: 0.8614 - val_loss: 0.0108 - val_accuracy: 0.8827\n",
            "Epoch 1551/2000\n",
            "4/4 - 0s - loss: 0.0059 - accuracy: 0.8545 - val_loss: 0.0108 - val_accuracy: 0.8812\n",
            "Epoch 1552/2000\n",
            "4/4 - 0s - loss: 0.0057 - accuracy: 0.8589 - val_loss: 0.0108 - val_accuracy: 0.8807\n",
            "Epoch 1553/2000\n",
            "4/4 - 0s - loss: 0.0058 - accuracy: 0.8475 - val_loss: 0.0108 - val_accuracy: 0.8807\n",
            "Epoch 1554/2000\n",
            "4/4 - 0s - loss: 0.0059 - accuracy: 0.8525 - val_loss: 0.0108 - val_accuracy: 0.8807\n",
            "Epoch 1555/2000\n",
            "4/4 - 0s - loss: 0.0055 - accuracy: 0.8446 - val_loss: 0.0108 - val_accuracy: 0.8787\n",
            "Epoch 1556/2000\n",
            "4/4 - 0s - loss: 0.0058 - accuracy: 0.8634 - val_loss: 0.0108 - val_accuracy: 0.8782\n",
            "Epoch 1557/2000\n",
            "4/4 - 0s - loss: 0.0057 - accuracy: 0.8629 - val_loss: 0.0108 - val_accuracy: 0.8807\n",
            "Epoch 1558/2000\n",
            "4/4 - 0s - loss: 0.0060 - accuracy: 0.8559 - val_loss: 0.0108 - val_accuracy: 0.8817\n",
            "Epoch 1559/2000\n",
            "4/4 - 0s - loss: 0.0058 - accuracy: 0.8431 - val_loss: 0.0108 - val_accuracy: 0.8827\n",
            "Epoch 1560/2000\n",
            "4/4 - 0s - loss: 0.0062 - accuracy: 0.8396 - val_loss: 0.0107 - val_accuracy: 0.8837\n",
            "Epoch 1561/2000\n",
            "4/4 - 0s - loss: 0.0057 - accuracy: 0.8693 - val_loss: 0.0107 - val_accuracy: 0.8837\n",
            "Epoch 1562/2000\n",
            "4/4 - 0s - loss: 0.0060 - accuracy: 0.8470 - val_loss: 0.0107 - val_accuracy: 0.8832\n",
            "Epoch 1563/2000\n",
            "4/4 - 0s - loss: 0.0061 - accuracy: 0.8490 - val_loss: 0.0108 - val_accuracy: 0.8822\n",
            "Epoch 1564/2000\n",
            "4/4 - 0s - loss: 0.0056 - accuracy: 0.8649 - val_loss: 0.0109 - val_accuracy: 0.8832\n",
            "Epoch 1565/2000\n",
            "4/4 - 0s - loss: 0.0058 - accuracy: 0.8421 - val_loss: 0.0109 - val_accuracy: 0.8847\n",
            "Epoch 1566/2000\n",
            "4/4 - 0s - loss: 0.0059 - accuracy: 0.8470 - val_loss: 0.0108 - val_accuracy: 0.8856\n",
            "Epoch 1567/2000\n",
            "4/4 - 0s - loss: 0.0058 - accuracy: 0.8545 - val_loss: 0.0107 - val_accuracy: 0.8842\n",
            "Epoch 1568/2000\n",
            "4/4 - 0s - loss: 0.0062 - accuracy: 0.8559 - val_loss: 0.0106 - val_accuracy: 0.8837\n",
            "Epoch 1569/2000\n",
            "4/4 - 0s - loss: 0.0060 - accuracy: 0.8540 - val_loss: 0.0107 - val_accuracy: 0.8847\n",
            "Epoch 1570/2000\n",
            "4/4 - 0s - loss: 0.0056 - accuracy: 0.8535 - val_loss: 0.0108 - val_accuracy: 0.8861\n",
            "Epoch 1571/2000\n",
            "4/4 - 0s - loss: 0.0057 - accuracy: 0.8480 - val_loss: 0.0108 - val_accuracy: 0.8866\n",
            "Epoch 1572/2000\n",
            "4/4 - 0s - loss: 0.0059 - accuracy: 0.8505 - val_loss: 0.0108 - val_accuracy: 0.8881\n",
            "Epoch 1573/2000\n",
            "4/4 - 0s - loss: 0.0056 - accuracy: 0.8500 - val_loss: 0.0107 - val_accuracy: 0.8871\n",
            "Epoch 1574/2000\n",
            "4/4 - 0s - loss: 0.0058 - accuracy: 0.8495 - val_loss: 0.0107 - val_accuracy: 0.8886\n",
            "Epoch 1575/2000\n",
            "4/4 - 0s - loss: 0.0059 - accuracy: 0.8530 - val_loss: 0.0107 - val_accuracy: 0.8906\n",
            "Epoch 1576/2000\n",
            "4/4 - 0s - loss: 0.0057 - accuracy: 0.8465 - val_loss: 0.0107 - val_accuracy: 0.8911\n",
            "Epoch 1577/2000\n",
            "4/4 - 0s - loss: 0.0061 - accuracy: 0.8520 - val_loss: 0.0107 - val_accuracy: 0.8911\n",
            "Epoch 1578/2000\n",
            "4/4 - 0s - loss: 0.0062 - accuracy: 0.8322 - val_loss: 0.0107 - val_accuracy: 0.8906\n",
            "Epoch 1579/2000\n",
            "4/4 - 0s - loss: 0.0057 - accuracy: 0.8535 - val_loss: 0.0107 - val_accuracy: 0.8891\n",
            "Epoch 1580/2000\n",
            "4/4 - 0s - loss: 0.0060 - accuracy: 0.8495 - val_loss: 0.0108 - val_accuracy: 0.8886\n",
            "Epoch 1581/2000\n",
            "4/4 - 0s - loss: 0.0058 - accuracy: 0.8550 - val_loss: 0.0108 - val_accuracy: 0.8866\n",
            "Epoch 1582/2000\n",
            "4/4 - 0s - loss: 0.0057 - accuracy: 0.8485 - val_loss: 0.0109 - val_accuracy: 0.8856\n",
            "Epoch 1583/2000\n",
            "4/4 - 0s - loss: 0.0056 - accuracy: 0.8540 - val_loss: 0.0109 - val_accuracy: 0.8847\n",
            "Epoch 1584/2000\n",
            "4/4 - 0s - loss: 0.0060 - accuracy: 0.8535 - val_loss: 0.0108 - val_accuracy: 0.8822\n",
            "Epoch 1585/2000\n",
            "4/4 - 0s - loss: 0.0059 - accuracy: 0.8515 - val_loss: 0.0107 - val_accuracy: 0.8847\n",
            "Epoch 1586/2000\n",
            "4/4 - 0s - loss: 0.0056 - accuracy: 0.8510 - val_loss: 0.0106 - val_accuracy: 0.8861\n",
            "Epoch 1587/2000\n",
            "4/4 - 0s - loss: 0.0057 - accuracy: 0.8535 - val_loss: 0.0105 - val_accuracy: 0.8861\n",
            "Epoch 1588/2000\n",
            "4/4 - 0s - loss: 0.0057 - accuracy: 0.8505 - val_loss: 0.0105 - val_accuracy: 0.8851\n",
            "Epoch 1589/2000\n",
            "4/4 - 0s - loss: 0.0058 - accuracy: 0.8490 - val_loss: 0.0106 - val_accuracy: 0.8832\n",
            "Epoch 1590/2000\n",
            "4/4 - 0s - loss: 0.0059 - accuracy: 0.8446 - val_loss: 0.0107 - val_accuracy: 0.8822\n",
            "Epoch 1591/2000\n",
            "4/4 - 0s - loss: 0.0062 - accuracy: 0.8495 - val_loss: 0.0108 - val_accuracy: 0.8802\n",
            "Epoch 1592/2000\n",
            "4/4 - 0s - loss: 0.0058 - accuracy: 0.8470 - val_loss: 0.0109 - val_accuracy: 0.8782\n",
            "Epoch 1593/2000\n",
            "4/4 - 0s - loss: 0.0059 - accuracy: 0.8485 - val_loss: 0.0109 - val_accuracy: 0.8797\n",
            "Epoch 1594/2000\n",
            "4/4 - 0s - loss: 0.0060 - accuracy: 0.8455 - val_loss: 0.0109 - val_accuracy: 0.8817\n",
            "Epoch 1595/2000\n",
            "4/4 - 0s - loss: 0.0057 - accuracy: 0.8569 - val_loss: 0.0109 - val_accuracy: 0.8861\n",
            "Epoch 1596/2000\n",
            "4/4 - 0s - loss: 0.0060 - accuracy: 0.8535 - val_loss: 0.0108 - val_accuracy: 0.8856\n",
            "Epoch 1597/2000\n",
            "4/4 - 0s - loss: 0.0061 - accuracy: 0.8540 - val_loss: 0.0108 - val_accuracy: 0.8837\n",
            "Epoch 1598/2000\n",
            "4/4 - 0s - loss: 0.0059 - accuracy: 0.8465 - val_loss: 0.0109 - val_accuracy: 0.8817\n",
            "Epoch 1599/2000\n",
            "4/4 - 0s - loss: 0.0059 - accuracy: 0.8446 - val_loss: 0.0110 - val_accuracy: 0.8802\n",
            "Epoch 1600/2000\n",
            "4/4 - 0s - loss: 0.0058 - accuracy: 0.8554 - val_loss: 0.0110 - val_accuracy: 0.8807\n",
            "Epoch 1601/2000\n",
            "4/4 - 0s - loss: 0.0057 - accuracy: 0.8604 - val_loss: 0.0110 - val_accuracy: 0.8822\n",
            "Epoch 1602/2000\n",
            "4/4 - 0s - loss: 0.0058 - accuracy: 0.8470 - val_loss: 0.0109 - val_accuracy: 0.8822\n",
            "Epoch 1603/2000\n",
            "4/4 - 0s - loss: 0.0059 - accuracy: 0.8465 - val_loss: 0.0108 - val_accuracy: 0.8822\n",
            "Epoch 1604/2000\n",
            "4/4 - 0s - loss: 0.0059 - accuracy: 0.8589 - val_loss: 0.0109 - val_accuracy: 0.8822\n",
            "Epoch 1605/2000\n",
            "4/4 - 0s - loss: 0.0059 - accuracy: 0.8559 - val_loss: 0.0109 - val_accuracy: 0.8817\n",
            "Epoch 1606/2000\n",
            "4/4 - 0s - loss: 0.0060 - accuracy: 0.8515 - val_loss: 0.0109 - val_accuracy: 0.8802\n",
            "Epoch 1607/2000\n",
            "4/4 - 0s - loss: 0.0058 - accuracy: 0.8455 - val_loss: 0.0109 - val_accuracy: 0.8802\n",
            "Epoch 1608/2000\n",
            "4/4 - 0s - loss: 0.0057 - accuracy: 0.8545 - val_loss: 0.0109 - val_accuracy: 0.8807\n",
            "Epoch 1609/2000\n",
            "4/4 - 0s - loss: 0.0060 - accuracy: 0.8490 - val_loss: 0.0109 - val_accuracy: 0.8822\n",
            "Epoch 1610/2000\n",
            "4/4 - 0s - loss: 0.0057 - accuracy: 0.8579 - val_loss: 0.0109 - val_accuracy: 0.8832\n",
            "Epoch 1611/2000\n",
            "4/4 - 0s - loss: 0.0059 - accuracy: 0.8436 - val_loss: 0.0109 - val_accuracy: 0.8842\n",
            "Epoch 1612/2000\n",
            "4/4 - 0s - loss: 0.0060 - accuracy: 0.8480 - val_loss: 0.0109 - val_accuracy: 0.8842\n",
            "Epoch 1613/2000\n",
            "4/4 - 0s - loss: 0.0057 - accuracy: 0.8554 - val_loss: 0.0110 - val_accuracy: 0.8847\n",
            "Epoch 1614/2000\n",
            "4/4 - 0s - loss: 0.0062 - accuracy: 0.8495 - val_loss: 0.0110 - val_accuracy: 0.8847\n",
            "Epoch 1615/2000\n",
            "4/4 - 0s - loss: 0.0059 - accuracy: 0.8584 - val_loss: 0.0109 - val_accuracy: 0.8871\n",
            "Epoch 1616/2000\n",
            "4/4 - 0s - loss: 0.0057 - accuracy: 0.8554 - val_loss: 0.0109 - val_accuracy: 0.8911\n",
            "Epoch 1617/2000\n",
            "4/4 - 0s - loss: 0.0058 - accuracy: 0.8441 - val_loss: 0.0108 - val_accuracy: 0.8921\n",
            "Epoch 1618/2000\n",
            "4/4 - 0s - loss: 0.0059 - accuracy: 0.8421 - val_loss: 0.0108 - val_accuracy: 0.8906\n",
            "Epoch 1619/2000\n",
            "4/4 - 0s - loss: 0.0057 - accuracy: 0.8490 - val_loss: 0.0108 - val_accuracy: 0.8881\n",
            "Epoch 1620/2000\n",
            "4/4 - 0s - loss: 0.0059 - accuracy: 0.8579 - val_loss: 0.0108 - val_accuracy: 0.8871\n",
            "Epoch 1621/2000\n",
            "4/4 - 0s - loss: 0.0060 - accuracy: 0.8470 - val_loss: 0.0108 - val_accuracy: 0.8861\n",
            "Epoch 1622/2000\n",
            "4/4 - 0s - loss: 0.0054 - accuracy: 0.8505 - val_loss: 0.0108 - val_accuracy: 0.8866\n",
            "Epoch 1623/2000\n",
            "4/4 - 0s - loss: 0.0062 - accuracy: 0.8490 - val_loss: 0.0108 - val_accuracy: 0.8871\n",
            "Epoch 1624/2000\n",
            "4/4 - 0s - loss: 0.0058 - accuracy: 0.8629 - val_loss: 0.0108 - val_accuracy: 0.8881\n",
            "Epoch 1625/2000\n",
            "4/4 - 0s - loss: 0.0058 - accuracy: 0.8515 - val_loss: 0.0108 - val_accuracy: 0.8896\n",
            "Epoch 1626/2000\n",
            "4/4 - 0s - loss: 0.0059 - accuracy: 0.8515 - val_loss: 0.0108 - val_accuracy: 0.8916\n",
            "Epoch 1627/2000\n",
            "4/4 - 0s - loss: 0.0060 - accuracy: 0.8381 - val_loss: 0.0108 - val_accuracy: 0.8926\n",
            "Epoch 1628/2000\n",
            "4/4 - 0s - loss: 0.0058 - accuracy: 0.8564 - val_loss: 0.0108 - val_accuracy: 0.8941\n",
            "Epoch 1629/2000\n",
            "4/4 - 0s - loss: 0.0059 - accuracy: 0.8411 - val_loss: 0.0108 - val_accuracy: 0.8946\n",
            "Epoch 1630/2000\n",
            "4/4 - 0s - loss: 0.0059 - accuracy: 0.8515 - val_loss: 0.0107 - val_accuracy: 0.8950\n",
            "Epoch 1631/2000\n",
            "4/4 - 0s - loss: 0.0059 - accuracy: 0.8550 - val_loss: 0.0107 - val_accuracy: 0.8955\n",
            "Epoch 1632/2000\n",
            "4/4 - 0s - loss: 0.0058 - accuracy: 0.8550 - val_loss: 0.0107 - val_accuracy: 0.8946\n",
            "Epoch 1633/2000\n",
            "4/4 - 0s - loss: 0.0057 - accuracy: 0.8550 - val_loss: 0.0108 - val_accuracy: 0.8955\n",
            "Epoch 1634/2000\n",
            "4/4 - 0s - loss: 0.0059 - accuracy: 0.8411 - val_loss: 0.0108 - val_accuracy: 0.8946\n",
            "Epoch 1635/2000\n",
            "4/4 - 0s - loss: 0.0056 - accuracy: 0.8480 - val_loss: 0.0108 - val_accuracy: 0.8926\n",
            "Epoch 1636/2000\n",
            "4/4 - 0s - loss: 0.0058 - accuracy: 0.8495 - val_loss: 0.0108 - val_accuracy: 0.8891\n",
            "Epoch 1637/2000\n",
            "4/4 - 0s - loss: 0.0059 - accuracy: 0.8574 - val_loss: 0.0108 - val_accuracy: 0.8861\n",
            "Epoch 1638/2000\n",
            "4/4 - 0s - loss: 0.0059 - accuracy: 0.8470 - val_loss: 0.0108 - val_accuracy: 0.8856\n",
            "Epoch 1639/2000\n",
            "4/4 - 0s - loss: 0.0060 - accuracy: 0.8554 - val_loss: 0.0109 - val_accuracy: 0.8866\n",
            "Epoch 1640/2000\n",
            "4/4 - 0s - loss: 0.0058 - accuracy: 0.8485 - val_loss: 0.0109 - val_accuracy: 0.8871\n",
            "Epoch 1641/2000\n",
            "4/4 - 0s - loss: 0.0063 - accuracy: 0.8525 - val_loss: 0.0109 - val_accuracy: 0.8881\n",
            "Epoch 1642/2000\n",
            "4/4 - 0s - loss: 0.0058 - accuracy: 0.8450 - val_loss: 0.0109 - val_accuracy: 0.8896\n",
            "Epoch 1643/2000\n",
            "4/4 - 0s - loss: 0.0057 - accuracy: 0.8554 - val_loss: 0.0109 - val_accuracy: 0.8886\n",
            "Epoch 1644/2000\n",
            "4/4 - 0s - loss: 0.0059 - accuracy: 0.8490 - val_loss: 0.0109 - val_accuracy: 0.8896\n",
            "Epoch 1645/2000\n",
            "4/4 - 0s - loss: 0.0057 - accuracy: 0.8490 - val_loss: 0.0109 - val_accuracy: 0.8896\n",
            "Epoch 1646/2000\n",
            "4/4 - 0s - loss: 0.0058 - accuracy: 0.8515 - val_loss: 0.0109 - val_accuracy: 0.8886\n",
            "Epoch 1647/2000\n",
            "4/4 - 0s - loss: 0.0056 - accuracy: 0.8594 - val_loss: 0.0109 - val_accuracy: 0.8901\n",
            "Epoch 1648/2000\n",
            "4/4 - 0s - loss: 0.0059 - accuracy: 0.8604 - val_loss: 0.0109 - val_accuracy: 0.8896\n",
            "Epoch 1649/2000\n",
            "4/4 - 0s - loss: 0.0056 - accuracy: 0.8540 - val_loss: 0.0109 - val_accuracy: 0.8891\n",
            "Epoch 1650/2000\n",
            "4/4 - 0s - loss: 0.0059 - accuracy: 0.8505 - val_loss: 0.0109 - val_accuracy: 0.8881\n",
            "Epoch 1651/2000\n",
            "4/4 - 0s - loss: 0.0062 - accuracy: 0.8460 - val_loss: 0.0110 - val_accuracy: 0.8861\n",
            "Epoch 1652/2000\n",
            "4/4 - 0s - loss: 0.0057 - accuracy: 0.8540 - val_loss: 0.0110 - val_accuracy: 0.8856\n",
            "Epoch 1653/2000\n",
            "4/4 - 0s - loss: 0.0058 - accuracy: 0.8500 - val_loss: 0.0110 - val_accuracy: 0.8856\n",
            "Epoch 1654/2000\n",
            "4/4 - 0s - loss: 0.0058 - accuracy: 0.8475 - val_loss: 0.0109 - val_accuracy: 0.8851\n",
            "Epoch 1655/2000\n",
            "4/4 - 0s - loss: 0.0058 - accuracy: 0.8485 - val_loss: 0.0109 - val_accuracy: 0.8842\n",
            "Epoch 1656/2000\n",
            "4/4 - 0s - loss: 0.0063 - accuracy: 0.8485 - val_loss: 0.0109 - val_accuracy: 0.8842\n",
            "Epoch 1657/2000\n",
            "4/4 - 0s - loss: 0.0058 - accuracy: 0.8579 - val_loss: 0.0110 - val_accuracy: 0.8851\n",
            "Epoch 1658/2000\n",
            "4/4 - 0s - loss: 0.0062 - accuracy: 0.8525 - val_loss: 0.0109 - val_accuracy: 0.8851\n",
            "Epoch 1659/2000\n",
            "4/4 - 0s - loss: 0.0058 - accuracy: 0.8520 - val_loss: 0.0109 - val_accuracy: 0.8856\n",
            "Epoch 1660/2000\n",
            "4/4 - 0s - loss: 0.0057 - accuracy: 0.8599 - val_loss: 0.0109 - val_accuracy: 0.8871\n",
            "Epoch 1661/2000\n",
            "4/4 - 0s - loss: 0.0058 - accuracy: 0.8505 - val_loss: 0.0108 - val_accuracy: 0.8871\n",
            "Epoch 1662/2000\n",
            "4/4 - 0s - loss: 0.0057 - accuracy: 0.8510 - val_loss: 0.0108 - val_accuracy: 0.8871\n",
            "Epoch 1663/2000\n",
            "4/4 - 0s - loss: 0.0059 - accuracy: 0.8515 - val_loss: 0.0108 - val_accuracy: 0.8866\n",
            "Epoch 1664/2000\n",
            "4/4 - 0s - loss: 0.0058 - accuracy: 0.8530 - val_loss: 0.0108 - val_accuracy: 0.8861\n",
            "Epoch 1665/2000\n",
            "4/4 - 0s - loss: 0.0057 - accuracy: 0.8599 - val_loss: 0.0108 - val_accuracy: 0.8866\n",
            "Epoch 1666/2000\n",
            "4/4 - 0s - loss: 0.0056 - accuracy: 0.8455 - val_loss: 0.0108 - val_accuracy: 0.8866\n",
            "Epoch 1667/2000\n",
            "4/4 - 0s - loss: 0.0058 - accuracy: 0.8446 - val_loss: 0.0109 - val_accuracy: 0.8866\n",
            "Epoch 1668/2000\n",
            "4/4 - 0s - loss: 0.0059 - accuracy: 0.8446 - val_loss: 0.0109 - val_accuracy: 0.8871\n",
            "Epoch 1669/2000\n",
            "4/4 - 0s - loss: 0.0058 - accuracy: 0.8515 - val_loss: 0.0109 - val_accuracy: 0.8871\n",
            "Epoch 1670/2000\n",
            "4/4 - 0s - loss: 0.0061 - accuracy: 0.8495 - val_loss: 0.0109 - val_accuracy: 0.8876\n",
            "Epoch 1671/2000\n",
            "4/4 - 0s - loss: 0.0062 - accuracy: 0.8470 - val_loss: 0.0109 - val_accuracy: 0.8876\n",
            "Epoch 1672/2000\n",
            "4/4 - 0s - loss: 0.0057 - accuracy: 0.8450 - val_loss: 0.0108 - val_accuracy: 0.8856\n",
            "Epoch 1673/2000\n",
            "4/4 - 0s - loss: 0.0055 - accuracy: 0.8579 - val_loss: 0.0108 - val_accuracy: 0.8856\n",
            "Epoch 1674/2000\n",
            "4/4 - 0s - loss: 0.0059 - accuracy: 0.8450 - val_loss: 0.0108 - val_accuracy: 0.8866\n",
            "Epoch 1675/2000\n",
            "4/4 - 0s - loss: 0.0058 - accuracy: 0.8520 - val_loss: 0.0108 - val_accuracy: 0.8881\n",
            "Epoch 1676/2000\n",
            "4/4 - 0s - loss: 0.0058 - accuracy: 0.8460 - val_loss: 0.0108 - val_accuracy: 0.8886\n",
            "Epoch 1677/2000\n",
            "4/4 - 0s - loss: 0.0062 - accuracy: 0.8446 - val_loss: 0.0108 - val_accuracy: 0.8876\n",
            "Epoch 1678/2000\n",
            "4/4 - 0s - loss: 0.0059 - accuracy: 0.8559 - val_loss: 0.0108 - val_accuracy: 0.8881\n",
            "Epoch 1679/2000\n",
            "4/4 - 0s - loss: 0.0058 - accuracy: 0.8495 - val_loss: 0.0109 - val_accuracy: 0.8881\n",
            "Epoch 1680/2000\n",
            "4/4 - 0s - loss: 0.0058 - accuracy: 0.8510 - val_loss: 0.0109 - val_accuracy: 0.8881\n",
            "Epoch 1681/2000\n",
            "4/4 - 0s - loss: 0.0058 - accuracy: 0.8579 - val_loss: 0.0109 - val_accuracy: 0.8876\n",
            "Epoch 1682/2000\n",
            "4/4 - 0s - loss: 0.0059 - accuracy: 0.8475 - val_loss: 0.0109 - val_accuracy: 0.8851\n",
            "Epoch 1683/2000\n",
            "4/4 - 0s - loss: 0.0058 - accuracy: 0.8515 - val_loss: 0.0109 - val_accuracy: 0.8847\n",
            "Epoch 1684/2000\n",
            "4/4 - 0s - loss: 0.0059 - accuracy: 0.8431 - val_loss: 0.0108 - val_accuracy: 0.8842\n",
            "Epoch 1685/2000\n",
            "4/4 - 0s - loss: 0.0059 - accuracy: 0.8579 - val_loss: 0.0108 - val_accuracy: 0.8856\n",
            "Epoch 1686/2000\n",
            "4/4 - 0s - loss: 0.0058 - accuracy: 0.8535 - val_loss: 0.0108 - val_accuracy: 0.8842\n",
            "Epoch 1687/2000\n",
            "4/4 - 0s - loss: 0.0060 - accuracy: 0.8540 - val_loss: 0.0108 - val_accuracy: 0.8817\n",
            "Epoch 1688/2000\n",
            "4/4 - 0s - loss: 0.0059 - accuracy: 0.8609 - val_loss: 0.0108 - val_accuracy: 0.8817\n",
            "Epoch 1689/2000\n",
            "4/4 - 0s - loss: 0.0058 - accuracy: 0.8584 - val_loss: 0.0108 - val_accuracy: 0.8832\n",
            "Epoch 1690/2000\n",
            "4/4 - 0s - loss: 0.0055 - accuracy: 0.8559 - val_loss: 0.0109 - val_accuracy: 0.8832\n",
            "Epoch 1691/2000\n",
            "4/4 - 0s - loss: 0.0058 - accuracy: 0.8490 - val_loss: 0.0110 - val_accuracy: 0.8842\n",
            "Epoch 1692/2000\n",
            "4/4 - 0s - loss: 0.0057 - accuracy: 0.8550 - val_loss: 0.0110 - val_accuracy: 0.8837\n",
            "Epoch 1693/2000\n",
            "4/4 - 0s - loss: 0.0057 - accuracy: 0.8505 - val_loss: 0.0110 - val_accuracy: 0.8847\n",
            "Epoch 1694/2000\n",
            "4/4 - 0s - loss: 0.0057 - accuracy: 0.8550 - val_loss: 0.0109 - val_accuracy: 0.8847\n",
            "Epoch 1695/2000\n",
            "4/4 - 0s - loss: 0.0059 - accuracy: 0.8535 - val_loss: 0.0108 - val_accuracy: 0.8837\n",
            "Epoch 1696/2000\n",
            "4/4 - 0s - loss: 0.0061 - accuracy: 0.8535 - val_loss: 0.0108 - val_accuracy: 0.8847\n",
            "Epoch 1697/2000\n",
            "4/4 - 0s - loss: 0.0058 - accuracy: 0.8644 - val_loss: 0.0107 - val_accuracy: 0.8861\n",
            "Epoch 1698/2000\n",
            "4/4 - 0s - loss: 0.0057 - accuracy: 0.8569 - val_loss: 0.0108 - val_accuracy: 0.8876\n",
            "Epoch 1699/2000\n",
            "4/4 - 0s - loss: 0.0057 - accuracy: 0.8609 - val_loss: 0.0108 - val_accuracy: 0.8901\n",
            "Epoch 1700/2000\n",
            "4/4 - 0s - loss: 0.0059 - accuracy: 0.8525 - val_loss: 0.0108 - val_accuracy: 0.8896\n",
            "Epoch 1701/2000\n",
            "4/4 - 0s - loss: 0.0059 - accuracy: 0.8460 - val_loss: 0.0109 - val_accuracy: 0.8891\n",
            "Epoch 1702/2000\n",
            "4/4 - 0s - loss: 0.0061 - accuracy: 0.8564 - val_loss: 0.0109 - val_accuracy: 0.8881\n",
            "Epoch 1703/2000\n",
            "4/4 - 0s - loss: 0.0055 - accuracy: 0.8673 - val_loss: 0.0109 - val_accuracy: 0.8866\n",
            "Epoch 1704/2000\n",
            "4/4 - 0s - loss: 0.0060 - accuracy: 0.8500 - val_loss: 0.0108 - val_accuracy: 0.8842\n",
            "Epoch 1705/2000\n",
            "4/4 - 0s - loss: 0.0059 - accuracy: 0.8470 - val_loss: 0.0108 - val_accuracy: 0.8842\n",
            "Epoch 1706/2000\n",
            "4/4 - 0s - loss: 0.0059 - accuracy: 0.8421 - val_loss: 0.0108 - val_accuracy: 0.8847\n",
            "Epoch 1707/2000\n",
            "4/4 - 0s - loss: 0.0056 - accuracy: 0.8658 - val_loss: 0.0107 - val_accuracy: 0.8851\n",
            "Epoch 1708/2000\n",
            "4/4 - 0s - loss: 0.0057 - accuracy: 0.8460 - val_loss: 0.0106 - val_accuracy: 0.8842\n",
            "Epoch 1709/2000\n",
            "4/4 - 0s - loss: 0.0061 - accuracy: 0.8564 - val_loss: 0.0106 - val_accuracy: 0.8847\n",
            "Epoch 1710/2000\n",
            "4/4 - 0s - loss: 0.0059 - accuracy: 0.8554 - val_loss: 0.0108 - val_accuracy: 0.8856\n",
            "Epoch 1711/2000\n",
            "4/4 - 0s - loss: 0.0056 - accuracy: 0.8658 - val_loss: 0.0109 - val_accuracy: 0.8866\n",
            "Epoch 1712/2000\n",
            "4/4 - 0s - loss: 0.0058 - accuracy: 0.8520 - val_loss: 0.0108 - val_accuracy: 0.8856\n",
            "Epoch 1713/2000\n",
            "4/4 - 0s - loss: 0.0060 - accuracy: 0.8485 - val_loss: 0.0107 - val_accuracy: 0.8847\n",
            "Epoch 1714/2000\n",
            "4/4 - 0s - loss: 0.0055 - accuracy: 0.8564 - val_loss: 0.0107 - val_accuracy: 0.8832\n",
            "Epoch 1715/2000\n",
            "4/4 - 0s - loss: 0.0056 - accuracy: 0.8470 - val_loss: 0.0107 - val_accuracy: 0.8827\n",
            "Epoch 1716/2000\n",
            "4/4 - 0s - loss: 0.0060 - accuracy: 0.8431 - val_loss: 0.0108 - val_accuracy: 0.8802\n",
            "Epoch 1717/2000\n",
            "4/4 - 0s - loss: 0.0057 - accuracy: 0.8490 - val_loss: 0.0108 - val_accuracy: 0.8802\n",
            "Epoch 1718/2000\n",
            "4/4 - 0s - loss: 0.0055 - accuracy: 0.8525 - val_loss: 0.0108 - val_accuracy: 0.8812\n",
            "Epoch 1719/2000\n",
            "4/4 - 0s - loss: 0.0058 - accuracy: 0.8450 - val_loss: 0.0109 - val_accuracy: 0.8837\n",
            "Epoch 1720/2000\n",
            "4/4 - 0s - loss: 0.0054 - accuracy: 0.8559 - val_loss: 0.0108 - val_accuracy: 0.8842\n",
            "Epoch 1721/2000\n",
            "4/4 - 0s - loss: 0.0057 - accuracy: 0.8554 - val_loss: 0.0108 - val_accuracy: 0.8856\n",
            "Epoch 1722/2000\n",
            "4/4 - 0s - loss: 0.0061 - accuracy: 0.8609 - val_loss: 0.0108 - val_accuracy: 0.8871\n",
            "Epoch 1723/2000\n",
            "4/4 - 0s - loss: 0.0060 - accuracy: 0.8485 - val_loss: 0.0108 - val_accuracy: 0.8861\n",
            "Epoch 1724/2000\n",
            "4/4 - 0s - loss: 0.0058 - accuracy: 0.8540 - val_loss: 0.0108 - val_accuracy: 0.8866\n",
            "Epoch 1725/2000\n",
            "4/4 - 0s - loss: 0.0057 - accuracy: 0.8520 - val_loss: 0.0108 - val_accuracy: 0.8866\n",
            "Epoch 1726/2000\n",
            "4/4 - 0s - loss: 0.0061 - accuracy: 0.8500 - val_loss: 0.0108 - val_accuracy: 0.8842\n",
            "Epoch 1727/2000\n",
            "4/4 - 0s - loss: 0.0060 - accuracy: 0.8579 - val_loss: 0.0108 - val_accuracy: 0.8827\n",
            "Epoch 1728/2000\n",
            "4/4 - 0s - loss: 0.0057 - accuracy: 0.8530 - val_loss: 0.0109 - val_accuracy: 0.8817\n",
            "Epoch 1729/2000\n",
            "4/4 - 0s - loss: 0.0058 - accuracy: 0.8485 - val_loss: 0.0109 - val_accuracy: 0.8822\n",
            "Epoch 1730/2000\n",
            "4/4 - 0s - loss: 0.0058 - accuracy: 0.8470 - val_loss: 0.0109 - val_accuracy: 0.8832\n",
            "Epoch 1731/2000\n",
            "4/4 - 0s - loss: 0.0058 - accuracy: 0.8520 - val_loss: 0.0109 - val_accuracy: 0.8847\n",
            "Epoch 1732/2000\n",
            "4/4 - 0s - loss: 0.0059 - accuracy: 0.8411 - val_loss: 0.0109 - val_accuracy: 0.8842\n",
            "Epoch 1733/2000\n",
            "4/4 - 0s - loss: 0.0061 - accuracy: 0.8550 - val_loss: 0.0109 - val_accuracy: 0.8827\n",
            "Epoch 1734/2000\n",
            "4/4 - 0s - loss: 0.0059 - accuracy: 0.8594 - val_loss: 0.0109 - val_accuracy: 0.8812\n",
            "Epoch 1735/2000\n",
            "4/4 - 0s - loss: 0.0059 - accuracy: 0.8520 - val_loss: 0.0109 - val_accuracy: 0.8812\n",
            "Epoch 1736/2000\n",
            "4/4 - 0s - loss: 0.0059 - accuracy: 0.8579 - val_loss: 0.0109 - val_accuracy: 0.8832\n",
            "Epoch 1737/2000\n",
            "4/4 - 0s - loss: 0.0057 - accuracy: 0.8569 - val_loss: 0.0109 - val_accuracy: 0.8856\n",
            "Epoch 1738/2000\n",
            "4/4 - 0s - loss: 0.0059 - accuracy: 0.8584 - val_loss: 0.0109 - val_accuracy: 0.8881\n",
            "Epoch 1739/2000\n",
            "4/4 - 0s - loss: 0.0055 - accuracy: 0.8510 - val_loss: 0.0108 - val_accuracy: 0.8886\n",
            "Epoch 1740/2000\n",
            "4/4 - 0s - loss: 0.0059 - accuracy: 0.8426 - val_loss: 0.0108 - val_accuracy: 0.8886\n",
            "Epoch 1741/2000\n",
            "4/4 - 0s - loss: 0.0058 - accuracy: 0.8371 - val_loss: 0.0108 - val_accuracy: 0.8876\n",
            "Epoch 1742/2000\n",
            "4/4 - 0s - loss: 0.0058 - accuracy: 0.8505 - val_loss: 0.0108 - val_accuracy: 0.8876\n",
            "Epoch 1743/2000\n",
            "4/4 - 0s - loss: 0.0057 - accuracy: 0.8495 - val_loss: 0.0108 - val_accuracy: 0.8881\n",
            "Epoch 1744/2000\n",
            "4/4 - 0s - loss: 0.0057 - accuracy: 0.8401 - val_loss: 0.0108 - val_accuracy: 0.8856\n",
            "Epoch 1745/2000\n",
            "4/4 - 0s - loss: 0.0056 - accuracy: 0.8510 - val_loss: 0.0108 - val_accuracy: 0.8842\n",
            "Epoch 1746/2000\n",
            "4/4 - 0s - loss: 0.0062 - accuracy: 0.8554 - val_loss: 0.0108 - val_accuracy: 0.8847\n",
            "Epoch 1747/2000\n",
            "4/4 - 0s - loss: 0.0057 - accuracy: 0.8658 - val_loss: 0.0108 - val_accuracy: 0.8876\n",
            "Epoch 1748/2000\n",
            "4/4 - 0s - loss: 0.0059 - accuracy: 0.8574 - val_loss: 0.0108 - val_accuracy: 0.8886\n",
            "Epoch 1749/2000\n",
            "4/4 - 0s - loss: 0.0058 - accuracy: 0.8550 - val_loss: 0.0108 - val_accuracy: 0.8881\n",
            "Epoch 1750/2000\n",
            "4/4 - 0s - loss: 0.0058 - accuracy: 0.8545 - val_loss: 0.0108 - val_accuracy: 0.8861\n",
            "Epoch 1751/2000\n",
            "4/4 - 0s - loss: 0.0058 - accuracy: 0.8455 - val_loss: 0.0107 - val_accuracy: 0.8856\n",
            "Epoch 1752/2000\n",
            "4/4 - 0s - loss: 0.0061 - accuracy: 0.8535 - val_loss: 0.0107 - val_accuracy: 0.8861\n",
            "Epoch 1753/2000\n",
            "4/4 - 0s - loss: 0.0058 - accuracy: 0.8604 - val_loss: 0.0106 - val_accuracy: 0.8876\n",
            "Epoch 1754/2000\n",
            "4/4 - 0s - loss: 0.0061 - accuracy: 0.8490 - val_loss: 0.0107 - val_accuracy: 0.8891\n",
            "Epoch 1755/2000\n",
            "4/4 - 0s - loss: 0.0056 - accuracy: 0.8510 - val_loss: 0.0108 - val_accuracy: 0.8886\n",
            "Epoch 1756/2000\n",
            "4/4 - 0s - loss: 0.0059 - accuracy: 0.8401 - val_loss: 0.0109 - val_accuracy: 0.8881\n",
            "Epoch 1757/2000\n",
            "4/4 - 0s - loss: 0.0059 - accuracy: 0.8455 - val_loss: 0.0109 - val_accuracy: 0.8876\n",
            "Epoch 1758/2000\n",
            "4/4 - 0s - loss: 0.0058 - accuracy: 0.8554 - val_loss: 0.0108 - val_accuracy: 0.8891\n",
            "Epoch 1759/2000\n",
            "4/4 - 0s - loss: 0.0059 - accuracy: 0.8480 - val_loss: 0.0107 - val_accuracy: 0.8886\n",
            "Epoch 1760/2000\n",
            "4/4 - 0s - loss: 0.0058 - accuracy: 0.8559 - val_loss: 0.0107 - val_accuracy: 0.8876\n",
            "Epoch 1761/2000\n",
            "4/4 - 0s - loss: 0.0056 - accuracy: 0.8505 - val_loss: 0.0107 - val_accuracy: 0.8851\n",
            "Epoch 1762/2000\n",
            "4/4 - 0s - loss: 0.0056 - accuracy: 0.8416 - val_loss: 0.0107 - val_accuracy: 0.8837\n",
            "Epoch 1763/2000\n",
            "4/4 - 0s - loss: 0.0058 - accuracy: 0.8465 - val_loss: 0.0107 - val_accuracy: 0.8842\n",
            "Epoch 1764/2000\n",
            "4/4 - 0s - loss: 0.0058 - accuracy: 0.8460 - val_loss: 0.0107 - val_accuracy: 0.8856\n",
            "Epoch 1765/2000\n",
            "4/4 - 0s - loss: 0.0055 - accuracy: 0.8540 - val_loss: 0.0107 - val_accuracy: 0.8876\n",
            "Epoch 1766/2000\n",
            "4/4 - 0s - loss: 0.0060 - accuracy: 0.8421 - val_loss: 0.0107 - val_accuracy: 0.8896\n",
            "Epoch 1767/2000\n",
            "4/4 - 0s - loss: 0.0056 - accuracy: 0.8535 - val_loss: 0.0108 - val_accuracy: 0.8921\n",
            "Epoch 1768/2000\n",
            "4/4 - 0s - loss: 0.0058 - accuracy: 0.8535 - val_loss: 0.0108 - val_accuracy: 0.8926\n",
            "Epoch 1769/2000\n",
            "4/4 - 0s - loss: 0.0057 - accuracy: 0.8530 - val_loss: 0.0107 - val_accuracy: 0.8921\n",
            "Epoch 1770/2000\n",
            "4/4 - 0s - loss: 0.0060 - accuracy: 0.8599 - val_loss: 0.0107 - val_accuracy: 0.8916\n",
            "Epoch 1771/2000\n",
            "4/4 - 0s - loss: 0.0060 - accuracy: 0.8470 - val_loss: 0.0107 - val_accuracy: 0.8921\n",
            "Epoch 1772/2000\n",
            "4/4 - 0s - loss: 0.0058 - accuracy: 0.8510 - val_loss: 0.0108 - val_accuracy: 0.8906\n",
            "Epoch 1773/2000\n",
            "4/4 - 0s - loss: 0.0057 - accuracy: 0.8535 - val_loss: 0.0109 - val_accuracy: 0.8896\n",
            "Epoch 1774/2000\n",
            "4/4 - 0s - loss: 0.0056 - accuracy: 0.8465 - val_loss: 0.0110 - val_accuracy: 0.8886\n",
            "Epoch 1775/2000\n",
            "4/4 - 0s - loss: 0.0058 - accuracy: 0.8510 - val_loss: 0.0110 - val_accuracy: 0.8891\n",
            "Epoch 1776/2000\n",
            "4/4 - 0s - loss: 0.0055 - accuracy: 0.8624 - val_loss: 0.0108 - val_accuracy: 0.8881\n",
            "Epoch 1777/2000\n",
            "4/4 - 0s - loss: 0.0057 - accuracy: 0.8485 - val_loss: 0.0108 - val_accuracy: 0.8871\n",
            "Epoch 1778/2000\n",
            "4/4 - 0s - loss: 0.0059 - accuracy: 0.8559 - val_loss: 0.0108 - val_accuracy: 0.8861\n",
            "Epoch 1779/2000\n",
            "4/4 - 0s - loss: 0.0057 - accuracy: 0.8505 - val_loss: 0.0108 - val_accuracy: 0.8861\n",
            "Epoch 1780/2000\n",
            "4/4 - 0s - loss: 0.0058 - accuracy: 0.8594 - val_loss: 0.0108 - val_accuracy: 0.8847\n",
            "Epoch 1781/2000\n",
            "4/4 - 0s - loss: 0.0060 - accuracy: 0.8530 - val_loss: 0.0108 - val_accuracy: 0.8847\n",
            "Epoch 1782/2000\n",
            "4/4 - 0s - loss: 0.0058 - accuracy: 0.8470 - val_loss: 0.0110 - val_accuracy: 0.8837\n",
            "Epoch 1783/2000\n",
            "4/4 - 0s - loss: 0.0056 - accuracy: 0.8554 - val_loss: 0.0110 - val_accuracy: 0.8842\n",
            "Epoch 1784/2000\n",
            "4/4 - 0s - loss: 0.0058 - accuracy: 0.8485 - val_loss: 0.0110 - val_accuracy: 0.8842\n",
            "Epoch 1785/2000\n",
            "4/4 - 0s - loss: 0.0057 - accuracy: 0.8604 - val_loss: 0.0109 - val_accuracy: 0.8832\n",
            "Epoch 1786/2000\n",
            "4/4 - 0s - loss: 0.0056 - accuracy: 0.8505 - val_loss: 0.0108 - val_accuracy: 0.8822\n",
            "Epoch 1787/2000\n",
            "4/4 - 0s - loss: 0.0058 - accuracy: 0.8530 - val_loss: 0.0108 - val_accuracy: 0.8842\n",
            "Epoch 1788/2000\n",
            "4/4 - 0s - loss: 0.0058 - accuracy: 0.8515 - val_loss: 0.0108 - val_accuracy: 0.8837\n",
            "Epoch 1789/2000\n",
            "4/4 - 0s - loss: 0.0059 - accuracy: 0.8351 - val_loss: 0.0108 - val_accuracy: 0.8837\n",
            "Epoch 1790/2000\n",
            "4/4 - 0s - loss: 0.0059 - accuracy: 0.8520 - val_loss: 0.0109 - val_accuracy: 0.8832\n",
            "Epoch 1791/2000\n",
            "4/4 - 0s - loss: 0.0061 - accuracy: 0.8584 - val_loss: 0.0109 - val_accuracy: 0.8842\n",
            "Epoch 1792/2000\n",
            "4/4 - 0s - loss: 0.0058 - accuracy: 0.8515 - val_loss: 0.0109 - val_accuracy: 0.8837\n",
            "Epoch 1793/2000\n",
            "4/4 - 0s - loss: 0.0059 - accuracy: 0.8550 - val_loss: 0.0109 - val_accuracy: 0.8812\n",
            "Epoch 1794/2000\n",
            "4/4 - 0s - loss: 0.0057 - accuracy: 0.8554 - val_loss: 0.0109 - val_accuracy: 0.8812\n",
            "Epoch 1795/2000\n",
            "4/4 - 0s - loss: 0.0059 - accuracy: 0.8559 - val_loss: 0.0109 - val_accuracy: 0.8792\n",
            "Epoch 1796/2000\n",
            "4/4 - 0s - loss: 0.0054 - accuracy: 0.8545 - val_loss: 0.0110 - val_accuracy: 0.8802\n",
            "Epoch 1797/2000\n",
            "4/4 - 0s - loss: 0.0059 - accuracy: 0.8480 - val_loss: 0.0110 - val_accuracy: 0.8807\n",
            "Epoch 1798/2000\n",
            "4/4 - 0s - loss: 0.0058 - accuracy: 0.8564 - val_loss: 0.0110 - val_accuracy: 0.8807\n",
            "Epoch 1799/2000\n",
            "4/4 - 0s - loss: 0.0059 - accuracy: 0.8569 - val_loss: 0.0109 - val_accuracy: 0.8817\n",
            "Epoch 1800/2000\n",
            "4/4 - 0s - loss: 0.0060 - accuracy: 0.8431 - val_loss: 0.0108 - val_accuracy: 0.8802\n",
            "Epoch 1801/2000\n",
            "4/4 - 0s - loss: 0.0060 - accuracy: 0.8525 - val_loss: 0.0109 - val_accuracy: 0.8787\n",
            "Epoch 1802/2000\n",
            "4/4 - 0s - loss: 0.0055 - accuracy: 0.8535 - val_loss: 0.0109 - val_accuracy: 0.8797\n",
            "Epoch 1803/2000\n",
            "4/4 - 0s - loss: 0.0056 - accuracy: 0.8500 - val_loss: 0.0109 - val_accuracy: 0.8802\n",
            "Epoch 1804/2000\n",
            "4/4 - 0s - loss: 0.0058 - accuracy: 0.8460 - val_loss: 0.0109 - val_accuracy: 0.8817\n",
            "Epoch 1805/2000\n",
            "4/4 - 0s - loss: 0.0058 - accuracy: 0.8574 - val_loss: 0.0110 - val_accuracy: 0.8837\n",
            "Epoch 1806/2000\n",
            "4/4 - 0s - loss: 0.0058 - accuracy: 0.8569 - val_loss: 0.0110 - val_accuracy: 0.8832\n",
            "Epoch 1807/2000\n",
            "4/4 - 0s - loss: 0.0058 - accuracy: 0.8495 - val_loss: 0.0110 - val_accuracy: 0.8832\n",
            "Epoch 1808/2000\n",
            "4/4 - 0s - loss: 0.0059 - accuracy: 0.8490 - val_loss: 0.0109 - val_accuracy: 0.8817\n",
            "Epoch 1809/2000\n",
            "4/4 - 0s - loss: 0.0057 - accuracy: 0.8559 - val_loss: 0.0109 - val_accuracy: 0.8817\n",
            "Epoch 1810/2000\n",
            "4/4 - 0s - loss: 0.0059 - accuracy: 0.8540 - val_loss: 0.0109 - val_accuracy: 0.8817\n",
            "Epoch 1811/2000\n",
            "4/4 - 0s - loss: 0.0059 - accuracy: 0.8510 - val_loss: 0.0108 - val_accuracy: 0.8807\n",
            "Epoch 1812/2000\n",
            "4/4 - 0s - loss: 0.0058 - accuracy: 0.8421 - val_loss: 0.0108 - val_accuracy: 0.8792\n",
            "Epoch 1813/2000\n",
            "4/4 - 0s - loss: 0.0058 - accuracy: 0.8550 - val_loss: 0.0109 - val_accuracy: 0.8797\n",
            "Epoch 1814/2000\n",
            "4/4 - 0s - loss: 0.0058 - accuracy: 0.8525 - val_loss: 0.0109 - val_accuracy: 0.8792\n",
            "Epoch 1815/2000\n",
            "4/4 - 0s - loss: 0.0057 - accuracy: 0.8515 - val_loss: 0.0109 - val_accuracy: 0.8792\n",
            "Epoch 1816/2000\n",
            "4/4 - 0s - loss: 0.0059 - accuracy: 0.8619 - val_loss: 0.0109 - val_accuracy: 0.8807\n",
            "Epoch 1817/2000\n",
            "4/4 - 0s - loss: 0.0063 - accuracy: 0.8510 - val_loss: 0.0108 - val_accuracy: 0.8822\n",
            "Epoch 1818/2000\n",
            "4/4 - 0s - loss: 0.0058 - accuracy: 0.8535 - val_loss: 0.0108 - val_accuracy: 0.8851\n",
            "Epoch 1819/2000\n",
            "4/4 - 0s - loss: 0.0059 - accuracy: 0.8480 - val_loss: 0.0108 - val_accuracy: 0.8861\n",
            "Epoch 1820/2000\n",
            "4/4 - 0s - loss: 0.0060 - accuracy: 0.8361 - val_loss: 0.0109 - val_accuracy: 0.8837\n",
            "Epoch 1821/2000\n",
            "4/4 - 0s - loss: 0.0057 - accuracy: 0.8515 - val_loss: 0.0109 - val_accuracy: 0.8817\n",
            "Epoch 1822/2000\n",
            "4/4 - 0s - loss: 0.0057 - accuracy: 0.8579 - val_loss: 0.0109 - val_accuracy: 0.8812\n",
            "Epoch 1823/2000\n",
            "4/4 - 0s - loss: 0.0058 - accuracy: 0.8515 - val_loss: 0.0109 - val_accuracy: 0.8807\n",
            "Epoch 1824/2000\n",
            "4/4 - 0s - loss: 0.0058 - accuracy: 0.8446 - val_loss: 0.0109 - val_accuracy: 0.8807\n",
            "Epoch 1825/2000\n",
            "4/4 - 0s - loss: 0.0054 - accuracy: 0.8609 - val_loss: 0.0109 - val_accuracy: 0.8832\n",
            "Epoch 1826/2000\n",
            "4/4 - 0s - loss: 0.0060 - accuracy: 0.8485 - val_loss: 0.0109 - val_accuracy: 0.8842\n",
            "Epoch 1827/2000\n",
            "4/4 - 0s - loss: 0.0060 - accuracy: 0.8446 - val_loss: 0.0108 - val_accuracy: 0.8861\n",
            "Epoch 1828/2000\n",
            "4/4 - 0s - loss: 0.0055 - accuracy: 0.8594 - val_loss: 0.0108 - val_accuracy: 0.8896\n",
            "Epoch 1829/2000\n",
            "4/4 - 0s - loss: 0.0063 - accuracy: 0.8550 - val_loss: 0.0107 - val_accuracy: 0.8901\n",
            "Epoch 1830/2000\n",
            "4/4 - 0s - loss: 0.0058 - accuracy: 0.8455 - val_loss: 0.0108 - val_accuracy: 0.8901\n",
            "Epoch 1831/2000\n",
            "4/4 - 0s - loss: 0.0058 - accuracy: 0.8495 - val_loss: 0.0108 - val_accuracy: 0.8896\n",
            "Epoch 1832/2000\n",
            "4/4 - 0s - loss: 0.0057 - accuracy: 0.8475 - val_loss: 0.0109 - val_accuracy: 0.8881\n",
            "Epoch 1833/2000\n",
            "4/4 - 0s - loss: 0.0057 - accuracy: 0.8500 - val_loss: 0.0110 - val_accuracy: 0.8876\n",
            "Epoch 1834/2000\n",
            "4/4 - 0s - loss: 0.0062 - accuracy: 0.8594 - val_loss: 0.0109 - val_accuracy: 0.8866\n",
            "Epoch 1835/2000\n",
            "4/4 - 0s - loss: 0.0058 - accuracy: 0.8465 - val_loss: 0.0109 - val_accuracy: 0.8851\n",
            "Epoch 1836/2000\n",
            "4/4 - 0s - loss: 0.0059 - accuracy: 0.8490 - val_loss: 0.0109 - val_accuracy: 0.8847\n",
            "Epoch 1837/2000\n",
            "4/4 - 0s - loss: 0.0057 - accuracy: 0.8485 - val_loss: 0.0109 - val_accuracy: 0.8851\n",
            "Epoch 1838/2000\n",
            "4/4 - 0s - loss: 0.0059 - accuracy: 0.8584 - val_loss: 0.0110 - val_accuracy: 0.8856\n",
            "Epoch 1839/2000\n",
            "4/4 - 0s - loss: 0.0056 - accuracy: 0.8545 - val_loss: 0.0109 - val_accuracy: 0.8832\n",
            "Epoch 1840/2000\n",
            "4/4 - 0s - loss: 0.0058 - accuracy: 0.8515 - val_loss: 0.0109 - val_accuracy: 0.8822\n",
            "Epoch 1841/2000\n",
            "4/4 - 0s - loss: 0.0057 - accuracy: 0.8450 - val_loss: 0.0108 - val_accuracy: 0.8822\n",
            "Epoch 1842/2000\n",
            "4/4 - 0s - loss: 0.0057 - accuracy: 0.8470 - val_loss: 0.0108 - val_accuracy: 0.8802\n",
            "Epoch 1843/2000\n",
            "4/4 - 0s - loss: 0.0056 - accuracy: 0.8525 - val_loss: 0.0108 - val_accuracy: 0.8797\n",
            "Epoch 1844/2000\n",
            "4/4 - 0s - loss: 0.0058 - accuracy: 0.8490 - val_loss: 0.0108 - val_accuracy: 0.8812\n",
            "Epoch 1845/2000\n",
            "4/4 - 0s - loss: 0.0057 - accuracy: 0.8495 - val_loss: 0.0108 - val_accuracy: 0.8822\n",
            "Epoch 1846/2000\n",
            "4/4 - 0s - loss: 0.0058 - accuracy: 0.8559 - val_loss: 0.0110 - val_accuracy: 0.8837\n",
            "Epoch 1847/2000\n",
            "4/4 - 0s - loss: 0.0059 - accuracy: 0.8485 - val_loss: 0.0111 - val_accuracy: 0.8837\n",
            "Epoch 1848/2000\n",
            "4/4 - 0s - loss: 0.0059 - accuracy: 0.8510 - val_loss: 0.0110 - val_accuracy: 0.8832\n",
            "Epoch 1849/2000\n",
            "4/4 - 0s - loss: 0.0059 - accuracy: 0.8559 - val_loss: 0.0109 - val_accuracy: 0.8822\n",
            "Epoch 1850/2000\n",
            "4/4 - 0s - loss: 0.0058 - accuracy: 0.8644 - val_loss: 0.0108 - val_accuracy: 0.8822\n",
            "Epoch 1851/2000\n",
            "4/4 - 0s - loss: 0.0060 - accuracy: 0.8465 - val_loss: 0.0107 - val_accuracy: 0.8822\n",
            "Epoch 1852/2000\n",
            "4/4 - 0s - loss: 0.0055 - accuracy: 0.8644 - val_loss: 0.0108 - val_accuracy: 0.8822\n",
            "Epoch 1853/2000\n",
            "4/4 - 0s - loss: 0.0058 - accuracy: 0.8520 - val_loss: 0.0108 - val_accuracy: 0.8827\n",
            "Epoch 1854/2000\n",
            "4/4 - 0s - loss: 0.0060 - accuracy: 0.8470 - val_loss: 0.0108 - val_accuracy: 0.8827\n",
            "Epoch 1855/2000\n",
            "4/4 - 0s - loss: 0.0059 - accuracy: 0.8579 - val_loss: 0.0108 - val_accuracy: 0.8802\n",
            "Epoch 1856/2000\n",
            "4/4 - 0s - loss: 0.0057 - accuracy: 0.8530 - val_loss: 0.0108 - val_accuracy: 0.8777\n",
            "Epoch 1857/2000\n",
            "4/4 - 0s - loss: 0.0056 - accuracy: 0.8569 - val_loss: 0.0108 - val_accuracy: 0.8782\n",
            "Epoch 1858/2000\n",
            "4/4 - 0s - loss: 0.0058 - accuracy: 0.8505 - val_loss: 0.0108 - val_accuracy: 0.8787\n",
            "Epoch 1859/2000\n",
            "4/4 - 0s - loss: 0.0060 - accuracy: 0.8515 - val_loss: 0.0108 - val_accuracy: 0.8782\n",
            "Epoch 1860/2000\n",
            "4/4 - 0s - loss: 0.0058 - accuracy: 0.8510 - val_loss: 0.0109 - val_accuracy: 0.8787\n",
            "Epoch 1861/2000\n",
            "4/4 - 0s - loss: 0.0059 - accuracy: 0.8401 - val_loss: 0.0109 - val_accuracy: 0.8782\n",
            "Epoch 1862/2000\n",
            "4/4 - 0s - loss: 0.0059 - accuracy: 0.8535 - val_loss: 0.0109 - val_accuracy: 0.8792\n",
            "Epoch 1863/2000\n",
            "4/4 - 0s - loss: 0.0055 - accuracy: 0.8634 - val_loss: 0.0109 - val_accuracy: 0.8802\n",
            "Epoch 1864/2000\n",
            "4/4 - 0s - loss: 0.0062 - accuracy: 0.8441 - val_loss: 0.0109 - val_accuracy: 0.8802\n",
            "Epoch 1865/2000\n",
            "4/4 - 0s - loss: 0.0058 - accuracy: 0.8431 - val_loss: 0.0109 - val_accuracy: 0.8802\n",
            "Epoch 1866/2000\n",
            "4/4 - 0s - loss: 0.0056 - accuracy: 0.8614 - val_loss: 0.0110 - val_accuracy: 0.8802\n",
            "Epoch 1867/2000\n",
            "4/4 - 0s - loss: 0.0061 - accuracy: 0.8460 - val_loss: 0.0110 - val_accuracy: 0.8792\n",
            "Epoch 1868/2000\n",
            "4/4 - 0s - loss: 0.0056 - accuracy: 0.8574 - val_loss: 0.0109 - val_accuracy: 0.8797\n",
            "Epoch 1869/2000\n",
            "4/4 - 0s - loss: 0.0057 - accuracy: 0.8465 - val_loss: 0.0109 - val_accuracy: 0.8802\n",
            "Epoch 1870/2000\n",
            "4/4 - 0s - loss: 0.0058 - accuracy: 0.8569 - val_loss: 0.0109 - val_accuracy: 0.8807\n",
            "Epoch 1871/2000\n",
            "4/4 - 0s - loss: 0.0060 - accuracy: 0.8614 - val_loss: 0.0109 - val_accuracy: 0.8817\n",
            "Epoch 1872/2000\n",
            "4/4 - 0s - loss: 0.0060 - accuracy: 0.8495 - val_loss: 0.0110 - val_accuracy: 0.8812\n",
            "Epoch 1873/2000\n",
            "4/4 - 0s - loss: 0.0061 - accuracy: 0.8490 - val_loss: 0.0111 - val_accuracy: 0.8802\n",
            "Epoch 1874/2000\n",
            "4/4 - 0s - loss: 0.0060 - accuracy: 0.8515 - val_loss: 0.0110 - val_accuracy: 0.8807\n",
            "Epoch 1875/2000\n",
            "4/4 - 0s - loss: 0.0059 - accuracy: 0.8559 - val_loss: 0.0109 - val_accuracy: 0.8807\n",
            "Epoch 1876/2000\n",
            "4/4 - 0s - loss: 0.0057 - accuracy: 0.8515 - val_loss: 0.0109 - val_accuracy: 0.8807\n",
            "Epoch 1877/2000\n",
            "4/4 - 0s - loss: 0.0059 - accuracy: 0.8450 - val_loss: 0.0110 - val_accuracy: 0.8807\n",
            "Epoch 1878/2000\n",
            "4/4 - 0s - loss: 0.0059 - accuracy: 0.8441 - val_loss: 0.0111 - val_accuracy: 0.8822\n",
            "Epoch 1879/2000\n",
            "4/4 - 0s - loss: 0.0059 - accuracy: 0.8450 - val_loss: 0.0111 - val_accuracy: 0.8822\n",
            "Epoch 1880/2000\n",
            "4/4 - 0s - loss: 0.0057 - accuracy: 0.8540 - val_loss: 0.0111 - val_accuracy: 0.8827\n",
            "Epoch 1881/2000\n",
            "4/4 - 0s - loss: 0.0059 - accuracy: 0.8470 - val_loss: 0.0111 - val_accuracy: 0.8802\n",
            "Epoch 1882/2000\n",
            "4/4 - 0s - loss: 0.0059 - accuracy: 0.8530 - val_loss: 0.0110 - val_accuracy: 0.8772\n",
            "Epoch 1883/2000\n",
            "4/4 - 0s - loss: 0.0057 - accuracy: 0.8604 - val_loss: 0.0110 - val_accuracy: 0.8743\n",
            "Epoch 1884/2000\n",
            "4/4 - 0s - loss: 0.0060 - accuracy: 0.8574 - val_loss: 0.0110 - val_accuracy: 0.8723\n",
            "Epoch 1885/2000\n",
            "4/4 - 0s - loss: 0.0057 - accuracy: 0.8540 - val_loss: 0.0110 - val_accuracy: 0.8733\n",
            "Epoch 1886/2000\n",
            "4/4 - 0s - loss: 0.0058 - accuracy: 0.8653 - val_loss: 0.0109 - val_accuracy: 0.8757\n",
            "Epoch 1887/2000\n",
            "4/4 - 0s - loss: 0.0059 - accuracy: 0.8441 - val_loss: 0.0108 - val_accuracy: 0.8767\n",
            "Epoch 1888/2000\n",
            "4/4 - 0s - loss: 0.0059 - accuracy: 0.8505 - val_loss: 0.0107 - val_accuracy: 0.8782\n",
            "Epoch 1889/2000\n",
            "4/4 - 0s - loss: 0.0058 - accuracy: 0.8446 - val_loss: 0.0107 - val_accuracy: 0.8787\n",
            "Epoch 1890/2000\n",
            "4/4 - 0s - loss: 0.0062 - accuracy: 0.8431 - val_loss: 0.0107 - val_accuracy: 0.8782\n",
            "Epoch 1891/2000\n",
            "4/4 - 0s - loss: 0.0056 - accuracy: 0.8510 - val_loss: 0.0108 - val_accuracy: 0.8772\n",
            "Epoch 1892/2000\n",
            "4/4 - 0s - loss: 0.0059 - accuracy: 0.8510 - val_loss: 0.0108 - val_accuracy: 0.8767\n",
            "Epoch 1893/2000\n",
            "4/4 - 0s - loss: 0.0061 - accuracy: 0.8554 - val_loss: 0.0109 - val_accuracy: 0.8782\n",
            "Epoch 1894/2000\n",
            "4/4 - 0s - loss: 0.0056 - accuracy: 0.8629 - val_loss: 0.0110 - val_accuracy: 0.8792\n",
            "Epoch 1895/2000\n",
            "4/4 - 0s - loss: 0.0059 - accuracy: 0.8446 - val_loss: 0.0109 - val_accuracy: 0.8812\n",
            "Epoch 1896/2000\n",
            "4/4 - 0s - loss: 0.0057 - accuracy: 0.8485 - val_loss: 0.0109 - val_accuracy: 0.8807\n",
            "Epoch 1897/2000\n",
            "4/4 - 0s - loss: 0.0061 - accuracy: 0.8351 - val_loss: 0.0109 - val_accuracy: 0.8792\n",
            "Epoch 1898/2000\n",
            "4/4 - 0s - loss: 0.0059 - accuracy: 0.8579 - val_loss: 0.0109 - val_accuracy: 0.8797\n",
            "Epoch 1899/2000\n",
            "4/4 - 0s - loss: 0.0060 - accuracy: 0.8550 - val_loss: 0.0110 - val_accuracy: 0.8812\n",
            "Epoch 1900/2000\n",
            "4/4 - 0s - loss: 0.0058 - accuracy: 0.8441 - val_loss: 0.0111 - val_accuracy: 0.8807\n",
            "Epoch 1901/2000\n",
            "4/4 - 0s - loss: 0.0059 - accuracy: 0.8520 - val_loss: 0.0111 - val_accuracy: 0.8807\n",
            "Epoch 1902/2000\n",
            "4/4 - 0s - loss: 0.0058 - accuracy: 0.8584 - val_loss: 0.0111 - val_accuracy: 0.8812\n",
            "Epoch 1903/2000\n",
            "4/4 - 0s - loss: 0.0056 - accuracy: 0.8569 - val_loss: 0.0111 - val_accuracy: 0.8797\n",
            "Epoch 1904/2000\n",
            "4/4 - 0s - loss: 0.0060 - accuracy: 0.8465 - val_loss: 0.0110 - val_accuracy: 0.8797\n",
            "Epoch 1905/2000\n",
            "4/4 - 0s - loss: 0.0055 - accuracy: 0.8515 - val_loss: 0.0110 - val_accuracy: 0.8802\n",
            "Epoch 1906/2000\n",
            "4/4 - 0s - loss: 0.0056 - accuracy: 0.8594 - val_loss: 0.0110 - val_accuracy: 0.8812\n",
            "Epoch 1907/2000\n",
            "4/4 - 0s - loss: 0.0058 - accuracy: 0.8609 - val_loss: 0.0110 - val_accuracy: 0.8827\n",
            "Epoch 1908/2000\n",
            "4/4 - 0s - loss: 0.0057 - accuracy: 0.8480 - val_loss: 0.0111 - val_accuracy: 0.8847\n",
            "Epoch 1909/2000\n",
            "4/4 - 0s - loss: 0.0057 - accuracy: 0.8376 - val_loss: 0.0110 - val_accuracy: 0.8866\n",
            "Epoch 1910/2000\n",
            "4/4 - 0s - loss: 0.0056 - accuracy: 0.8599 - val_loss: 0.0110 - val_accuracy: 0.8901\n",
            "Epoch 1911/2000\n",
            "4/4 - 0s - loss: 0.0061 - accuracy: 0.8455 - val_loss: 0.0109 - val_accuracy: 0.8891\n",
            "Epoch 1912/2000\n",
            "4/4 - 0s - loss: 0.0058 - accuracy: 0.8505 - val_loss: 0.0108 - val_accuracy: 0.8876\n",
            "Epoch 1913/2000\n",
            "4/4 - 0s - loss: 0.0061 - accuracy: 0.8500 - val_loss: 0.0108 - val_accuracy: 0.8851\n",
            "Epoch 1914/2000\n",
            "4/4 - 0s - loss: 0.0056 - accuracy: 0.8450 - val_loss: 0.0109 - val_accuracy: 0.8822\n",
            "Epoch 1915/2000\n",
            "4/4 - 0s - loss: 0.0060 - accuracy: 0.8460 - val_loss: 0.0109 - val_accuracy: 0.8807\n",
            "Epoch 1916/2000\n",
            "4/4 - 0s - loss: 0.0057 - accuracy: 0.8525 - val_loss: 0.0110 - val_accuracy: 0.8802\n",
            "Epoch 1917/2000\n",
            "4/4 - 0s - loss: 0.0057 - accuracy: 0.8540 - val_loss: 0.0110 - val_accuracy: 0.8812\n",
            "Epoch 1918/2000\n",
            "4/4 - 0s - loss: 0.0059 - accuracy: 0.8515 - val_loss: 0.0109 - val_accuracy: 0.8832\n",
            "Epoch 1919/2000\n",
            "4/4 - 0s - loss: 0.0058 - accuracy: 0.8599 - val_loss: 0.0109 - val_accuracy: 0.8851\n",
            "Epoch 1920/2000\n",
            "4/4 - 0s - loss: 0.0059 - accuracy: 0.8446 - val_loss: 0.0108 - val_accuracy: 0.8827\n",
            "Epoch 1921/2000\n",
            "4/4 - 0s - loss: 0.0060 - accuracy: 0.8470 - val_loss: 0.0108 - val_accuracy: 0.8822\n",
            "Epoch 1922/2000\n",
            "4/4 - 0s - loss: 0.0056 - accuracy: 0.8574 - val_loss: 0.0109 - val_accuracy: 0.8832\n",
            "Epoch 1923/2000\n",
            "4/4 - 0s - loss: 0.0062 - accuracy: 0.8475 - val_loss: 0.0110 - val_accuracy: 0.8822\n",
            "Epoch 1924/2000\n",
            "4/4 - 0s - loss: 0.0057 - accuracy: 0.8525 - val_loss: 0.0110 - val_accuracy: 0.8822\n",
            "Epoch 1925/2000\n",
            "4/4 - 0s - loss: 0.0059 - accuracy: 0.8460 - val_loss: 0.0110 - val_accuracy: 0.8807\n",
            "Epoch 1926/2000\n",
            "4/4 - 0s - loss: 0.0058 - accuracy: 0.8649 - val_loss: 0.0110 - val_accuracy: 0.8822\n",
            "Epoch 1927/2000\n",
            "4/4 - 0s - loss: 0.0064 - accuracy: 0.8421 - val_loss: 0.0110 - val_accuracy: 0.8827\n",
            "Epoch 1928/2000\n",
            "4/4 - 0s - loss: 0.0058 - accuracy: 0.8574 - val_loss: 0.0110 - val_accuracy: 0.8827\n",
            "Epoch 1929/2000\n",
            "4/4 - 0s - loss: 0.0058 - accuracy: 0.8421 - val_loss: 0.0110 - val_accuracy: 0.8827\n",
            "Epoch 1930/2000\n",
            "4/4 - 0s - loss: 0.0059 - accuracy: 0.8589 - val_loss: 0.0110 - val_accuracy: 0.8827\n",
            "Epoch 1931/2000\n",
            "4/4 - 0s - loss: 0.0060 - accuracy: 0.8500 - val_loss: 0.0109 - val_accuracy: 0.8827\n",
            "Epoch 1932/2000\n",
            "4/4 - 0s - loss: 0.0058 - accuracy: 0.8579 - val_loss: 0.0108 - val_accuracy: 0.8817\n",
            "Epoch 1933/2000\n",
            "4/4 - 0s - loss: 0.0059 - accuracy: 0.8480 - val_loss: 0.0108 - val_accuracy: 0.8817\n",
            "Epoch 1934/2000\n",
            "4/4 - 0s - loss: 0.0061 - accuracy: 0.8401 - val_loss: 0.0109 - val_accuracy: 0.8822\n",
            "Epoch 1935/2000\n",
            "4/4 - 0s - loss: 0.0059 - accuracy: 0.8411 - val_loss: 0.0110 - val_accuracy: 0.8812\n",
            "Epoch 1936/2000\n",
            "4/4 - 0s - loss: 0.0058 - accuracy: 0.8550 - val_loss: 0.0111 - val_accuracy: 0.8802\n",
            "Epoch 1937/2000\n",
            "4/4 - 0s - loss: 0.0060 - accuracy: 0.8505 - val_loss: 0.0111 - val_accuracy: 0.8792\n",
            "Epoch 1938/2000\n",
            "4/4 - 0s - loss: 0.0058 - accuracy: 0.8535 - val_loss: 0.0111 - val_accuracy: 0.8807\n",
            "Epoch 1939/2000\n",
            "4/4 - 0s - loss: 0.0056 - accuracy: 0.8614 - val_loss: 0.0111 - val_accuracy: 0.8822\n",
            "Epoch 1940/2000\n",
            "4/4 - 0s - loss: 0.0054 - accuracy: 0.8673 - val_loss: 0.0109 - val_accuracy: 0.8827\n",
            "Epoch 1941/2000\n",
            "4/4 - 0s - loss: 0.0060 - accuracy: 0.8485 - val_loss: 0.0108 - val_accuracy: 0.8832\n",
            "Epoch 1942/2000\n",
            "4/4 - 0s - loss: 0.0058 - accuracy: 0.8520 - val_loss: 0.0108 - val_accuracy: 0.8822\n",
            "Epoch 1943/2000\n",
            "4/4 - 0s - loss: 0.0058 - accuracy: 0.8450 - val_loss: 0.0107 - val_accuracy: 0.8837\n",
            "Epoch 1944/2000\n",
            "4/4 - 0s - loss: 0.0057 - accuracy: 0.8554 - val_loss: 0.0108 - val_accuracy: 0.8851\n",
            "Epoch 1945/2000\n",
            "4/4 - 0s - loss: 0.0058 - accuracy: 0.8604 - val_loss: 0.0108 - val_accuracy: 0.8861\n",
            "Epoch 1946/2000\n",
            "4/4 - 0s - loss: 0.0058 - accuracy: 0.8421 - val_loss: 0.0109 - val_accuracy: 0.8856\n",
            "Epoch 1947/2000\n",
            "4/4 - 0s - loss: 0.0056 - accuracy: 0.8416 - val_loss: 0.0109 - val_accuracy: 0.8847\n",
            "Epoch 1948/2000\n",
            "4/4 - 0s - loss: 0.0060 - accuracy: 0.8490 - val_loss: 0.0109 - val_accuracy: 0.8842\n",
            "Epoch 1949/2000\n",
            "4/4 - 0s - loss: 0.0061 - accuracy: 0.8554 - val_loss: 0.0108 - val_accuracy: 0.8832\n",
            "Epoch 1950/2000\n",
            "4/4 - 0s - loss: 0.0062 - accuracy: 0.8485 - val_loss: 0.0108 - val_accuracy: 0.8807\n",
            "Epoch 1951/2000\n",
            "4/4 - 0s - loss: 0.0058 - accuracy: 0.8559 - val_loss: 0.0108 - val_accuracy: 0.8807\n",
            "Epoch 1952/2000\n",
            "4/4 - 0s - loss: 0.0056 - accuracy: 0.8535 - val_loss: 0.0108 - val_accuracy: 0.8807\n",
            "Epoch 1953/2000\n",
            "4/4 - 0s - loss: 0.0060 - accuracy: 0.8495 - val_loss: 0.0108 - val_accuracy: 0.8817\n",
            "Epoch 1954/2000\n",
            "4/4 - 0s - loss: 0.0060 - accuracy: 0.8559 - val_loss: 0.0109 - val_accuracy: 0.8832\n",
            "Epoch 1955/2000\n",
            "4/4 - 0s - loss: 0.0057 - accuracy: 0.8545 - val_loss: 0.0109 - val_accuracy: 0.8832\n",
            "Epoch 1956/2000\n",
            "4/4 - 0s - loss: 0.0056 - accuracy: 0.8485 - val_loss: 0.0109 - val_accuracy: 0.8822\n",
            "Epoch 1957/2000\n",
            "4/4 - 0s - loss: 0.0056 - accuracy: 0.8490 - val_loss: 0.0108 - val_accuracy: 0.8822\n",
            "Epoch 1958/2000\n",
            "4/4 - 0s - loss: 0.0059 - accuracy: 0.8530 - val_loss: 0.0108 - val_accuracy: 0.8807\n",
            "Epoch 1959/2000\n",
            "4/4 - 0s - loss: 0.0059 - accuracy: 0.8416 - val_loss: 0.0108 - val_accuracy: 0.8802\n",
            "Epoch 1960/2000\n",
            "4/4 - 0s - loss: 0.0057 - accuracy: 0.8545 - val_loss: 0.0108 - val_accuracy: 0.8817\n",
            "Epoch 1961/2000\n",
            "4/4 - 0s - loss: 0.0056 - accuracy: 0.8450 - val_loss: 0.0109 - val_accuracy: 0.8807\n",
            "Epoch 1962/2000\n",
            "4/4 - 0s - loss: 0.0060 - accuracy: 0.8579 - val_loss: 0.0109 - val_accuracy: 0.8822\n",
            "Epoch 1963/2000\n",
            "4/4 - 0s - loss: 0.0056 - accuracy: 0.8530 - val_loss: 0.0109 - val_accuracy: 0.8837\n",
            "Epoch 1964/2000\n",
            "4/4 - 0s - loss: 0.0057 - accuracy: 0.8599 - val_loss: 0.0109 - val_accuracy: 0.8837\n",
            "Epoch 1965/2000\n",
            "4/4 - 0s - loss: 0.0058 - accuracy: 0.8495 - val_loss: 0.0108 - val_accuracy: 0.8822\n",
            "Epoch 1966/2000\n",
            "4/4 - 0s - loss: 0.0061 - accuracy: 0.8530 - val_loss: 0.0108 - val_accuracy: 0.8812\n",
            "Epoch 1967/2000\n",
            "4/4 - 0s - loss: 0.0059 - accuracy: 0.8554 - val_loss: 0.0107 - val_accuracy: 0.8812\n",
            "Epoch 1968/2000\n",
            "4/4 - 0s - loss: 0.0061 - accuracy: 0.8564 - val_loss: 0.0107 - val_accuracy: 0.8812\n",
            "Epoch 1969/2000\n",
            "4/4 - 0s - loss: 0.0062 - accuracy: 0.8485 - val_loss: 0.0108 - val_accuracy: 0.8792\n",
            "Epoch 1970/2000\n",
            "4/4 - 0s - loss: 0.0059 - accuracy: 0.8470 - val_loss: 0.0108 - val_accuracy: 0.8792\n",
            "Epoch 1971/2000\n",
            "4/4 - 0s - loss: 0.0061 - accuracy: 0.8322 - val_loss: 0.0109 - val_accuracy: 0.8812\n",
            "Epoch 1972/2000\n",
            "4/4 - 0s - loss: 0.0061 - accuracy: 0.8495 - val_loss: 0.0109 - val_accuracy: 0.8812\n",
            "Epoch 1973/2000\n",
            "4/4 - 0s - loss: 0.0057 - accuracy: 0.8480 - val_loss: 0.0109 - val_accuracy: 0.8817\n",
            "Epoch 1974/2000\n",
            "4/4 - 0s - loss: 0.0060 - accuracy: 0.8485 - val_loss: 0.0108 - val_accuracy: 0.8817\n",
            "Epoch 1975/2000\n",
            "4/4 - 0s - loss: 0.0059 - accuracy: 0.8510 - val_loss: 0.0108 - val_accuracy: 0.8822\n",
            "Epoch 1976/2000\n",
            "4/4 - 0s - loss: 0.0061 - accuracy: 0.8455 - val_loss: 0.0108 - val_accuracy: 0.8822\n",
            "Epoch 1977/2000\n",
            "4/4 - 0s - loss: 0.0058 - accuracy: 0.8421 - val_loss: 0.0107 - val_accuracy: 0.8842\n",
            "Epoch 1978/2000\n",
            "4/4 - 0s - loss: 0.0056 - accuracy: 0.8634 - val_loss: 0.0107 - val_accuracy: 0.8876\n",
            "Epoch 1979/2000\n",
            "4/4 - 0s - loss: 0.0060 - accuracy: 0.8545 - val_loss: 0.0108 - val_accuracy: 0.8876\n",
            "Epoch 1980/2000\n",
            "4/4 - 0s - loss: 0.0058 - accuracy: 0.8500 - val_loss: 0.0109 - val_accuracy: 0.8866\n",
            "Epoch 1981/2000\n",
            "4/4 - 0s - loss: 0.0054 - accuracy: 0.8535 - val_loss: 0.0109 - val_accuracy: 0.8842\n",
            "Epoch 1982/2000\n",
            "4/4 - 0s - loss: 0.0058 - accuracy: 0.8550 - val_loss: 0.0109 - val_accuracy: 0.8827\n",
            "Epoch 1983/2000\n",
            "4/4 - 0s - loss: 0.0061 - accuracy: 0.8480 - val_loss: 0.0109 - val_accuracy: 0.8807\n",
            "Epoch 1984/2000\n",
            "4/4 - 0s - loss: 0.0059 - accuracy: 0.8594 - val_loss: 0.0108 - val_accuracy: 0.8817\n",
            "Epoch 1985/2000\n",
            "4/4 - 0s - loss: 0.0057 - accuracy: 0.8584 - val_loss: 0.0108 - val_accuracy: 0.8827\n",
            "Epoch 1986/2000\n",
            "4/4 - 0s - loss: 0.0056 - accuracy: 0.8505 - val_loss: 0.0108 - val_accuracy: 0.8822\n",
            "Epoch 1987/2000\n",
            "4/4 - 0s - loss: 0.0058 - accuracy: 0.8554 - val_loss: 0.0109 - val_accuracy: 0.8807\n",
            "Epoch 1988/2000\n",
            "4/4 - 0s - loss: 0.0058 - accuracy: 0.8554 - val_loss: 0.0110 - val_accuracy: 0.8797\n",
            "Epoch 1989/2000\n",
            "4/4 - 0s - loss: 0.0059 - accuracy: 0.8495 - val_loss: 0.0110 - val_accuracy: 0.8787\n",
            "Epoch 1990/2000\n",
            "4/4 - 0s - loss: 0.0060 - accuracy: 0.8614 - val_loss: 0.0109 - val_accuracy: 0.8792\n",
            "Epoch 1991/2000\n",
            "4/4 - 0s - loss: 0.0056 - accuracy: 0.8579 - val_loss: 0.0109 - val_accuracy: 0.8807\n",
            "Epoch 1992/2000\n",
            "4/4 - 0s - loss: 0.0059 - accuracy: 0.8441 - val_loss: 0.0109 - val_accuracy: 0.8797\n",
            "Epoch 1993/2000\n",
            "4/4 - 0s - loss: 0.0054 - accuracy: 0.8450 - val_loss: 0.0109 - val_accuracy: 0.8792\n",
            "Epoch 1994/2000\n",
            "4/4 - 0s - loss: 0.0056 - accuracy: 0.8530 - val_loss: 0.0109 - val_accuracy: 0.8797\n",
            "Epoch 1995/2000\n",
            "4/4 - 0s - loss: 0.0058 - accuracy: 0.8520 - val_loss: 0.0109 - val_accuracy: 0.8812\n",
            "Epoch 1996/2000\n",
            "4/4 - 0s - loss: 0.0058 - accuracy: 0.8594 - val_loss: 0.0109 - val_accuracy: 0.8817\n",
            "Epoch 1997/2000\n",
            "4/4 - 0s - loss: 0.0058 - accuracy: 0.8485 - val_loss: 0.0108 - val_accuracy: 0.8817\n",
            "Epoch 1998/2000\n",
            "4/4 - 0s - loss: 0.0056 - accuracy: 0.8554 - val_loss: 0.0109 - val_accuracy: 0.8822\n",
            "Epoch 1999/2000\n",
            "4/4 - 0s - loss: 0.0058 - accuracy: 0.8505 - val_loss: 0.0109 - val_accuracy: 0.8797\n",
            "Epoch 2000/2000\n",
            "4/4 - 0s - loss: 0.0059 - accuracy: 0.8564 - val_loss: 0.0109 - val_accuracy: 0.8782\n"
          ],
          "name": "stdout"
        }
      ]
    },
    {
      "cell_type": "markdown",
      "metadata": {
        "id": "DHuyqZVlQRzZ"
      },
      "source": [
        "if training loss < validation loss then model overfitted. /n,\n",
        "training accuracy must be > validation accuracy /n,\n",
        "validation accuracy and accuracy measures system's performance in general /n,\n",
        "training loss must be > validation loss"
      ]
    },
    {
      "cell_type": "markdown",
      "metadata": {
        "id": "JHOpcbHC1k3H"
      },
      "source": [
        "We want training accuracy > validation accuracy and training loss > validation loss"
      ]
    },
    {
      "cell_type": "code",
      "metadata": {
        "id": "dUf0RFJrI_F8",
        "colab": {
          "base_uri": "https://localhost:8080/"
        },
        "outputId": "fd7e8b85-8dcc-4c02-dae3-8a9050d9618f"
      },
      "source": [
        "history.history.keys()"
      ],
      "execution_count": null,
      "outputs": [
        {
          "output_type": "execute_result",
          "data": {
            "text/plain": [
              "dict_keys(['loss', 'accuracy', 'val_loss', 'val_accuracy'])"
            ]
          },
          "metadata": {
            "tags": []
          },
          "execution_count": 79
        }
      ]
    },
    {
      "cell_type": "markdown",
      "metadata": {
        "id": "oXnEyggT44gV"
      },
      "source": [
        ""
      ]
    },
    {
      "cell_type": "code",
      "metadata": {
        "id": "hqkjm7h7Ir31",
        "colab": {
          "base_uri": "https://localhost:8080/",
          "height": 573
        },
        "outputId": "eecd4c5a-2f03-4418-e8ee-ca887d8f8917"
      },
      "source": [
        "plt.plot(history.history['accuracy'])\n",
        "plt.plot(history.history['val_accuracy'])\n",
        "plt.title('model accuracy')\n",
        "plt.ylabel('accuracy')\n",
        "plt.xlabel('epoch')\n",
        "plt.legend(['train', 'validation'], loc='upper left')\n",
        "plt.show()\n",
        "# \"Loss\"\n",
        "plt.plot(history.history['loss'])\n",
        "plt.plot(history.history['val_loss'])\n",
        "plt.title('model loss')\n",
        "plt.ylabel('loss')\n",
        "plt.xlabel('epoch')\n",
        "plt.legend(['train', 'validation'], loc='upper left')\n",
        "plt.show()"
      ],
      "execution_count": null,
      "outputs": [
        {
          "output_type": "display_data",
          "data": {
            "image/png": "[encoded data removed]",
            "text/plain": [
              "<Figure size 432x288 with 1 Axes>"
            ]
          },
          "metadata": {
            "tags": [],
            "needs_background": "light"
          }
        },
        {
          "output_type": "display_data",
          "data": {
            "image/png": "[encoded data removed]",
            "text/plain": [
              "<Figure size 432x288 with 1 Axes>"
            ]
          },
          "metadata": {
            "tags": [],
            "needs_background": "light"
          }
        }
      ]
    },
    {
      "cell_type": "markdown",
      "metadata": {
        "id": "CsA5Qmjm9fsU"
      },
      "source": [
        "history.history.get gives final epoch's training accuracy"
      ]
    },
    {
      "cell_type": "code",
      "metadata": {
        "id": "L48TiP871RuY",
        "colab": {
          "base_uri": "https://localhost:8080/"
        },
        "outputId": "fc1118e7-e687-46b8-a8d6-1ac7d907599b"
      },
      "source": [
        "history.history.get('accuracy')[-1]"
      ],
      "execution_count": null,
      "outputs": [
        {
          "output_type": "execute_result",
          "data": {
            "text/plain": [
              "0.843069314956665"
            ]
          },
          "metadata": {
            "tags": []
          },
          "execution_count": 81
        }
      ]
    },
    {
      "cell_type": "markdown",
      "metadata": {
        "id": "4LwGCCTo9uQV"
      },
      "source": [
        "this e func below lists out the validation loss and validation accuracy from the final epoch"
      ]
    },
    {
      "cell_type": "code",
      "metadata": {
        "id": "rumPl6ia22ch",
        "colab": {
          "base_uri": "https://localhost:8080/"
        },
        "outputId": "4e517988-4fe6-4cf2-af01-8f83361f2fef"
      },
      "source": [
        "e = model.evaluate(\n",
        "    x=normalized_X2_test,\n",
        "    y=normalized_Y2_test,\n",
        "    verbose=1\n",
        ")\n",
        "\n",
        "e = {out: e[i] for i, out in enumerate(model.metrics_names)}"
      ],
      "execution_count": null,
      "outputs": [
        {
          "output_type": "stream",
          "text": [
            "13/13 [==============================] - 1s 3ms/step - loss: 0.0088 - accuracy: 0.9287\n"
          ],
          "name": "stdout"
        }
      ]
    },
    {
      "cell_type": "markdown",
      "metadata": {
        "id": "-Th_nEGx9-w7"
      },
      "source": [
        "model.evaluate requires the test set to be used in the model.fit func, and spits out validation loss and validation accuracy"
      ]
    },
    {
      "cell_type": "code",
      "metadata": {
        "id": "9yvjInUS-MGf",
        "colab": {
          "base_uri": "https://localhost:8080/"
        },
        "outputId": "7d591ca8-db89-43f5-8454-b8aaaf1bd1a9"
      },
      "source": [
        "model.evaluate(normalized_X2_test,normalized_Y2_test, return_dict= True, batch_size=1, verbose=3)   #need to add in accuracy arg. ; accuracy value only works when model.fit contains validation_data not ''_split"
      ],
      "execution_count": null,
      "outputs": [
        {
          "output_type": "execute_result",
          "data": {
            "text/plain": [
              "{'accuracy': 0.9287128448486328, 'loss': 0.008776168338954449}"
            ]
          },
          "metadata": {
            "tags": []
          },
          "execution_count": 83
        }
      ]
    },
    {
      "cell_type": "markdown",
      "metadata": {
        "id": "i8ftrBd0-rdK"
      },
      "source": [
        "below code gives the validation accuracy in %"
      ]
    },
    {
      "cell_type": "code",
      "metadata": {
        "id": "vJ7sF8PjceVA"
      },
      "source": [
        "Y_pred = model.predict(normalized_X2_test)\n",
        "#Converting predictions to label\n",
        "pred = list()\n",
        "for i in range(len(Y_pred)):\n",
        "    pred.append(np.argmax(Y_pred[i]))\n",
        "#Converting one hot encoded test label to label\n",
        "test = list()\n",
        "for i in range(len(normalized_Y2_test)):\n",
        "    test.append(np.argmax(normalized_Y2_test[i]))"
      ],
      "execution_count": null,
      "outputs": []
    },
    {
      "cell_type": "code",
      "metadata": {
        "id": "4xkXF1Qddz5L",
        "colab": {
          "base_uri": "https://localhost:8080/"
        },
        "outputId": "9d5f8ebd-976c-4196-91eb-8f46a7a256b3"
      },
      "source": [
        "from sklearn.metrics import accuracy_score\n",
        "a = accuracy_score(pred,test)\n",
        "print('Validation Accuracy is:', a*100)"
      ],
      "execution_count": null,
      "outputs": [
        {
          "output_type": "stream",
          "text": [
            "Validation Accuracy is: 32.67326732673268\n"
          ],
          "name": "stdout"
        }
      ]
    },
    {
      "cell_type": "code",
      "metadata": {
        "id": "K0OxWxd4lGmD",
        "colab": {
          "base_uri": "https://localhost:8080/"
        },
        "outputId": "d17f13b8-9a2f-4ac5-ae6d-c9984563ec5c"
      },
      "source": [
        "training_data= normalized_X_train \n",
        "test_input=training_data\n",
        "test_output = model.predict(test_input, verbose=0)\n",
        "test_output"
      ],
      "execution_count": null,
      "outputs": [
        {
          "output_type": "execute_result",
          "data": {
            "text/plain": [
              "array([[[0.72087073, 0.71036524, 0.6609826 ],\n",
              "        [0.7204013 , 0.71350753, 0.68200946],\n",
              "        [0.7202779 , 0.71442914, 0.686226  ],\n",
              "        [0.72062457, 0.7122568 , 0.6899073 ],\n",
              "        [0.72146857, 0.7068056 , 0.68790066]],\n",
              "\n",
              "       [[0.72305506, 0.69626224, 0.657982  ],\n",
              "        [0.7234973 , 0.69350743, 0.6805005 ],\n",
              "        [0.7238873 , 0.69110584, 0.68573296],\n",
              "        [0.7249601 , 0.6842304 , 0.68705535],\n",
              "        [0.7259312 , 0.67796504, 0.6855345 ]],\n",
              "\n",
              "       [[0.72469825, 0.6856663 , 0.65471625],\n",
              "        [0.7256804 , 0.67941564, 0.67687225],\n",
              "        [0.7261771 , 0.67629063, 0.67925215],\n",
              "        [0.7268756 , 0.67180014, 0.6771747 ],\n",
              "        [0.7273922 , 0.66845137, 0.6742567 ]],\n",
              "\n",
              "       ...,\n",
              "\n",
              "       [[0.7140088 , 0.7547085 , 0.6634481 ],\n",
              "        [0.7126107 , 0.76374644, 0.6710199 ],\n",
              "        [0.7129365 , 0.76179516, 0.6786324 ],\n",
              "        [0.71329385, 0.7595746 , 0.6819776 ],\n",
              "        [0.71338135, 0.75905013, 0.682686  ]],\n",
              "\n",
              "       [[0.71557915, 0.74457586, 0.66522586],\n",
              "        [0.71430737, 0.7528041 , 0.6733469 ],\n",
              "        [0.7145851 , 0.75115395, 0.68034804],\n",
              "        [0.71496916, 0.74875754, 0.68373954],\n",
              "        [0.7151172 , 0.74783987, 0.6845037 ]],\n",
              "\n",
              "       [[0.71794397, 0.7292889 , 0.6642225 ],\n",
              "        [0.71699   , 0.7355092 , 0.6777142 ],\n",
              "        [0.71711487, 0.73483527, 0.683303  ],\n",
              "        [0.7174575 , 0.73270047, 0.6869221 ],\n",
              "        [0.71761787, 0.73169625, 0.68732524]]], dtype=float32)"
            ]
          },
          "metadata": {
            "tags": []
          },
          "execution_count": 86
        }
      ]
    },
    {
      "cell_type": "code",
      "metadata": {
        "id": "OBUKio4ooQoO"
      },
      "source": [
        "test_output.shape"
      ],
      "execution_count": null,
      "outputs": []
    },
    {
      "cell_type": "code",
      "metadata": {
        "id": "k6yaYN83NeWX"
      },
      "source": [
        ""
      ],
      "execution_count": null,
      "outputs": []
    },
    {
      "cell_type": "markdown",
      "metadata": {
        "id": "L6W7-5gQlEKy"
      },
      "source": [
        "# Interpreting Weights and Getting Estimated Label Values"
      ]
    },
    {
      "cell_type": "code",
      "metadata": {
        "id": "8SuA1mcYIlMC"
      },
      "source": [
        "# Way to create an equation \n",
        "#https://stackoverflow.com/questions/17510098/deriving-equation-by-weights-and-biases-from-a-neural-network\n",
        "# http://deeplearning.net/tutorial/lstm.html\n",
        "# https://fairyonice.github.io/Extract-weights-from-Keras's-LSTM-and-calcualte-hidden-and-cell-states.html\n",
        "#https://medium.com/deep-learning-with-keras/lstm-understanding-the-number-of-parameters-c4e087575756"
      ],
      "execution_count": null,
      "outputs": []
    },
    {
      "cell_type": "markdown",
      "metadata": {
        "id": "X66x2MIIVTqB"
      },
      "source": [
        "visualize 'W' as the branches between layes, 'U' as the weights for each node within a layer, and biases as additional units on each node within a layer except for the output. "
      ]
    },
    {
      "cell_type": "code",
      "metadata": {
        "colab": {
          "base_uri": "https://localhost:8080/"
        },
        "id": "v-nOCCZ4_p7L",
        "outputId": "db7fa33e-8d04-4d4f-da8e-3ca1d3aecb36"
      },
      "source": [
        "MODEL_W_U_b= model.get_weights()\n",
        "MODEL_W_U_b"
      ],
      "execution_count": null,
      "outputs": [
        {
          "output_type": "execute_result",
          "data": {
            "text/plain": [
              "[array([[-0.5166567 , -0.16919845,  0.39058506,  0.5853482 ,  0.657343  ,\n",
              "         -0.11950835,  0.21266803,  0.4492879 ,  0.45398444,  0.45444894,\n",
              "          0.25342256, -0.77625006, -0.7705762 ,  0.06072618,  0.3441146 ,\n",
              "         -0.01181848],\n",
              "        [-0.18083468,  0.48808324, -0.14014353,  1.880012  ,  0.51494014,\n",
              "         -0.33972827,  0.05170466, -0.83871436, -0.49949825,  0.355147  ,\n",
              "          0.6474876 , -0.3003271 ,  0.55670685, -0.1277416 ,  0.01242912,\n",
              "          0.4004551 ],\n",
              "        [ 0.55332243, -0.05208106, -0.20396861,  0.23758583,  0.25544304,\n",
              "         -0.36986768,  0.3472288 , -0.19557494, -0.24215826,  0.5357054 ,\n",
              "          0.9043484 , -0.68278307, -0.04403101,  0.43571645, -0.56065375,\n",
              "         -0.016476  ]], dtype=float32),\n",
              " array([[ 0.6479471 , -0.485116  ,  0.0327103 ,  0.4470417 ,  0.35757545,\n",
              "          0.04583235,  0.22399947,  0.66736054, -0.4423045 ,  0.35771063,\n",
              "         -0.38583654, -0.47222546,  0.0528898 , -0.05101525, -0.04307209,\n",
              "          0.21750133],\n",
              "        [-0.60156125, -0.5220645 ,  0.6366483 , -0.071632  ,  0.3899084 ,\n",
              "          0.772007  ,  0.09676118,  0.5983644 , -0.56476927,  0.39312413,\n",
              "          0.38428637, -0.150389  , -0.2851096 , -0.4250055 ,  0.05720614,\n",
              "          0.82478285],\n",
              "        [-0.5072156 , -0.49111843,  0.29254788, -0.02882573,  0.16891022,\n",
              "          0.49768624,  0.34452924, -0.91937625, -0.28077143,  0.46736345,\n",
              "         -0.23132156,  0.90621066,  0.22939612,  0.40646115,  0.5570588 ,\n",
              "         -0.5246479 ],\n",
              "        [-0.25645608,  0.6168099 ,  0.34890422, -0.49138874, -0.1825708 ,\n",
              "         -0.5921547 , -0.29687792, -0.01474459,  0.5004524 ,  0.68527555,\n",
              "          0.11931245,  0.6511623 ,  0.07004306,  0.41075793, -0.21142279,\n",
              "          0.3608489 ]], dtype=float32),\n",
              " array([-0.1450949 , -1.1483341 ,  0.67771536, -0.5634354 ,  0.89268655,\n",
              "         0.7992161 ,  1.0756197 ,  0.41178155,  0.18323511, -0.96117646,\n",
              "        -0.2671166 , -1.0643022 , -0.23719463, -0.9298445 ,  0.6398011 ,\n",
              "         1.2702752 ], dtype=float32),\n",
              " array([[-0.5255894 , -0.67646307,  0.5962947 , -0.22511044, -0.8872708 ,\n",
              "          0.97220975,  1.152072  , -1.083205  ],\n",
              "        [ 0.73988557,  0.639675  ,  0.7493191 ,  0.9956098 ,  1.4319882 ,\n",
              "         -0.13135202, -0.9809763 ,  1.0508941 ],\n",
              "        [ 1.0581106 ,  1.19844   ,  0.08078863,  0.01827701,  0.13331547,\n",
              "         -1.0512921 , -0.89090824,  0.29053214],\n",
              "        [-0.03980222, -1.8034136 , -0.36388993,  0.0679168 , -0.59996015,\n",
              "          1.6103987 ,  1.819158  ,  0.4335725 ]], dtype=float32),\n",
              " array([[ 0.65459156,  0.85097873, -0.4973285 ,  0.6658946 ,  0.16070545,\n",
              "          0.2041317 , -0.00088213,  0.3058599 ],\n",
              "        [ 0.00276272,  0.4781049 , -0.08693215,  0.40832138,  0.03191128,\n",
              "         -0.52876186,  0.41567853,  0.42546424]], dtype=float32),\n",
              " array([-0.56401217,  0.02143456,  0.94219995,  0.73509693, -0.6113687 ,\n",
              "        -0.45130566, -0.2601586 , -0.6997472 ], dtype=float32),\n",
              " array([[ 0.68886954, -1.2160841 , -0.8620611 ],\n",
              "        [ 0.75959766,  0.5382152 , -0.5369711 ]], dtype=float32),\n",
              " array([-0.3903963 ,  0.24614441,  0.39112467], dtype=float32)]"
            ]
          },
          "metadata": {
            "tags": []
          },
          "execution_count": 179
        }
      ]
    },
    {
      "cell_type": "code",
      "metadata": {
        "colab": {
          "base_uri": "https://localhost:8080/"
        },
        "id": "0Pw5l_0X_4Fa",
        "outputId": "d3fcc7cb-3569-4600-e62f-8eb0f3ca5644"
      },
      "source": [
        "print(\"Number of weights after calling the model:\", len(model.weights))  #this actually includes biases. So, the biases are also calculated in as 'weights'. Thus, some of the arrays are actually biases"
      ],
      "execution_count": null,
      "outputs": [
        {
          "output_type": "stream",
          "text": [
            "Number of weights after calling the model: 8\n"
          ],
          "name": "stdout"
        }
      ]
    },
    {
      "cell_type": "markdown",
      "metadata": {
        "id": "T-CiV7n4fb_e"
      },
      "source": [
        "Now, getting the weights (W and U) and biases separately. Remember, that W is the weights per gate and U is the recurrent weights per gate. "
      ]
    },
    {
      "cell_type": "code",
      "metadata": {
        "colab": {
          "base_uri": "https://localhost:8080/"
        },
        "id": "716NLsb2tjIN",
        "outputId": "71af1efa-440d-44ca-e9d5-38cb6296a671"
      },
      "source": [
        "W1= model.layers[0].get_weights()[0]  #can also use layer.get_weights, this is weights for the 1st hidden layer\n",
        "W1"
      ],
      "execution_count": null,
      "outputs": [
        {
          "output_type": "execute_result",
          "data": {
            "text/plain": [
              "array([[-0.5166567 , -0.16919845,  0.39058506,  0.5853482 ,  0.657343  ,\n",
              "        -0.11950835,  0.21266803,  0.4492879 ,  0.45398444,  0.45444894,\n",
              "         0.25342256, -0.77625006, -0.7705762 ,  0.06072618,  0.3441146 ,\n",
              "        -0.01181848],\n",
              "       [-0.18083468,  0.48808324, -0.14014353,  1.880012  ,  0.51494014,\n",
              "        -0.33972827,  0.05170466, -0.83871436, -0.49949825,  0.355147  ,\n",
              "         0.6474876 , -0.3003271 ,  0.55670685, -0.1277416 ,  0.01242912,\n",
              "         0.4004551 ],\n",
              "       [ 0.55332243, -0.05208106, -0.20396861,  0.23758583,  0.25544304,\n",
              "        -0.36986768,  0.3472288 , -0.19557494, -0.24215826,  0.5357054 ,\n",
              "         0.9043484 , -0.68278307, -0.04403101,  0.43571645, -0.56065375,\n",
              "        -0.016476  ]], dtype=float32)"
            ]
          },
          "metadata": {
            "tags": []
          },
          "execution_count": 181
        }
      ]
    },
    {
      "cell_type": "code",
      "metadata": {
        "colab": {
          "base_uri": "https://localhost:8080/"
        },
        "id": "5v3IcvLpvzSf",
        "outputId": "a6424bd1-f7df-426f-cadf-3856164d5d0d"
      },
      "source": [
        "W1.shape #(units, #units in 1st hidden layer x4), b/c input layer will have 3 units, since # features = 3"
      ],
      "execution_count": null,
      "outputs": [
        {
          "output_type": "execute_result",
          "data": {
            "text/plain": [
              "(3, 16)"
            ]
          },
          "metadata": {
            "tags": []
          },
          "execution_count": 182
        }
      ]
    },
    {
      "cell_type": "code",
      "metadata": {
        "colab": {
          "base_uri": "https://localhost:8080/"
        },
        "id": "T1qaaojXbCtM",
        "outputId": "feb14257-4c8b-4945-faa8-33c9d8ae4093"
      },
      "source": [
        "U1= model.layers[0].get_weights()[1]  # this is to get the recurrent weights for the 1st hidden layer\n",
        "U1"
      ],
      "execution_count": null,
      "outputs": [
        {
          "output_type": "execute_result",
          "data": {
            "text/plain": [
              "array([[ 0.6479471 , -0.485116  ,  0.0327103 ,  0.4470417 ,  0.35757545,\n",
              "         0.04583235,  0.22399947,  0.66736054, -0.4423045 ,  0.35771063,\n",
              "        -0.38583654, -0.47222546,  0.0528898 , -0.05101525, -0.04307209,\n",
              "         0.21750133],\n",
              "       [-0.60156125, -0.5220645 ,  0.6366483 , -0.071632  ,  0.3899084 ,\n",
              "         0.772007  ,  0.09676118,  0.5983644 , -0.56476927,  0.39312413,\n",
              "         0.38428637, -0.150389  , -0.2851096 , -0.4250055 ,  0.05720614,\n",
              "         0.82478285],\n",
              "       [-0.5072156 , -0.49111843,  0.29254788, -0.02882573,  0.16891022,\n",
              "         0.49768624,  0.34452924, -0.91937625, -0.28077143,  0.46736345,\n",
              "        -0.23132156,  0.90621066,  0.22939612,  0.40646115,  0.5570588 ,\n",
              "        -0.5246479 ],\n",
              "       [-0.25645608,  0.6168099 ,  0.34890422, -0.49138874, -0.1825708 ,\n",
              "        -0.5921547 , -0.29687792, -0.01474459,  0.5004524 ,  0.68527555,\n",
              "         0.11931245,  0.6511623 ,  0.07004306,  0.41075793, -0.21142279,\n",
              "         0.3608489 ]], dtype=float32)"
            ]
          },
          "metadata": {
            "tags": []
          },
          "execution_count": 183
        }
      ]
    },
    {
      "cell_type": "code",
      "metadata": {
        "colab": {
          "base_uri": "https://localhost:8080/"
        },
        "id": "SMcjh1kLbxQi",
        "outputId": "02a60c03-04e4-4c07-e9b9-3fc87d66baea"
      },
      "source": [
        "U1.shape  # (4, 4x4) = (#units, units x gates)"
      ],
      "execution_count": null,
      "outputs": [
        {
          "output_type": "execute_result",
          "data": {
            "text/plain": [
              "(4, 16)"
            ]
          },
          "metadata": {
            "tags": []
          },
          "execution_count": 184
        }
      ]
    },
    {
      "cell_type": "code",
      "metadata": {
        "colab": {
          "base_uri": "https://localhost:8080/"
        },
        "id": "qJT8JT5Wt6W6",
        "outputId": "a30a4f1f-503f-4265-c6c6-7a23f6c16910"
      },
      "source": [
        "biases1= model.layers[0].get_weights()[2]  #biases for the 1st layer, which happens to be be the 1st hidden LSTM layer\n",
        "biases1"
      ],
      "execution_count": null,
      "outputs": [
        {
          "output_type": "execute_result",
          "data": {
            "text/plain": [
              "array([-0.1450949 , -1.1483341 ,  0.67771536, -0.5634354 ,  0.89268655,\n",
              "        0.7992161 ,  1.0756197 ,  0.41178155,  0.18323511, -0.96117646,\n",
              "       -0.2671166 , -1.0643022 , -0.23719463, -0.9298445 ,  0.6398011 ,\n",
              "        1.2702752 ], dtype=float32)"
            ]
          },
          "metadata": {
            "tags": []
          },
          "execution_count": 185
        }
      ]
    },
    {
      "cell_type": "code",
      "metadata": {
        "colab": {
          "base_uri": "https://localhost:8080/"
        },
        "id": "OeoC6skkv7kQ",
        "outputId": "9f8ea288-2162-478d-bb69-7c49a228b7af"
      },
      "source": [
        "biases1.shape # 4 (units) x 4(gates) = 16"
      ],
      "execution_count": null,
      "outputs": [
        {
          "output_type": "execute_result",
          "data": {
            "text/plain": [
              "(16,)"
            ]
          },
          "metadata": {
            "tags": []
          },
          "execution_count": 186
        }
      ]
    },
    {
      "cell_type": "code",
      "metadata": {
        "colab": {
          "base_uri": "https://localhost:8080/"
        },
        "id": "Kplw49by2VNX",
        "outputId": "4caf7b3e-1268-4eb9-87fb-68a73916ca57"
      },
      "source": [
        "W2= model.layers[1].get_weights()[0]  # this is weights for the 2nd layer\n",
        "W2"
      ],
      "execution_count": null,
      "outputs": [
        {
          "output_type": "execute_result",
          "data": {
            "text/plain": [
              "array([[-0.5255894 , -0.67646307,  0.5962947 , -0.22511044, -0.8872708 ,\n",
              "         0.97220975,  1.152072  , -1.083205  ],\n",
              "       [ 0.73988557,  0.639675  ,  0.7493191 ,  0.9956098 ,  1.4319882 ,\n",
              "        -0.13135202, -0.9809763 ,  1.0508941 ],\n",
              "       [ 1.0581106 ,  1.19844   ,  0.08078863,  0.01827701,  0.13331547,\n",
              "        -1.0512921 , -0.89090824,  0.29053214],\n",
              "       [-0.03980222, -1.8034136 , -0.36388993,  0.0679168 , -0.59996015,\n",
              "         1.6103987 ,  1.819158  ,  0.4335725 ]], dtype=float32)"
            ]
          },
          "metadata": {
            "tags": []
          },
          "execution_count": 187
        }
      ]
    },
    {
      "cell_type": "code",
      "metadata": {
        "colab": {
          "base_uri": "https://localhost:8080/"
        },
        "id": "tHsvFAvmcai2",
        "outputId": "d94f06b2-5823-425d-928d-c7be4ed73a3b"
      },
      "source": [
        "W2.shape # 2 units, each gate has a list of weights. There are 4 gates. And each unit (there are 2 units) will have each of its 4 gates a weight. so (4, 8)"
      ],
      "execution_count": null,
      "outputs": [
        {
          "output_type": "execute_result",
          "data": {
            "text/plain": [
              "(4, 8)"
            ]
          },
          "metadata": {
            "tags": []
          },
          "execution_count": 188
        }
      ]
    },
    {
      "cell_type": "code",
      "metadata": {
        "colab": {
          "base_uri": "https://localhost:8080/"
        },
        "id": "s6DR-8EPceTA",
        "outputId": "a66da1d8-ca62-47a1-857f-c499d79918a5"
      },
      "source": [
        "U2= model.layers[1].get_weights()[1]  # this is to get the recurrent weights for the 2nd hidden LSTM layer\n",
        "U2"
      ],
      "execution_count": null,
      "outputs": [
        {
          "output_type": "execute_result",
          "data": {
            "text/plain": [
              "array([[ 0.65459156,  0.85097873, -0.4973285 ,  0.6658946 ,  0.16070545,\n",
              "         0.2041317 , -0.00088213,  0.3058599 ],\n",
              "       [ 0.00276272,  0.4781049 , -0.08693215,  0.40832138,  0.03191128,\n",
              "        -0.52876186,  0.41567853,  0.42546424]], dtype=float32)"
            ]
          },
          "metadata": {
            "tags": []
          },
          "execution_count": 189
        }
      ]
    },
    {
      "cell_type": "code",
      "metadata": {
        "id": "K6aLYNE1hUuh",
        "colab": {
          "base_uri": "https://localhost:8080/"
        },
        "outputId": "b18dbb78-6bdf-4fc9-f961-596d9a755deb"
      },
      "source": [
        "U2.shape  # 2 units and 4 gates in each unit. (2, 2 x 4) = (2,8)"
      ],
      "execution_count": null,
      "outputs": [
        {
          "output_type": "execute_result",
          "data": {
            "text/plain": [
              "(2, 8)"
            ]
          },
          "metadata": {
            "tags": []
          },
          "execution_count": 190
        }
      ]
    },
    {
      "cell_type": "code",
      "metadata": {
        "colab": {
          "base_uri": "https://localhost:8080/"
        },
        "id": "a-vNBNbx5uBT",
        "outputId": "cd544cd7-9e44-4834-bcdc-d249fc041196"
      },
      "source": [
        "biases2= model.layers[1].get_weights()[2]  #biases for the 2nd layer, which happens to be be the 2nd hidden LSTM layer\n",
        "biases2"
      ],
      "execution_count": null,
      "outputs": [
        {
          "output_type": "execute_result",
          "data": {
            "text/plain": [
              "array([-0.56401217,  0.02143456,  0.94219995,  0.73509693, -0.6113687 ,\n",
              "       -0.45130566, -0.2601586 , -0.6997472 ], dtype=float32)"
            ]
          },
          "metadata": {
            "tags": []
          },
          "execution_count": 191
        }
      ]
    },
    {
      "cell_type": "code",
      "metadata": {
        "colab": {
          "base_uri": "https://localhost:8080/"
        },
        "id": "UA-CkAScc18o",
        "outputId": "6b9bcdf9-d409-4e71-dda1-7c62b41a2417"
      },
      "source": [
        "biases2.shape # 2 x 4 = 8, where 2 is the # of units in layer and 4 is the # of gates."
      ],
      "execution_count": null,
      "outputs": [
        {
          "output_type": "execute_result",
          "data": {
            "text/plain": [
              "(8,)"
            ]
          },
          "metadata": {
            "tags": []
          },
          "execution_count": 192
        }
      ]
    },
    {
      "cell_type": "code",
      "metadata": {
        "colab": {
          "base_uri": "https://localhost:8080/"
        },
        "id": "zCHqC955c7fI",
        "outputId": "5d096bb2-1eaa-408d-c47a-a9850c1e4cca"
      },
      "source": [
        "W3= model.layers[2].get_weights()[0]  # this is weights for the output layer\n",
        "W3"
      ],
      "execution_count": null,
      "outputs": [
        {
          "output_type": "execute_result",
          "data": {
            "text/plain": [
              "array([[ 0.68886954, -1.2160841 , -0.8620611 ],\n",
              "       [ 0.75959766,  0.5382152 , -0.5369711 ]], dtype=float32)"
            ]
          },
          "metadata": {
            "tags": []
          },
          "execution_count": 193
        }
      ]
    },
    {
      "cell_type": "code",
      "metadata": {
        "colab": {
          "base_uri": "https://localhost:8080/"
        },
        "id": "zoYc-JEedjHi",
        "outputId": "6d16628e-a802-4d34-d4ea-472e8bfc7391"
      },
      "source": [
        "W3.shape  # the input and output shapes are (2, 3), since this is a many-to-many seq2seq prediction"
      ],
      "execution_count": null,
      "outputs": [
        {
          "output_type": "execute_result",
          "data": {
            "text/plain": [
              "(2, 3)"
            ]
          },
          "metadata": {
            "tags": []
          },
          "execution_count": 194
        }
      ]
    },
    {
      "cell_type": "code",
      "metadata": {
        "colab": {
          "base_uri": "https://localhost:8080/"
        },
        "id": "yFTCCiSzdpr2",
        "outputId": "b6b8cab4-7b0e-4c43-d5bb-03f98d59a33b"
      },
      "source": [
        "U3= model.layers[2].get_weights()[1]  # this is to get the recurrent weights for the output layer\n",
        "U3"
      ],
      "execution_count": null,
      "outputs": [
        {
          "output_type": "execute_result",
          "data": {
            "text/plain": [
              "array([-0.3903963 ,  0.24614441,  0.39112467], dtype=float32)"
            ]
          },
          "metadata": {
            "tags": []
          },
          "execution_count": 232
        }
      ]
    },
    {
      "cell_type": "code",
      "metadata": {
        "colab": {
          "base_uri": "https://localhost:8080/"
        },
        "id": "DiD2TeLRd02F",
        "outputId": "4c4a9e61-9a5e-46bc-8917-2ecdf25f9227"
      },
      "source": [
        "U3.shape  #there are 3 units in the output layer; (it is a dense or fully connected (FC) layer, so no gates)"
      ],
      "execution_count": null,
      "outputs": [
        {
          "output_type": "execute_result",
          "data": {
            "text/plain": [
              "(3,)"
            ]
          },
          "metadata": {
            "tags": []
          },
          "execution_count": 196
        }
      ]
    },
    {
      "cell_type": "code",
      "metadata": {
        "id": "4oMqyxKsd7qw"
      },
      "source": [
        "#there are no biases in the output layer"
      ],
      "execution_count": null,
      "outputs": []
    },
    {
      "cell_type": "markdown",
      "metadata": {
        "id": "UNuau7R5v_-c"
      },
      "source": [
        "## Plotting the Weights (to see valid connections to solar perturbations)"
      ]
    },
    {
      "cell_type": "code",
      "metadata": {
        "colab": {
          "base_uri": "https://localhost:8080/",
          "height": 733
        },
        "id": "f4EtzZPWv8nf",
        "outputId": "a1202b11-58f6-4247-b6bd-6e4c653511df"
      },
      "source": [
        "fig15 = plt.figure(figsize= plt.figaspect(3,))\n",
        "ax15 = fig15.add_subplot(311)\n",
        "ax15.plot(W1)\n",
        "plt.title('W1')\n",
        "\n",
        "ax16 = fig15.add_subplot(312)\n",
        "ax16.plot(U1)\n",
        "plt.title('U1')\n",
        "\n",
        "ax17 = fig15.add_subplot(313)\n",
        "ax17.plot(biases1)\n",
        "plt.title('biases1')\n"
      ],
      "execution_count": null,
      "outputs": [
        {
          "output_type": "execute_result",
          "data": {
            "text/plain": [
              "Text(0.5, 1.0, 'biases1')"
            ]
          },
          "metadata": {
            "tags": []
          },
          "execution_count": 280
        },
        {
          "output_type": "display_data",
          "data": {
            "image/png": "[encoded data removed]",
            "text/plain": [
              "<Figure size 288x864 with 3 Axes>"
            ]
          },
          "metadata": {
            "tags": [],
            "needs_background": "light"
          }
        }
      ]
    },
    {
      "cell_type": "code",
      "metadata": {
        "colab": {
          "base_uri": "https://localhost:8080/",
          "height": 733
        },
        "id": "FJOhzugy3dI3",
        "outputId": "6feb28cb-ba62-4003-8ad2-3101faae3cb8"
      },
      "source": [
        "fig18 = plt.figure(figsize= plt.figaspect(3,))      #want 3 figures or subplot figures\n",
        "ax18 = fig18.add_subplot(311)                       # 3 figures, total, 1 column, 1st subplot\n",
        "ax18.plot(W2)\n",
        "plt.title('W2')\n",
        "\n",
        "ax19 = fig18.add_subplot(312)                      # 3 figures total, 1 column, 2nd subplot\n",
        "ax19.plot(U2)\n",
        "plt.title('U2')\n",
        "\n",
        "ax20 = fig18.add_subplot(313)                     # 3 figures total, 1 column, 3rd subplot\n",
        "ax20.plot(biases2)\n",
        "plt.title('biases2')"
      ],
      "execution_count": null,
      "outputs": [
        {
          "output_type": "execute_result",
          "data": {
            "text/plain": [
              "Text(0.5, 1.0, 'biases2')"
            ]
          },
          "metadata": {
            "tags": []
          },
          "execution_count": 278
        },
        {
          "output_type": "display_data",
          "data": {
            "image/png": "[encoded data removed]",
            "text/plain": [
              "<Figure size 288x864 with 3 Axes>"
            ]
          },
          "metadata": {
            "tags": [],
            "needs_background": "light"
          }
        }
      ]
    },
    {
      "cell_type": "code",
      "metadata": {
        "colab": {
          "base_uri": "https://localhost:8080/",
          "height": 516
        },
        "id": "NGtG5vpJ9Sho",
        "outputId": "2af0f7d5-7cfe-4fbf-f3ad-e45cf7f0bdc7"
      },
      "source": [
        "fig21 = plt.figure(figsize= plt.figaspect(2,))\n",
        "ax21 = fig21.add_subplot(2,1,1)\n",
        "ax21.plot(W3)\n",
        "plt.title('W3')\n",
        "\n",
        "ax22 = fig21.add_subplot(2,1,2)\n",
        "ax22.plot(U3)\n",
        "plt.title('U3')"
      ],
      "execution_count": null,
      "outputs": [
        {
          "output_type": "execute_result",
          "data": {
            "text/plain": [
              "Text(0.5, 1.0, 'U3')"
            ]
          },
          "metadata": {
            "tags": []
          },
          "execution_count": 279
        },
        {
          "output_type": "display_data",
          "data": {
            "image/png": "[encoded data removed]",
            "text/plain": [
              "<Figure size 288x576 with 2 Axes>"
            ]
          },
          "metadata": {
            "tags": [],
            "needs_background": "light"
          }
        }
      ]
    }
  ]
}